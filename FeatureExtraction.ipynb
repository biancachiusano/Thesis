{
 "cells": [
  {
   "cell_type": "markdown",
   "id": "403f4372",
   "metadata": {},
   "source": [
    "# Violation of Article 10 Feature Extraction"
   ]
  },
  {
   "cell_type": "code",
   "execution_count": 1,
   "id": "bdf615e0",
   "metadata": {},
   "outputs": [],
   "source": [
    "# TODO: PRIORITY\n",
    "\n",
    "# Could scrape again but with the non/yes violation filter on HUDOC\n",
    "# Text Preprocessing on these\n",
    "# Try hugging face for feature extraction and BOW\n",
    "# Dimensionality reduction\n",
    "# Move what WORKS! to python classes\n",
    "# Start with intro and states of the arts \n",
    "\n",
    "# Combine preprocess and clean functions\n",
    "# QUESTION: Stemming or Lemmatization?\n",
    "# QUESTION: in text preprocessing punctuation removal is not always included, what do you recommend? Maybe, like in one of the papers, it can be an experiment (which things to include in text preprocessing)"
   ]
  },
  {
   "cell_type": "code",
   "execution_count": 1,
   "id": "c5d4882a",
   "metadata": {},
   "outputs": [],
   "source": [
    "import pandas as pd\n",
    "from transformers import pipeline\n",
    "import nltk\n",
    "from nltk.sentiment.vader import SentimentIntensityAnalyzer\n",
    "from nltk.corpus import stopwords\n",
    "from nltk.tokenize import word_tokenize\n",
    "from nltk.stem import WordNetLemmatizer\n",
    "import os"
   ]
  },
  {
   "cell_type": "code",
   "execution_count": 2,
   "id": "f514f921",
   "metadata": {},
   "outputs": [
    {
     "data": {
      "text/html": [
       "<div>\n",
       "<style scoped>\n",
       "    .dataframe tbody tr th:only-of-type {\n",
       "        vertical-align: middle;\n",
       "    }\n",
       "\n",
       "    .dataframe tbody tr th {\n",
       "        vertical-align: top;\n",
       "    }\n",
       "\n",
       "    .dataframe thead th {\n",
       "        text-align: right;\n",
       "    }\n",
       "</style>\n",
       "<table border=\"1\" class=\"dataframe\">\n",
       "  <thead>\n",
       "    <tr style=\"text-align: right;\">\n",
       "      <th></th>\n",
       "      <th>Case</th>\n",
       "      <th>Violation</th>\n",
       "    </tr>\n",
       "  </thead>\n",
       "  <tbody>\n",
       "    <tr>\n",
       "      <th>0</th>\n",
       "      <td>001-223656</td>\n",
       "      <td>1</td>\n",
       "    </tr>\n",
       "    <tr>\n",
       "      <th>1</th>\n",
       "      <td>001-211828</td>\n",
       "      <td>1</td>\n",
       "    </tr>\n",
       "    <tr>\n",
       "      <th>2</th>\n",
       "      <td>001-160270</td>\n",
       "      <td>1</td>\n",
       "    </tr>\n",
       "    <tr>\n",
       "      <th>3</th>\n",
       "      <td>001-210075</td>\n",
       "      <td>0</td>\n",
       "    </tr>\n",
       "    <tr>\n",
       "      <th>4</th>\n",
       "      <td>001-203169</td>\n",
       "      <td>1</td>\n",
       "    </tr>\n",
       "  </tbody>\n",
       "</table>\n",
       "</div>"
      ],
      "text/plain": [
       "         Case  Violation\n",
       "0  001-223656          1\n",
       "1  001-211828          1\n",
       "2  001-160270          1\n",
       "3  001-210075          0\n",
       "4  001-203169          1"
      ]
     },
     "execution_count": 2,
     "metadata": {},
     "output_type": "execute_result"
    }
   ],
   "source": [
    "data = pd.read_csv('violation_or_not.csv')\n",
    "data.head()"
   ]
  },
  {
   "cell_type": "code",
   "execution_count": 3,
   "id": "bcd080b7",
   "metadata": {},
   "outputs": [
    {
     "data": {
      "text/plain": [
       "1    275\n",
       "0     58\n",
       "Name: Violation, dtype: int64"
      ]
     },
     "execution_count": 3,
     "metadata": {},
     "output_type": "execute_result"
    }
   ],
   "source": [
    "data['Violation'].value_counts()"
   ]
  },
  {
   "cell_type": "code",
   "execution_count": 4,
   "id": "91c5f560",
   "metadata": {},
   "outputs": [
    {
     "data": {
      "text/html": [
       "<div>\n",
       "<style scoped>\n",
       "    .dataframe tbody tr th:only-of-type {\n",
       "        vertical-align: middle;\n",
       "    }\n",
       "\n",
       "    .dataframe tbody tr th {\n",
       "        vertical-align: top;\n",
       "    }\n",
       "\n",
       "    .dataframe thead th {\n",
       "        text-align: right;\n",
       "    }\n",
       "</style>\n",
       "<table border=\"1\" class=\"dataframe\">\n",
       "  <thead>\n",
       "    <tr style=\"text-align: right;\">\n",
       "      <th></th>\n",
       "      <th>Case</th>\n",
       "      <th>Violation</th>\n",
       "    </tr>\n",
       "  </thead>\n",
       "  <tbody>\n",
       "    <tr>\n",
       "      <th>0</th>\n",
       "      <td>001-223656</td>\n",
       "      <td>1</td>\n",
       "    </tr>\n",
       "    <tr>\n",
       "      <th>1</th>\n",
       "      <td>001-211828</td>\n",
       "      <td>1</td>\n",
       "    </tr>\n",
       "    <tr>\n",
       "      <th>2</th>\n",
       "      <td>001-160270</td>\n",
       "      <td>1</td>\n",
       "    </tr>\n",
       "    <tr>\n",
       "      <th>4</th>\n",
       "      <td>001-203169</td>\n",
       "      <td>1</td>\n",
       "    </tr>\n",
       "    <tr>\n",
       "      <th>5</th>\n",
       "      <td>001-209444</td>\n",
       "      <td>1</td>\n",
       "    </tr>\n",
       "  </tbody>\n",
       "</table>\n",
       "</div>"
      ],
      "text/plain": [
       "         Case  Violation\n",
       "0  001-223656          1\n",
       "1  001-211828          1\n",
       "2  001-160270          1\n",
       "4  001-203169          1\n",
       "5  001-209444          1"
      ]
     },
     "execution_count": 4,
     "metadata": {},
     "output_type": "execute_result"
    }
   ],
   "source": [
    "violation = data.drop(data[data['Violation'] == 0].index)\n",
    "violation.head()"
   ]
  },
  {
   "cell_type": "code",
   "execution_count": 5,
   "id": "ad50d0ba",
   "metadata": {},
   "outputs": [],
   "source": [
    "violation = violation.reset_index()"
   ]
  },
  {
   "cell_type": "code",
   "execution_count": 6,
   "id": "751f5e0e",
   "metadata": {},
   "outputs": [],
   "source": [
    "file = violation['Case'].iloc[0]"
   ]
  },
  {
   "cell_type": "code",
   "execution_count": 7,
   "id": "1b40e6e1",
   "metadata": {},
   "outputs": [],
   "source": [
    "filenames = []\n",
    "directories = []\n",
    "for filename in os.listdir('all_ten'):\n",
    "    filenames.append(filename)\n",
    "    file_path = os.path.join('all_ten', filename)\n",
    "    directories.append(file_path)"
   ]
  },
  {
   "cell_type": "code",
   "execution_count": 8,
   "id": "74964b46",
   "metadata": {},
   "outputs": [],
   "source": [
    "def clean(file):\n",
    "    with open('all_ten/' + file + '.txt') as f:\n",
    "        lines = f.readlines()\n",
    "    filter_object = list(filter(lambda a: 'FIRST SECTION' in a, lines))\n",
    "    if len(filter_object) == 0:\n",
    "        filter_object = list(filter(lambda a: 'SECOND SECTION' in a, lines))\n",
    "    if len(filter_object) == 0:\n",
    "        filter_object = list(filter(lambda a: 'THIRD SECTION' in a, lines))\n",
    "    if len(filter_object) == 0:\n",
    "        filter_object = list(filter(lambda a: 'FOURTH SECTION' in a, lines))\n",
    "    if len(filter_object) == 0:\n",
    "        filter_object = list(filter(lambda a: 'FIFTH SECTION' in a, lines))\n",
    "    cleaned = filter_object[0].replace('\\xa0', ' ').replace('•', '').replace('§','').replace('”', '')\n",
    "    return cleaned"
   ]
  },
  {
   "cell_type": "code",
   "execution_count": 9,
   "id": "4ba1f99c",
   "metadata": {},
   "outputs": [
    {
     "data": {
      "text/plain": [
       "' FIRST SECTIONCASE OF ROGALSKI v. POLAND(Application no. 5420/16)     JUDGMENTArt 10  Freedom of expression  Unjustified disciplinary sanctioning of lawyer for unethical conduct for notifying a commission of a criminal offence by a prosecutor without a proper basis in fact, moderation, proportionality and caution  Disciplinary courts’ failure to give relevant and sufficient reasons for decision  Margin of appreciation overstepped STRASBOURG23 March 2023 This judgment will become final in the circumstances set out in Article 44  2 of the Convention. It may be subject to editorial revision.In the case of Rogalski v. Poland,The European Court of Human Rights (First Section), sitting as a Chamber composed of: Marko Bošnjak, President, Péter Paczolay, Krzysztof Wojtyczek, Alena Poláčková, Erik Wennerström, Ioannis Ktistakis, Davor Derenčinović, judges,and Renata Degener, Section Registrar,Having regard to:the application (no. 5420/16) against the Republic of Poland lodged with the Court under Article 34 of the Convention for the Protection of Human Rights and Fundamental Freedoms (“the Convention) by a Polish national, Mr Rafał Rogalski (“the applicant), on 16 January 2016;the decision to give notice of the application to the Polish Government (“the Government);the parties’ observations;Having deliberated in private on 14 February 2023,Delivers the following judgment, which was adopted on that date:INTRODUCTION1.  The case concerns disciplinary proceedings against the applicant, who was fined for unethical conduct for notifying a commission of a criminal offence by a prosecutor without a proper basis in fact, moderation, proportionality and caution.THE FACTS2.  The applicant was born in 1976 and lives in Warsaw. He was represented by Ms M. Gniady, a lawyer practising in Warsaw.3.  The Polish Government (“the Government) were represented by their Agent, Mr J. Sobczak of the Ministry of Foreign Affairs.4.  The facts of the case may be summarised as follows.5.  On 20 January 2011 the applicant, who is a lawyer, lodged, on behalf of his client company, a formal notification of a crime that contained the following statement:“... the data exists to sufficiently justify a suspicion that [prosecutor M. P.] [full name of the prosecutor and his service], had committed an offence of bribe taking by means of accepting a bribe from unknown persons who were probably employees of [a company mentioned by name], that is to say, an offence under Article 228  1 of the Criminal Code.6.  In the document, the applicant explained that the offence in question had been committed in connection with an investigation into allegations of forging contracts to the detriment of his client which was ongoing at that time. In particular, the applicant alleged that the requests for evidence which he had filed in the course of the above-mentioned investigation had not been examined promptly, that other shortcomings had occurred, and overall, that the investigation in question had “prematurely and unjustifiably been discontinued on the grounds that there was insufficient evidence to justify the suspicion that a crime had been committed, while no expert reports had been obtained by the prosecutor. The applicant was of the view that the only explanation for such an “irrational decision to discontinue the investigation was that M.P., who was the prosecutor in charge of the investigation in question, had been bribed. The notification did not contain any details regarding the persons who had allegedly offered the bribe to the prosecutor, other than the name of the company where they were supposedly employed.7.  On 28 January 2011 the Warsaw‑Centre District Prosecutor refused to open an inquiry into the above allegations. In the reasoning of the decision, the prosecutor stated that the applicant had not adduced a single piece of evidence nor indicated any factual circumstance substantiating the allegations of bribery. No interlocutory appeal was lodged against that decision.8.  On 11 May 2011 the Warsaw Regional Prosecutor notified the Dean of the Warsaw Regional Bar Council (Okręgowa Rada Adwokacka) of the applicant’s criminal complaint for the purpose of establishing whether or not the applicant, being a lawyer, had infringed the rules of professional ethics.9.  On 23 November 2012 the disciplinary officer (rzecznik dyscyplinarny) of the Warsaw Bar Association charged the applicant with a failure to act with moderation (umiar) when making, in his professional capacity, a criminal complaint without “reasonable suspicions (nie mając ku temu uzasadnionych podejrzeń).10.  On 23 November 2012 the applicant was heard by the disciplinary officer. The applicant reiterated information from his criminal complaint and further explained that prosecutor M.P. had closed the investigation regarding forged documents without obtaining any report from a forensic document examiner. The representative of the applicant’s client had asked that a criminal complaint be lodged as he was convinced that prosecutor M.P. had been bribed. During the hearing, the applicant did not provide any other information in respect of the circumstances in which the bribe had been offered or taken. He submitted that, to discuss the corruption suspicion, he had accompanied his client during a couple of meetings with the unspecified officers of the Central Anticorruption Bureau (Centralne Biuro Antykorupcyjne, “CAB). The applicant did not indicate any specific or approximate dates of those meetings. The first meeting had, in his submission, taken place during the term of office of the named former chief of the bureau. The other one was to have taken place under the new chief. The applicant submitted that the CBA’s agents had expressed interest in the information that M.P. had taken bribes.11.  On 13 November 2013 the Disciplinary Court of the Warsaw Bar Association (Sąd Dyscyplinarny Izby Adwokackiej – “the Disciplinary Court), after hearing the applicant and his client, and referring to the above‑mentioned complaint, found the applicant guilty of making, in his professional capacity, a criminal complaint without “any evidence whatsoever or any objectively verifiable circumstances that could justify the suspicion formulated by the applicant. That action was in breach section 80 of the Bar Act, in conjunction with paragraphs 14 and 17 of the Lawyer’s Code of Professional Ethics (see paragraphs 18-22 below).12.  In particular, the Disciplinary Court analysed the language, the content, and context of the criminal complaint. It referred to the submissions of the applicant’s client, made first, during the criminal investigation into the alleged bribe-taking and then, directly before the Disciplinary Court. That witness had denied that he had seen or heard of M.P. taking a bribe, or that he had discussed any such incident when he had met with the CAB. The witness also said that he “did not go as far as to suspect that any money from the fund [created by their adversary in the trial] was given to the prosecutors or that he “would never in [his] life say that M.P. had taken any money. The witness could not remember if he had specifically instructed the applicant to file the criminal complaint in question, but he confirmed that the lawyer had surely not acted against his will. The Disciplinary Court also referred to the submissions made by the applicant in so far as he could not indicate the exact dates of his meetings with the CAB, other than placing them in 2009 and 2010, or provide the names of the CAB’s agents. The Disciplinary Court analysed the sequence of the relevant events, such as the term of office of the CAB’s chief, the period when the investigation regarding forged documents was on-going, and the date when M.P. had approved its discontinuation. Based on all the above-mentioned material, the Disciplinary Court concluded that the applicant’s version of events had not been corroborated.13.  The Disciplinary Court further observed that a lawyer’s freedom of expression was distinct from the constitutional understanding of that right in that it was restricted to protect third parties from unjustified, excessive and unnecessary attacks on their own rights. The applicant had been undoubtedly responsible for filing the complaint in question and thus had been under a professional duty to act with moderation (umiar), proportionality (współmierność) and caution (oględność) within the meaning of paragraph 17 of the Lawyer’s Code of Professional Ethics (see paragraph 22 below). Accordingly, lawyers had to avoid making unsubstantiated complaints; they had to indicate sources of information relied on and use the conditional tense in formulating their allegations. The court considered that the language used by the applicant in his complaint had clearly been contrary to those principles and derogatory to the dignity of M.P. and the prosecutor’s office as a whole.14.  The court fined the applicant in the amount equivalent to twenty basic professional contributions to the bar association. In the applicant’s calculation that was not contested by the Government, the fine in question corresponds to 2,400 Polish zlotys ((PLN), approximately 535 euros (EUR)). The court also banned the applicant from being a professional tutor for one year.15.  On 27 September 2014 the High Disciplinary Court of the Bar (Wyższy Sąd Dyscyplinarny Adwokatury – “the High Disciplinary Court) upheld that decision. It essentially stressed that a lawyer, irrespective of his or her client’s expectations, should diligently abide by professional ethics in pursuit of a greater general interest.16.  On 8 July 2015 the Criminal Chamber of the Supreme Court (Sąd Najwyższy) dismissed a cassation appeal lodged by the applicant as manifestly ill-founded.17.  On 10 October 2016 the applicant was charged PLN 1,000 (approximately EUR 220) for the costs of the above-mentioned disciplinary proceedings.RELEVANT LEGAL FRAMEWORKDOMESTIC LAWProfessional responsibility of practising lawyers18.  Under the Polish law, pursuant to Section 8 (1) of the Bar Act of 26 May 1982 (Prawo o adwokaturze), a lawyer, while practising his or her professions, enjoys freedom of expression within the limits specified by the tasks of the bar and the provisions of law. In particular, any abuse of this freedom constituting an insult or defamation of a party, the party’s attorney or defence lawyer or other participants in the proceedings, will lead to disciplinary action.19.  The professional responsibility of practising lawyers is set out in section 80 of the Bar Act, which provides that lawyers are subject to disciplinary action for, inter alia, conduct in breach of the law, professional ethics or dignity of the profession. Section 81 lists the disciplinary sanctions which may be imposed as a result of such proceedings. They include: a warning, reprimand, fine, suspension of professional activities for three months to five years or disbarment. A reprimand and fine may be accompanied by a ban on acting as a professional tutor for one to five years.20.  The conduct of lawyers is further regulated by the Advocate’s Code of Professional Ethics (Zbiór Zasad Etyki Adwokackiej i Godności Zawodu (Kodeks Etyki Adwokackiej)), which was adopted on 10 October 1998 by the Supreme Bar Council (Naczelna Rada Adwokacka) and entered into force on 1 December 1998. This code of ethics places advocates under a duty to, among others, protect the dignity of the profession (paragraph 1.3). A breach of the dignity of the legal profession is defined as conduct which could, inter alia, undermine confidence in the profession (paragraph 1.2).21.  Paragraph 14 provides that advocates are responsible for the form and content of the pleadings drafted by them.22.  Paragraphs 15 and 17 read, insofar as relevant, as follows:“15.  An advocate is not responsible for the veracity of the facts provided to him by his or her client, [he or she should], however, act with moderation in describing circumstances that are drastic or little probable....17.  An advocate, having his or her freedom of expression guaranteed in the conduct of his or her professional activities, should act with moderation and caution when making statements ... towards a court and state authorities ... so as not to infringe the dignity of the profession.Reporting and investigation of criminal offences23.  Pursuant to Article 304 of the Code of Criminal Procedure (Kodeks postępowania karnego), everyone “who has learnt that a criminal offence prosecuted ex officio has been committed, has a civic duty (obowiązek społeczny) to report such an offence to the prosecutor or to the police.24.  Pursuant to Article 303 of the Code, an investigation shall be instituted, either ex officio or upon a notification of a crime, if there is “a reasonable suspicion (uzasadnione podejrzenie) that a criminal offence has been committed.INTERNATIONAL MATERIALThe United Nations Convention Against Corruption25.  The United Nations Convention Against Corruption was adopted by the General Assembly by resolution no. 58/4 of 31 October 2003 and has been in force since 14 December 2005. It was ratified by Poland on 15 September 2006. Its provisions regulate, among other things, the participation of society in the prevention of and the fight against corruption as well as the protection of reporting persons. The relevant provisions read as follows:Article 13 Participation of society“1.  Each State Party shall take appropriate measures, within its means and in accordance with fundamental principles of its domestic law, to promote the active participation of individuals and groups outside the public sector, such as civil society, non-governmental organizations and community-based organizations, in the prevention of and the fight against corruption and to raise public awareness regarding the existence, causes and gravity of and the threat posed by corruption. This participation should be strengthened by such measures as:(a) Enhancing the transparency of and promoting the contribution of the public to decision-making processes;(b) Ensuring that the public has effective access to information;(c) Undertaking public information activities that contribute to nontolerance of corruption, as well as public education programmes, including school and university curricula;(d) Respecting, promoting and protecting the freedom to seek, receive, publish and disseminate information concerning corruption. That freedom may be subject to certain restrictions, but these shall only be such as are provided for by law and are necessary:(i) For respect of the rights or reputations of others; ...Article 33. Protection of reporting persons“Each State Party shall consider incorporating into its domestic legal system appropriate measures to provide protection against any unjustified treatment for any person who reports in good faith and on reasonable grounds to the competent authorities any facts concerning offences established in accordance with this Convention.The Council of Europe’s Criminal Law Convention on Corruption26.  The Council of Europe’s Criminal Law Convention on Corruption (ETS No. 173) of 27 January 1999 was ratified by Poland in 2002 and it entered into force in respect of this country on 1 April 2003. Its Article 22, concerning the protection of collaborators of justice and witnesses, reads as follows:“Each Party shall adopt such measures as may be necessary to provide effective and appropriate protection for:a those who report the criminal offences established in accordance with Articles 2 to 14 or otherwise co-operate with the investigating or prosecuting authorities;b witnesses who give testimony concerning these offences.The Council of Europe’s Civil Law Convention on Corruption27.  The Council of Europe’s Civil Law Convention on Corruption (ETS No. 174) of 4 November 1999 was ratified by Poland in 2002 and it entered into force in respect of this country on 1 November 2003. Article 9 of this Convention concerns the protection of employees and reads as follows:“Each Party shall provide in its internal law for appropriate protection against any unjustified sanction for employees who have reasonable grounds to suspect corruption and who report in good faith their suspicion to responsible persons or authorities.THE LAWALLEGED VIOLATION OF ARTICLE 10 OF THE CONVENTION28.  The applicant primarily complained that his right to freedom of expression had unlawfully and unjustifiably been restricted in that the domestic courts had found him at fault for filing what they considered to be an unsubstantiated criminal complaint. The applicant also complained, invoking Article 6 of the Convention, that his right to a fair trial had been breached in that two of the judges of the High Disciplinary Court could have been biased and his requests for evidence had been unfairly rejected.29.  The Court, being the master of characterisation to be given in law to the facts of the case, considers that all the above-described elements of these complaints fall to be cumulatively examined under Article 10 of the Convention (see Radomilja and Others v. Croatia [GC], nos. 37685/10 and 22768/12,  126, 20 March 2018).Article 10 of the Convention, in so far as relevant, reads as follows:“1.  Everyone has the right to freedom of expression. This right shall include freedom to hold opinions and to receive and impart information and ideas without interference by public authority ....2.  The exercise of these freedoms, since it carries with it duties and responsibilities, may be subject to such formalities, conditions, restrictions or penalties as are prescribed by law and are necessary in a democratic society, ... for the protection of the reputation or rights of others, ..., or for maintaining the authority and impartiality of the judiciary.Admissibility30.  The Government raised a preliminary objection regarding the exhaustion of domestic remedies because the applicant had not filed a constitutional complaint to challenge the compliance of the applicable provisions of the Bar Act and the Lawyers’ Code of Professional Ethics with freedom of expression. The Government argued that the availability of such a remedy in the applicant’s case was confirmed by the Constitutional Court’s judgment of 23 April 2008 (case no. SK 16/07), declaring the unconstitutionality of a provision of the Code of Medical Ethics – an act of the same category as the Lawyers’ Code of Professional Ethics. The Government also argued that the constitutional remedy was effective, because having obtained a judgment declaring the unconstitutionality of the law that was at the basis of his disciplinary punishment, the applicant would have been entitled to seek compensation pursuant to Article 4171 of the Civil Code.31.  The applicant questioned the applicability of the constitutional remedy to his case. In his opinion, the Lawyers’ Code of Professional Ethics was not a legal act within the meaning of Article 188 of the Constitution, and, as such, it could not be challenged before the Constitutional Court.32.  The Court reiterates that it has already held that a constitutional complaint in Poland is an effective remedy for the purposes of Article 35  1 of the Convention only in a situation in which the alleged violation of constitutional rights and freedoms has resulted from the application of a legal provision which can reasonably be questioned as unconstitutional. Furthermore, such a provision must constitute the legal basis for the individual decision in respect of which the violation is alleged. Thus, the constitutional complaint procedure cannot serve as an effective remedy if the alleged violation has resulted only from the erroneous application or interpretation of a statutory provision which, in its content, is not unconstitutional (see Xero Flor w Polsce sp. z o.o. v. Poland, no. 4907/18,  198, 7 May 2021).33.  In the present case, the alleged violation originated in the decisions of the domestic disciplinary authorities that found the applicant in breach of professional ethics regulated by the Lawyers’ Code of Professional Ethics. The applicant’s complaint with the Court is not that the regulation in question was unconstitutional, but rather that, on the merits, he had in fact acted with the required moderation, proportionality, and caution, that is to say, in compliance with professional ethics. The Court points to the established case‑law of the Constitutional Court, which provides that constitutional complaints based solely on an allegedly erroneous interpretation of a legal provision are excluded from its jurisdiction unless an applicant contests a provision as understood in well-established and long-standing case law of the courts; as a result, such a complaint cannot be deemed an effective remedy within the meaning of Article 35  1 of the Convention. The domestic courts refused to interpret the domestic provisions as requested by the applicant in the circumstances of the case. Therefore, a constitutional complaint cannot be regarded as an effective remedy in the applicant’s case (see Y v. Poland, no. 74131/14,  52, 17 February 2022, with further references).34.  For these reasons, the Government’s objection of non‑exhaustion of domestic remedies must be dismissed.35.  The Court notes that the application is neither manifestly ill-founded nor inadmissible on any other grounds listed in Article 35 of the Convention. It must therefore be declared admissible.MeritsThe parties’ submissions36.  The applicant argued that the disciplinary punishment he had received was unlawful, unjustified and disproportionate. He also claimed that the impugned proceedings were marked with shortcomings.37.  The Government argued that the interference with the applicant’s freedom of expression was lawful, justified and proportionate. While, as a lawyer, the applicant ought to have acted with caution, his impugned statements were groundless and defamatory.The Court’s assessment38.  The principles regarding professional practice and Article 10 are set out in, inter alia, Nikula v. Finland (no. 31611/96,  44-46, ECHR 2002-II; see also Steur v. the Netherlands, no. 39657/98,  27-46, ECHR 2003‑XI).39.  The Court reiterates that the special status of lawyers, in turn, gives them a central position in the administration of justice as intermediaries between the public and the courts. Such a position explains the usual restrictions on the conduct of members of the Bar. Regard being had to the key role of lawyers in this field, it is legitimate to expect them to contribute to the proper administration of justice, and thus to maintain public confidence therein (see Schöpfer v. Switzerland, judgment of 20 May 1998, Reports of Judgments and Decisions 1998-III, pp. 1052-53,  29-30, with further references; and Schmidt v. Austria, no. 513/05,  42, 17 July 2008, with further references).40.  The Court also notes that the Council of Europe’s Criminal Law Convention on Corruption (see paragraph 26 above) describes corruption as “threaten[ing] the rule of law, democracy and human rights, undermin[ing] good governance, fairness and social justice, distort[ing] competition, hinder[ing] economic development and endanger[ing] the stability of democratic institutions and the moral foundations of society (Preamble). That Convention, which has been ratified by Poland, requires that State Parties provide effective and appropriate protection for those who report the criminal offence of corruption (Article 22 (a)). Likewise, pursuant to the United Nations Convention Against Corruption (see paragraph 25 above), Signatory States must ensure protection against any unjustified treatment for any person who reports in good faith and on reasonable grounds to the competent authorities any facts concerning corruption (Article 33). The Convention has widely been ratified, including by Poland.41.  In the present case, the disciplinary decision finding the applicant at fault and imposing a fine on him for unethical conduct, namely for filing a criminal complaint alleging the commission of a criminal offence by a prosecutor without a proper basis in fact, moderation, proportionality or caution, constituted an interference with his rights guaranteed by Article 10 of the Convention.42.  In the light of the domestic legal framework described above (see paragraphs 18-22), the Court finds that, contrary to the applicant’s argument, the interference was prescribed by law in that the the requirement for lawyers to formulate their expressions with moderation, proportionality and caution complements the provisions of the Bar Act regulating the exercise of freedom of expression and the disciplinary liability of lawyers.43.  The Court also observes that while freedom of expression is applicable also to lawyers, the usual rules of conduct imposed on members of the Bar – as intermediaries between the public and the courts – particularly as regards “dignity, honour or integrity or “respect for the fair administration of justice, contribute to the protection of the judiciary from gratuitous and unfounded attacks (see Bono v. France, no. 29024/11,  45, 15 December 2015). In the light of this, the Court finds that the impugned interference aimed at contributing to the proper administration of justice (see, mutatis mutandis, Morice v. France [GC], no. 29369/10,  128-31 and 143, ECHR 2015; Bagirov v. Azerbaijan, nos. 81024/12 and 28198/15,  75, 25 June 2020; and contrast Raichinov v. Bulgaria, no. 47579/99,  45, 20 April 2006). In this context, it is to be noted that the Advocate’s Code of Professional Ethics, which was relied upon in the impugned disciplinary proceedings against the applicant, provides that advocates, having their freedom of expression guaranteed in the conduct of their professional activities, should act with moderation and caution when making their statements towards state authorities, so as to protect the dignity of the profession (see paragraphs 1.3 and 17 of that code cited in paragraphs 20 and 22 above).44.  It remains to be examined whether the interference was “necessary in a democratic society. This requires the Court to ascertain whether it was proportionate to the legitimate aim pursued and whether the grounds given by the domestic authorities were relevant and sufficient.45.  In the present case, the applicant received a disciplinary sanction for filing, on behalf of his client, a criminal complaint alleging the commission of a criminal offence by a prosecutor without a proper basis in fact, moderation, proportionality or caution (see paragraphs 12 and 13 above). In this sense, the domestic court condemned the applicant for accepting the instructions from his client when the accusations of bribery made against M.P. were, according to the district prosecutor, not supported by any evidence or the indication of any factual circumstance (see paragraph 7 above), and for formulating his accusations in strong terms (see paragraph 5 above). As a result, the applicant was fined and temporarily banned from being a professional tutor (see paragraph 14 above).46.  The Court observes that the limits of acceptable criticism may, in some circumstances, be wider with regard to civil servants exercising their powers than in relation to private individuals (see Nikula, cited above,  48). In the instant case, the criticism took the form of a formal criminal denunciation that prosecutor M.P. had accepted bribes, committing a serious offence in office.47.  The applicant did not engage in any personal attacks against M.P. or refer to any of his personal qualities (contrast, mutatis mutandis, Mikhaylova v. Ukraine, no. 10644/08,  89, 6 March 2018). Nor did he make his allegations publicly (see, mutatis mutandis, Zakharov v. Russia, no. 14881/03,  23, 5 October 2006). Instead, the applicant followed a procedure for a notification of a crime (see point (a) of the Council of Europe’s Criminal Law Convention on Corruption, cited in paragraph 26 above). The Court observes that where, as in the present case, the allegations are contained in a formal notification addressed to the competent superior public official (district prosecutor), it is only in the most exceptional circumstances that recourse to criminal or disciplinary proceedings against the person filing such a notification can be justified within the meaning of Article 10 of the Convention (see, for example, Grigoriades v. Greece, 25 November 1997,  47, Reports of Judgments and Decisions 1997‑VII; Kazakov v. Russia, no. 1758/02,  29, 18 December 2008; Zakharov, cited above,  23; and Sofranschi v. Moldova, no. 34690/05,  33, 21 December 2010). In the present case, in the eyes of the authorities, the applicant infringed the principle of good administration of justice by filing a criminal complaint without a reasonable suspicion (see paragraphs 9 and 11 above). The Court, however, has not been presented with any evidence which would indicate any malicious intent on the part of the applicant or with any other element that could be considered as exceptional circumstances justifying the recourse to disciplinary proceedings.48.  Furthermore, the Court reiterates that it is one of the precepts of the rule of law that the citizens should be able to notify competent State officials about the conduct of civil servants which to them appears irregular or unlawful (see Medžlis Islamske Zajednice Brčko and Others v. Bosnia and Herzegovina [GC], no. 17224/11,  82, 27 June 2017; Zakharov, cited above,  26 and Lešník, cited above,  55; see also Article 13 of the United Nations Convention Against Corruption, cited in paragraph 25 above).49.  The Court observes that under Polish law everyone who has learnt that a criminal offence prosecuted ex officio has been committed, has a civic duty to report such an offence (see paragraph 23 above). Moreover, advocates are not responsible for the veracity of the facts submitted to them by their clients (see paragraph 22 above). It appears that the applicant acted on the instruction or at least with the knowledge and consent of his client, even though the latter subsequently denied having any knowledge that would allow him to formulate the accusation in question (see paragraph 12 above).50.  In the present case, the disciplinary authorities considered that the applicant had failed to indicate any circumstances to substantiate the accusation he had made. In the Court’s view, however, the offence alleged by the applicant, on behalf of his client, was not completely devoid of any argument supporting his version of events (see paragraphs 5, 6 and 10 above; contrast, mutatis mutandis, Schmidt, cited above,  41, and Peruzzi v. Italy, no. 39294/09,  60, 30 June 2015; and contrast L.P. and Carvalho,  70; Čeferin,  63; and Steur,  41, all cited above). The Court accepts the applicant’s argument that it is in the nature of passive bribery allegations that people reporting such acts do not have access to evidence of the offence unless they have tried to offer a bribe or witnessed such an event. While the information about the meetings with the CAB was imprecise and turned out to be uncorroborated (see paragraph 12 above), the applicant also indicated the employees of a certain company that he had named as the likely persons who had offered the bribe (see paragraphs 5 and 6 above). As to the original criminal investigation concerning the applicant’s client, the Court finds that prima facie doubt indeed existed as to why it had been closed on the grounds that there had been insufficient evidence to justify the suspicion that a crime had been committed, if no expert report had been obtained by the prosecutor (see paragraph 6 above). Lastly, the applicant’s notification of corruption was considered by the authorities for eight days only before it was decided not to investigate the matter (see paragraphs 5 and 7 above). This leaves a certain room for doubt as to whether the authorities had closely verified the circumstantial evidence provided by the applicant. In view of these elements, it cannot be said that the applicant failed to substantiate, to the extent permitted by the circumstances, that the information he disclosed was accurate and reliable (contrast, mutatis mutandis, Gawlik, cited above,  78).51.  Furthermore, while the Bar Association is an independent professional association of lawyers, the Court takes issue with the fact that the disciplinary proceedings against the applicant were triggered upon a notification by a superior prosecutor and his bringing to light of the applicant’s notification of a crime which was of a non-public nature (paragraph 8 above).52.  In assessing the proportionality of the interference, the nature and severity of the penalties imposed are also factors to be taken into account (see Ceylan v. Turkey [GC], no. 23556/94,  37, ECHR 1999-IV). In this regard, the Court notes that the applicant was fined and that the amount of the fine was not excessive; it was not the most lenient but also not the harshest sanction for professional misconduct (see paragraph 16 above). On the other hand, as the applicant submitted, as a result of the disciplinary proceedings, his professional reputation had suffered greatly, he had lost his commitment to work as a lawyer and his legal practice had been affected financially as funds had been diverted to the disciplinary proceedings. Moreover, he was for one year barred from being a professional tutor.53.  In light of the above considerations, the Court finds that the disciplinary authorities did not give relevant and sufficient reasons for their decision and went beyond their margin of appreciation when finding the applicant at fault and imposing a fine on him for unethical conduct (see, mutatis mutandis, Peruzzi,  66; Schmidt,  44; Kincses,  43, all cited above; and Wingerter v. Germany (dec.), no. 43718/98, 21 March 2002).54.  That conclusion, in and of itself, allows the Court to conclude that there has been a violation of Article 10 of the Convention.55.  In the particular circumstances of the case, it is therefore not necessary to examine additionally the fairness of the impugned disciplinary proceedings and the question of procedural guarantees afforded to the applicant (compare with Kyprianou v. Cyprus [GC], no. 73797/01,  171, ECHR 2005‑XIII, and Radobuljac, cited above,  67).APPLICATION OF ARTICLE 41 OF THE CONVENTION56.  Article 41 of the Convention provides:“If the Court finds that there has been a violation of the Convention or the Protocols thereto, and if the internal law of the High Contracting Party concerned allows only partial reparation to be made, the Court shall, if necessary, afford just satisfaction to the injured party.Damage57.  The applicant claimed 15,000 euros (EUR) in respect of non-pecuniary damage and 2,400 Polish zlotys ((PLN), approximately EUR 535) in respect of pecuniary damage. The latter amount corresponds to the fine imposed on the applicant by the disciplinary authorties.58.  The Government submitted that these claims were excessive and not actually incurred by the applicant.59.  The Court awards the applicant EUR 535 in respect of pecuniary damage. It further considers that he must have suffered non-pecuniary damage on account of the violation found. Ruling on an equitable basis, it awards the applicant EUR 9,750 under this head, plus any tax that may be chargeable.Costs and expenses60.  The applicant also claimed PLN 2,476 in respect of the costs charged by the domestic courts, and expenses incurred before the Court. Of this sum, PLN 1,000 (approximately EUR 220) corresponded to the costs charged by the disciplinary authorities and PLN 1,476 (approximately EUR 330) for translation of documents for the purpose of the proceedings before this Court. The applicant submitted an invoice for the translation in question.61.  The Government submitted that the costs claimed had not actually been incurred.62.  According to the Court’s case-law, an applicant is entitled to the reimbursement of costs and expenses only in so far as it has been shown that these were actually and necessarily incurred and are reasonable as to quantum. In the present case, regard being had to the documents in its possession and the above criteria, the Court considers it reasonable to award the sum of EUR 550 covering costs under all heads, plus any tax that may be chargeable to the applicant.FOR THESE REASONS, THE COURTDeclares, unanimously, the application admissible;Holds, by 5 votes to 2, that there has been a violation of Article 10 of the Convention;Holds, by 5 votes to 2,(a)  that the respondent State is to pay the applicant, within three months from the date on which the judgment becomes final in accordance with Article 44  2 of the Convention, the following amounts, to be converted into the currency of the respondent State at the rate applicable at the date of settlement:(i)  EUR 535 (five hundred and thirty-five euros), plus any tax that may be chargeable, in respect of pecuniary damage;(ii)  EUR 9,750 (nine thousand seven hundred and fifty euros), plus any tax that may be chargeable, in respect of non-pecuniary damage;(iii)  EUR 550 (five hundred and fifty euros), plus any tax that may be chargeable to the applicant, in respect of costs and expenses;(b)  that from the expiry of the above-mentioned three months until settlement simple interest shall be payable on the above amounts at a rate equal to the marginal lending rate of the European Central Bank during the default period plus three percentage points;Dismisses, unanimously, the remainder of the applicants’ claim for just satisfaction.Done in English, and notified in writing on 23 March 2023, pursuant to Rule 77  2 and 3 of the Rules of Court. Renata Degener  Marko Bošnjak Registrar President In accordance with Article 45  2 of the Convention and Rule 74  2 of the Rules of Court, the following separate opinion is annexed to this judgment:Joint dissenting opinion of Judge Wojtyczek and Judge Poláčková.M.B.R.D.  JOINT DISSENTING OPINION OF JUDGESWOJTYCZEK AND POLÁČKOVÁ 1.  With all due respect to the majority we do not share their view that Article 10 has been violated in the instant case. 2.  In this case, the applicant, acting as “advocate (one of the regulated legal professions in Poland) for a client, lodged a criminal complaint alleging corruption. The primary basis for the allegation was the irrationality of measures taken by the prosecuting authorities in a criminal case. The public prosecutor and later the relevant disciplinary tribunals concluded that the complaint lacked supporting evidence. The public prosecutor refused to open an inquiry, a decision which the applicant’s client appears to have accepted in so far as no appeal was lodged against the refusal. The lodging of the unsubstantiated complaint was subsequently held to be a breach of professional ethics. As a result, the applicant was sanctioned by the Disciplinary Court of the Warsaw Bar Association (that is to say, by the members of his own profession) for professional misconduct.We note in this context that the “authorities to which the judgment refers and which it holds responsible for a violation of the Convention are professional bodies independent of the State. Specifically, the violation of the Convention is said to have been committed by the professional bodies of the Polish Bar.We also observe that the prosecuting authorities reacted in a very predictable manner to the complaint received, given that it was based solely on the subjective belief of the applicant’s client. On top of that, the document sent by the applicant increased the prosecuting authorities’ workload, whereas it is difficult to see any real benefit that he obtained for his client by sending it. 3.  The applicant complained to the Court of a breach of Article 10. Of particular note in this regard is that the speech at issue was that of an advocate acting for his client. The protection which Article 10 extends to advocates acting on behalf of their clients exists first and foremost to serve the interests of those clients. Advocates’ freedom of speech is therefore limited in that they are bound by the interests of their clients and by the instructions those clients give. An advocate representing a client is speaking on behalf of that client and for the purpose of effectively defending the client’s – not his or her own – interests. Moreover, advocates’ clients are entitled to legal services of a certain quality and may reasonably expect the statements contained in documents lodged on their behalf to be supported by a modicum of evidence or argument. The fact that advocates provide services in the form of speech does not exempt them from scrutiny to ensure their compliance with professional standards. The balancing of values under Article 10, as it applies to advocates’ speech, must take these considerations into account and must be tailored accordingly. 4.  The instant case also concerns the right of certain qualified independent service professions, known in some jurisdictions as the “liberal professions, to self‑government and self-regulation. Such professions are entitled to regulate their members’ conduct and the quality of the services they provide. In particular, the liberal professions are in principle entitled to determine what amounts to proper professional conduct and what does not. They have the task of ensuring the adequate quality of the services provided. Even if the right of such professions to self-government is not itself protected by the Convention, the various public values underlying it have to be taken into account in the assessment of the Convention compatibility of measures interfering with Convention rights.This case reveals the diversity of traditions and approaches which subsists in the domain of professional self-regulation. The majority’s conclusion implies that an advocate who reports a criminal offence without adducing a modicum of evidence to substantiate his allegations is acting within the rules, so to speak, of the legal game. The bodies of the Polish Bar, conversely, regarded such behaviour as foul play and hence as a breach of professional ethics. In our view, this diversity of traditions and approaches in Europe is a source of enrichment and should be taken into account in the application of the Convention. 5.  Any criminal complaint must be based on a modicum of evidence that the offence reported was actually committed. In the case of Wojczuk v. Poland (no. 52969/13, 9 December 2021) the Court expressed the following view, to which we fully subscribe:“97.  The Court does not lose from sight the fact that calumnious denunciations to the competent authorities may result in investigating measures and may have very serious detrimental effects for the persons concerned, causing unnecessary stress and anxiety. Moreover, calumnious denunciations mean that the competent investigating or audit authorities can use more limited resources for the purposes of investigating or auditing other irregularities in the functioning of public authorities.Similarly, criminal complaints which are not sufficiently substantiated may have detrimental effects for the persons concerned and may put needless strain on the already limited resources available to prosecuting authorities.The majority express the following views at paragraphs 47 and 50:“... The Court observes that where, as in the present case, the allegations are contained in a formal notification addressed to the competent superior public official (district prosecutor), it is only in the most exceptional circumstances that recourse to criminal or disciplinary proceedings against the person filing such a notification can be justified within the meaning of Article 10 of the Convention (see, for example, Grigoriades v. Greece, 25 November 1997,  47, Reports of Judgments and Decisions 1997‑VII; Kazakov v. Russia, no. 1758/02,  29, 18 December 2008; Zakharov, cited above,  23; and Sofranschi v. Moldova, no. 34690/05,  33, 21 December 2010). ...... it cannot be said that the applicant failed to substantiate, to the extent permitted by the circumstances, that the information he disclosed was accurate and reliable (contrast, mutatis mutandis, Gawlik, cited above,  78).We observe in this regard that the phrase “the most exceptional circumstances does not appear in any of the previous judgments referred to by the majority. To put a finer point on it, the existing case-law neither applies nor implies a “the most exceptional circumstances test. This is a new standard created ad hoc and unsupported by the existing case-law. The approach adopted departs from existing case‑law and considerably lowers the evidential threshold to be met by a professional legal representative seeking to report a criminal offence on behalf of his or her client. Such an approach may contribute to the development of a culture of suspicion and distrust, typical of undemocratic regimes.Moreover, in asking whether the applicant “failed to substantiate, to the extent permitted by the circumstances, that the information he disclosed was accurate and reliable, the majority devise a disclosure‑based test which does not seem germane to the reporting of a criminal offence – a completely different situation. The applicant did not disclose any information. 6.  The majority rightly observe at paragraph 50 that “under Polish law everyone who has learnt that a criminal offence prosecuted ex officio has been committed, has a civic duty to report such an offence. We would like to stress that, under the letter of Article 304, paragraph 1, of the Code of Criminal Procedure, this civic duty arises in a situation where a person “knows that a criminal offence has been committed, not in a situation where a person only vaguely suspects that a criminal offence may have been committed. A degree of subjective knowledge of facts and circumstances which make out a criminal offence is, in our opinion, a pre-condition. The applicant in the present case did not “learn or “know that an offence had been committed. 7.  Our conclusion, for the reasons explained above, is that the legal professional bodies in Poland did not overstep the margin of appreciation afforded to them under Article 10 in the instant case.\\n'"
      ]
     },
     "execution_count": 9,
     "metadata": {},
     "output_type": "execute_result"
    }
   ],
   "source": [
    "# Summarization\n",
    "trial_file = clean(file)\n",
    "trial_file"
   ]
  },
  {
   "cell_type": "code",
   "execution_count": 10,
   "id": "6500cc6e",
   "metadata": {},
   "outputs": [],
   "source": [
    "import re\n",
    "# removes all non-alphanumeric characters and spaces\n",
    "trial_file = re.sub(r'[^\\w\\s]', '', trial_file) \n",
    "# removes all digits\n",
    "trial_file = re.sub(r'\\d+', '', trial_file)\n",
    "# makes sure there is a space between uppercase and lowercase text\n",
    "trial_file = re.sub(r'(?<=[a-z0-9])(?=[A-Z])', ' ', trial_file)"
   ]
  },
  {
   "cell_type": "code",
   "execution_count": 11,
   "id": "a15369e6",
   "metadata": {},
   "outputs": [
    {
     "data": {
      "text/plain": [
       "' FIRST SECTIONCASE OF ROGALSKI v POLANDApplication no      JUDGMENTArt   Freedom of expression  Unjustified disciplinary sanctioning of lawyer for unethical conduct for notifying a commission of a criminal offence by a prosecutor without a proper basis in fact moderation proportionality and caution  Disciplinary courts failure to give relevant and sufficient reasons for decision  Margin of appreciation overstepped STRASBOURG March  This judgment will become final in the circumstances set out in Article    of the Convention It may be subject to editorial revision In the case of Rogalski v Poland The European Court of Human Rights First Section sitting as a Chamber composed of Marko Bošnjak President Péter Paczolay Krzysztof Wojtyczek Alena Poláčková Erik Wennerström Ioannis Ktistakis Davor Derenčinović judgesand Renata Degener Section Registrar Having regard tothe application no  against the Republic of Poland lodged with the Court under Article  of the Convention for the Protection of Human Rights and Fundamental Freedoms the Convention by a Polish national Mr Rafał Rogalski the applicant on  January the decision to give notice of the application to the Polish Government the Governmentthe parties observations Having deliberated in private on  February Delivers the following judgment which was adopted on that date INTRODUCTION  The case concerns disciplinary proceedings against the applicant who was fined for unethical conduct for notifying a commission of a criminal offence by a prosecutor without a proper basis in fact moderation proportionality and caution THE FACTS  The applicant was born in  and lives in Warsaw He was represented by Ms M Gniady a lawyer practising in Warsaw  The Polish Government the Government were represented by their Agent Mr J Sobczak of the Ministry of Foreign Affairs  The facts of the case may be summarised as follows  On  January  the applicant who is a lawyer lodged on behalf of his client company a formal notification of a crime that contained the following statement the data exists to sufficiently justify a suspicion that prosecutor M P full name of the prosecutor and his service had committed an offence of bribe taking by means of accepting a bribe from unknown persons who were probably employees of a company mentioned by name that is to say an offence under Article    of the Criminal Code  In the document the applicant explained that the offence in question had been committed in connection with an investigation into allegations of forging contracts to the detriment of his client which was ongoing at that time In particular the applicant alleged that the requests for evidence which he had filed in the course of the abovementioned investigation had not been examined promptly that other shortcomings had occurred and overall that the investigation in question had prematurely and unjustifiably been discontinued on the grounds that there was insufficient evidence to justify the suspicion that a crime had been committed while no expert reports had been obtained by the prosecutor The applicant was of the view that the only explanation for such an irrational decision to discontinue the investigation was that MP who was the prosecutor in charge of the investigation in question had been bribed The notification did not contain any details regarding the persons who had allegedly offered the bribe to the prosecutor other than the name of the company where they were supposedly employed  On  January  the Warsaw Centre District Prosecutor refused to open an inquiry into the above allegations In the reasoning of the decision the prosecutor stated that the applicant had not adduced a single piece of evidence nor indicated any factual circumstance substantiating the allegations of bribery No interlocutory appeal was lodged against that decision  On  May  the Warsaw Regional Prosecutor notified the Dean of the Warsaw Regional Bar Council Okręgowa Rada Adwokacka of the applicants criminal complaint for the purpose of establishing whether or not the applicant being a lawyer had infringed the rules of professional ethics  On  November  the disciplinary officer rzecznik dyscyplinarny of the Warsaw Bar Association charged the applicant with a failure to act with moderation umiar when making in his professional capacity a criminal complaint without reasonable suspicions nie mając ku temu uzasadnionych podejrzeń  On  November  the applicant was heard by the disciplinary officer The applicant reiterated information from his criminal complaint and further explained that prosecutor MP had closed the investigation regarding forged documents without obtaining any report from a forensic document examiner The representative of the applicants client had asked that a criminal complaint be lodged as he was convinced that prosecutor MP had been bribed During the hearing the applicant did not provide any other information in respect of the circumstances in which the bribe had been offered or taken He submitted that to discuss the corruption suspicion he had accompanied his client during a couple of meetings with the unspecified officers of the Central Anticorruption Bureau Centralne Biuro Antykorupcyjne CAB The applicant did not indicate any specific or approximate dates of those meetings The first meeting had in his submission taken place during the term of office of the named former chief of the bureau The other one was to have taken place under the new chief The applicant submitted that the CBAs agents had expressed interest in the information that MP had taken bribes  On  November  the Disciplinary Court of the Warsaw Bar Association Sąd Dyscyplinarny Izby Adwokackiej  the Disciplinary Court after hearing the applicant and his client and referring to the abovementioned complaint found the applicant guilty of making in his professional capacity a criminal complaint without any evidence whatsoever or any objectively verifiable circumstances that could justify the suspicion formulated by the applicant That action was in breach section  of the Bar Act in conjunction with paragraphs  and  of the Lawyers Code of Professional Ethics see paragraphs  below  In particular the Disciplinary Court analysed the language the content and context of the criminal complaint It referred to the submissions of the applicants client made first during the criminal investigation into the alleged bribetaking and then directly before the Disciplinary Court That witness had denied that he had seen or heard of MP taking a bribe or that he had discussed any such incident when he had met with the CAB The witness also said that he did not go as far as to suspect that any money from the fund created by their adversary in the trial was given to the prosecutors or that he would never in his life say that MP had taken any money The witness could not remember if he had specifically instructed the applicant to file the criminal complaint in question but he confirmed that the lawyer had surely not acted against his will The Disciplinary Court also referred to the submissions made by the applicant in so far as he could not indicate the exact dates of his meetings with the CAB other than placing them in  and  or provide the names of the CABs agents The Disciplinary Court analysed the sequence of the relevant events such as the term of office of the CABs chief the period when the investigation regarding forged documents was ongoing and the date when MP had approved its discontinuation Based on all the abovementioned material the Disciplinary Court concluded that the applicants version of events had not been corroborated  The Disciplinary Court further observed that a lawyers freedom of expression was distinct from the constitutional understanding of that right in that it was restricted to protect third parties from unjustified excessive and unnecessary attacks on their own rights The applicant had been undoubtedly responsible for filing the complaint in question and thus had been under a professional duty to act with moderation umiar proportionality współmierność and caution oględność within the meaning of paragraph  of the Lawyers Code of Professional Ethics see paragraph  below Accordingly lawyers had to avoid making unsubstantiated complaints they had to indicate sources of information relied on and use the conditional tense in formulating their allegations The court considered that the language used by the applicant in his complaint had clearly been contrary to those principles and derogatory to the dignity of MP and the prosecutors office as a whole  The court fined the applicant in the amount equivalent to twenty basic professional contributions to the bar association In the applicants calculation that was not contested by the Government the fine in question corresponds to  Polish zlotys PLN approximately  euros EUR The court also banned the applicant from being a professional tutor for one year  On  September  the High Disciplinary Court of the Bar Wyższy Sąd Dyscyplinarny Adwokatury  the High Disciplinary Court upheld that decision It essentially stressed that a lawyer irrespective of his or her clients expectations should diligently abide by professional ethics in pursuit of a greater general interest  On  July  the Criminal Chamber of the Supreme Court Sąd Najwyższy dismissed a cassation appeal lodged by the applicant as manifestly illfounded  On  October  the applicant was charged PLN  approximately EUR  for the costs of the abovementioned disciplinary proceedings RELEVANT LEGAL FRAMEWORKDOMESTIC LAWProfessional responsibility of practising lawyers  Under the Polish law pursuant to Section   of the Bar Act of  May  Prawo o adwokaturze a lawyer while practising his or her professions enjoys freedom of expression within the limits specified by the tasks of the bar and the provisions of law In particular any abuse of this freedom constituting an insult or defamation of a party the partys attorney or defence lawyer or other participants in the proceedings will lead to disciplinary action  The professional responsibility of practising lawyers is set out in section  of the Bar Act which provides that lawyers are subject to disciplinary action for inter alia conduct in breach of the law professional ethics or dignity of the profession Section  lists the disciplinary sanctions which may be imposed as a result of such proceedings They include a warning reprimand fine suspension of professional activities for three months to five years or disbarment A reprimand and fine may be accompanied by a ban on acting as a professional tutor for one to five years  The conduct of lawyers is further regulated by the Advocates Code of Professional Ethics Zbiór Zasad Etyki Adwokackiej i Godności Zawodu Kodeks Etyki Adwokackiej which was adopted on  October  by the Supreme Bar Council Naczelna Rada Adwokacka and entered into force on  December  This code of ethics places advocates under a duty to among others protect the dignity of the profession paragraph  A breach of the dignity of the legal profession is defined as conduct which could inter alia undermine confidence in the profession paragraph   Paragraph  provides that advocates are responsible for the form and content of the pleadings drafted by them  Paragraphs  and  read insofar as relevant as follows  An advocate is not responsible for the veracity of the facts provided to him by his or her client he or she should however act with moderation in describing circumstances that are drastic or little probable  An advocate having his or her freedom of expression guaranteed in the conduct of his or her professional activities should act with moderation and caution when making statements  towards a court and state authorities  so as not to infringe the dignity of the profession Reporting and investigation of criminal offences  Pursuant to Article  of the Code of Criminal Procedure Kodeks postępowania karnego everyone who has learnt that a criminal offence prosecuted ex officio has been committed has a civic duty obowiązek społeczny to report such an offence to the prosecutor or to the police  Pursuant to Article  of the Code an investigation shall be instituted either ex officio or upon a notification of a crime if there is a reasonable suspicion uzasadnione podejrzenie that a criminal offence has been committed INTERNATIONAL MATERIALThe United Nations Convention Against Corruption  The United Nations Convention Against Corruption was adopted by the General Assembly by resolution no  of  October  and has been in force since  December  It was ratified by Poland on  September  Its provisions regulate among other things the participation of society in the prevention of and the fight against corruption as well as the protection of reporting persons The relevant provisions read as follows Article  Participation of society  Each State Party shall take appropriate measures within its means and in accordance with fundamental principles of its domestic law to promote the active participation of individuals and groups outside the public sector such as civil society nongovernmental organizations and communitybased organizations in the prevention of and the fight against corruption and to raise public awareness regarding the existence causes and gravity of and the threat posed by corruption This participation should be strengthened by such measures asa Enhancing the transparency of and promoting the contribution of the public to decisionmaking processesb Ensuring that the public has effective access to informationc Undertaking public information activities that contribute to nontolerance of corruption as well as public education programmes including school and university curriculad Respecting promoting and protecting the freedom to seek receive publish and disseminate information concerning corruption That freedom may be subject to certain restrictions but these shall only be such as are provided for by law and are necessaryi For respect of the rights or reputations of others Article  Protection of reporting persons Each State Party shall consider incorporating into its domestic legal system appropriate measures to provide protection against any unjustified treatment for any person who reports in good faith and on reasonable grounds to the competent authorities any facts concerning offences established in accordance with this Convention The Council of Europes Criminal Law Convention on Corruption  The Council of Europes Criminal Law Convention on Corruption ETS No  of  January  was ratified by Poland in  and it entered into force in respect of this country on  April  Its Article  concerning the protection of collaborators of justice and witnesses reads as follows Each Party shall adopt such measures as may be necessary to provide effective and appropriate protection fora those who report the criminal offences established in accordance with Articles  to  or otherwise cooperate with the investigating or prosecuting authoritiesb witnesses who give testimony concerning these offences The Council of Europes Civil Law Convention on Corruption  The Council of Europes Civil Law Convention on Corruption ETS No  of  November  was ratified by Poland in  and it entered into force in respect of this country on  November  Article  of this Convention concerns the protection of employees and reads as follows Each Party shall provide in its internal law for appropriate protection against any unjustified sanction for employees who have reasonable grounds to suspect corruption and who report in good faith their suspicion to responsible persons or authorities THE LAWALLEGED VIOLATION OF ARTICLE  OF THE CONVENTION  The applicant primarily complained that his right to freedom of expression had unlawfully and unjustifiably been restricted in that the domestic courts had found him at fault for filing what they considered to be an unsubstantiated criminal complaint The applicant also complained invoking Article  of the Convention that his right to a fair trial had been breached in that two of the judges of the High Disciplinary Court could have been biased and his requests for evidence had been unfairly rejected  The Court being the master of characterisation to be given in law to the facts of the case considers that all the abovedescribed elements of these complaints fall to be cumulatively examined under Article  of the Convention see Radomilja and Others v Croatia GC nos  and     March Article  of the Convention in so far as relevant reads as follows  Everyone has the right to freedom of expression This right shall include freedom to hold opinions and to receive and impart information and ideas without interference by public authority   The exercise of these freedoms since it carries with it duties and responsibilities may be subject to such formalities conditions restrictions or penalties as are prescribed by law and are necessary in a democratic society  for the protection of the reputation or rights of others  or for maintaining the authority and impartiality of the judiciary Admissibility  The Government raised a preliminary objection regarding the exhaustion of domestic remedies because the applicant had not filed a constitutional complaint to challenge the compliance of the applicable provisions of the Bar Act and the Lawyers Code of Professional Ethics with freedom of expression The Government argued that the availability of such a remedy in the applicants case was confirmed by the Constitutional Courts judgment of  April  case no SK  declaring the unconstitutionality of a provision of the Code of Medical Ethics  an act of the same category as the Lawyers Code of Professional Ethics The Government also argued that the constitutional remedy was effective because having obtained a judgment declaring the unconstitutionality of the law that was at the basis of his disciplinary punishment the applicant would have been entitled to seek compensation pursuant to Article  of the Civil Code  The applicant questioned the applicability of the constitutional remedy to his case In his opinion the Lawyers Code of Professional Ethics was not a legal act within the meaning of Article  of the Constitution and as such it could not be challenged before the Constitutional Court  The Court reiterates that it has already held that a constitutional complaint in Poland is an effective remedy for the purposes of Article    of the Convention only in a situation in which the alleged violation of constitutional rights and freedoms has resulted from the application of a legal provision which can reasonably be questioned as unconstitutional Furthermore such a provision must constitute the legal basis for the individual decision in respect of which the violation is alleged Thus the constitutional complaint procedure cannot serve as an effective remedy if the alleged violation has resulted only from the erroneous application or interpretation of a statutory provision which in its content is not unconstitutional see Xero Flor w Polsce sp z oo v Poland no     May   In the present case the alleged violation originated in the decisions of the domestic disciplinary authorities that found the applicant in breach of professional ethics regulated by the Lawyers Code of Professional Ethics The applicants complaint with the Court is not that the regulation in question was unconstitutional but rather that on the merits he had in fact acted with the required moderation proportionality and caution that is to say in compliance with professional ethics The Court points to the established caselaw of the Constitutional Court which provides that constitutional complaints based solely on an allegedly erroneous interpretation of a legal provision are excluded from its jurisdiction unless an applicant contests a provision as understood in wellestablished and longstanding case law of the courts as a result such a complaint cannot be deemed an effective remedy within the meaning of Article    of the Convention The domestic courts refused to interpret the domestic provisions as requested by the applicant in the circumstances of the case Therefore a constitutional complaint cannot be regarded as an effective remedy in the applicants case see Y v Poland no     February  with further references  For these reasons the Governments objection of nonexhaustion of domestic remedies must be dismissed  The Court notes that the application is neither manifestly illfounded nor inadmissible on any other grounds listed in Article  of the Convention It must therefore be declared admissible Merits The parties submissions  The applicant argued that the disciplinary punishment he had received was unlawful unjustified and disproportionate He also claimed that the impugned proceedings were marked with shortcomings  The Government argued that the interference with the applicants freedom of expression was lawful justified and proportionate While as a lawyer the applicant ought to have acted with caution his impugned statements were groundless and defamatory The Courts assessment  The principles regarding professional practice and Article  are set out in inter alia Nikula v Finland no    ECHR II see also Steur v the Netherlands no    ECHR XI  The Court reiterates that the special status of lawyers in turn gives them a central position in the administration of justice as intermediaries between the public and the courts Such a position explains the usual restrictions on the conduct of members of the Bar Regard being had to the key role of lawyers in this field it is legitimate to expect them to contribute to the proper administration of justice and thus to maintain public confidence therein see Schöpfer v Switzerland judgment of  May  Reports of Judgments and Decisions III pp    with further references and Schmidt v Austria no     July  with further references  The Court also notes that the Council of Europes Criminal Law Convention on Corruption see paragraph  above describes corruption as threatening the rule of law democracy and human rights undermining good governance fairness and social justice distorting competition hindering economic development and endangering the stability of democratic institutions and the moral foundations of society Preamble That Convention which has been ratified by Poland requires that State Parties provide effective and appropriate protection for those who report the criminal offence of corruption Article  a Likewise pursuant to the United Nations Convention Against Corruption see paragraph  above Signatory States must ensure protection against any unjustified treatment for any person who reports in good faith and on reasonable grounds to the competent authorities any facts concerning corruption Article  The Convention has widely been ratified including by Poland  In the present case the disciplinary decision finding the applicant at fault and imposing a fine on him for unethical conduct namely for filing a criminal complaint alleging the commission of a criminal offence by a prosecutor without a proper basis in fact moderation proportionality or caution constituted an interference with his rights guaranteed by Article  of the Convention  In the light of the domestic legal framework described above see paragraphs  the Court finds that contrary to the applicants argument the interference was prescribed by law in that the the requirement for lawyers to formulate their expressions with moderation proportionality and caution complements the provisions of the Bar Act regulating the exercise of freedom of expression and the disciplinary liability of lawyers  The Court also observes that while freedom of expression is applicable also to lawyers the usual rules of conduct imposed on members of the Bar  as intermediaries between the public and the courts  particularly as regards dignity honour or integrity or respect for the fair administration of justice contribute to the protection of the judiciary from gratuitous and unfounded attacks see Bono v France no     December  In the light of this the Court finds that the impugned interference aimed at contributing to the proper administration of justice see mutatis mutandis Morice v France GC no    and  ECHR  Bagirov v Azerbaijan nos  and     June  and contrast Raichinov v Bulgaria no     April  In this context it is to be noted that the Advocates Code of Professional Ethics which was relied upon in the impugned disciplinary proceedings against the applicant provides that advocates having their freedom of expression guaranteed in the conduct of their professional activities should act with moderation and caution when making their statements towards state authorities so as to protect the dignity of the profession see paragraphs  and  of that code cited in paragraphs  and  above  It remains to be examined whether the interference was necessary in a democratic society This requires the Court to ascertain whether it was proportionate to the legitimate aim pursued and whether the grounds given by the domestic authorities were relevant and sufficient  In the present case the applicant received a disciplinary sanction for filing on behalf of his client a criminal complaint alleging the commission of a criminal offence by a prosecutor without a proper basis in fact moderation proportionality or caution see paragraphs  and  above In this sense the domestic court condemned the applicant for accepting the instructions from his client when the accusations of bribery made against MP were according to the district prosecutor not supported by any evidence or the indication of any factual circumstance see paragraph  above and for formulating his accusations in strong terms see paragraph  above As a result the applicant was fined and temporarily banned from being a professional tutor see paragraph  above  The Court observes that the limits of acceptable criticism may in some circumstances be wider with regard to civil servants exercising their powers than in relation to private individuals see Nikula cited above   In the instant case the criticism took the form of a formal criminal denunciation that prosecutor MP had accepted bribes committing a serious offence in office  The applicant did not engage in any personal attacks against MP or refer to any of his personal qualities contrast mutatis mutandis Mikhaylova v Ukraine no     March  Nor did he make his allegations publicly see mutatis mutandis Zakharov v Russia no     October  Instead the applicant followed a procedure for a notification of a crime see point a of the Council of Europes Criminal Law Convention on Corruption cited in paragraph  above The Court observes that where as in the present case the allegations are contained in a formal notification addressed to the competent superior public official district prosecutor it is only in the most exceptional circumstances that recourse to criminal or disciplinary proceedings against the person filing such a notification can be justified within the meaning of Article  of the Convention see for example Grigoriades v Greece  November    Reports of Judgments and Decisions VII Kazakov v Russia no     December  Zakharov cited above   and Sofranschi v Moldova no     December  In the present case in the eyes of the authorities the applicant infringed the principle of good administration of justice by filing a criminal complaint without a reasonable suspicion see paragraphs  and  above The Court however has not been presented with any evidence which would indicate any malicious intent on the part of the applicant or with any other element that could be considered as exceptional circumstances justifying the recourse to disciplinary proceedings  Furthermore the Court reiterates that it is one of the precepts of the rule of law that the citizens should be able to notify competent State officials about the conduct of civil servants which to them appears irregular or unlawful see Medžlis Islamske Zajednice Brčko and Others v Bosnia and Herzegovina GC no     June  Zakharov cited above   and Lešník cited above   see also Article  of the United Nations Convention Against Corruption cited in paragraph  above  The Court observes that under Polish law everyone who has learnt that a criminal offence prosecuted ex officio has been committed has a civic duty to report such an offence see paragraph  above Moreover advocates are not responsible for the veracity of the facts submitted to them by their clients see paragraph  above It appears that the applicant acted on the instruction or at least with the knowledge and consent of his client even though the latter subsequently denied having any knowledge that would allow him to formulate the accusation in question see paragraph  above  In the present case the disciplinary authorities considered that the applicant had failed to indicate any circumstances to substantiate the accusation he had made In the Courts view however the offence alleged by the applicant on behalf of his client was not completely devoid of any argument supporting his version of events see paragraphs   and  above contrast mutatis mutandis Schmidt cited above   and Peruzzi v Italy no     June  and contrast LP and Carvalho   Čeferin   and Steur   all cited above The Court accepts the applicants argument that it is in the nature of passive bribery allegations that people reporting such acts do not have access to evidence of the offence unless they have tried to offer a bribe or witnessed such an event While the information about the meetings with the CAB was imprecise and turned out to be uncorroborated see paragraph  above the applicant also indicated the employees of a certain company that he had named as the likely persons who had offered the bribe see paragraphs  and  above As to the original criminal investigation concerning the applicants client the Court finds that prima facie doubt indeed existed as to why it had been closed on the grounds that there had been insufficient evidence to justify the suspicion that a crime had been committed if no expert report had been obtained by the prosecutor see paragraph  above Lastly the applicants notification of corruption was considered by the authorities for eight days only before it was decided not to investigate the matter see paragraphs  and  above This leaves a certain room for doubt as to whether the authorities had closely verified the circumstantial evidence provided by the applicant In view of these elements it cannot be said that the applicant failed to substantiate to the extent permitted by the circumstances that the information he disclosed was accurate and reliable contrast mutatis mutandis Gawlik cited above    Furthermore while the Bar Association is an independent professional association of lawyers the Court takes issue with the fact that the disciplinary proceedings against the applicant were triggered upon a notification by a superior prosecutor and his bringing to light of the applicants notification of a crime which was of a nonpublic nature paragraph  above  In assessing the proportionality of the interference the nature and severity of the penalties imposed are also factors to be taken into account see Ceylan v Turkey GC no    ECHR IV In this regard the Court notes that the applicant was fined and that the amount of the fine was not excessive it was not the most lenient but also not the harshest sanction for professional misconduct see paragraph  above On the other hand as the applicant submitted as a result of the disciplinary proceedings his professional reputation had suffered greatly he had lost his commitment to work as a lawyer and his legal practice had been affected financially as funds had been diverted to the disciplinary proceedings Moreover he was for one year barred from being a professional tutor  In light of the above considerations the Court finds that the disciplinary authorities did not give relevant and sufficient reasons for their decision and went beyond their margin of appreciation when finding the applicant at fault and imposing a fine on him for unethical conduct see mutatis mutandis Peruzzi   Schmidt   Kincses   all cited above and Wingerter v Germany dec no   March   That conclusion in and of itself allows the Court to conclude that there has been a violation of Article  of the Convention  In the particular circumstances of the case it is therefore not necessary to examine additionally the fairness of the impugned disciplinary proceedings and the question of procedural guarantees afforded to the applicant compare with Kyprianou v Cyprus GC no    ECHR XIII and Radobuljac cited above  APPLICATION OF ARTICLE  OF THE CONVENTION  Article  of the Convention provides If the Court finds that there has been a violation of the Convention or the Protocols thereto and if the internal law of the High Contracting Party concerned allows only partial reparation to be made the Court shall if necessary afford just satisfaction to the injured party Damage  The applicant claimed  euros EUR in respect of nonpecuniary damage and  Polish zlotys PLN approximately EUR  in respect of pecuniary damage The latter amount corresponds to the fine imposed on the applicant by the disciplinary authorties  The Government submitted that these claims were excessive and not actually incurred by the applicant  The Court awards the applicant EUR  in respect of pecuniary damage It further considers that he must have suffered nonpecuniary damage on account of the violation found Ruling on an equitable basis it awards the applicant EUR  under this head plus any tax that may be chargeable Costs and expenses  The applicant also claimed PLN  in respect of the costs charged by the domestic courts and expenses incurred before the Court Of this sum PLN  approximately EUR  corresponded to the costs charged by the disciplinary authorities and PLN  approximately EUR  for translation of documents for the purpose of the proceedings before this Court The applicant submitted an invoice for the translation in question  The Government submitted that the costs claimed had not actually been incurred  According to the Courts caselaw an applicant is entitled to the reimbursement of costs and expenses only in so far as it has been shown that these were actually and necessarily incurred and are reasonable as to quantum In the present case regard being had to the documents in its possession and the above criteria the Court considers it reasonable to award the sum of EUR  covering costs under all heads plus any tax that may be chargeable to the applicant FOR THESE REASONS THE COURTDeclares unanimously the application admissible Holds by  votes to  that there has been a violation of Article  of the Convention Holds by  votes to a  that the respondent State is to pay the applicant within three months from the date on which the judgment becomes final in accordance with Article    of the Convention the following amounts to be converted into the currency of the respondent State at the rate applicable at the date of settlementi  EUR  five hundred and thirtyfive euros plus any tax that may be chargeable in respect of pecuniary damageii  EUR  nine thousand seven hundred and fifty euros plus any tax that may be chargeable in respect of nonpecuniary damageiii  EUR  five hundred and fifty euros plus any tax that may be chargeable to the applicant in respect of costs and expensesb  that from the expiry of the abovementioned three months until settlement simple interest shall be payable on the above amounts at a rate equal to the marginal lending rate of the European Central Bank during the default period plus three percentage points Dismisses unanimously the remainder of the applicants claim for just satisfaction Done in English and notified in writing on  March  pursuant to Rule    and  of the Rules of Court Renata Degener  Marko Bošnjak Registrar President In accordance with Article    of the Convention and Rule    of the Rules of Court the following separate opinion is annexed to this judgment Joint dissenting opinion of Judge Wojtyczek and Judge PoláčkováMBRD  JOINT DISSENTING OPINION OF JUDGESWOJTYCZEK AND POLÁČKOVÁ   With all due respect to the majority we do not share their view that Article  has been violated in the instant case   In this case the applicant acting as advocate one of the regulated legal professions in Poland for a client lodged a criminal complaint alleging corruption The primary basis for the allegation was the irrationality of measures taken by the prosecuting authorities in a criminal case The public prosecutor and later the relevant disciplinary tribunals concluded that the complaint lacked supporting evidence The public prosecutor refused to open an inquiry a decision which the applicants client appears to have accepted in so far as no appeal was lodged against the refusal The lodging of the unsubstantiated complaint was subsequently held to be a breach of professional ethics As a result the applicant was sanctioned by the Disciplinary Court of the Warsaw Bar Association that is to say by the members of his own profession for professional misconduct We note in this context that the authorities to which the judgment refers and which it holds responsible for a violation of the Convention are professional bodies independent of the State Specifically the violation of the Convention is said to have been committed by the professional bodies of the Polish Bar We also observe that the prosecuting authorities reacted in a very predictable manner to the complaint received given that it was based solely on the subjective belief of the applicants client On top of that the document sent by the applicant increased the prosecuting authorities workload whereas it is difficult to see any real benefit that he obtained for his client by sending it   The applicant complained to the Court of a breach of Article  Of particular note in this regard is that the speech at issue was that of an advocate acting for his client The protection which Article  extends to advocates acting on behalf of their clients exists first and foremost to serve the interests of those clients Advocates freedom of speech is therefore limited in that they are bound by the interests of their clients and by the instructions those clients give An advocate representing a client is speaking on behalf of that client and for the purpose of effectively defending the clients  not his or her own  interests Moreover advocates clients are entitled to legal services of a certain quality and may reasonably expect the statements contained in documents lodged on their behalf to be supported by a modicum of evidence or argument The fact that advocates provide services in the form of speech does not exempt them from scrutiny to ensure their compliance with professional standards The balancing of values under Article  as it applies to advocates speech must take these considerations into account and must be tailored accordingly   The instant case also concerns the right of certain qualified independent service professions known in some jurisdictions as the liberal professions to selfgovernment and selfregulation Such professions are entitled to regulate their members conduct and the quality of the services they provide In particular the liberal professions are in principle entitled to determine what amounts to proper professional conduct and what does not They have the task of ensuring the adequate quality of the services provided Even if the right of such professions to selfgovernment is not itself protected by the Convention the various public values underlying it have to be taken into account in the assessment of the Convention compatibility of measures interfering with Convention rights This case reveals the diversity of traditions and approaches which subsists in the domain of professional selfregulation The majoritys conclusion implies that an advocate who reports a criminal offence without adducing a modicum of evidence to substantiate his allegations is acting within the rules so to speak of the legal game The bodies of the Polish Bar conversely regarded such behaviour as foul play and hence as a breach of professional ethics In our view this diversity of traditions and approaches in Europe is a source of enrichment and should be taken into account in the application of the Convention   Any criminal complaint must be based on a modicum of evidence that the offence reported was actually committed In the case of Wojczuk v Poland no   December  the Court expressed the following view to which we fully subscribe  The Court does not lose from sight the fact that calumnious denunciations to the competent authorities may result in investigating measures and may have very serious detrimental effects for the persons concerned causing unnecessary stress and anxiety Moreover calumnious denunciations mean that the competent investigating or audit authorities can use more limited resources for the purposes of investigating or auditing other irregularities in the functioning of public authorities Similarly criminal complaints which are not sufficiently substantiated may have detrimental effects for the persons concerned and may put needless strain on the already limited resources available to prosecuting authorities The majority express the following views at paragraphs  and  The Court observes that where as in the present case the allegations are contained in a formal notification addressed to the competent superior public official district prosecutor it is only in the most exceptional circumstances that recourse to criminal or disciplinary proceedings against the person filing such a notification can be justified within the meaning of Article  of the Convention see for example Grigoriades v Greece  November    Reports of Judgments and Decisions VII Kazakov v Russia no     December  Zakharov cited above   and Sofranschi v Moldova no     December   it cannot be said that the applicant failed to substantiate to the extent permitted by the circumstances that the information he disclosed was accurate and reliable contrast mutatis mutandis Gawlik cited above  We observe in this regard that the phrase the most exceptional circumstances does not appear in any of the previous judgments referred to by the majority To put a finer point on it the existing caselaw neither applies nor implies a the most exceptional circumstances test This is a new standard created ad hoc and unsupported by the existing caselaw The approach adopted departs from existing caselaw and considerably lowers the evidential threshold to be met by a professional legal representative seeking to report a criminal offence on behalf of his or her client Such an approach may contribute to the development of a culture of suspicion and distrust typical of undemocratic regimes Moreover in asking whether the applicant failed to substantiate to the extent permitted by the circumstances that the information he disclosed was accurate and reliable the majority devise a disclosurebased test which does not seem germane to the reporting of a criminal offence  a completely different situation The applicant did not disclose any information   The majority rightly observe at paragraph  that under Polish law everyone who has learnt that a criminal offence prosecuted ex officio has been committed has a civic duty to report such an offence We would like to stress that under the letter of Article  paragraph  of the Code of Criminal Procedure this civic duty arises in a situation where a person knows that a criminal offence has been committed not in a situation where a person only vaguely suspects that a criminal offence may have been committed A degree of subjective knowledge of facts and circumstances which make out a criminal offence is in our opinion a precondition The applicant in the present case did not learn or know that an offence had been committed   Our conclusion for the reasons explained above is that the legal professional bodies in Poland did not overstep the margin of appreciation afforded to them under Article  in the instant case\\n'"
      ]
     },
     "execution_count": 11,
     "metadata": {},
     "output_type": "execute_result"
    }
   ],
   "source": [
    "trial_file"
   ]
  },
  {
   "cell_type": "code",
   "execution_count": 12,
   "id": "a1cff062",
   "metadata": {},
   "outputs": [
    {
     "data": {
      "text/plain": [
       "'The applicant was born in and lives in Warsaw He was represented by Ms M Gniady a lawyer practising in Warsaw The Polish Government the Government were represented by their Agent Mr J Sobczak of the Ministry of Foreign Affairs The facts of the case may be summarised as follows On January the applicant who is a lawyer lodged on behalf of his client company a formal notification of a crime that contained the following statement the data exists to sufficiently justify a suspicion that prosecutor M P full name of the prosecutor and his service had committed an offence of bribe taking by means of accepting a bribe from unknown persons who were probably employees of a company mentioned by name that is to say an offence under Article of the Criminal Code In the document the applicant explained that the offence in question had been committed in connection with an investigation into allegations of forging contracts to the detriment of his client which was ongoing at that time In particular the applicant alleged that the requests for evidence which he had filed in the course of the abovementioned investigation had not been examined promptly that other shortcomings had occurred and overall that the investigation in question had prematurely and unjustifiably been discontinued on the grounds that there was insufficient evidence to justify the suspicion that a crime had been committed while no expert reports had been obtained by the prosecutor The applicant was of the view that the only explanation for such an irrational decision to discontinue the investigation was that MP who was the prosecutor in charge of the investigation in question had been bribed The notification did not contain any details regarding the persons who had allegedly offered the bribe to the prosecutor other than the name of the company where they were supposedly employed On January the Warsaw Centre District Prosecutor refused to open an inquiry into the above allegations In the reasoning of the decision the prosecutor stated that the applicant had not adduced a single piece of evidence nor indicated any factual circumstance substantiating the allegations of bribery No interlocutory appeal was lodged against that decision On May the Warsaw Regional Prosecutor notified the Dean of the Warsaw Regional Bar Council Okręgowa Rada Adwokacka of the applicants criminal complaint for the purpose of establishing whether or not the applicant being a lawyer had infringed the rules of professional ethics On November the disciplinary officer rzecznik dyscyplinarny of the Warsaw Bar Association charged the applicant with a failure to act with moderation umiar when making in his professional capacity a criminal complaint without reasonable suspicions nie mając ku temu uzasadnionych podejrzeń On November the applicant was heard by the disciplinary officer The applicant reiterated information from his criminal complaint and further explained that prosecutor MP had closed the investigation regarding forged documents without obtaining any report from a forensic document examiner The representative of the applicants client had asked that a criminal complaint be lodged as he was convinced that prosecutor MP had been bribed During the hearing the applicant did not provide any other information in respect of the circumstances in which the bribe had been offered or taken He submitted that to discuss the corruption suspicion he had accompanied his client during a couple of meetings with the unspecified officers of the Central Anticorruption Bureau Centralne Biuro Antykorupcyjne CAB The applicant did not indicate any specific or approximate dates of those meetings The first meeting had in his submission taken place during the term of office of the named former chief of the bureau The other one was to have taken place under the new chief The applicant submitted that the CBAs agents had expressed interest in the information that MP had taken bribes On November the Disciplinary Court of the Warsaw Bar Association Sąd Dyscyplinarny Izby Adwokackiej the Disciplinary Court after hearing the applicant and his client and referring to the abovementioned complaint found the applicant guilty of making in his professional capacity a criminal complaint without any evidence whatsoever or any objectively verifiable circumstances that could justify the suspicion formulated by the applicant That action was in breach section of the Bar Act in conjunction with paragraphs and of the Lawyers Code of Professional Ethics see paragraphs below In particular the Disciplinary Court analysed the language the content and context of the criminal complaint It referred to the submissions of the applicants client made first during the criminal investigation into the alleged bribetaking and then directly before the Disciplinary Court That witness had denied that he had seen or heard of MP taking a bribe or that he had discussed any such incident when he had met with the CAB The witness also said that he did not go as far as to suspect that any money from the fund created by their adversary in the trial was given to the prosecutors or that he would never in his life say that MP had taken any money The witness could not remember if he had specifically instructed the applicant to file the criminal complaint in question but he confirmed that the lawyer had surely not acted against his will The Disciplinary Court also referred to the submissions made by the applicant in so far as he could not indicate the exact dates of his meetings with the CAB other than placing them in and or provide the names of the CABs agents The Disciplinary Court analysed the sequence of the relevant events such as the term of office of the CABs chief the period when the investigation regarding forged documents was ongoing and the date when MP had approved its discontinuation Based on all the abovementioned material the Disciplinary Court concluded that the applicants version of events had not been corroborated The Disciplinary Court further observed that a lawyers freedom of expression was distinct from the constitutional understanding of that right in that it was restricted to protect third parties from unjustified excessive and unnecessary attacks on their own rights The applicant had been undoubtedly responsible for filing the complaint in question and thus had been under a professional duty to act with moderation umiar proportionality współmierność and caution oględność within the meaning of paragraph of the Lawyers Code of Professional Ethics see paragraph below Accordingly lawyers had to avoid making unsubstantiated complaints they had to indicate sources of information relied on and use the conditional tense in formulating their allegations The court considered that the language used by the applicant in his complaint had clearly been contrary to those principles and derogatory to the dignity of MP and the prosecutors office as a whole The court fined the applicant in the amount equivalent to twenty basic professional contributions to the bar association In the applicants calculation that was not contested by the Government the fine in question corresponds to Polish zlotys PLN approximately euros EUR The court also banned the applicant from being a professional tutor for one year On September the High Disciplinary Court of the Bar Wyższy Sąd Dyscyplinarny Adwokatury the High Disciplinary Court upheld that decision It essentially stressed that a lawyer irrespective of his or her clients expectations should diligently abide by professional ethics in pursuit of a greater general interest On July the Criminal Chamber of the Supreme Court Sąd Najwyższy dismissed a cassation appeal lodged by the applicant as manifestly illfounded On October the applicant was charged PLN approximately EUR for the costs of the abovementioned disciplinary proceedings RELEVANT LEGAL FRAMEWORKDOMESTIC LAWProfessional responsibility of practising lawyers Under the Polish law pursuant to Section of the Bar Act of May Prawo o adwokaturze a lawyer while practising his or her professions enjoys freedom of expression within the limits specified by the tasks of the bar and the provisions of law In particular any abuse of this freedom constituting an insult or defamation of a party the partys attorney or defence lawyer or other participants in the proceedings will lead to disciplinary action The professional responsibility of practising lawyers is set out in section of the Bar Act which provides that lawyers are subject to disciplinary action for inter alia conduct in breach of the law professional ethics or dignity of the profession Section lists the disciplinary sanctions which may be imposed as a result of such proceedings They include a warning reprimand fine suspension of professional activities for three months to five years or disbarment A reprimand and fine may be accompanied by a ban on acting as a professional tutor for one to five years The conduct of lawyers is further regulated by the Advocates Code of Professional Ethics Zbiór Zasad Etyki Adwokackiej i Godności Zawodu Kodeks Etyki Adwokackiej which was adopted on October by the Supreme Bar Council Naczelna Rada Adwokacka and entered into force on December This code of ethics places advocates under a duty to among others protect the dignity of the profession paragraph A breach of the dignity of the legal profession is defined as conduct which could inter alia undermine confidence in the profession paragraph Paragraph provides that advocates are responsible for the form and content of the pleadings drafted by them Paragraphs and read insofar as relevant as follows An advocate is not responsible for the veracity of the facts provided to him by his or her client he or she should however act with moderation in describing circumstances that are drastic or little probable An advocate having his or her freedom of expression guaranteed in the conduct of his or her professional activities should act with moderation and caution when making statements towards a court and state authorities so as not to infringe the dignity of the profession Reporting and investigation of criminal offences Pursuant to Article of the Code of Criminal Procedure Kodeks postępowania karnego everyone who has learnt that a criminal offence prosecuted ex officio has been committed has a civic duty obowiązek społeczny to report such an offence to the prosecutor or to the police Pursuant to Article of the Code an investigation shall be instituted either ex officio or upon a notification of a crime if there is a reasonable suspicion uzasadnione podejrzenie that a criminal offence has been committed INTERNATIONAL MATERIALThe United Nations Convention Against Corruption The United Nations Convention Against Corruption was adopted by the General Assembly by resolution no of October and has been in force since December It was ratified by Poland on September Its provisions regulate among other things the participation of society in the prevention of and the fight against corruption as well as the protection of reporting persons The relevant provisions read as follows Article Participation of society Each State Party shall take appropriate measures within its means and in accordance with fundamental principles of its domestic law to promote the active participation of individuals and groups outside the public sector such as civil society nongovernmental organizations and communitybased organizations in the prevention of and the fight against corruption and to raise public awareness regarding the existence causes and gravity of and the threat posed by corruption This participation should be strengthened by such measures asa Enhancing the transparency of and promoting the contribution of the public to decisionmaking processesb Ensuring that the public has effective access to informationc Undertaking public information activities that contribute to nontolerance of corruption as well as public education programmes including school and university curriculad Respecting promoting and protecting the freedom to seek receive publish and disseminate information concerning corruption That freedom may be subject to certain restrictions but these shall only be such as are provided for by law and are necessaryi For respect of the rights or reputations of others Article Protection of reporting persons Each State Party shall consider incorporating into its domestic legal system appropriate measures to provide protection against any unjustified treatment for any person who reports in good faith and on reasonable grounds to the competent authorities any facts concerning offences established in accordance with this Convention The Council of Europes Criminal Law Convention on Corruption The Council of Europes Criminal Law Convention on Corruption ETS No of January was ratified by Poland in and it entered into force in respect of this country on April Its Article concerning the protection of collaborators of justice and witnesses reads as follows Each Party shall adopt such measures as may be necessary to provide effective and appropriate protection fora those who report the criminal offences established in accordance with Articles to or otherwise cooperate with the investigating or prosecuting authoritiesb witnesses who give testimony concerning these offences The Council of Europes Civil Law Convention on Corruption The Council of Europes Civil Law Convention on Corruption ETS No of November was ratified by Poland in and it entered into force in respect of this country on November Article of this Convention concerns the protection of employees and reads as follows Each Party shall provide in its internal law for appropriate protection against any unjustified sanction for employees who have reasonable grounds to suspect corruption and who report in good faith their suspicion to responsible persons or authorities THE'"
      ]
     },
     "execution_count": 12,
     "metadata": {},
     "output_type": "execute_result"
    }
   ],
   "source": [
    "cut = trial_file.split()\n",
    "start_index = cut.index('FACTS') + 1\n",
    "end_index = cut.index('LAWALLEGED')\n",
    "the_facts = ' '.join(cut[start_index:end_index])\n",
    "the_facts"
   ]
  },
  {
   "cell_type": "code",
   "execution_count": 13,
   "id": "23e79d92",
   "metadata": {},
   "outputs": [],
   "source": [
    "# List of legal stopwords found using chatgpt\n",
    "legal_sw = ['adjourned', \n",
    "'affidavit', \n",
    "'allegation', \n",
    "'appeal', \n",
    "'appellant', \n",
    "'application',\n",
    "'applicant',\n",
    "'arbitration', \n",
    "'case', \n",
    "'cause', \n",
    "'claim', \n",
    "'clerk', \n",
    "'complaint', \n",
    "'consent', \n",
    "'contempt',\n",
    "'contravention',\n",
    "'conviction',\n",
    "'costs', \n",
    "'court', \n",
    "'cross-examination',\n",
    "'defence',\n",
    "'defendant', \n",
    "'deposition', \n",
    "'discovery', \n",
    "'dispute', \n",
    "'evidence', \n",
    "'examination', \n",
    "'fact', \n",
    "'hearing', \n",
    "'judge', \n",
    "'judgment', \n",
    "'jurisdiction', \n",
    "'justice', \n",
    "'law', \n",
    "'lawsuit', \n",
    "'legal', \n",
    "'litigant', \n",
    "'litigation', \n",
    "'moot', \n",
    "'motion', \n",
    "'objection', \n",
    "'order', \n",
    "'parties', \n",
    "'pleading', \n",
    "'proceedings', \n",
    "'ruling', \n",
    "'sentence', \n",
    "'settlement', \n",
    "'solicitor', \n",
    "'statute']"
   ]
  },
  {
   "cell_type": "code",
   "execution_count": 14,
   "id": "99037879",
   "metadata": {},
   "outputs": [],
   "source": [
    "def preprocess_text(text):\n",
    "    # Tokenize the text\n",
    "    tokens = word_tokenize(text.lower())\n",
    "    # Remove stop words\n",
    "    all_stopwords = set(stopwords.words('english') + legal_sw)\n",
    "    filtered_tokens = [token for token in tokens if token not in all_stopwords]\n",
    "    # Lemmatize the tokens\n",
    "    lemmatizer = WordNetLemmatizer()\n",
    "    lemmatized_tokens = [lemmatizer.lemmatize(token) for token in filtered_tokens]\n",
    "    # Join the tokens back into a string\n",
    "    processed_text = ' '.join(lemmatized_tokens)\n",
    "    return processed_text"
   ]
  },
  {
   "cell_type": "code",
   "execution_count": 15,
   "id": "5b89d28b",
   "metadata": {},
   "outputs": [],
   "source": [
    "processed_facts = preprocess_text(the_facts)"
   ]
  },
  {
   "cell_type": "code",
   "execution_count": 16,
   "id": "e0f8889f",
   "metadata": {},
   "outputs": [
    {
     "data": {
      "text/plain": [
       "'born life warsaw represented m gniady lawyer practising warsaw polish government government represented agent mr j sobczak ministry foreign affair fact may summarised follows january lawyer lodged behalf client company formal notification crime contained following statement data exists sufficiently justify suspicion prosecutor p full name prosecutor service committed offence bribe taking mean accepting bribe unknown person probably employee company mentioned name say offence article criminal code document explained offence question committed connection investigation allegation forging contract detriment client ongoing time particular alleged request filed course abovementioned investigation examined promptly shortcoming occurred overall investigation question prematurely unjustifiably discontinued ground insufficient justify suspicion crime committed expert report obtained prosecutor view explanation irrational decision discontinue investigation mp prosecutor charge investigation question bribed notification contain detail regarding person allegedly offered bribe prosecutor name company supposedly employed january warsaw centre district prosecutor refused open inquiry allegation reasoning decision prosecutor stated adduced single piece indicated factual circumstance substantiating allegation bribery interlocutory lodged decision may warsaw regional prosecutor notified dean warsaw regional bar council okręgowa rada adwokacka applicant criminal purpose establishing whether lawyer infringed rule professional ethic november disciplinary officer rzecznik dyscyplinarny warsaw bar association charged failure act moderation umiar making professional capacity criminal without reasonable suspicion nie mając ku temu uzasadnionych podejrzeń november heard disciplinary officer reiterated information criminal explained prosecutor mp closed investigation regarding forged document without obtaining report forensic document examiner representative applicant client asked criminal lodged convinced prosecutor mp bribed provide information respect circumstance bribe offered taken submitted discus corruption suspicion accompanied client couple meeting unspecified officer central anticorruption bureau centralne biuro antykorupcyjne cab indicate specific approximate date meeting first meeting submission taken place term office named former chief bureau one taken place new chief submitted cbas agent expressed interest information mp taken bribe november disciplinary warsaw bar association sąd dyscyplinarny izby adwokackiej disciplinary client referring abovementioned found guilty making professional capacity criminal without whatsoever objectively verifiable circumstance could justify suspicion formulated action breach section bar act conjunction paragraph lawyer code professional ethic see paragraph particular disciplinary analysed language content context criminal referred submission applicant client made first criminal investigation alleged bribetaking directly disciplinary witness denied seen heard mp taking bribe discussed incident met cab witness also said go far suspect money fund created adversary trial given prosecutor would never life say mp taken money witness could remember specifically instructed file criminal question confirmed lawyer surely acted disciplinary also referred submission made far could indicate exact date meeting cab placing provide name cab agent disciplinary analysed sequence relevant event term office cab chief period investigation regarding forged document ongoing date mp approved discontinuation based abovementioned material disciplinary concluded applicant version event corroborated disciplinary observed lawyer freedom expression distinct constitutional understanding right restricted protect third unjustified excessive unnecessary attack right undoubtedly responsible filing question thus professional duty act moderation umiar proportionality współmierność caution oględność within meaning paragraph lawyer code professional ethic see paragraph accordingly lawyer avoid making unsubstantiated complaint indicate source information relied use conditional tense formulating allegation considered language used clearly contrary principle derogatory dignity mp prosecutor office whole fined amount equivalent twenty basic professional contribution bar association applicant calculation contested government fine question corresponds polish zloty pln approximately euro eur also banned professional tutor one year september high disciplinary bar wyższy sąd dyscyplinarny adwokatury high disciplinary upheld decision essentially stressed lawyer irrespective client expectation diligently abide professional ethic pursuit greater general interest july criminal chamber supreme sąd najwyższy dismissed cassation lodged manifestly illfounded october charged pln approximately eur abovementioned disciplinary relevant frameworkdomestic lawprofessional responsibility practising lawyer polish pursuant section bar act may prawo adwokaturze lawyer practising profession enjoys freedom expression within limit specified task bar provision particular abuse freedom constituting insult defamation party party attorney lawyer participant lead disciplinary action professional responsibility practising lawyer set section bar act provides lawyer subject disciplinary action inter alia conduct breach professional ethic dignity profession section list disciplinary sanction may imposed result include warning reprimand fine suspension professional activity three month five year disbarment reprimand fine may accompanied ban acting professional tutor one five year conduct lawyer regulated advocate code professional ethic zbiór zasad etyki adwokackiej godności zawodu kodeks etyki adwokackiej adopted october supreme bar council naczelna rada adwokacka entered force december code ethic place advocate duty among others protect dignity profession paragraph breach dignity profession defined conduct could inter alia undermine confidence profession paragraph paragraph provides advocate responsible form content pleading drafted paragraph read insofar relevant follows advocate responsible veracity fact provided client however act moderation describing circumstance drastic little probable advocate freedom expression guaranteed conduct professional activity act moderation caution making statement towards state authority infringe dignity profession reporting investigation criminal offence pursuant article code criminal procedure kodeks postępowania karnego everyone learnt criminal offence prosecuted ex officio committed civic duty obowiązek społeczny report offence prosecutor police pursuant article code investigation shall instituted either ex officio upon notification crime reasonable suspicion uzasadnione podejrzenie criminal offence committed international materialthe united nation convention corruption united nation convention corruption adopted general assembly resolution october force since december ratified poland september provision regulate among thing participation society prevention fight corruption well protection reporting person relevant provision read follows article participation society state party shall take appropriate measure within mean accordance fundamental principle domestic promote active participation individual group outside public sector civil society nongovernmental organization communitybased organization prevention fight corruption raise public awareness regarding existence cause gravity threat posed corruption participation strengthened measure asa enhancing transparency promoting contribution public decisionmaking processesb ensuring public effective access informationc undertaking public information activity contribute nontolerance corruption well public education programme including school university curriculad respecting promoting protecting freedom seek receive publish disseminate information concerning corruption freedom may subject certain restriction shall provided necessaryi respect right reputation others article protection reporting person state party shall consider incorporating domestic system appropriate measure provide protection unjustified treatment person report good faith reasonable ground competent authority fact concerning offence established accordance convention council europe criminal convention corruption council europe criminal convention corruption ets january ratified poland entered force respect country april article concerning protection collaborator witness read follows party shall adopt measure may necessary provide effective appropriate protection forum report criminal offence established accordance article otherwise cooperate investigating prosecuting authoritiesb witness give testimony concerning offence council europe civil convention corruption council europe civil convention corruption ets november ratified poland entered force respect country november article convention concern protection employee read follows party shall provide internal appropriate protection unjustified sanction employee reasonable ground suspect corruption report good faith suspicion responsible person authority'"
      ]
     },
     "execution_count": 16,
     "metadata": {},
     "output_type": "execute_result"
    }
   ],
   "source": [
    "processed_facts"
   ]
  },
  {
   "cell_type": "code",
   "execution_count": 19,
   "id": "0e2c8b13",
   "metadata": {},
   "outputs": [],
   "source": [
    "from transformers import AutoTokenizer, TFAutoModelForTokenClassification\n",
    "from transformers import pipeline"
   ]
  },
  {
   "cell_type": "code",
   "execution_count": 21,
   "id": "f839f3a8",
   "metadata": {},
   "outputs": [
    {
     "data": {
      "application/vnd.jupyter.widget-view+json": {
       "model_id": "0fa7323ce90f44b19d3a37f064339715",
       "version_major": 2,
       "version_minor": 0
      },
      "text/plain": [
       "Downloading tf_model.h5:   0%|          | 0.00/539M [00:00<?, ?B/s]"
      ]
     },
     "metadata": {},
     "output_type": "display_data"
    },
    {
     "name": "stderr",
     "output_type": "stream",
     "text": [
      "All model checkpoint layers were used when initializing TFDistilBertForTokenClassification.\n",
      "\n",
      "All the layers of TFDistilBertForTokenClassification were initialized from the model checkpoint at Davlan/distilbert-base-multilingual-cased-ner-hrl.\n",
      "If your task is similar to the task the model of the checkpoint was trained on, you can already use TFDistilBertForTokenClassification for predictions without further training.\n"
     ]
    }
   ],
   "source": [
    "tokenizer = AutoTokenizer.from_pretrained(\"Davlan/distilbert-base-multilingual-cased-ner-hrl\")\n",
    "model = TFAutoModelForTokenClassification.from_pretrained(\"Davlan/distilbert-base-multilingual-cased-ner-hrl\")"
   ]
  },
  {
   "cell_type": "code",
   "execution_count": 23,
   "id": "0d07a23a",
   "metadata": {},
   "outputs": [
    {
     "name": "stdout",
     "output_type": "stream",
     "text": [
      "[{'entity': 'B-LOC', 'score': 0.99931586, 'index': 11, 'word': 'Warsaw', 'start': 39, 'end': 45}]\n"
     ]
    }
   ],
   "source": [
    "nlp = pipeline(\"ner\", model=model, tokenizer=tokenizer)\n",
    "example = \"The applicant was born in and lives in Warsaw\"\n",
    "ner_results = nlp(example)\n",
    "print(ner_results)"
   ]
  },
  {
   "cell_type": "markdown",
   "id": "5956cb28",
   "metadata": {},
   "source": [
    "## TF-IDF - Term Frequency"
   ]
  },
  {
   "cell_type": "markdown",
   "id": "9257323c",
   "metadata": {},
   "source": [
    "TF - Term Frequency : tf(t,d) = count of t in d / number of words in d. \n",
    "- t: word\n",
    "- d: document\n",
    "- N: number of documents"
   ]
  },
  {
   "cell_type": "code",
   "execution_count": 105,
   "id": "42eb9842",
   "metadata": {},
   "outputs": [
    {
     "data": {
      "text/html": [
       "<div>\n",
       "<style scoped>\n",
       "    .dataframe tbody tr th:only-of-type {\n",
       "        vertical-align: middle;\n",
       "    }\n",
       "\n",
       "    .dataframe tbody tr th {\n",
       "        vertical-align: top;\n",
       "    }\n",
       "\n",
       "    .dataframe thead th {\n",
       "        text-align: right;\n",
       "    }\n",
       "</style>\n",
       "<table border=\"1\" class=\"dataframe\">\n",
       "  <thead>\n",
       "    <tr style=\"text-align: right;\">\n",
       "      <th></th>\n",
       "      <th>Words</th>\n",
       "      <th>Count</th>\n",
       "      <th>T_Freq</th>\n",
       "    </tr>\n",
       "  </thead>\n",
       "  <tbody>\n",
       "    <tr>\n",
       "      <th>0</th>\n",
       "      <td>born</td>\n",
       "      <td>1</td>\n",
       "      <td>0.000930</td>\n",
       "    </tr>\n",
       "    <tr>\n",
       "      <th>1</th>\n",
       "      <td>life</td>\n",
       "      <td>2</td>\n",
       "      <td>0.001860</td>\n",
       "    </tr>\n",
       "    <tr>\n",
       "      <th>2</th>\n",
       "      <td>warsaw</td>\n",
       "      <td>7</td>\n",
       "      <td>0.006512</td>\n",
       "    </tr>\n",
       "    <tr>\n",
       "      <th>3</th>\n",
       "      <td>represented</td>\n",
       "      <td>2</td>\n",
       "      <td>0.001860</td>\n",
       "    </tr>\n",
       "    <tr>\n",
       "      <th>4</th>\n",
       "      <td>m</td>\n",
       "      <td>1</td>\n",
       "      <td>0.000930</td>\n",
       "    </tr>\n",
       "  </tbody>\n",
       "</table>\n",
       "</div>"
      ],
      "text/plain": [
       "         Words  Count    T_Freq\n",
       "0         born      1  0.000930\n",
       "1         life      2  0.001860\n",
       "2       warsaw      7  0.006512\n",
       "3  represented      2  0.001860\n",
       "4            m      1  0.000930"
      ]
     },
     "execution_count": 105,
     "metadata": {},
     "output_type": "execute_result"
    }
   ],
   "source": [
    "# For every word in the text\n",
    "# if word has not been seen, but in list\n",
    "\n",
    "unique_words = []\n",
    "count_list = []\n",
    "frequency_list = []\n",
    "# Document frequency?\n",
    "freq_df = pd.DataFrame(columns = ['Words', 'Count', 'T_Freq'])\n",
    "\n",
    "list_words = processed_facts.split()\n",
    "tot_words = len(list_words) # 1075\n",
    "\n",
    "# CHECK UNIQUE WORDS IN THE DOC\n",
    "for word in list_words:\n",
    "    if word not in unique_words:\n",
    "        unique_words.append(word)\n",
    "\n",
    "# NUMBER OF OCCURENCES OF SPECIFIC WORD IN DOC\n",
    "for unique in unique_words:\n",
    "    count = 0\n",
    "    for word in list_words:\n",
    "        if unique == word:\n",
    "            count = count+1\n",
    "    count_list.append(count)\n",
    "\n",
    "freq_df['Words'] = unique_words # 541\n",
    "freq_df['Count'] = count_list\n",
    "\n",
    "# CALCULATE FREQUENCY\n",
    "freq_df['T_Freq'] = freq_df['Count']/tot_words\n",
    "freq_df.head()"
   ]
  },
  {
   "cell_type": "code",
   "execution_count": 106,
   "id": "8aaab034",
   "metadata": {},
   "outputs": [
    {
     "data": {
      "text/plain": [
       "1075"
      ]
     },
     "execution_count": 106,
     "metadata": {},
     "output_type": "execute_result"
    }
   ],
   "source": [
    "tot_words"
   ]
  },
  {
   "cell_type": "code",
   "execution_count": 107,
   "id": "34d80c4e",
   "metadata": {},
   "outputs": [
    {
     "data": {
      "text/plain": [
       "541"
      ]
     },
     "execution_count": 107,
     "metadata": {},
     "output_type": "execute_result"
    }
   ],
   "source": [
    "len(unique_words)"
   ]
  },
  {
   "cell_type": "code",
   "execution_count": 108,
   "id": "1b04f45a",
   "metadata": {},
   "outputs": [
    {
     "data": {
      "text/plain": [
       "1075"
      ]
     },
     "execution_count": 108,
     "metadata": {},
     "output_type": "execute_result"
    }
   ],
   "source": [
    "freq_df['Count'].sum()"
   ]
  },
  {
   "cell_type": "markdown",
   "id": "90cf0d5a",
   "metadata": {},
   "source": [
    "### Now I could do:\n",
    "- Compare for each document the df with all other documents\n",
    "- or have some more text preprocessing. Like remove applicant or cities etc. and do one huge list of unique words from all documents and calculate frequencies"
   ]
  },
  {
   "cell_type": "code",
   "execution_count": 109,
   "id": "2e781c47",
   "metadata": {},
   "outputs": [
    {
     "data": {
      "text/html": [
       "<div>\n",
       "<style scoped>\n",
       "    .dataframe tbody tr th:only-of-type {\n",
       "        vertical-align: middle;\n",
       "    }\n",
       "\n",
       "    .dataframe tbody tr th {\n",
       "        vertical-align: top;\n",
       "    }\n",
       "\n",
       "    .dataframe thead th {\n",
       "        text-align: right;\n",
       "    }\n",
       "</style>\n",
       "<table border=\"1\" class=\"dataframe\">\n",
       "  <thead>\n",
       "    <tr style=\"text-align: right;\">\n",
       "      <th></th>\n",
       "      <th>Words</th>\n",
       "      <th>Count</th>\n",
       "      <th>T_Freq</th>\n",
       "    </tr>\n",
       "  </thead>\n",
       "  <tbody>\n",
       "    <tr>\n",
       "      <th>55</th>\n",
       "      <td>criminal</td>\n",
       "      <td>17</td>\n",
       "      <td>0.015814</td>\n",
       "    </tr>\n",
       "    <tr>\n",
       "      <th>135</th>\n",
       "      <td>disciplinary</td>\n",
       "      <td>16</td>\n",
       "      <td>0.014884</td>\n",
       "    </tr>\n",
       "    <tr>\n",
       "      <th>132</th>\n",
       "      <td>professional</td>\n",
       "      <td>15</td>\n",
       "      <td>0.013953</td>\n",
       "    </tr>\n",
       "    <tr>\n",
       "      <th>6</th>\n",
       "      <td>lawyer</td>\n",
       "      <td>15</td>\n",
       "      <td>0.013953</td>\n",
       "    </tr>\n",
       "    <tr>\n",
       "      <th>37</th>\n",
       "      <td>prosecutor</td>\n",
       "      <td>13</td>\n",
       "      <td>0.012093</td>\n",
       "    </tr>\n",
       "    <tr>\n",
       "      <th>...</th>\n",
       "      <td>...</td>\n",
       "      <td>...</td>\n",
       "      <td>...</td>\n",
       "    </tr>\n",
       "    <tr>\n",
       "      <th>244</th>\n",
       "      <td>remember</td>\n",
       "      <td>1</td>\n",
       "      <td>0.000930</td>\n",
       "    </tr>\n",
       "    <tr>\n",
       "      <th>243</th>\n",
       "      <td>never</td>\n",
       "      <td>1</td>\n",
       "      <td>0.000930</td>\n",
       "    </tr>\n",
       "    <tr>\n",
       "      <th>242</th>\n",
       "      <td>would</td>\n",
       "      <td>1</td>\n",
       "      <td>0.000930</td>\n",
       "    </tr>\n",
       "    <tr>\n",
       "      <th>241</th>\n",
       "      <td>given</td>\n",
       "      <td>1</td>\n",
       "      <td>0.000930</td>\n",
       "    </tr>\n",
       "    <tr>\n",
       "      <th>540</th>\n",
       "      <td>internal</td>\n",
       "      <td>1</td>\n",
       "      <td>0.000930</td>\n",
       "    </tr>\n",
       "  </tbody>\n",
       "</table>\n",
       "<p>541 rows × 3 columns</p>\n",
       "</div>"
      ],
      "text/plain": [
       "            Words  Count    T_Freq\n",
       "55       criminal     17  0.015814\n",
       "135  disciplinary     16  0.014884\n",
       "132  professional     15  0.013953\n",
       "6          lawyer     15  0.013953\n",
       "37     prosecutor     13  0.012093\n",
       "..            ...    ...       ...\n",
       "244      remember      1  0.000930\n",
       "243         never      1  0.000930\n",
       "242         would      1  0.000930\n",
       "241         given      1  0.000930\n",
       "540      internal      1  0.000930\n",
       "\n",
       "[541 rows x 3 columns]"
      ]
     },
     "execution_count": 109,
     "metadata": {},
     "output_type": "execute_result"
    }
   ],
   "source": [
    "# Finding most frequent words\n",
    "freq_df.sort_values('T_Freq', ascending=False)"
   ]
  },
  {
   "cell_type": "markdown",
   "id": "cc6e3004",
   "metadata": {},
   "source": [
    "# No Violation of Article 10 Feature Extraction"
   ]
  },
  {
   "cell_type": "code",
   "execution_count": 8,
   "id": "522b7894",
   "metadata": {},
   "outputs": [
    {
     "data": {
      "text/html": [
       "<div>\n",
       "<style scoped>\n",
       "    .dataframe tbody tr th:only-of-type {\n",
       "        vertical-align: middle;\n",
       "    }\n",
       "\n",
       "    .dataframe tbody tr th {\n",
       "        vertical-align: top;\n",
       "    }\n",
       "\n",
       "    .dataframe thead th {\n",
       "        text-align: right;\n",
       "    }\n",
       "</style>\n",
       "<table border=\"1\" class=\"dataframe\">\n",
       "  <thead>\n",
       "    <tr style=\"text-align: right;\">\n",
       "      <th></th>\n",
       "      <th>Case</th>\n",
       "      <th>Violation</th>\n",
       "    </tr>\n",
       "  </thead>\n",
       "  <tbody>\n",
       "    <tr>\n",
       "      <th>3</th>\n",
       "      <td>001-210075</td>\n",
       "      <td>0</td>\n",
       "    </tr>\n",
       "    <tr>\n",
       "      <th>9</th>\n",
       "      <td>001-186118</td>\n",
       "      <td>0</td>\n",
       "    </tr>\n",
       "    <tr>\n",
       "      <th>10</th>\n",
       "      <td>001-126635</td>\n",
       "      <td>0</td>\n",
       "    </tr>\n",
       "    <tr>\n",
       "      <th>11</th>\n",
       "      <td>001-219482</td>\n",
       "      <td>0</td>\n",
       "    </tr>\n",
       "    <tr>\n",
       "      <th>13</th>\n",
       "      <td>001-158467</td>\n",
       "      <td>0</td>\n",
       "    </tr>\n",
       "  </tbody>\n",
       "</table>\n",
       "</div>"
      ],
      "text/plain": [
       "          Case  Violation\n",
       "3   001-210075          0\n",
       "9   001-186118          0\n",
       "10  001-126635          0\n",
       "11  001-219482          0\n",
       "13  001-158467          0"
      ]
     },
     "execution_count": 8,
     "metadata": {},
     "output_type": "execute_result"
    }
   ],
   "source": [
    "no_violation = data.drop(data[data['Violation'] == 1].index)\n",
    "no_violation.head()"
   ]
  },
  {
   "cell_type": "code",
   "execution_count": 11,
   "id": "d1a2ef8e",
   "metadata": {},
   "outputs": [],
   "source": [
    "no_violation = no_violation.reset_index()"
   ]
  }
 ],
 "metadata": {
  "kernelspec": {
   "display_name": "Python 3",
   "language": "python",
   "name": "python3"
  },
  "language_info": {
   "codemirror_mode": {
    "name": "ipython",
    "version": 3
   },
   "file_extension": ".py",
   "mimetype": "text/x-python",
   "name": "python",
   "nbconvert_exporter": "python",
   "pygments_lexer": "ipython3",
   "version": "3.8.8"
  }
 },
 "nbformat": 4,
 "nbformat_minor": 5
}
