{
  "nbformat": 4,
  "nbformat_minor": 0,
  "metadata": {
    "colab": {
      "provenance": []
    },
    "kernelspec": {
      "name": "python3",
      "display_name": "Python 3"
    },
    "language_info": {
      "name": "python"
    }
  },
  "cells": [
    {
      "cell_type": "markdown",
      "source": [
        "#**LDA Topic Modelling and Experiments**"
      ],
      "metadata": {
        "id": "If4gwYnXO9Jq"
      }
    },
    {
      "cell_type": "markdown",
      "source": [
        "#### Importing required libraries"
      ],
      "metadata": {
        "id": "ao8wiRswPm3R"
      }
    },
    {
      "cell_type": "code",
      "source": [
        "import gensim"
      ],
      "metadata": {
        "id": "UmAlhvmgX5bA"
      },
      "execution_count": 1,
      "outputs": []
    },
    {
      "cell_type": "code",
      "source": [
        "!pip install pyLDAvis"
      ],
      "metadata": {
        "colab": {
          "base_uri": "https://localhost:8080/",
          "height": 846
        },
        "id": "_ojN4wESPN-D",
        "outputId": "6d8c5d03-81ce-4a9d-db38-44697cb074b6"
      },
      "execution_count": 2,
      "outputs": [
        {
          "output_type": "stream",
          "name": "stdout",
          "text": [
            "Looking in indexes: https://pypi.org/simple, https://us-python.pkg.dev/colab-wheels/public/simple/\n",
            "Collecting pyLDAvis\n",
            "  Downloading pyLDAvis-3.4.1-py3-none-any.whl (2.6 MB)\n",
            "\u001b[2K     \u001b[90m━━━━━━━━━━━━━━━━━━━━━━━━━━━━━━━━━━━━━━━━\u001b[0m \u001b[32m2.6/2.6 MB\u001b[0m \u001b[31m25.3 MB/s\u001b[0m eta \u001b[36m0:00:00\u001b[0m\n",
            "\u001b[?25hCollecting numpy>=1.24.2 (from pyLDAvis)\n",
            "  Downloading numpy-1.24.3-cp310-cp310-manylinux_2_17_x86_64.manylinux2014_x86_64.whl (17.3 MB)\n",
            "\u001b[2K     \u001b[90m━━━━━━━━━━━━━━━━━━━━━━━━━━━━━━━━━━━━━━━━\u001b[0m \u001b[32m17.3/17.3 MB\u001b[0m \u001b[31m44.5 MB/s\u001b[0m eta \u001b[36m0:00:00\u001b[0m\n",
            "\u001b[?25hRequirement already satisfied: scipy in /usr/local/lib/python3.10/dist-packages (from pyLDAvis) (1.10.1)\n",
            "Collecting pandas>=2.0.0 (from pyLDAvis)\n",
            "  Downloading pandas-2.0.2-cp310-cp310-manylinux_2_17_x86_64.manylinux2014_x86_64.whl (12.3 MB)\n",
            "\u001b[2K     \u001b[90m━━━━━━━━━━━━━━━━━━━━━━━━━━━━━━━━━━━━━━━━\u001b[0m \u001b[32m12.3/12.3 MB\u001b[0m \u001b[31m57.0 MB/s\u001b[0m eta \u001b[36m0:00:00\u001b[0m\n",
            "\u001b[?25hRequirement already satisfied: joblib>=1.2.0 in /usr/local/lib/python3.10/dist-packages (from pyLDAvis) (1.2.0)\n",
            "Requirement already satisfied: jinja2 in /usr/local/lib/python3.10/dist-packages (from pyLDAvis) (3.1.2)\n",
            "Requirement already satisfied: numexpr in /usr/local/lib/python3.10/dist-packages (from pyLDAvis) (2.8.4)\n",
            "Collecting funcy (from pyLDAvis)\n",
            "  Downloading funcy-2.0-py2.py3-none-any.whl (30 kB)\n",
            "Requirement already satisfied: scikit-learn>=1.0.0 in /usr/local/lib/python3.10/dist-packages (from pyLDAvis) (1.2.2)\n",
            "Requirement already satisfied: gensim in /usr/local/lib/python3.10/dist-packages (from pyLDAvis) (4.3.1)\n",
            "Requirement already satisfied: setuptools in /usr/local/lib/python3.10/dist-packages (from pyLDAvis) (67.7.2)\n",
            "Requirement already satisfied: python-dateutil>=2.8.2 in /usr/local/lib/python3.10/dist-packages (from pandas>=2.0.0->pyLDAvis) (2.8.2)\n",
            "Requirement already satisfied: pytz>=2020.1 in /usr/local/lib/python3.10/dist-packages (from pandas>=2.0.0->pyLDAvis) (2022.7.1)\n",
            "Requirement already satisfied: tzdata>=2022.1 in /usr/local/lib/python3.10/dist-packages (from pandas>=2.0.0->pyLDAvis) (2023.3)\n",
            "Requirement already satisfied: threadpoolctl>=2.0.0 in /usr/local/lib/python3.10/dist-packages (from scikit-learn>=1.0.0->pyLDAvis) (3.1.0)\n",
            "Requirement already satisfied: smart-open>=1.8.1 in /usr/local/lib/python3.10/dist-packages (from gensim->pyLDAvis) (6.3.0)\n",
            "Requirement already satisfied: MarkupSafe>=2.0 in /usr/local/lib/python3.10/dist-packages (from jinja2->pyLDAvis) (2.1.2)\n",
            "Requirement already satisfied: six>=1.5 in /usr/local/lib/python3.10/dist-packages (from python-dateutil>=2.8.2->pandas>=2.0.0->pyLDAvis) (1.16.0)\n",
            "Installing collected packages: funcy, numpy, pandas, pyLDAvis\n",
            "  Attempting uninstall: numpy\n",
            "    Found existing installation: numpy 1.22.4\n",
            "    Uninstalling numpy-1.22.4:\n",
            "      Successfully uninstalled numpy-1.22.4\n",
            "  Attempting uninstall: pandas\n",
            "    Found existing installation: pandas 1.5.3\n",
            "    Uninstalling pandas-1.5.3:\n",
            "      Successfully uninstalled pandas-1.5.3\n",
            "\u001b[31mERROR: pip's dependency resolver does not currently take into account all the packages that are installed. This behaviour is the source of the following dependency conflicts.\n",
            "google-colab 1.0.0 requires pandas==1.5.3, but you have pandas 2.0.2 which is incompatible.\n",
            "numba 0.56.4 requires numpy<1.24,>=1.18, but you have numpy 1.24.3 which is incompatible.\n",
            "tensorflow 2.12.0 requires numpy<1.24,>=1.22, but you have numpy 1.24.3 which is incompatible.\u001b[0m\u001b[31m\n",
            "\u001b[0mSuccessfully installed funcy-2.0 numpy-1.24.3 pandas-2.0.2 pyLDAvis-3.4.1\n"
          ]
        },
        {
          "output_type": "display_data",
          "data": {
            "application/vnd.colab-display-data+json": {
              "pip_warning": {
                "packages": [
                  "numpy"
                ]
              }
            }
          },
          "metadata": {}
        }
      ]
    },
    {
      "cell_type": "code",
      "source": [
        "!pip install gensim"
      ],
      "metadata": {
        "id": "_TI_trgWWQfb"
      },
      "execution_count": null,
      "outputs": []
    },
    {
      "cell_type": "code",
      "execution_count": 3,
      "metadata": {
        "id": "f2MMpCP4O2Ot"
      },
      "outputs": [],
      "source": [
        "from gensim.utils import simple_preprocess\n",
        "from gensim.models import CoherenceModel\n",
        "import gensim.corpora as corpora\n",
        "from gensim.models import TfidfModel\n",
        "import pyLDAvis\n",
        "import pyLDAvis.gensim\n",
        "import pandas as pd\n",
        "import nltk\n",
        "from nltk.collocations import BigramAssocMeasures, BigramCollocationFinder, TrigramAssocMeasures, TrigramCollocationFinder, QuadgramAssocMeasures, QuadgramCollocationFinder\n",
        "from nltk import word_tokenize"
      ]
    },
    {
      "cell_type": "code",
      "source": [
        "nltk.download('words')\n",
        "nltk.download('punkt')"
      ],
      "metadata": {
        "id": "XLiPKWWUPTEe",
        "colab": {
          "base_uri": "https://localhost:8080/"
        },
        "outputId": "37550b1f-4ab9-409f-dd56-5adff1e91f3d"
      },
      "execution_count": 4,
      "outputs": [
        {
          "output_type": "stream",
          "name": "stderr",
          "text": [
            "/usr/local/lib/python3.10/dist-packages/ipykernel/ipkernel.py:283: DeprecationWarning: `should_run_async` will not call `transform_cell` automatically in the future. Please pass the result to `transformed_cell` argument and any exception that happen during thetransform in `preprocessing_exc_tuple` in IPython 7.17 and above.\n",
            "  and should_run_async(code)\n",
            "[nltk_data] Downloading package words to /root/nltk_data...\n",
            "[nltk_data]   Unzipping corpora/words.zip.\n",
            "[nltk_data] Downloading package punkt to /root/nltk_data...\n",
            "[nltk_data]   Unzipping tokenizers/punkt.zip.\n"
          ]
        },
        {
          "output_type": "execute_result",
          "data": {
            "text/plain": [
              "True"
            ]
          },
          "metadata": {},
          "execution_count": 4
        }
      ]
    },
    {
      "cell_type": "markdown",
      "source": [
        "### **N-grams, TF-IDF, LDA** (and more pre-processing)"
      ],
      "metadata": {
        "id": "OVDAMuITP0Ss"
      }
    },
    {
      "cell_type": "code",
      "source": [
        "class topic_modeling:\n",
        "    def __init__(self, facts):\n",
        "        self.facts = facts\n",
        "\n",
        "    def organise(self):\n",
        "        facts_words = []\n",
        "        for fact in self.facts:\n",
        "            split_fact = fact.split()\n",
        "            facts_words.append(split_fact)\n",
        "        return facts_words\n",
        "\n",
        "    def remove_lang_words(self,facts_words, english_words):\n",
        "\n",
        "      # Filtering out non-english words and three letter words\n",
        "      filtered = [word for word in facts_words if word in english_words and len(word)>3]\n",
        "      return filtered\n",
        "\n",
        "    def find_bigrams(self, facts):\n",
        "      text = ' '.join(facts)\n",
        "      tokens = word_tokenize(text)\n",
        "      bigrams = list(nltk.bigrams(tokens))\n",
        "      return bigrams\n",
        "\n",
        "    def view_frequencies(self, id2word, texts, corpus, tfidf):\n",
        "      word_frequency = []\n",
        "      for doc in corpus:\n",
        "          # Convert the document to TF-IDF representation\n",
        "          tfidf_vector = tfidf[doc]\n",
        "\n",
        "          # Iterate over the TF-IDF values for each word in the document\n",
        "          for word_id, tfidf_score in tfidf_vector:\n",
        "              # Get the word corresponding to the word ID\n",
        "              word = id2word[word_id]\n",
        "\n",
        "              word_frequency.append([word,tfidf_score])\n",
        "\n",
        "      df_freq = pd.DataFrame(word_frequency, columns = ['Word', 'Frequency'])\n",
        "      df_sorted = df_freq.sort_values('Frequency', ascending=False)\n",
        "\n",
        "      return df_sorted\n",
        "\n",
        "    def filter_tf_idf(self, id2word, texts, corpus, tfidf):\n",
        "\n",
        "        low_value = 0.03\n",
        "        high_value = 0.6\n",
        "        words = []\n",
        "        words_missing_in_tfidf = []\n",
        "        for i in range(0, len(corpus)):\n",
        "            bow = corpus[i]\n",
        "            value_words = []  # reinitialize to be safe. You can skip this.\n",
        "            tfidf_ids = [id for id, value in tfidf[bow]]\n",
        "            bow_ids = [id for id, value in bow]\n",
        "            value_words = [id for id, value in tfidf[bow] if value < low_value or value > high_value]\n",
        "            drops = value_words + words_missing_in_tfidf\n",
        "\n",
        "            for item in drops:\n",
        "                words.append(id2word[item])\n",
        "            words_missing_in_tfidf = [id for id in bow_ids if\n",
        "                                      id not in tfidf_ids]  # The words with tf-idf socre 0 will be missing\n",
        "\n",
        "            new_bow = [b for b in bow if b[0] not in value_words and b[0] not in words_missing_in_tfidf]\n",
        "            corpus[i] = new_bow\n",
        "\n",
        "        return corpus, id2word\n",
        "\n",
        "    def perform_lda(self, corpus, id2word):\n",
        "        lda_model = gensim.models.ldamodel.LdaModel(corpus=corpus,\n",
        "                                                    id2word=id2word,\n",
        "                                                    num_topics=10,\n",
        "                                                    random_state=100,\n",
        "                                                    update_every=1,\n",
        "                                                    chunksize=50,\n",
        "                                                    passes=10,\n",
        "                                                    alpha=\"auto\")\n",
        "\n",
        "        return lda_model"
      ],
      "metadata": {
        "id": "d1ryz64_P50N",
        "colab": {
          "base_uri": "https://localhost:8080/"
        },
        "outputId": "315e7f2e-9b15-4ad1-ffd3-a8fffccc00c1"
      },
      "execution_count": 5,
      "outputs": [
        {
          "output_type": "stream",
          "name": "stderr",
          "text": [
            "/usr/local/lib/python3.10/dist-packages/ipykernel/ipkernel.py:283: DeprecationWarning: `should_run_async` will not call `transform_cell` automatically in the future. Please pass the result to `transformed_cell` argument and any exception that happen during thetransform in `preprocessing_exc_tuple` in IPython 7.17 and above.\n",
            "  and should_run_async(code)\n"
          ]
        }
      ]
    },
    {
      "cell_type": "markdown",
      "source": [
        "## Violation Cases"
      ],
      "metadata": {
        "id": "qGT_UaqHRN7b"
      }
    },
    {
      "cell_type": "markdown",
      "source": [
        "#### Importing facts corresponding to violation cases"
      ],
      "metadata": {
        "id": "uI_ljBsXSxpp"
      }
    },
    {
      "cell_type": "code",
      "source": [
        "from google.colab import files\n",
        "import io"
      ],
      "metadata": {
        "colab": {
          "base_uri": "https://localhost:8080/"
        },
        "id": "zl-2831E903h",
        "outputId": "6ac7da09-a417-42cf-f0a6-c29119ab6eb4"
      },
      "execution_count": 6,
      "outputs": [
        {
          "output_type": "stream",
          "name": "stderr",
          "text": [
            "/usr/local/lib/python3.10/dist-packages/ipykernel/ipkernel.py:283: DeprecationWarning: `should_run_async` will not call `transform_cell` automatically in the future. Please pass the result to `transformed_cell` argument and any exception that happen during thetransform in `preprocessing_exc_tuple` in IPython 7.17 and above.\n",
            "  and should_run_async(code)\n"
          ]
        }
      ]
    },
    {
      "cell_type": "markdown",
      "source": [
        "### Import Processed Facts"
      ],
      "metadata": {
        "id": "ph0ms3wJWTrd"
      }
    },
    {
      "cell_type": "code",
      "source": [
        "uploaded_proc = files.upload()"
      ],
      "metadata": {
        "id": "58Ll6WyBQIfM",
        "colab": {
          "base_uri": "https://localhost:8080/",
          "height": 129
        },
        "outputId": "bc4284f6-e9aa-467a-93c4-f28a782fa521"
      },
      "execution_count": null,
      "outputs": [
        {
          "output_type": "stream",
          "name": "stderr",
          "text": [
            "/usr/local/lib/python3.10/dist-packages/ipykernel/ipkernel.py:283: DeprecationWarning: `should_run_async` will not call `transform_cell` automatically in the future. Please pass the result to `transformed_cell` argument and any exception that happen during thetransform in `preprocessing_exc_tuple` in IPython 7.17 and above.\n",
            "  and should_run_async(code)\n"
          ]
        },
        {
          "output_type": "display_data",
          "data": {
            "text/plain": [
              "<IPython.core.display.HTML object>"
            ],
            "text/html": [
              "\n",
              "     <input type=\"file\" id=\"files-2c4567af-6117-44d3-9e11-785952476cda\" name=\"files[]\" multiple disabled\n",
              "        style=\"border:none\" />\n",
              "     <output id=\"result-2c4567af-6117-44d3-9e11-785952476cda\">\n",
              "      Upload widget is only available when the cell has been executed in the\n",
              "      current browser session. Please rerun this cell to enable.\n",
              "      </output>\n",
              "      <script>// Copyright 2017 Google LLC\n",
              "//\n",
              "// Licensed under the Apache License, Version 2.0 (the \"License\");\n",
              "// you may not use this file except in compliance with the License.\n",
              "// You may obtain a copy of the License at\n",
              "//\n",
              "//      http://www.apache.org/licenses/LICENSE-2.0\n",
              "//\n",
              "// Unless required by applicable law or agreed to in writing, software\n",
              "// distributed under the License is distributed on an \"AS IS\" BASIS,\n",
              "// WITHOUT WARRANTIES OR CONDITIONS OF ANY KIND, either express or implied.\n",
              "// See the License for the specific language governing permissions and\n",
              "// limitations under the License.\n",
              "\n",
              "/**\n",
              " * @fileoverview Helpers for google.colab Python module.\n",
              " */\n",
              "(function(scope) {\n",
              "function span(text, styleAttributes = {}) {\n",
              "  const element = document.createElement('span');\n",
              "  element.textContent = text;\n",
              "  for (const key of Object.keys(styleAttributes)) {\n",
              "    element.style[key] = styleAttributes[key];\n",
              "  }\n",
              "  return element;\n",
              "}\n",
              "\n",
              "// Max number of bytes which will be uploaded at a time.\n",
              "const MAX_PAYLOAD_SIZE = 100 * 1024;\n",
              "\n",
              "function _uploadFiles(inputId, outputId) {\n",
              "  const steps = uploadFilesStep(inputId, outputId);\n",
              "  const outputElement = document.getElementById(outputId);\n",
              "  // Cache steps on the outputElement to make it available for the next call\n",
              "  // to uploadFilesContinue from Python.\n",
              "  outputElement.steps = steps;\n",
              "\n",
              "  return _uploadFilesContinue(outputId);\n",
              "}\n",
              "\n",
              "// This is roughly an async generator (not supported in the browser yet),\n",
              "// where there are multiple asynchronous steps and the Python side is going\n",
              "// to poll for completion of each step.\n",
              "// This uses a Promise to block the python side on completion of each step,\n",
              "// then passes the result of the previous step as the input to the next step.\n",
              "function _uploadFilesContinue(outputId) {\n",
              "  const outputElement = document.getElementById(outputId);\n",
              "  const steps = outputElement.steps;\n",
              "\n",
              "  const next = steps.next(outputElement.lastPromiseValue);\n",
              "  return Promise.resolve(next.value.promise).then((value) => {\n",
              "    // Cache the last promise value to make it available to the next\n",
              "    // step of the generator.\n",
              "    outputElement.lastPromiseValue = value;\n",
              "    return next.value.response;\n",
              "  });\n",
              "}\n",
              "\n",
              "/**\n",
              " * Generator function which is called between each async step of the upload\n",
              " * process.\n",
              " * @param {string} inputId Element ID of the input file picker element.\n",
              " * @param {string} outputId Element ID of the output display.\n",
              " * @return {!Iterable<!Object>} Iterable of next steps.\n",
              " */\n",
              "function* uploadFilesStep(inputId, outputId) {\n",
              "  const inputElement = document.getElementById(inputId);\n",
              "  inputElement.disabled = false;\n",
              "\n",
              "  const outputElement = document.getElementById(outputId);\n",
              "  outputElement.innerHTML = '';\n",
              "\n",
              "  const pickedPromise = new Promise((resolve) => {\n",
              "    inputElement.addEventListener('change', (e) => {\n",
              "      resolve(e.target.files);\n",
              "    });\n",
              "  });\n",
              "\n",
              "  const cancel = document.createElement('button');\n",
              "  inputElement.parentElement.appendChild(cancel);\n",
              "  cancel.textContent = 'Cancel upload';\n",
              "  const cancelPromise = new Promise((resolve) => {\n",
              "    cancel.onclick = () => {\n",
              "      resolve(null);\n",
              "    };\n",
              "  });\n",
              "\n",
              "  // Wait for the user to pick the files.\n",
              "  const files = yield {\n",
              "    promise: Promise.race([pickedPromise, cancelPromise]),\n",
              "    response: {\n",
              "      action: 'starting',\n",
              "    }\n",
              "  };\n",
              "\n",
              "  cancel.remove();\n",
              "\n",
              "  // Disable the input element since further picks are not allowed.\n",
              "  inputElement.disabled = true;\n",
              "\n",
              "  if (!files) {\n",
              "    return {\n",
              "      response: {\n",
              "        action: 'complete',\n",
              "      }\n",
              "    };\n",
              "  }\n",
              "\n",
              "  for (const file of files) {\n",
              "    const li = document.createElement('li');\n",
              "    li.append(span(file.name, {fontWeight: 'bold'}));\n",
              "    li.append(span(\n",
              "        `(${file.type || 'n/a'}) - ${file.size} bytes, ` +\n",
              "        `last modified: ${\n",
              "            file.lastModifiedDate ? file.lastModifiedDate.toLocaleDateString() :\n",
              "                                    'n/a'} - `));\n",
              "    const percent = span('0% done');\n",
              "    li.appendChild(percent);\n",
              "\n",
              "    outputElement.appendChild(li);\n",
              "\n",
              "    const fileDataPromise = new Promise((resolve) => {\n",
              "      const reader = new FileReader();\n",
              "      reader.onload = (e) => {\n",
              "        resolve(e.target.result);\n",
              "      };\n",
              "      reader.readAsArrayBuffer(file);\n",
              "    });\n",
              "    // Wait for the data to be ready.\n",
              "    let fileData = yield {\n",
              "      promise: fileDataPromise,\n",
              "      response: {\n",
              "        action: 'continue',\n",
              "      }\n",
              "    };\n",
              "\n",
              "    // Use a chunked sending to avoid message size limits. See b/62115660.\n",
              "    let position = 0;\n",
              "    do {\n",
              "      const length = Math.min(fileData.byteLength - position, MAX_PAYLOAD_SIZE);\n",
              "      const chunk = new Uint8Array(fileData, position, length);\n",
              "      position += length;\n",
              "\n",
              "      const base64 = btoa(String.fromCharCode.apply(null, chunk));\n",
              "      yield {\n",
              "        response: {\n",
              "          action: 'append',\n",
              "          file: file.name,\n",
              "          data: base64,\n",
              "        },\n",
              "      };\n",
              "\n",
              "      let percentDone = fileData.byteLength === 0 ?\n",
              "          100 :\n",
              "          Math.round((position / fileData.byteLength) * 100);\n",
              "      percent.textContent = `${percentDone}% done`;\n",
              "\n",
              "    } while (position < fileData.byteLength);\n",
              "  }\n",
              "\n",
              "  // All done.\n",
              "  yield {\n",
              "    response: {\n",
              "      action: 'complete',\n",
              "    }\n",
              "  };\n",
              "}\n",
              "\n",
              "scope.google = scope.google || {};\n",
              "scope.google.colab = scope.google.colab || {};\n",
              "scope.google.colab._files = {\n",
              "  _uploadFiles,\n",
              "  _uploadFilesContinue,\n",
              "};\n",
              "})(self);\n",
              "</script> "
            ]
          },
          "metadata": {}
        },
        {
          "output_type": "stream",
          "name": "stdout",
          "text": [
            "Saving violation_facts_processed.csv to violation_facts_processed.csv\n"
          ]
        }
      ]
    },
    {
      "cell_type": "code",
      "source": [
        "violation_tm = pd.read_csv(io.BytesIO(uploaded_proc['violation_facts_processed.csv']))"
      ],
      "metadata": {
        "id": "fEoD7kqKRbDJ"
      },
      "execution_count": null,
      "outputs": []
    },
    {
      "cell_type": "markdown",
      "source": [
        "### Import Lemmatized Facts"
      ],
      "metadata": {
        "id": "StucmL92WZWN"
      }
    },
    {
      "cell_type": "code",
      "source": [
        "uploaded_lemma = files.upload()"
      ],
      "metadata": {
        "colab": {
          "base_uri": "https://localhost:8080/",
          "height": 129
        },
        "id": "0emucNvi949C",
        "outputId": "a25a9abe-b6ad-4231-b4a5-eb7d03463b43"
      },
      "execution_count": null,
      "outputs": [
        {
          "output_type": "stream",
          "name": "stderr",
          "text": [
            "/usr/local/lib/python3.10/dist-packages/ipykernel/ipkernel.py:283: DeprecationWarning: `should_run_async` will not call `transform_cell` automatically in the future. Please pass the result to `transformed_cell` argument and any exception that happen during thetransform in `preprocessing_exc_tuple` in IPython 7.17 and above.\n",
            "  and should_run_async(code)\n"
          ]
        },
        {
          "output_type": "display_data",
          "data": {
            "text/plain": [
              "<IPython.core.display.HTML object>"
            ],
            "text/html": [
              "\n",
              "     <input type=\"file\" id=\"files-04bd19e5-fc35-4c64-a164-55b2554dcf72\" name=\"files[]\" multiple disabled\n",
              "        style=\"border:none\" />\n",
              "     <output id=\"result-04bd19e5-fc35-4c64-a164-55b2554dcf72\">\n",
              "      Upload widget is only available when the cell has been executed in the\n",
              "      current browser session. Please rerun this cell to enable.\n",
              "      </output>\n",
              "      <script>// Copyright 2017 Google LLC\n",
              "//\n",
              "// Licensed under the Apache License, Version 2.0 (the \"License\");\n",
              "// you may not use this file except in compliance with the License.\n",
              "// You may obtain a copy of the License at\n",
              "//\n",
              "//      http://www.apache.org/licenses/LICENSE-2.0\n",
              "//\n",
              "// Unless required by applicable law or agreed to in writing, software\n",
              "// distributed under the License is distributed on an \"AS IS\" BASIS,\n",
              "// WITHOUT WARRANTIES OR CONDITIONS OF ANY KIND, either express or implied.\n",
              "// See the License for the specific language governing permissions and\n",
              "// limitations under the License.\n",
              "\n",
              "/**\n",
              " * @fileoverview Helpers for google.colab Python module.\n",
              " */\n",
              "(function(scope) {\n",
              "function span(text, styleAttributes = {}) {\n",
              "  const element = document.createElement('span');\n",
              "  element.textContent = text;\n",
              "  for (const key of Object.keys(styleAttributes)) {\n",
              "    element.style[key] = styleAttributes[key];\n",
              "  }\n",
              "  return element;\n",
              "}\n",
              "\n",
              "// Max number of bytes which will be uploaded at a time.\n",
              "const MAX_PAYLOAD_SIZE = 100 * 1024;\n",
              "\n",
              "function _uploadFiles(inputId, outputId) {\n",
              "  const steps = uploadFilesStep(inputId, outputId);\n",
              "  const outputElement = document.getElementById(outputId);\n",
              "  // Cache steps on the outputElement to make it available for the next call\n",
              "  // to uploadFilesContinue from Python.\n",
              "  outputElement.steps = steps;\n",
              "\n",
              "  return _uploadFilesContinue(outputId);\n",
              "}\n",
              "\n",
              "// This is roughly an async generator (not supported in the browser yet),\n",
              "// where there are multiple asynchronous steps and the Python side is going\n",
              "// to poll for completion of each step.\n",
              "// This uses a Promise to block the python side on completion of each step,\n",
              "// then passes the result of the previous step as the input to the next step.\n",
              "function _uploadFilesContinue(outputId) {\n",
              "  const outputElement = document.getElementById(outputId);\n",
              "  const steps = outputElement.steps;\n",
              "\n",
              "  const next = steps.next(outputElement.lastPromiseValue);\n",
              "  return Promise.resolve(next.value.promise).then((value) => {\n",
              "    // Cache the last promise value to make it available to the next\n",
              "    // step of the generator.\n",
              "    outputElement.lastPromiseValue = value;\n",
              "    return next.value.response;\n",
              "  });\n",
              "}\n",
              "\n",
              "/**\n",
              " * Generator function which is called between each async step of the upload\n",
              " * process.\n",
              " * @param {string} inputId Element ID of the input file picker element.\n",
              " * @param {string} outputId Element ID of the output display.\n",
              " * @return {!Iterable<!Object>} Iterable of next steps.\n",
              " */\n",
              "function* uploadFilesStep(inputId, outputId) {\n",
              "  const inputElement = document.getElementById(inputId);\n",
              "  inputElement.disabled = false;\n",
              "\n",
              "  const outputElement = document.getElementById(outputId);\n",
              "  outputElement.innerHTML = '';\n",
              "\n",
              "  const pickedPromise = new Promise((resolve) => {\n",
              "    inputElement.addEventListener('change', (e) => {\n",
              "      resolve(e.target.files);\n",
              "    });\n",
              "  });\n",
              "\n",
              "  const cancel = document.createElement('button');\n",
              "  inputElement.parentElement.appendChild(cancel);\n",
              "  cancel.textContent = 'Cancel upload';\n",
              "  const cancelPromise = new Promise((resolve) => {\n",
              "    cancel.onclick = () => {\n",
              "      resolve(null);\n",
              "    };\n",
              "  });\n",
              "\n",
              "  // Wait for the user to pick the files.\n",
              "  const files = yield {\n",
              "    promise: Promise.race([pickedPromise, cancelPromise]),\n",
              "    response: {\n",
              "      action: 'starting',\n",
              "    }\n",
              "  };\n",
              "\n",
              "  cancel.remove();\n",
              "\n",
              "  // Disable the input element since further picks are not allowed.\n",
              "  inputElement.disabled = true;\n",
              "\n",
              "  if (!files) {\n",
              "    return {\n",
              "      response: {\n",
              "        action: 'complete',\n",
              "      }\n",
              "    };\n",
              "  }\n",
              "\n",
              "  for (const file of files) {\n",
              "    const li = document.createElement('li');\n",
              "    li.append(span(file.name, {fontWeight: 'bold'}));\n",
              "    li.append(span(\n",
              "        `(${file.type || 'n/a'}) - ${file.size} bytes, ` +\n",
              "        `last modified: ${\n",
              "            file.lastModifiedDate ? file.lastModifiedDate.toLocaleDateString() :\n",
              "                                    'n/a'} - `));\n",
              "    const percent = span('0% done');\n",
              "    li.appendChild(percent);\n",
              "\n",
              "    outputElement.appendChild(li);\n",
              "\n",
              "    const fileDataPromise = new Promise((resolve) => {\n",
              "      const reader = new FileReader();\n",
              "      reader.onload = (e) => {\n",
              "        resolve(e.target.result);\n",
              "      };\n",
              "      reader.readAsArrayBuffer(file);\n",
              "    });\n",
              "    // Wait for the data to be ready.\n",
              "    let fileData = yield {\n",
              "      promise: fileDataPromise,\n",
              "      response: {\n",
              "        action: 'continue',\n",
              "      }\n",
              "    };\n",
              "\n",
              "    // Use a chunked sending to avoid message size limits. See b/62115660.\n",
              "    let position = 0;\n",
              "    do {\n",
              "      const length = Math.min(fileData.byteLength - position, MAX_PAYLOAD_SIZE);\n",
              "      const chunk = new Uint8Array(fileData, position, length);\n",
              "      position += length;\n",
              "\n",
              "      const base64 = btoa(String.fromCharCode.apply(null, chunk));\n",
              "      yield {\n",
              "        response: {\n",
              "          action: 'append',\n",
              "          file: file.name,\n",
              "          data: base64,\n",
              "        },\n",
              "      };\n",
              "\n",
              "      let percentDone = fileData.byteLength === 0 ?\n",
              "          100 :\n",
              "          Math.round((position / fileData.byteLength) * 100);\n",
              "      percent.textContent = `${percentDone}% done`;\n",
              "\n",
              "    } while (position < fileData.byteLength);\n",
              "  }\n",
              "\n",
              "  // All done.\n",
              "  yield {\n",
              "    response: {\n",
              "      action: 'complete',\n",
              "    }\n",
              "  };\n",
              "}\n",
              "\n",
              "scope.google = scope.google || {};\n",
              "scope.google.colab = scope.google.colab || {};\n",
              "scope.google.colab._files = {\n",
              "  _uploadFiles,\n",
              "  _uploadFilesContinue,\n",
              "};\n",
              "})(self);\n",
              "</script> "
            ]
          },
          "metadata": {}
        },
        {
          "output_type": "stream",
          "name": "stdout",
          "text": [
            "Saving violation_facts_lemma.csv to violation_facts_lemma (1).csv\n"
          ]
        }
      ]
    },
    {
      "cell_type": "code",
      "source": [
        "violation_tm = pd.read_csv(io.BytesIO(uploaded_lemma['violation_facts_lemma.csv']))"
      ],
      "metadata": {
        "id": "VCDO_o8iRh97"
      },
      "execution_count": null,
      "outputs": []
    },
    {
      "cell_type": "markdown",
      "source": [
        "### Import Stop Word Removal Facts"
      ],
      "metadata": {
        "id": "tflM3TP6Wc_S"
      }
    },
    {
      "cell_type": "code",
      "source": [
        "uploaded_sw = files.upload()"
      ],
      "metadata": {
        "colab": {
          "base_uri": "https://localhost:8080/",
          "height": 129
        },
        "id": "hPzUAUX8HIj5",
        "outputId": "4d19164a-fa7c-46da-e778-c70e200bf989"
      },
      "execution_count": null,
      "outputs": [
        {
          "output_type": "stream",
          "name": "stderr",
          "text": [
            "/usr/local/lib/python3.10/dist-packages/ipykernel/ipkernel.py:283: DeprecationWarning: `should_run_async` will not call `transform_cell` automatically in the future. Please pass the result to `transformed_cell` argument and any exception that happen during thetransform in `preprocessing_exc_tuple` in IPython 7.17 and above.\n",
            "  and should_run_async(code)\n"
          ]
        },
        {
          "output_type": "display_data",
          "data": {
            "text/plain": [
              "<IPython.core.display.HTML object>"
            ],
            "text/html": [
              "\n",
              "     <input type=\"file\" id=\"files-f207df1b-9e09-4484-b609-fee769b466a2\" name=\"files[]\" multiple disabled\n",
              "        style=\"border:none\" />\n",
              "     <output id=\"result-f207df1b-9e09-4484-b609-fee769b466a2\">\n",
              "      Upload widget is only available when the cell has been executed in the\n",
              "      current browser session. Please rerun this cell to enable.\n",
              "      </output>\n",
              "      <script>// Copyright 2017 Google LLC\n",
              "//\n",
              "// Licensed under the Apache License, Version 2.0 (the \"License\");\n",
              "// you may not use this file except in compliance with the License.\n",
              "// You may obtain a copy of the License at\n",
              "//\n",
              "//      http://www.apache.org/licenses/LICENSE-2.0\n",
              "//\n",
              "// Unless required by applicable law or agreed to in writing, software\n",
              "// distributed under the License is distributed on an \"AS IS\" BASIS,\n",
              "// WITHOUT WARRANTIES OR CONDITIONS OF ANY KIND, either express or implied.\n",
              "// See the License for the specific language governing permissions and\n",
              "// limitations under the License.\n",
              "\n",
              "/**\n",
              " * @fileoverview Helpers for google.colab Python module.\n",
              " */\n",
              "(function(scope) {\n",
              "function span(text, styleAttributes = {}) {\n",
              "  const element = document.createElement('span');\n",
              "  element.textContent = text;\n",
              "  for (const key of Object.keys(styleAttributes)) {\n",
              "    element.style[key] = styleAttributes[key];\n",
              "  }\n",
              "  return element;\n",
              "}\n",
              "\n",
              "// Max number of bytes which will be uploaded at a time.\n",
              "const MAX_PAYLOAD_SIZE = 100 * 1024;\n",
              "\n",
              "function _uploadFiles(inputId, outputId) {\n",
              "  const steps = uploadFilesStep(inputId, outputId);\n",
              "  const outputElement = document.getElementById(outputId);\n",
              "  // Cache steps on the outputElement to make it available for the next call\n",
              "  // to uploadFilesContinue from Python.\n",
              "  outputElement.steps = steps;\n",
              "\n",
              "  return _uploadFilesContinue(outputId);\n",
              "}\n",
              "\n",
              "// This is roughly an async generator (not supported in the browser yet),\n",
              "// where there are multiple asynchronous steps and the Python side is going\n",
              "// to poll for completion of each step.\n",
              "// This uses a Promise to block the python side on completion of each step,\n",
              "// then passes the result of the previous step as the input to the next step.\n",
              "function _uploadFilesContinue(outputId) {\n",
              "  const outputElement = document.getElementById(outputId);\n",
              "  const steps = outputElement.steps;\n",
              "\n",
              "  const next = steps.next(outputElement.lastPromiseValue);\n",
              "  return Promise.resolve(next.value.promise).then((value) => {\n",
              "    // Cache the last promise value to make it available to the next\n",
              "    // step of the generator.\n",
              "    outputElement.lastPromiseValue = value;\n",
              "    return next.value.response;\n",
              "  });\n",
              "}\n",
              "\n",
              "/**\n",
              " * Generator function which is called between each async step of the upload\n",
              " * process.\n",
              " * @param {string} inputId Element ID of the input file picker element.\n",
              " * @param {string} outputId Element ID of the output display.\n",
              " * @return {!Iterable<!Object>} Iterable of next steps.\n",
              " */\n",
              "function* uploadFilesStep(inputId, outputId) {\n",
              "  const inputElement = document.getElementById(inputId);\n",
              "  inputElement.disabled = false;\n",
              "\n",
              "  const outputElement = document.getElementById(outputId);\n",
              "  outputElement.innerHTML = '';\n",
              "\n",
              "  const pickedPromise = new Promise((resolve) => {\n",
              "    inputElement.addEventListener('change', (e) => {\n",
              "      resolve(e.target.files);\n",
              "    });\n",
              "  });\n",
              "\n",
              "  const cancel = document.createElement('button');\n",
              "  inputElement.parentElement.appendChild(cancel);\n",
              "  cancel.textContent = 'Cancel upload';\n",
              "  const cancelPromise = new Promise((resolve) => {\n",
              "    cancel.onclick = () => {\n",
              "      resolve(null);\n",
              "    };\n",
              "  });\n",
              "\n",
              "  // Wait for the user to pick the files.\n",
              "  const files = yield {\n",
              "    promise: Promise.race([pickedPromise, cancelPromise]),\n",
              "    response: {\n",
              "      action: 'starting',\n",
              "    }\n",
              "  };\n",
              "\n",
              "  cancel.remove();\n",
              "\n",
              "  // Disable the input element since further picks are not allowed.\n",
              "  inputElement.disabled = true;\n",
              "\n",
              "  if (!files) {\n",
              "    return {\n",
              "      response: {\n",
              "        action: 'complete',\n",
              "      }\n",
              "    };\n",
              "  }\n",
              "\n",
              "  for (const file of files) {\n",
              "    const li = document.createElement('li');\n",
              "    li.append(span(file.name, {fontWeight: 'bold'}));\n",
              "    li.append(span(\n",
              "        `(${file.type || 'n/a'}) - ${file.size} bytes, ` +\n",
              "        `last modified: ${\n",
              "            file.lastModifiedDate ? file.lastModifiedDate.toLocaleDateString() :\n",
              "                                    'n/a'} - `));\n",
              "    const percent = span('0% done');\n",
              "    li.appendChild(percent);\n",
              "\n",
              "    outputElement.appendChild(li);\n",
              "\n",
              "    const fileDataPromise = new Promise((resolve) => {\n",
              "      const reader = new FileReader();\n",
              "      reader.onload = (e) => {\n",
              "        resolve(e.target.result);\n",
              "      };\n",
              "      reader.readAsArrayBuffer(file);\n",
              "    });\n",
              "    // Wait for the data to be ready.\n",
              "    let fileData = yield {\n",
              "      promise: fileDataPromise,\n",
              "      response: {\n",
              "        action: 'continue',\n",
              "      }\n",
              "    };\n",
              "\n",
              "    // Use a chunked sending to avoid message size limits. See b/62115660.\n",
              "    let position = 0;\n",
              "    do {\n",
              "      const length = Math.min(fileData.byteLength - position, MAX_PAYLOAD_SIZE);\n",
              "      const chunk = new Uint8Array(fileData, position, length);\n",
              "      position += length;\n",
              "\n",
              "      const base64 = btoa(String.fromCharCode.apply(null, chunk));\n",
              "      yield {\n",
              "        response: {\n",
              "          action: 'append',\n",
              "          file: file.name,\n",
              "          data: base64,\n",
              "        },\n",
              "      };\n",
              "\n",
              "      let percentDone = fileData.byteLength === 0 ?\n",
              "          100 :\n",
              "          Math.round((position / fileData.byteLength) * 100);\n",
              "      percent.textContent = `${percentDone}% done`;\n",
              "\n",
              "    } while (position < fileData.byteLength);\n",
              "  }\n",
              "\n",
              "  // All done.\n",
              "  yield {\n",
              "    response: {\n",
              "      action: 'complete',\n",
              "    }\n",
              "  };\n",
              "}\n",
              "\n",
              "scope.google = scope.google || {};\n",
              "scope.google.colab = scope.google.colab || {};\n",
              "scope.google.colab._files = {\n",
              "  _uploadFiles,\n",
              "  _uploadFilesContinue,\n",
              "};\n",
              "})(self);\n",
              "</script> "
            ]
          },
          "metadata": {}
        },
        {
          "output_type": "stream",
          "name": "stdout",
          "text": [
            "Saving violation_facts_sw.csv to violation_facts_sw (1).csv\n"
          ]
        }
      ]
    },
    {
      "cell_type": "code",
      "source": [
        "violation_tm = pd.read_csv(io.BytesIO(uploaded_sw['violation_facts_sw.csv']))"
      ],
      "metadata": {
        "colab": {
          "base_uri": "https://localhost:8080/"
        },
        "id": "GnlZ4pGtThYM",
        "outputId": "4445d205-5025-4520-be4a-41fbc32ae41a"
      },
      "execution_count": null,
      "outputs": [
        {
          "output_type": "stream",
          "name": "stderr",
          "text": [
            "/usr/local/lib/python3.10/dist-packages/ipykernel/ipkernel.py:283: DeprecationWarning: `should_run_async` will not call `transform_cell` automatically in the future. Please pass the result to `transformed_cell` argument and any exception that happen during thetransform in `preprocessing_exc_tuple` in IPython 7.17 and above.\n",
            "  and should_run_async(code)\n"
          ]
        }
      ]
    },
    {
      "cell_type": "markdown",
      "source": [
        "### Import No Preprocessing Facts"
      ],
      "metadata": {
        "id": "k8LDbgpAWhud"
      }
    },
    {
      "cell_type": "code",
      "source": [
        "uploaded_none = files.upload()"
      ],
      "metadata": {
        "colab": {
          "base_uri": "https://localhost:8080/",
          "height": 129
        },
        "id": "E-PJjONzKpJN",
        "outputId": "725a6d8e-c339-4314-b3ba-b5b4abc203fc"
      },
      "execution_count": null,
      "outputs": [
        {
          "output_type": "stream",
          "name": "stderr",
          "text": [
            "/usr/local/lib/python3.10/dist-packages/ipykernel/ipkernel.py:283: DeprecationWarning: `should_run_async` will not call `transform_cell` automatically in the future. Please pass the result to `transformed_cell` argument and any exception that happen during thetransform in `preprocessing_exc_tuple` in IPython 7.17 and above.\n",
            "  and should_run_async(code)\n"
          ]
        },
        {
          "output_type": "display_data",
          "data": {
            "text/plain": [
              "<IPython.core.display.HTML object>"
            ],
            "text/html": [
              "\n",
              "     <input type=\"file\" id=\"files-40902729-70b5-4e36-914e-a0086c6fee52\" name=\"files[]\" multiple disabled\n",
              "        style=\"border:none\" />\n",
              "     <output id=\"result-40902729-70b5-4e36-914e-a0086c6fee52\">\n",
              "      Upload widget is only available when the cell has been executed in the\n",
              "      current browser session. Please rerun this cell to enable.\n",
              "      </output>\n",
              "      <script>// Copyright 2017 Google LLC\n",
              "//\n",
              "// Licensed under the Apache License, Version 2.0 (the \"License\");\n",
              "// you may not use this file except in compliance with the License.\n",
              "// You may obtain a copy of the License at\n",
              "//\n",
              "//      http://www.apache.org/licenses/LICENSE-2.0\n",
              "//\n",
              "// Unless required by applicable law or agreed to in writing, software\n",
              "// distributed under the License is distributed on an \"AS IS\" BASIS,\n",
              "// WITHOUT WARRANTIES OR CONDITIONS OF ANY KIND, either express or implied.\n",
              "// See the License for the specific language governing permissions and\n",
              "// limitations under the License.\n",
              "\n",
              "/**\n",
              " * @fileoverview Helpers for google.colab Python module.\n",
              " */\n",
              "(function(scope) {\n",
              "function span(text, styleAttributes = {}) {\n",
              "  const element = document.createElement('span');\n",
              "  element.textContent = text;\n",
              "  for (const key of Object.keys(styleAttributes)) {\n",
              "    element.style[key] = styleAttributes[key];\n",
              "  }\n",
              "  return element;\n",
              "}\n",
              "\n",
              "// Max number of bytes which will be uploaded at a time.\n",
              "const MAX_PAYLOAD_SIZE = 100 * 1024;\n",
              "\n",
              "function _uploadFiles(inputId, outputId) {\n",
              "  const steps = uploadFilesStep(inputId, outputId);\n",
              "  const outputElement = document.getElementById(outputId);\n",
              "  // Cache steps on the outputElement to make it available for the next call\n",
              "  // to uploadFilesContinue from Python.\n",
              "  outputElement.steps = steps;\n",
              "\n",
              "  return _uploadFilesContinue(outputId);\n",
              "}\n",
              "\n",
              "// This is roughly an async generator (not supported in the browser yet),\n",
              "// where there are multiple asynchronous steps and the Python side is going\n",
              "// to poll for completion of each step.\n",
              "// This uses a Promise to block the python side on completion of each step,\n",
              "// then passes the result of the previous step as the input to the next step.\n",
              "function _uploadFilesContinue(outputId) {\n",
              "  const outputElement = document.getElementById(outputId);\n",
              "  const steps = outputElement.steps;\n",
              "\n",
              "  const next = steps.next(outputElement.lastPromiseValue);\n",
              "  return Promise.resolve(next.value.promise).then((value) => {\n",
              "    // Cache the last promise value to make it available to the next\n",
              "    // step of the generator.\n",
              "    outputElement.lastPromiseValue = value;\n",
              "    return next.value.response;\n",
              "  });\n",
              "}\n",
              "\n",
              "/**\n",
              " * Generator function which is called between each async step of the upload\n",
              " * process.\n",
              " * @param {string} inputId Element ID of the input file picker element.\n",
              " * @param {string} outputId Element ID of the output display.\n",
              " * @return {!Iterable<!Object>} Iterable of next steps.\n",
              " */\n",
              "function* uploadFilesStep(inputId, outputId) {\n",
              "  const inputElement = document.getElementById(inputId);\n",
              "  inputElement.disabled = false;\n",
              "\n",
              "  const outputElement = document.getElementById(outputId);\n",
              "  outputElement.innerHTML = '';\n",
              "\n",
              "  const pickedPromise = new Promise((resolve) => {\n",
              "    inputElement.addEventListener('change', (e) => {\n",
              "      resolve(e.target.files);\n",
              "    });\n",
              "  });\n",
              "\n",
              "  const cancel = document.createElement('button');\n",
              "  inputElement.parentElement.appendChild(cancel);\n",
              "  cancel.textContent = 'Cancel upload';\n",
              "  const cancelPromise = new Promise((resolve) => {\n",
              "    cancel.onclick = () => {\n",
              "      resolve(null);\n",
              "    };\n",
              "  });\n",
              "\n",
              "  // Wait for the user to pick the files.\n",
              "  const files = yield {\n",
              "    promise: Promise.race([pickedPromise, cancelPromise]),\n",
              "    response: {\n",
              "      action: 'starting',\n",
              "    }\n",
              "  };\n",
              "\n",
              "  cancel.remove();\n",
              "\n",
              "  // Disable the input element since further picks are not allowed.\n",
              "  inputElement.disabled = true;\n",
              "\n",
              "  if (!files) {\n",
              "    return {\n",
              "      response: {\n",
              "        action: 'complete',\n",
              "      }\n",
              "    };\n",
              "  }\n",
              "\n",
              "  for (const file of files) {\n",
              "    const li = document.createElement('li');\n",
              "    li.append(span(file.name, {fontWeight: 'bold'}));\n",
              "    li.append(span(\n",
              "        `(${file.type || 'n/a'}) - ${file.size} bytes, ` +\n",
              "        `last modified: ${\n",
              "            file.lastModifiedDate ? file.lastModifiedDate.toLocaleDateString() :\n",
              "                                    'n/a'} - `));\n",
              "    const percent = span('0% done');\n",
              "    li.appendChild(percent);\n",
              "\n",
              "    outputElement.appendChild(li);\n",
              "\n",
              "    const fileDataPromise = new Promise((resolve) => {\n",
              "      const reader = new FileReader();\n",
              "      reader.onload = (e) => {\n",
              "        resolve(e.target.result);\n",
              "      };\n",
              "      reader.readAsArrayBuffer(file);\n",
              "    });\n",
              "    // Wait for the data to be ready.\n",
              "    let fileData = yield {\n",
              "      promise: fileDataPromise,\n",
              "      response: {\n",
              "        action: 'continue',\n",
              "      }\n",
              "    };\n",
              "\n",
              "    // Use a chunked sending to avoid message size limits. See b/62115660.\n",
              "    let position = 0;\n",
              "    do {\n",
              "      const length = Math.min(fileData.byteLength - position, MAX_PAYLOAD_SIZE);\n",
              "      const chunk = new Uint8Array(fileData, position, length);\n",
              "      position += length;\n",
              "\n",
              "      const base64 = btoa(String.fromCharCode.apply(null, chunk));\n",
              "      yield {\n",
              "        response: {\n",
              "          action: 'append',\n",
              "          file: file.name,\n",
              "          data: base64,\n",
              "        },\n",
              "      };\n",
              "\n",
              "      let percentDone = fileData.byteLength === 0 ?\n",
              "          100 :\n",
              "          Math.round((position / fileData.byteLength) * 100);\n",
              "      percent.textContent = `${percentDone}% done`;\n",
              "\n",
              "    } while (position < fileData.byteLength);\n",
              "  }\n",
              "\n",
              "  // All done.\n",
              "  yield {\n",
              "    response: {\n",
              "      action: 'complete',\n",
              "    }\n",
              "  };\n",
              "}\n",
              "\n",
              "scope.google = scope.google || {};\n",
              "scope.google.colab = scope.google.colab || {};\n",
              "scope.google.colab._files = {\n",
              "  _uploadFiles,\n",
              "  _uploadFilesContinue,\n",
              "};\n",
              "})(self);\n",
              "</script> "
            ]
          },
          "metadata": {}
        },
        {
          "output_type": "stream",
          "name": "stdout",
          "text": [
            "Saving violation_facts_none.csv to violation_facts_none (1).csv\n"
          ]
        }
      ]
    },
    {
      "cell_type": "code",
      "source": [
        "violation_tm = pd.read_csv(io.BytesIO(uploaded_none['violation_facts_none.csv']))"
      ],
      "metadata": {
        "colab": {
          "base_uri": "https://localhost:8080/"
        },
        "id": "RzOtOtPTWHH9",
        "outputId": "a38e3f13-fd49-4069-e3ff-ef854a7ca6a3"
      },
      "execution_count": null,
      "outputs": [
        {
          "output_type": "stream",
          "name": "stderr",
          "text": [
            "/usr/local/lib/python3.10/dist-packages/ipykernel/ipkernel.py:283: DeprecationWarning: `should_run_async` will not call `transform_cell` automatically in the future. Please pass the result to `transformed_cell` argument and any exception that happen during thetransform in `preprocessing_exc_tuple` in IPython 7.17 and above.\n",
            "  and should_run_async(code)\n"
          ]
        }
      ]
    },
    {
      "cell_type": "markdown",
      "source": [
        "## Non Violation"
      ],
      "metadata": {
        "id": "ZHJ4KfSlSNns"
      }
    },
    {
      "cell_type": "markdown",
      "source": [
        "### Processed"
      ],
      "metadata": {
        "id": "74JY6_l3SQB1"
      }
    },
    {
      "cell_type": "code",
      "source": [
        "nv_proc = files.upload()"
      ],
      "metadata": {
        "colab": {
          "base_uri": "https://localhost:8080/",
          "height": 129
        },
        "id": "OwiD4KkwSk3a",
        "outputId": "b5432d85-a3dc-4832-bb3c-63098f842182"
      },
      "execution_count": 7,
      "outputs": [
        {
          "output_type": "stream",
          "name": "stderr",
          "text": [
            "/usr/local/lib/python3.10/dist-packages/ipykernel/ipkernel.py:283: DeprecationWarning: `should_run_async` will not call `transform_cell` automatically in the future. Please pass the result to `transformed_cell` argument and any exception that happen during thetransform in `preprocessing_exc_tuple` in IPython 7.17 and above.\n",
            "  and should_run_async(code)\n"
          ]
        },
        {
          "output_type": "display_data",
          "data": {
            "text/plain": [
              "<IPython.core.display.HTML object>"
            ],
            "text/html": [
              "\n",
              "     <input type=\"file\" id=\"files-75a36217-8d59-4b73-99cd-a2616b2bbf27\" name=\"files[]\" multiple disabled\n",
              "        style=\"border:none\" />\n",
              "     <output id=\"result-75a36217-8d59-4b73-99cd-a2616b2bbf27\">\n",
              "      Upload widget is only available when the cell has been executed in the\n",
              "      current browser session. Please rerun this cell to enable.\n",
              "      </output>\n",
              "      <script>// Copyright 2017 Google LLC\n",
              "//\n",
              "// Licensed under the Apache License, Version 2.0 (the \"License\");\n",
              "// you may not use this file except in compliance with the License.\n",
              "// You may obtain a copy of the License at\n",
              "//\n",
              "//      http://www.apache.org/licenses/LICENSE-2.0\n",
              "//\n",
              "// Unless required by applicable law or agreed to in writing, software\n",
              "// distributed under the License is distributed on an \"AS IS\" BASIS,\n",
              "// WITHOUT WARRANTIES OR CONDITIONS OF ANY KIND, either express or implied.\n",
              "// See the License for the specific language governing permissions and\n",
              "// limitations under the License.\n",
              "\n",
              "/**\n",
              " * @fileoverview Helpers for google.colab Python module.\n",
              " */\n",
              "(function(scope) {\n",
              "function span(text, styleAttributes = {}) {\n",
              "  const element = document.createElement('span');\n",
              "  element.textContent = text;\n",
              "  for (const key of Object.keys(styleAttributes)) {\n",
              "    element.style[key] = styleAttributes[key];\n",
              "  }\n",
              "  return element;\n",
              "}\n",
              "\n",
              "// Max number of bytes which will be uploaded at a time.\n",
              "const MAX_PAYLOAD_SIZE = 100 * 1024;\n",
              "\n",
              "function _uploadFiles(inputId, outputId) {\n",
              "  const steps = uploadFilesStep(inputId, outputId);\n",
              "  const outputElement = document.getElementById(outputId);\n",
              "  // Cache steps on the outputElement to make it available for the next call\n",
              "  // to uploadFilesContinue from Python.\n",
              "  outputElement.steps = steps;\n",
              "\n",
              "  return _uploadFilesContinue(outputId);\n",
              "}\n",
              "\n",
              "// This is roughly an async generator (not supported in the browser yet),\n",
              "// where there are multiple asynchronous steps and the Python side is going\n",
              "// to poll for completion of each step.\n",
              "// This uses a Promise to block the python side on completion of each step,\n",
              "// then passes the result of the previous step as the input to the next step.\n",
              "function _uploadFilesContinue(outputId) {\n",
              "  const outputElement = document.getElementById(outputId);\n",
              "  const steps = outputElement.steps;\n",
              "\n",
              "  const next = steps.next(outputElement.lastPromiseValue);\n",
              "  return Promise.resolve(next.value.promise).then((value) => {\n",
              "    // Cache the last promise value to make it available to the next\n",
              "    // step of the generator.\n",
              "    outputElement.lastPromiseValue = value;\n",
              "    return next.value.response;\n",
              "  });\n",
              "}\n",
              "\n",
              "/**\n",
              " * Generator function which is called between each async step of the upload\n",
              " * process.\n",
              " * @param {string} inputId Element ID of the input file picker element.\n",
              " * @param {string} outputId Element ID of the output display.\n",
              " * @return {!Iterable<!Object>} Iterable of next steps.\n",
              " */\n",
              "function* uploadFilesStep(inputId, outputId) {\n",
              "  const inputElement = document.getElementById(inputId);\n",
              "  inputElement.disabled = false;\n",
              "\n",
              "  const outputElement = document.getElementById(outputId);\n",
              "  outputElement.innerHTML = '';\n",
              "\n",
              "  const pickedPromise = new Promise((resolve) => {\n",
              "    inputElement.addEventListener('change', (e) => {\n",
              "      resolve(e.target.files);\n",
              "    });\n",
              "  });\n",
              "\n",
              "  const cancel = document.createElement('button');\n",
              "  inputElement.parentElement.appendChild(cancel);\n",
              "  cancel.textContent = 'Cancel upload';\n",
              "  const cancelPromise = new Promise((resolve) => {\n",
              "    cancel.onclick = () => {\n",
              "      resolve(null);\n",
              "    };\n",
              "  });\n",
              "\n",
              "  // Wait for the user to pick the files.\n",
              "  const files = yield {\n",
              "    promise: Promise.race([pickedPromise, cancelPromise]),\n",
              "    response: {\n",
              "      action: 'starting',\n",
              "    }\n",
              "  };\n",
              "\n",
              "  cancel.remove();\n",
              "\n",
              "  // Disable the input element since further picks are not allowed.\n",
              "  inputElement.disabled = true;\n",
              "\n",
              "  if (!files) {\n",
              "    return {\n",
              "      response: {\n",
              "        action: 'complete',\n",
              "      }\n",
              "    };\n",
              "  }\n",
              "\n",
              "  for (const file of files) {\n",
              "    const li = document.createElement('li');\n",
              "    li.append(span(file.name, {fontWeight: 'bold'}));\n",
              "    li.append(span(\n",
              "        `(${file.type || 'n/a'}) - ${file.size} bytes, ` +\n",
              "        `last modified: ${\n",
              "            file.lastModifiedDate ? file.lastModifiedDate.toLocaleDateString() :\n",
              "                                    'n/a'} - `));\n",
              "    const percent = span('0% done');\n",
              "    li.appendChild(percent);\n",
              "\n",
              "    outputElement.appendChild(li);\n",
              "\n",
              "    const fileDataPromise = new Promise((resolve) => {\n",
              "      const reader = new FileReader();\n",
              "      reader.onload = (e) => {\n",
              "        resolve(e.target.result);\n",
              "      };\n",
              "      reader.readAsArrayBuffer(file);\n",
              "    });\n",
              "    // Wait for the data to be ready.\n",
              "    let fileData = yield {\n",
              "      promise: fileDataPromise,\n",
              "      response: {\n",
              "        action: 'continue',\n",
              "      }\n",
              "    };\n",
              "\n",
              "    // Use a chunked sending to avoid message size limits. See b/62115660.\n",
              "    let position = 0;\n",
              "    do {\n",
              "      const length = Math.min(fileData.byteLength - position, MAX_PAYLOAD_SIZE);\n",
              "      const chunk = new Uint8Array(fileData, position, length);\n",
              "      position += length;\n",
              "\n",
              "      const base64 = btoa(String.fromCharCode.apply(null, chunk));\n",
              "      yield {\n",
              "        response: {\n",
              "          action: 'append',\n",
              "          file: file.name,\n",
              "          data: base64,\n",
              "        },\n",
              "      };\n",
              "\n",
              "      let percentDone = fileData.byteLength === 0 ?\n",
              "          100 :\n",
              "          Math.round((position / fileData.byteLength) * 100);\n",
              "      percent.textContent = `${percentDone}% done`;\n",
              "\n",
              "    } while (position < fileData.byteLength);\n",
              "  }\n",
              "\n",
              "  // All done.\n",
              "  yield {\n",
              "    response: {\n",
              "      action: 'complete',\n",
              "    }\n",
              "  };\n",
              "}\n",
              "\n",
              "scope.google = scope.google || {};\n",
              "scope.google.colab = scope.google.colab || {};\n",
              "scope.google.colab._files = {\n",
              "  _uploadFiles,\n",
              "  _uploadFilesContinue,\n",
              "};\n",
              "})(self);\n",
              "</script> "
            ]
          },
          "metadata": {}
        },
        {
          "output_type": "stream",
          "name": "stdout",
          "text": [
            "Saving non_violation_facts_processed.csv to non_violation_facts_processed.csv\n"
          ]
        }
      ]
    },
    {
      "cell_type": "code",
      "source": [
        "violation_tm = pd.read_csv(io.BytesIO(nv_proc['non_violation_facts_processed.csv']))"
      ],
      "metadata": {
        "colab": {
          "base_uri": "https://localhost:8080/"
        },
        "id": "drq2QhQsSodR",
        "outputId": "e0538110-551a-4b5b-aa5c-2262c5a446d3"
      },
      "execution_count": 8,
      "outputs": [
        {
          "output_type": "stream",
          "name": "stderr",
          "text": [
            "/usr/local/lib/python3.10/dist-packages/ipykernel/ipkernel.py:283: DeprecationWarning: `should_run_async` will not call `transform_cell` automatically in the future. Please pass the result to `transformed_cell` argument and any exception that happen during thetransform in `preprocessing_exc_tuple` in IPython 7.17 and above.\n",
            "  and should_run_async(code)\n"
          ]
        }
      ]
    },
    {
      "cell_type": "markdown",
      "source": [
        "### Lemma"
      ],
      "metadata": {
        "id": "_ZvDSzmSSU16"
      }
    },
    {
      "cell_type": "code",
      "source": [
        "nv_lemma = files.upload()"
      ],
      "metadata": {
        "colab": {
          "base_uri": "https://localhost:8080/",
          "height": 129
        },
        "id": "wgGHu6kkSvCn",
        "outputId": "c87d72fe-ea68-42bf-ae9d-1bce00daa53b"
      },
      "execution_count": 26,
      "outputs": [
        {
          "output_type": "stream",
          "name": "stderr",
          "text": [
            "/usr/local/lib/python3.10/dist-packages/ipykernel/ipkernel.py:283: DeprecationWarning: `should_run_async` will not call `transform_cell` automatically in the future. Please pass the result to `transformed_cell` argument and any exception that happen during thetransform in `preprocessing_exc_tuple` in IPython 7.17 and above.\n",
            "  and should_run_async(code)\n"
          ]
        },
        {
          "output_type": "display_data",
          "data": {
            "text/plain": [
              "<IPython.core.display.HTML object>"
            ],
            "text/html": [
              "\n",
              "     <input type=\"file\" id=\"files-fc30a7e9-6ccc-49eb-b49a-633438b3fb2f\" name=\"files[]\" multiple disabled\n",
              "        style=\"border:none\" />\n",
              "     <output id=\"result-fc30a7e9-6ccc-49eb-b49a-633438b3fb2f\">\n",
              "      Upload widget is only available when the cell has been executed in the\n",
              "      current browser session. Please rerun this cell to enable.\n",
              "      </output>\n",
              "      <script>// Copyright 2017 Google LLC\n",
              "//\n",
              "// Licensed under the Apache License, Version 2.0 (the \"License\");\n",
              "// you may not use this file except in compliance with the License.\n",
              "// You may obtain a copy of the License at\n",
              "//\n",
              "//      http://www.apache.org/licenses/LICENSE-2.0\n",
              "//\n",
              "// Unless required by applicable law or agreed to in writing, software\n",
              "// distributed under the License is distributed on an \"AS IS\" BASIS,\n",
              "// WITHOUT WARRANTIES OR CONDITIONS OF ANY KIND, either express or implied.\n",
              "// See the License for the specific language governing permissions and\n",
              "// limitations under the License.\n",
              "\n",
              "/**\n",
              " * @fileoverview Helpers for google.colab Python module.\n",
              " */\n",
              "(function(scope) {\n",
              "function span(text, styleAttributes = {}) {\n",
              "  const element = document.createElement('span');\n",
              "  element.textContent = text;\n",
              "  for (const key of Object.keys(styleAttributes)) {\n",
              "    element.style[key] = styleAttributes[key];\n",
              "  }\n",
              "  return element;\n",
              "}\n",
              "\n",
              "// Max number of bytes which will be uploaded at a time.\n",
              "const MAX_PAYLOAD_SIZE = 100 * 1024;\n",
              "\n",
              "function _uploadFiles(inputId, outputId) {\n",
              "  const steps = uploadFilesStep(inputId, outputId);\n",
              "  const outputElement = document.getElementById(outputId);\n",
              "  // Cache steps on the outputElement to make it available for the next call\n",
              "  // to uploadFilesContinue from Python.\n",
              "  outputElement.steps = steps;\n",
              "\n",
              "  return _uploadFilesContinue(outputId);\n",
              "}\n",
              "\n",
              "// This is roughly an async generator (not supported in the browser yet),\n",
              "// where there are multiple asynchronous steps and the Python side is going\n",
              "// to poll for completion of each step.\n",
              "// This uses a Promise to block the python side on completion of each step,\n",
              "// then passes the result of the previous step as the input to the next step.\n",
              "function _uploadFilesContinue(outputId) {\n",
              "  const outputElement = document.getElementById(outputId);\n",
              "  const steps = outputElement.steps;\n",
              "\n",
              "  const next = steps.next(outputElement.lastPromiseValue);\n",
              "  return Promise.resolve(next.value.promise).then((value) => {\n",
              "    // Cache the last promise value to make it available to the next\n",
              "    // step of the generator.\n",
              "    outputElement.lastPromiseValue = value;\n",
              "    return next.value.response;\n",
              "  });\n",
              "}\n",
              "\n",
              "/**\n",
              " * Generator function which is called between each async step of the upload\n",
              " * process.\n",
              " * @param {string} inputId Element ID of the input file picker element.\n",
              " * @param {string} outputId Element ID of the output display.\n",
              " * @return {!Iterable<!Object>} Iterable of next steps.\n",
              " */\n",
              "function* uploadFilesStep(inputId, outputId) {\n",
              "  const inputElement = document.getElementById(inputId);\n",
              "  inputElement.disabled = false;\n",
              "\n",
              "  const outputElement = document.getElementById(outputId);\n",
              "  outputElement.innerHTML = '';\n",
              "\n",
              "  const pickedPromise = new Promise((resolve) => {\n",
              "    inputElement.addEventListener('change', (e) => {\n",
              "      resolve(e.target.files);\n",
              "    });\n",
              "  });\n",
              "\n",
              "  const cancel = document.createElement('button');\n",
              "  inputElement.parentElement.appendChild(cancel);\n",
              "  cancel.textContent = 'Cancel upload';\n",
              "  const cancelPromise = new Promise((resolve) => {\n",
              "    cancel.onclick = () => {\n",
              "      resolve(null);\n",
              "    };\n",
              "  });\n",
              "\n",
              "  // Wait for the user to pick the files.\n",
              "  const files = yield {\n",
              "    promise: Promise.race([pickedPromise, cancelPromise]),\n",
              "    response: {\n",
              "      action: 'starting',\n",
              "    }\n",
              "  };\n",
              "\n",
              "  cancel.remove();\n",
              "\n",
              "  // Disable the input element since further picks are not allowed.\n",
              "  inputElement.disabled = true;\n",
              "\n",
              "  if (!files) {\n",
              "    return {\n",
              "      response: {\n",
              "        action: 'complete',\n",
              "      }\n",
              "    };\n",
              "  }\n",
              "\n",
              "  for (const file of files) {\n",
              "    const li = document.createElement('li');\n",
              "    li.append(span(file.name, {fontWeight: 'bold'}));\n",
              "    li.append(span(\n",
              "        `(${file.type || 'n/a'}) - ${file.size} bytes, ` +\n",
              "        `last modified: ${\n",
              "            file.lastModifiedDate ? file.lastModifiedDate.toLocaleDateString() :\n",
              "                                    'n/a'} - `));\n",
              "    const percent = span('0% done');\n",
              "    li.appendChild(percent);\n",
              "\n",
              "    outputElement.appendChild(li);\n",
              "\n",
              "    const fileDataPromise = new Promise((resolve) => {\n",
              "      const reader = new FileReader();\n",
              "      reader.onload = (e) => {\n",
              "        resolve(e.target.result);\n",
              "      };\n",
              "      reader.readAsArrayBuffer(file);\n",
              "    });\n",
              "    // Wait for the data to be ready.\n",
              "    let fileData = yield {\n",
              "      promise: fileDataPromise,\n",
              "      response: {\n",
              "        action: 'continue',\n",
              "      }\n",
              "    };\n",
              "\n",
              "    // Use a chunked sending to avoid message size limits. See b/62115660.\n",
              "    let position = 0;\n",
              "    do {\n",
              "      const length = Math.min(fileData.byteLength - position, MAX_PAYLOAD_SIZE);\n",
              "      const chunk = new Uint8Array(fileData, position, length);\n",
              "      position += length;\n",
              "\n",
              "      const base64 = btoa(String.fromCharCode.apply(null, chunk));\n",
              "      yield {\n",
              "        response: {\n",
              "          action: 'append',\n",
              "          file: file.name,\n",
              "          data: base64,\n",
              "        },\n",
              "      };\n",
              "\n",
              "      let percentDone = fileData.byteLength === 0 ?\n",
              "          100 :\n",
              "          Math.round((position / fileData.byteLength) * 100);\n",
              "      percent.textContent = `${percentDone}% done`;\n",
              "\n",
              "    } while (position < fileData.byteLength);\n",
              "  }\n",
              "\n",
              "  // All done.\n",
              "  yield {\n",
              "    response: {\n",
              "      action: 'complete',\n",
              "    }\n",
              "  };\n",
              "}\n",
              "\n",
              "scope.google = scope.google || {};\n",
              "scope.google.colab = scope.google.colab || {};\n",
              "scope.google.colab._files = {\n",
              "  _uploadFiles,\n",
              "  _uploadFilesContinue,\n",
              "};\n",
              "})(self);\n",
              "</script> "
            ]
          },
          "metadata": {}
        },
        {
          "output_type": "stream",
          "name": "stdout",
          "text": [
            "Saving non_violation_facts_lemma.csv to non_violation_facts_lemma.csv\n"
          ]
        }
      ]
    },
    {
      "cell_type": "code",
      "source": [
        "violation_tm = pd.read_csv(io.BytesIO(nv_lemma['non_violation_facts_lemma.csv']))"
      ],
      "metadata": {
        "colab": {
          "base_uri": "https://localhost:8080/"
        },
        "id": "uDPaDXjbSxik",
        "outputId": "14705a0d-9e2e-4da3-e341-c32de53348f0"
      },
      "execution_count": 27,
      "outputs": [
        {
          "output_type": "stream",
          "name": "stderr",
          "text": [
            "/usr/local/lib/python3.10/dist-packages/ipykernel/ipkernel.py:283: DeprecationWarning: `should_run_async` will not call `transform_cell` automatically in the future. Please pass the result to `transformed_cell` argument and any exception that happen during thetransform in `preprocessing_exc_tuple` in IPython 7.17 and above.\n",
            "  and should_run_async(code)\n"
          ]
        }
      ]
    },
    {
      "cell_type": "markdown",
      "source": [
        "### SW Removal"
      ],
      "metadata": {
        "id": "3-TLspruSWOG"
      }
    },
    {
      "cell_type": "code",
      "source": [
        "nv_sw = files.upload()"
      ],
      "metadata": {
        "colab": {
          "base_uri": "https://localhost:8080/",
          "height": 129
        },
        "id": "w_0V-hsVS3J6",
        "outputId": "3cfb4b84-2dcd-4b95-b245-7d523bcee275"
      },
      "execution_count": 43,
      "outputs": [
        {
          "output_type": "stream",
          "name": "stderr",
          "text": [
            "/usr/local/lib/python3.10/dist-packages/ipykernel/ipkernel.py:283: DeprecationWarning: `should_run_async` will not call `transform_cell` automatically in the future. Please pass the result to `transformed_cell` argument and any exception that happen during thetransform in `preprocessing_exc_tuple` in IPython 7.17 and above.\n",
            "  and should_run_async(code)\n"
          ]
        },
        {
          "output_type": "display_data",
          "data": {
            "text/plain": [
              "<IPython.core.display.HTML object>"
            ],
            "text/html": [
              "\n",
              "     <input type=\"file\" id=\"files-a62d3780-2d37-4778-9b33-43142a28acb4\" name=\"files[]\" multiple disabled\n",
              "        style=\"border:none\" />\n",
              "     <output id=\"result-a62d3780-2d37-4778-9b33-43142a28acb4\">\n",
              "      Upload widget is only available when the cell has been executed in the\n",
              "      current browser session. Please rerun this cell to enable.\n",
              "      </output>\n",
              "      <script>// Copyright 2017 Google LLC\n",
              "//\n",
              "// Licensed under the Apache License, Version 2.0 (the \"License\");\n",
              "// you may not use this file except in compliance with the License.\n",
              "// You may obtain a copy of the License at\n",
              "//\n",
              "//      http://www.apache.org/licenses/LICENSE-2.0\n",
              "//\n",
              "// Unless required by applicable law or agreed to in writing, software\n",
              "// distributed under the License is distributed on an \"AS IS\" BASIS,\n",
              "// WITHOUT WARRANTIES OR CONDITIONS OF ANY KIND, either express or implied.\n",
              "// See the License for the specific language governing permissions and\n",
              "// limitations under the License.\n",
              "\n",
              "/**\n",
              " * @fileoverview Helpers for google.colab Python module.\n",
              " */\n",
              "(function(scope) {\n",
              "function span(text, styleAttributes = {}) {\n",
              "  const element = document.createElement('span');\n",
              "  element.textContent = text;\n",
              "  for (const key of Object.keys(styleAttributes)) {\n",
              "    element.style[key] = styleAttributes[key];\n",
              "  }\n",
              "  return element;\n",
              "}\n",
              "\n",
              "// Max number of bytes which will be uploaded at a time.\n",
              "const MAX_PAYLOAD_SIZE = 100 * 1024;\n",
              "\n",
              "function _uploadFiles(inputId, outputId) {\n",
              "  const steps = uploadFilesStep(inputId, outputId);\n",
              "  const outputElement = document.getElementById(outputId);\n",
              "  // Cache steps on the outputElement to make it available for the next call\n",
              "  // to uploadFilesContinue from Python.\n",
              "  outputElement.steps = steps;\n",
              "\n",
              "  return _uploadFilesContinue(outputId);\n",
              "}\n",
              "\n",
              "// This is roughly an async generator (not supported in the browser yet),\n",
              "// where there are multiple asynchronous steps and the Python side is going\n",
              "// to poll for completion of each step.\n",
              "// This uses a Promise to block the python side on completion of each step,\n",
              "// then passes the result of the previous step as the input to the next step.\n",
              "function _uploadFilesContinue(outputId) {\n",
              "  const outputElement = document.getElementById(outputId);\n",
              "  const steps = outputElement.steps;\n",
              "\n",
              "  const next = steps.next(outputElement.lastPromiseValue);\n",
              "  return Promise.resolve(next.value.promise).then((value) => {\n",
              "    // Cache the last promise value to make it available to the next\n",
              "    // step of the generator.\n",
              "    outputElement.lastPromiseValue = value;\n",
              "    return next.value.response;\n",
              "  });\n",
              "}\n",
              "\n",
              "/**\n",
              " * Generator function which is called between each async step of the upload\n",
              " * process.\n",
              " * @param {string} inputId Element ID of the input file picker element.\n",
              " * @param {string} outputId Element ID of the output display.\n",
              " * @return {!Iterable<!Object>} Iterable of next steps.\n",
              " */\n",
              "function* uploadFilesStep(inputId, outputId) {\n",
              "  const inputElement = document.getElementById(inputId);\n",
              "  inputElement.disabled = false;\n",
              "\n",
              "  const outputElement = document.getElementById(outputId);\n",
              "  outputElement.innerHTML = '';\n",
              "\n",
              "  const pickedPromise = new Promise((resolve) => {\n",
              "    inputElement.addEventListener('change', (e) => {\n",
              "      resolve(e.target.files);\n",
              "    });\n",
              "  });\n",
              "\n",
              "  const cancel = document.createElement('button');\n",
              "  inputElement.parentElement.appendChild(cancel);\n",
              "  cancel.textContent = 'Cancel upload';\n",
              "  const cancelPromise = new Promise((resolve) => {\n",
              "    cancel.onclick = () => {\n",
              "      resolve(null);\n",
              "    };\n",
              "  });\n",
              "\n",
              "  // Wait for the user to pick the files.\n",
              "  const files = yield {\n",
              "    promise: Promise.race([pickedPromise, cancelPromise]),\n",
              "    response: {\n",
              "      action: 'starting',\n",
              "    }\n",
              "  };\n",
              "\n",
              "  cancel.remove();\n",
              "\n",
              "  // Disable the input element since further picks are not allowed.\n",
              "  inputElement.disabled = true;\n",
              "\n",
              "  if (!files) {\n",
              "    return {\n",
              "      response: {\n",
              "        action: 'complete',\n",
              "      }\n",
              "    };\n",
              "  }\n",
              "\n",
              "  for (const file of files) {\n",
              "    const li = document.createElement('li');\n",
              "    li.append(span(file.name, {fontWeight: 'bold'}));\n",
              "    li.append(span(\n",
              "        `(${file.type || 'n/a'}) - ${file.size} bytes, ` +\n",
              "        `last modified: ${\n",
              "            file.lastModifiedDate ? file.lastModifiedDate.toLocaleDateString() :\n",
              "                                    'n/a'} - `));\n",
              "    const percent = span('0% done');\n",
              "    li.appendChild(percent);\n",
              "\n",
              "    outputElement.appendChild(li);\n",
              "\n",
              "    const fileDataPromise = new Promise((resolve) => {\n",
              "      const reader = new FileReader();\n",
              "      reader.onload = (e) => {\n",
              "        resolve(e.target.result);\n",
              "      };\n",
              "      reader.readAsArrayBuffer(file);\n",
              "    });\n",
              "    // Wait for the data to be ready.\n",
              "    let fileData = yield {\n",
              "      promise: fileDataPromise,\n",
              "      response: {\n",
              "        action: 'continue',\n",
              "      }\n",
              "    };\n",
              "\n",
              "    // Use a chunked sending to avoid message size limits. See b/62115660.\n",
              "    let position = 0;\n",
              "    do {\n",
              "      const length = Math.min(fileData.byteLength - position, MAX_PAYLOAD_SIZE);\n",
              "      const chunk = new Uint8Array(fileData, position, length);\n",
              "      position += length;\n",
              "\n",
              "      const base64 = btoa(String.fromCharCode.apply(null, chunk));\n",
              "      yield {\n",
              "        response: {\n",
              "          action: 'append',\n",
              "          file: file.name,\n",
              "          data: base64,\n",
              "        },\n",
              "      };\n",
              "\n",
              "      let percentDone = fileData.byteLength === 0 ?\n",
              "          100 :\n",
              "          Math.round((position / fileData.byteLength) * 100);\n",
              "      percent.textContent = `${percentDone}% done`;\n",
              "\n",
              "    } while (position < fileData.byteLength);\n",
              "  }\n",
              "\n",
              "  // All done.\n",
              "  yield {\n",
              "    response: {\n",
              "      action: 'complete',\n",
              "    }\n",
              "  };\n",
              "}\n",
              "\n",
              "scope.google = scope.google || {};\n",
              "scope.google.colab = scope.google.colab || {};\n",
              "scope.google.colab._files = {\n",
              "  _uploadFiles,\n",
              "  _uploadFilesContinue,\n",
              "};\n",
              "})(self);\n",
              "</script> "
            ]
          },
          "metadata": {}
        },
        {
          "output_type": "stream",
          "name": "stdout",
          "text": [
            "Saving non_violation_facts_sw.csv to non_violation_facts_sw.csv\n"
          ]
        }
      ]
    },
    {
      "cell_type": "code",
      "source": [
        "violation_tm = pd.read_csv(io.BytesIO(nv_sw['non_violation_facts_sw.csv']))"
      ],
      "metadata": {
        "colab": {
          "base_uri": "https://localhost:8080/"
        },
        "id": "_k-tqskvS7NJ",
        "outputId": "d8e596e9-dd19-4d6f-d892-828def27ae2e"
      },
      "execution_count": 44,
      "outputs": [
        {
          "output_type": "stream",
          "name": "stderr",
          "text": [
            "/usr/local/lib/python3.10/dist-packages/ipykernel/ipkernel.py:283: DeprecationWarning: `should_run_async` will not call `transform_cell` automatically in the future. Please pass the result to `transformed_cell` argument and any exception that happen during thetransform in `preprocessing_exc_tuple` in IPython 7.17 and above.\n",
            "  and should_run_async(code)\n"
          ]
        }
      ]
    },
    {
      "cell_type": "markdown",
      "source": [
        "### No Preprocessing"
      ],
      "metadata": {
        "id": "7x3khMSUSeoy"
      }
    },
    {
      "cell_type": "code",
      "source": [
        "nv_np = files.upload()"
      ],
      "metadata": {
        "colab": {
          "base_uri": "https://localhost:8080/",
          "height": 129
        },
        "id": "yto5vMeCTBq2",
        "outputId": "b1642eb9-639c-4e4d-af09-8f5a9a58201b"
      },
      "execution_count": 60,
      "outputs": [
        {
          "output_type": "stream",
          "name": "stderr",
          "text": [
            "/usr/local/lib/python3.10/dist-packages/ipykernel/ipkernel.py:283: DeprecationWarning: `should_run_async` will not call `transform_cell` automatically in the future. Please pass the result to `transformed_cell` argument and any exception that happen during thetransform in `preprocessing_exc_tuple` in IPython 7.17 and above.\n",
            "  and should_run_async(code)\n"
          ]
        },
        {
          "output_type": "display_data",
          "data": {
            "text/plain": [
              "<IPython.core.display.HTML object>"
            ],
            "text/html": [
              "\n",
              "     <input type=\"file\" id=\"files-603be90e-e27e-418e-8ef8-79d08cbedc5f\" name=\"files[]\" multiple disabled\n",
              "        style=\"border:none\" />\n",
              "     <output id=\"result-603be90e-e27e-418e-8ef8-79d08cbedc5f\">\n",
              "      Upload widget is only available when the cell has been executed in the\n",
              "      current browser session. Please rerun this cell to enable.\n",
              "      </output>\n",
              "      <script>// Copyright 2017 Google LLC\n",
              "//\n",
              "// Licensed under the Apache License, Version 2.0 (the \"License\");\n",
              "// you may not use this file except in compliance with the License.\n",
              "// You may obtain a copy of the License at\n",
              "//\n",
              "//      http://www.apache.org/licenses/LICENSE-2.0\n",
              "//\n",
              "// Unless required by applicable law or agreed to in writing, software\n",
              "// distributed under the License is distributed on an \"AS IS\" BASIS,\n",
              "// WITHOUT WARRANTIES OR CONDITIONS OF ANY KIND, either express or implied.\n",
              "// See the License for the specific language governing permissions and\n",
              "// limitations under the License.\n",
              "\n",
              "/**\n",
              " * @fileoverview Helpers for google.colab Python module.\n",
              " */\n",
              "(function(scope) {\n",
              "function span(text, styleAttributes = {}) {\n",
              "  const element = document.createElement('span');\n",
              "  element.textContent = text;\n",
              "  for (const key of Object.keys(styleAttributes)) {\n",
              "    element.style[key] = styleAttributes[key];\n",
              "  }\n",
              "  return element;\n",
              "}\n",
              "\n",
              "// Max number of bytes which will be uploaded at a time.\n",
              "const MAX_PAYLOAD_SIZE = 100 * 1024;\n",
              "\n",
              "function _uploadFiles(inputId, outputId) {\n",
              "  const steps = uploadFilesStep(inputId, outputId);\n",
              "  const outputElement = document.getElementById(outputId);\n",
              "  // Cache steps on the outputElement to make it available for the next call\n",
              "  // to uploadFilesContinue from Python.\n",
              "  outputElement.steps = steps;\n",
              "\n",
              "  return _uploadFilesContinue(outputId);\n",
              "}\n",
              "\n",
              "// This is roughly an async generator (not supported in the browser yet),\n",
              "// where there are multiple asynchronous steps and the Python side is going\n",
              "// to poll for completion of each step.\n",
              "// This uses a Promise to block the python side on completion of each step,\n",
              "// then passes the result of the previous step as the input to the next step.\n",
              "function _uploadFilesContinue(outputId) {\n",
              "  const outputElement = document.getElementById(outputId);\n",
              "  const steps = outputElement.steps;\n",
              "\n",
              "  const next = steps.next(outputElement.lastPromiseValue);\n",
              "  return Promise.resolve(next.value.promise).then((value) => {\n",
              "    // Cache the last promise value to make it available to the next\n",
              "    // step of the generator.\n",
              "    outputElement.lastPromiseValue = value;\n",
              "    return next.value.response;\n",
              "  });\n",
              "}\n",
              "\n",
              "/**\n",
              " * Generator function which is called between each async step of the upload\n",
              " * process.\n",
              " * @param {string} inputId Element ID of the input file picker element.\n",
              " * @param {string} outputId Element ID of the output display.\n",
              " * @return {!Iterable<!Object>} Iterable of next steps.\n",
              " */\n",
              "function* uploadFilesStep(inputId, outputId) {\n",
              "  const inputElement = document.getElementById(inputId);\n",
              "  inputElement.disabled = false;\n",
              "\n",
              "  const outputElement = document.getElementById(outputId);\n",
              "  outputElement.innerHTML = '';\n",
              "\n",
              "  const pickedPromise = new Promise((resolve) => {\n",
              "    inputElement.addEventListener('change', (e) => {\n",
              "      resolve(e.target.files);\n",
              "    });\n",
              "  });\n",
              "\n",
              "  const cancel = document.createElement('button');\n",
              "  inputElement.parentElement.appendChild(cancel);\n",
              "  cancel.textContent = 'Cancel upload';\n",
              "  const cancelPromise = new Promise((resolve) => {\n",
              "    cancel.onclick = () => {\n",
              "      resolve(null);\n",
              "    };\n",
              "  });\n",
              "\n",
              "  // Wait for the user to pick the files.\n",
              "  const files = yield {\n",
              "    promise: Promise.race([pickedPromise, cancelPromise]),\n",
              "    response: {\n",
              "      action: 'starting',\n",
              "    }\n",
              "  };\n",
              "\n",
              "  cancel.remove();\n",
              "\n",
              "  // Disable the input element since further picks are not allowed.\n",
              "  inputElement.disabled = true;\n",
              "\n",
              "  if (!files) {\n",
              "    return {\n",
              "      response: {\n",
              "        action: 'complete',\n",
              "      }\n",
              "    };\n",
              "  }\n",
              "\n",
              "  for (const file of files) {\n",
              "    const li = document.createElement('li');\n",
              "    li.append(span(file.name, {fontWeight: 'bold'}));\n",
              "    li.append(span(\n",
              "        `(${file.type || 'n/a'}) - ${file.size} bytes, ` +\n",
              "        `last modified: ${\n",
              "            file.lastModifiedDate ? file.lastModifiedDate.toLocaleDateString() :\n",
              "                                    'n/a'} - `));\n",
              "    const percent = span('0% done');\n",
              "    li.appendChild(percent);\n",
              "\n",
              "    outputElement.appendChild(li);\n",
              "\n",
              "    const fileDataPromise = new Promise((resolve) => {\n",
              "      const reader = new FileReader();\n",
              "      reader.onload = (e) => {\n",
              "        resolve(e.target.result);\n",
              "      };\n",
              "      reader.readAsArrayBuffer(file);\n",
              "    });\n",
              "    // Wait for the data to be ready.\n",
              "    let fileData = yield {\n",
              "      promise: fileDataPromise,\n",
              "      response: {\n",
              "        action: 'continue',\n",
              "      }\n",
              "    };\n",
              "\n",
              "    // Use a chunked sending to avoid message size limits. See b/62115660.\n",
              "    let position = 0;\n",
              "    do {\n",
              "      const length = Math.min(fileData.byteLength - position, MAX_PAYLOAD_SIZE);\n",
              "      const chunk = new Uint8Array(fileData, position, length);\n",
              "      position += length;\n",
              "\n",
              "      const base64 = btoa(String.fromCharCode.apply(null, chunk));\n",
              "      yield {\n",
              "        response: {\n",
              "          action: 'append',\n",
              "          file: file.name,\n",
              "          data: base64,\n",
              "        },\n",
              "      };\n",
              "\n",
              "      let percentDone = fileData.byteLength === 0 ?\n",
              "          100 :\n",
              "          Math.round((position / fileData.byteLength) * 100);\n",
              "      percent.textContent = `${percentDone}% done`;\n",
              "\n",
              "    } while (position < fileData.byteLength);\n",
              "  }\n",
              "\n",
              "  // All done.\n",
              "  yield {\n",
              "    response: {\n",
              "      action: 'complete',\n",
              "    }\n",
              "  };\n",
              "}\n",
              "\n",
              "scope.google = scope.google || {};\n",
              "scope.google.colab = scope.google.colab || {};\n",
              "scope.google.colab._files = {\n",
              "  _uploadFiles,\n",
              "  _uploadFilesContinue,\n",
              "};\n",
              "})(self);\n",
              "</script> "
            ]
          },
          "metadata": {}
        },
        {
          "output_type": "stream",
          "name": "stdout",
          "text": [
            "Saving non_violation_facts_none.csv to non_violation_facts_none.csv\n"
          ]
        }
      ]
    },
    {
      "cell_type": "code",
      "source": [
        "violation_tm = pd.read_csv(io.BytesIO(nv_np['non_violation_facts_none.csv']))"
      ],
      "metadata": {
        "colab": {
          "base_uri": "https://localhost:8080/"
        },
        "id": "R01TMuj6TFE0",
        "outputId": "8564e40b-13a7-47c9-d3ed-97c8213cccf9"
      },
      "execution_count": 61,
      "outputs": [
        {
          "output_type": "stream",
          "name": "stderr",
          "text": [
            "/usr/local/lib/python3.10/dist-packages/ipykernel/ipkernel.py:283: DeprecationWarning: `should_run_async` will not call `transform_cell` automatically in the future. Please pass the result to `transformed_cell` argument and any exception that happen during thetransform in `preprocessing_exc_tuple` in IPython 7.17 and above.\n",
            "  and should_run_async(code)\n"
          ]
        }
      ]
    },
    {
      "cell_type": "code",
      "source": [
        "violation_tm.head()"
      ],
      "metadata": {
        "id": "uSkRe8f6RU1f",
        "colab": {
          "base_uri": "https://localhost:8080/",
          "height": 263
        },
        "outputId": "0991b27d-8088-4565-e46b-fdd9ebefbbd1"
      },
      "execution_count": 62,
      "outputs": [
        {
          "output_type": "stream",
          "name": "stderr",
          "text": [
            "/usr/local/lib/python3.10/dist-packages/ipykernel/ipkernel.py:283: DeprecationWarning: `should_run_async` will not call `transform_cell` automatically in the future. Please pass the result to `transformed_cell` argument and any exception that happen during thetransform in `preprocessing_exc_tuple` in IPython 7.17 and above.\n",
            "  and should_run_async(code)\n"
          ]
        },
        {
          "output_type": "execute_result",
          "data": {
            "text/plain": [
              "   Unnamed: 0                                              Facts  Cluster  x0  \\\n",
              "0           0  in and lives in kragujevac at the relevant tim...      NaN NaN   \n",
              "1           1  the applicant was born in and lives in weinhei...      NaN NaN   \n",
              "2           2  the applicant company is a public limited comp...      NaN NaN   \n",
              "3           3  is a newspaper published in baku it has legal ...      NaN NaN   \n",
              "4           4  the applicant was born in and lives in warsaw ...      NaN NaN   \n",
              "\n",
              "   x1  \n",
              "0 NaN  \n",
              "1 NaN  \n",
              "2 NaN  \n",
              "3 NaN  \n",
              "4 NaN  "
            ],
            "text/html": [
              "\n",
              "  <div id=\"df-34598699-bc18-4cab-8626-5f115ccb3cba\">\n",
              "    <div class=\"colab-df-container\">\n",
              "      <div>\n",
              "<style scoped>\n",
              "    .dataframe tbody tr th:only-of-type {\n",
              "        vertical-align: middle;\n",
              "    }\n",
              "\n",
              "    .dataframe tbody tr th {\n",
              "        vertical-align: top;\n",
              "    }\n",
              "\n",
              "    .dataframe thead th {\n",
              "        text-align: right;\n",
              "    }\n",
              "</style>\n",
              "<table border=\"1\" class=\"dataframe\">\n",
              "  <thead>\n",
              "    <tr style=\"text-align: right;\">\n",
              "      <th></th>\n",
              "      <th>Unnamed: 0</th>\n",
              "      <th>Facts</th>\n",
              "      <th>Cluster</th>\n",
              "      <th>x0</th>\n",
              "      <th>x1</th>\n",
              "    </tr>\n",
              "  </thead>\n",
              "  <tbody>\n",
              "    <tr>\n",
              "      <th>0</th>\n",
              "      <td>0</td>\n",
              "      <td>in and lives in kragujevac at the relevant tim...</td>\n",
              "      <td>NaN</td>\n",
              "      <td>NaN</td>\n",
              "      <td>NaN</td>\n",
              "    </tr>\n",
              "    <tr>\n",
              "      <th>1</th>\n",
              "      <td>1</td>\n",
              "      <td>the applicant was born in and lives in weinhei...</td>\n",
              "      <td>NaN</td>\n",
              "      <td>NaN</td>\n",
              "      <td>NaN</td>\n",
              "    </tr>\n",
              "    <tr>\n",
              "      <th>2</th>\n",
              "      <td>2</td>\n",
              "      <td>the applicant company is a public limited comp...</td>\n",
              "      <td>NaN</td>\n",
              "      <td>NaN</td>\n",
              "      <td>NaN</td>\n",
              "    </tr>\n",
              "    <tr>\n",
              "      <th>3</th>\n",
              "      <td>3</td>\n",
              "      <td>is a newspaper published in baku it has legal ...</td>\n",
              "      <td>NaN</td>\n",
              "      <td>NaN</td>\n",
              "      <td>NaN</td>\n",
              "    </tr>\n",
              "    <tr>\n",
              "      <th>4</th>\n",
              "      <td>4</td>\n",
              "      <td>the applicant was born in and lives in warsaw ...</td>\n",
              "      <td>NaN</td>\n",
              "      <td>NaN</td>\n",
              "      <td>NaN</td>\n",
              "    </tr>\n",
              "  </tbody>\n",
              "</table>\n",
              "</div>\n",
              "      <button class=\"colab-df-convert\" onclick=\"convertToInteractive('df-34598699-bc18-4cab-8626-5f115ccb3cba')\"\n",
              "              title=\"Convert this dataframe to an interactive table.\"\n",
              "              style=\"display:none;\">\n",
              "        \n",
              "  <svg xmlns=\"http://www.w3.org/2000/svg\" height=\"24px\"viewBox=\"0 0 24 24\"\n",
              "       width=\"24px\">\n",
              "    <path d=\"M0 0h24v24H0V0z\" fill=\"none\"/>\n",
              "    <path d=\"M18.56 5.44l.94 2.06.94-2.06 2.06-.94-2.06-.94-.94-2.06-.94 2.06-2.06.94zm-11 1L8.5 8.5l.94-2.06 2.06-.94-2.06-.94L8.5 2.5l-.94 2.06-2.06.94zm10 10l.94 2.06.94-2.06 2.06-.94-2.06-.94-.94-2.06-.94 2.06-2.06.94z\"/><path d=\"M17.41 7.96l-1.37-1.37c-.4-.4-.92-.59-1.43-.59-.52 0-1.04.2-1.43.59L10.3 9.45l-7.72 7.72c-.78.78-.78 2.05 0 2.83L4 21.41c.39.39.9.59 1.41.59.51 0 1.02-.2 1.41-.59l7.78-7.78 2.81-2.81c.8-.78.8-2.07 0-2.86zM5.41 20L4 18.59l7.72-7.72 1.47 1.35L5.41 20z\"/>\n",
              "  </svg>\n",
              "      </button>\n",
              "      \n",
              "  <style>\n",
              "    .colab-df-container {\n",
              "      display:flex;\n",
              "      flex-wrap:wrap;\n",
              "      gap: 12px;\n",
              "    }\n",
              "\n",
              "    .colab-df-convert {\n",
              "      background-color: #E8F0FE;\n",
              "      border: none;\n",
              "      border-radius: 50%;\n",
              "      cursor: pointer;\n",
              "      display: none;\n",
              "      fill: #1967D2;\n",
              "      height: 32px;\n",
              "      padding: 0 0 0 0;\n",
              "      width: 32px;\n",
              "    }\n",
              "\n",
              "    .colab-df-convert:hover {\n",
              "      background-color: #E2EBFA;\n",
              "      box-shadow: 0px 1px 2px rgba(60, 64, 67, 0.3), 0px 1px 3px 1px rgba(60, 64, 67, 0.15);\n",
              "      fill: #174EA6;\n",
              "    }\n",
              "\n",
              "    [theme=dark] .colab-df-convert {\n",
              "      background-color: #3B4455;\n",
              "      fill: #D2E3FC;\n",
              "    }\n",
              "\n",
              "    [theme=dark] .colab-df-convert:hover {\n",
              "      background-color: #434B5C;\n",
              "      box-shadow: 0px 1px 3px 1px rgba(0, 0, 0, 0.15);\n",
              "      filter: drop-shadow(0px 1px 2px rgba(0, 0, 0, 0.3));\n",
              "      fill: #FFFFFF;\n",
              "    }\n",
              "  </style>\n",
              "\n",
              "      <script>\n",
              "        const buttonEl =\n",
              "          document.querySelector('#df-34598699-bc18-4cab-8626-5f115ccb3cba button.colab-df-convert');\n",
              "        buttonEl.style.display =\n",
              "          google.colab.kernel.accessAllowed ? 'block' : 'none';\n",
              "\n",
              "        async function convertToInteractive(key) {\n",
              "          const element = document.querySelector('#df-34598699-bc18-4cab-8626-5f115ccb3cba');\n",
              "          const dataTable =\n",
              "            await google.colab.kernel.invokeFunction('convertToInteractive',\n",
              "                                                     [key], {});\n",
              "          if (!dataTable) return;\n",
              "\n",
              "          const docLinkHtml = 'Like what you see? Visit the ' +\n",
              "            '<a target=\"_blank\" href=https://colab.research.google.com/notebooks/data_table.ipynb>data table notebook</a>'\n",
              "            + ' to learn more about interactive tables.';\n",
              "          element.innerHTML = '';\n",
              "          dataTable['output_type'] = 'display_data';\n",
              "          await google.colab.output.renderOutput(dataTable, element);\n",
              "          const docLink = document.createElement('div');\n",
              "          docLink.innerHTML = docLinkHtml;\n",
              "          element.appendChild(docLink);\n",
              "        }\n",
              "      </script>\n",
              "    </div>\n",
              "  </div>\n",
              "  "
            ]
          },
          "metadata": {},
          "execution_count": 62
        }
      ]
    },
    {
      "cell_type": "markdown",
      "source": [
        "#### Some more pre-processing"
      ],
      "metadata": {
        "id": "yMMuQQXdViax"
      }
    },
    {
      "cell_type": "code",
      "source": [
        "# Splitting into a list of lists of words\n",
        "facts = violation_tm['Facts'].tolist()\n",
        "tm = topic_modeling(facts)\n",
        "facts_words = tm.organise()\n",
        "print(len(facts_words))"
      ],
      "metadata": {
        "id": "i6tA8GGiRX0J",
        "colab": {
          "base_uri": "https://localhost:8080/"
        },
        "outputId": "7b01d284-8f34-4c9b-fba8-104a50630014"
      },
      "execution_count": 69,
      "outputs": [
        {
          "output_type": "stream",
          "name": "stdout",
          "text": [
            "73\n"
          ]
        },
        {
          "output_type": "stream",
          "name": "stderr",
          "text": [
            "/usr/local/lib/python3.10/dist-packages/ipykernel/ipkernel.py:283: DeprecationWarning: `should_run_async` will not call `transform_cell` automatically in the future. Please pass the result to `transformed_cell` argument and any exception that happen during thetransform in `preprocessing_exc_tuple` in IPython 7.17 and above.\n",
            "  and should_run_async(code)\n"
          ]
        }
      ]
    },
    {
      "cell_type": "code",
      "source": [
        "# Removing non english words\n",
        "final_data = []\n",
        "english_words = set(nltk.corpus.words.words())\n",
        "for i in range(0, len(facts_words)):\n",
        "  facts_words_filtered = tm.remove_lang_words(facts_words[i], english_words)\n",
        "  final_data.append(facts_words_filtered)"
      ],
      "metadata": {
        "id": "gz8EbDlqRdIJ",
        "colab": {
          "base_uri": "https://localhost:8080/"
        },
        "outputId": "a671dc93-def7-49e0-9fc8-ad0b7a7875e1"
      },
      "execution_count": 70,
      "outputs": [
        {
          "output_type": "stream",
          "name": "stderr",
          "text": [
            "/usr/local/lib/python3.10/dist-packages/ipykernel/ipkernel.py:283: DeprecationWarning: `should_run_async` will not call `transform_cell` automatically in the future. Please pass the result to `transformed_cell` argument and any exception that happen during thetransform in `preprocessing_exc_tuple` in IPython 7.17 and above.\n",
            "  and should_run_async(code)\n"
          ]
        }
      ]
    },
    {
      "cell_type": "code",
      "source": [
        "print(final_data[0])"
      ],
      "metadata": {
        "colab": {
          "base_uri": "https://localhost:8080/"
        },
        "id": "wYiK-Ej1OfI_",
        "outputId": "a345708c-c592-4c29-f1a1-42562707d8b0"
      },
      "execution_count": 12,
      "outputs": [
        {
          "output_type": "stream",
          "name": "stdout",
          "text": [
            "['life', 'relevant', 'time', 'journalist', 'weekly', 'news', 'magazine', 'based', 'town', 'agent', 'party', 'titled', 'shame', 'silence', 'piece', 'written', 'relevant', 'reason', 'ashamed', 'towards', 'head', 'municipal', 'branch', 'office', 'firstly', 'city', 'front', 'main', 'post', 'office', 'building', 'falsely', 'street', 'vendor', 'market', 'inspector', 'pretext', 'certain', 'document', 'copied', 'thereafter', 'drove', 'girl', 'away', 'street', 'tried', 'rape', 'girl', 'origin', 'resistance', 'scream', 'ultimately', 'assailant', 'girl', 'tell', 'anyone', 'give', 'telephone', 'number', 'next', 'head', 'municipal', 'branch', 'office', 'meet', 'also', 'period', 'hour', 'brought', 'investigating', 'assailant', 'false', 'impersonation', 'unlawful', 'deprivation', 'liberty', 'rape', 'shall', 'course', 'conclusion', 'local', 'otherwise', 'prompt', 'come', 'even', 'much', 'lesser', 'simply', 'kept', 'silent', 'incident', 'press', 'also', 'received', 'information', 'investigating', 'prosecution', 'service', 'otherwise', 'also', 'respect', 'providing', 'information', 'concerning', 'activity', 'magazine', 'indirectly', 'found', 'horrific', 'ordeal', 'fellow', 'citizen', 'provided', 'information', 'following', 'receipt', 'written', 'request', 'confirm', 'deny', 'detail', 'learnt', 'nongovernmental', 'issue', 'also', 'stayed', 'quiet', 'street', 'vendor', 'probably', 'priority', 'rich', 'donor', 'city', 'administration', 'likewise', 'nothing', 'respect', 'official', 'remain', 'silent', 'uncomfortable', 'question', 'soon', 'power', 'keep', 'quiet', 'rape', 'concerned', 'girl', 'anyone', 'city', 'administration', 'intervene', 'cover', 'shameful', 'incident', 'idea', 'thereby', 'time', 'make', 'possible', 'head', 'municipal', 'branch', 'office', 'strike', 'deal', 'gypsy', 'withdraw', 'rape', 'lastly', 'importantly', 'whose', 'interest', 'protect', 'bully', 'getting', 'salary', 'municipal', 'budget', 'free', 'time', 'rape', 'fellow', 'citizen', 'long', 'question', 'remain', 'unanswered', 'power', 'city', 'unable', 'remove', 'shame', 'regarding', 'incident', 'date', 'another', 'regarding', 'incident', 'titled', 'false', 'inspector', 'near', 'rape', 'girl', 'piece', 'written', 'journalist', 'employed', 'relevant', 'head', 'municipal', 'branch', 'office', 'village', 'near', 'brought', 'investigating', 'first', 'instance', 'year', 'suspicion', 'unlawful', 'deprivation', 'liberty', 'illicit', 'sexual', 'girl', 'confirmed', 'lodged', 'girl', 'together', 'mother', 'selling', 'year', 'front', 'main', 'post', 'office', 'building', 'minor', 'domestic', 'supply', 'hour', 'detention', 'brought', 'investigating', 'despite', 'incident', 'taken', 'place', 'late', 'issue', 'usual', 'press', 'release', 'received', 'request', 'regard', 'lodged', 'girl', 'state', 'around', 'market', 'inspector', 'told', 'could', 'freely', 'sell', 'merchandise', 'front', 'post', 'office', 'building', 'charge', 'area', 'hour', 'later', 'returned', 'front', 'post', 'office', 'building', 'girl', 'approach', 'vehicle', 'girl', 'came', 'near', 'told', 'enter', 'sign', 'document', 'locked', 'front', 'passenger', 'door', 'drove', 'away', 'scene', 'girl', 'certain', 'document', 'copied', 'touching', 'according', 'girl', 'told', 'false', 'inspector', 'could', 'leave', 'mother', 'calm', 'parking', 'street', 'touching', 'kissing', 'neck', 'girl', 'screaming', 'turned', 'music', 'loudly', 'vehicle', 'tore', 'button', 'trouser', 'clip', 'girl', 'window', 'told', 'calm', 'would', 'touch', 'drove', 'away', 'street', 'coffee', 'together', 'told', 'tell', 'anyone', 'later', 'girl', 'phone', 'mother', 'arrangement', 'made', 'meeting', 'take', 'place', 'front', 'post', 'office', 'building', 'instead', 'girl', 'taken', 'station', 'noted', 'time', 'publication', 'also', 'first', 'second', 'page', 'news', 'magazine', 'respectively', 'following', 'preliminary', 'investigation', 'office', 'connection', 'incident', 'charge', 'crime', 'unlawful', 'deprivation', 'liberty', 'illicit', 'performance', 'sexual', 'first', 'instance', 'thereafter', 'victim', 'well', 'number', 'furthermore', 'took', 'account', 'statement', 'given', 'documentation', 'course', 'preliminary', 'victim', 'provided', 'well', 'mother', 'statement', 'wherein', 'fully', 'crime', 'question', 'first', 'instance', 'charge', 'following', 'remittal', 'charge', 'upheld', 'second', 'instance', 'thereby', 'final', 'civil', 'lodged', 'civil', 'defamation', 'high', 'regarding', 'partly', 'ordered', 'jointly', 'total', 'dinar', 'well', 'statutory', 'interest', 'date', 'account', 'mental', 'anguish', 'consequence', 'breach', 'reputation', 'plus', 'cost', 'furthermore', 'ordered', 'said', 'respondent', 'publish', 'without', 'comment', 'delay', 'news', 'magazine', 'high', 'regard', 'first', 'specific', 'reference', 'thereof', 'inter', 'author', 'stated', 'crime', 'unlawful', 'deprivation', 'liberty', 'false', 'impersonation', 'rape', 'despite', 'latter', 'still', 'pending', 'thereby', 'innocent', 'furthermore', 'included', 'untrue', 'statement', 'crime', 'rape', 'even', 'though', 'known', 'charge', 'particular', 'respect', 'second', 'prepared', 'specifically', 'regard', 'thereof', 'plaintiff', 'piece', 'written', 'accurately', 'based', 'information', 'provided', 'lastly', 'noted', 'existence', 'statement', 'reiterated', 'bearing', 'present', 'since', 'given', 'publication', 'question', 'partly', 'first', 'instance', 'ordered', 'jointly', 'total', 'approximately', 'time', 'account', 'mental', 'anguish', 'consequence', 'breach', 'reputation', 'well', 'statutory', 'interest', 'plus', 'cost', 'approximately', 'time', 'obligation', 'part', 'respondent', 'publish', 'upheld', 'reasoning', 'essentially', 'along', 'line', 'high', 'nevertheless', 'inter', 'award', 'excessive', 'given', 'interest', 'informed', 'incident', 'question', 'albeit', 'appropriate', 'manner', 'also', 'incorrectly', 'stated', 'title', 'piece', 'despite', 'accurate', 'text', 'rape', 'girl', 'could', 'considered', 'figure', 'someone', 'withstand', 'criticism', 'since', 'merely', 'employed', 'head', 'municipal', 'branch', 'office', 'local', 'official', 'inter', 'relevant', 'provision', 'obligation', 'information', 'constitutional', 'lodged', 'constitutional', 'constitutional', 'noted', 'inter', 'unlawful', 'divulge', 'information', 'concerning', 'ongoing', 'even', 'information', 'accurate', 'breach', 'innocent', 'appropriate', 'balance', 'struck', 'hand', 'protection', 'reputation', 'concerned', 'civil', 'hand', 'done', 'properly', 'constitutional', 'enforcement', 'lodged', 'enforcement', 'request', 'first', 'instance', 'regard', 'civil', 'first', 'instance', 'enforcement', 'bailiff', 'ordered', 'within', 'three', 'question', 'noted', 'inter', 'fail', 'comply', 'entire', 'property', 'would', 'subject', 'enforcement', 'according', 'information', 'provided', 'since', 'unemployed', 'movable', 'asset', 'relevance', 'enforcement', 'procedure', 'also', 'civil', 'question', 'enforced', 'however', 'stated', 'flat', 'living', 'family', 'could', 'seek', 'enforcement', 'property', 'confirmed', 'civil', 'issue', 'unenforced', 'relevant', 'statement', 'given', 'high', 'part', 'civil', 'defamation', 'publication', 'question', 'piece', 'response', 'opportunity', 'deny', 'next', 'issue', 'offer', 'debate', 'matter', 'medium', 'lastly', 'informed', 'would', 'instead', 'regard', 'neuropsychiatrist', 'allegedly', 'consequence', 'distress', 'publication', 'date', 'also', 'provided', 'certificate', 'temporarily', 'incapable', 'working', 'average', 'gross', 'monthly', 'salary', 'approximately', 'respectively', 'relevant', 'framework', 'jurisprudence', 'obligation', 'official', 'gazette', 'socialist', 'federal', 'republic', 'well', 'official', 'gazette', 'federal', 'republic', 'inter', 'anyone', 'mental', 'anguish', 'consequence', 'breach', 'reputation', 'depending', 'duration', 'intensity', 'said', 'mental', 'anguish', 'financial', 'compensation', 'civil', 'addition', 'request', 'form', 'redress', 'capable', 'adequate', 'nonpecuniary', 'satisfaction', 'information', 'official', 'gazette', 'republic', 'provided', 'prior', 'publication', 'information', 'regarding', 'occurrence', 'certain', 'journalist', 'responsible', 'editor', 'verify', 'origin', 'veracity', 'comprehensiveness', 'diligence', 'provided', 'inter', 'protection', 'privacy', 'limited', 'holder', 'state', 'political', 'position', 'information', 'question', 'relevance', 'given', 'function', 'limited', 'proportion', 'interest', 'provided', 'inter', 'medium', 'outlet', 'status', 'responsible', 'editor', 'outlet', 'responsible', 'editor', 'specific', 'edition', 'column', 'responsible', 'content', 'provided', 'inter', 'medium', 'outlet', 'could', 'pronounce', 'anyone', 'guilty', 'absence', 'final', 'another', 'connection', 'provided', 'inter', 'pecuniary', 'nonpecuniary', 'harm', 'consequence', 'incorrect', 'incomplete', 'information', 'medium', 'outlet', 'publication', 'information', 'breach', 'adequate', 'compensation', 'quite', 'apart', 'available', 'redress', 'provided', 'inter', 'founder', 'medium', 'outlet', 'would', 'able', 'establish', 'diligence', 'inaccuracy', 'incompleteness', 'information', 'prior', 'publication', 'bear', 'joint', 'liability', 'pecuniary', 'nonpecuniary', 'damage', 'publication', 'information', 'question', 'obligation', 'example', 'also', 'applied', 'harm', 'inadmissible', 'publication', 'accurate', 'information', 'regarding', 'private', 'life', 'concerned', 'accusation', 'commission', 'subsequently', 'constitutional', 'ultimately', 'legislation', 'adopted', 'city', 'establishment', 'competency', 'municipal', 'branch', 'office', 'rada', 'official', 'gazette', 'city', 'provided', 'inter', 'municipal', 'branch', 'office', 'established', 'purpose', 'making', 'easier', 'citizen', 'concerned', 'benefit', 'service', 'local', 'level', 'provided', 'inter', 'municipal', 'branch', 'office', 'perform', 'technical', 'task', 'keep', 'official', 'record', 'issue', 'official', 'certificate', 'well', 'prepare', 'report', 'statistic', 'context', 'rule', 'internal', 'classification', 'office', 'local', 'affair', 'rule', 'provided', 'inter', 'executive', 'employee', 'working', 'municipal', 'branch', 'office', 'could', 'engage', 'activity', 'keeping', 'official', 'record', 'issuing', 'various', 'certificate', 'report', 'statistic', 'dealing', 'civil', 'matter', 'could', 'also', 'take', 'responsibility', 'specific', 'request', 'municipal', 'official', 'volume', 'necessary', 'municipality', 'local', 'branch', 'office', 'carry', 'various', 'function', 'effectively', 'branch', 'office', 'established', 'base', 'municipal', 'regulation', 'remit', 'defined', 'adopted', 'municipal', 'assembly', 'head', 'local', 'branch', 'office', 'shall', 'municipal', 'employee', 'either', 'municipal', 'assembly', 'body', 'municipal', 'assembly', 'violation', 'convention', 'convention', 'breach', 'particular', 'printed', 'question', 'raised', 'serious', 'issue', 'sexual', 'abuse', 'girl', 'ultimately', 'ended', 'publication', 'losing', 'civil', 'defamation', 'ordered', 'compensation', 'plus', 'cost', 'convention', 'relevant', 'everyone', 'shall', 'include', 'hold', 'opinion', 'impart', 'information', 'idea', 'without', 'interference', 'authority', 'exercise', 'since', 'carry', 'duty', 'responsibility', 'subject', 'formality', 'condition', 'restriction', 'penalty', 'necessary', 'democratic', 'society', 'interest', 'national', 'security', 'territorial', 'integrity', 'safety', 'prevention', 'disorder', 'crime', 'protection', 'health', 'moral', 'protection', 'reputation', 'disclosure', 'information', 'received', 'confidence', 'authority', 'impartiality', 'judiciary', 'admissibility', 'note', 'neither', 'manifestly', 'inadmissible', 'ground', 'listed', 'convention', 'must', 'therefore', 'declared', 'admissible', 'merit', 'party', 'added', 'situation', 'regard', 'protection', 'minority', 'group', 'poor', 'particularly', 'respect', 'among', 'vulnerable', 'group', 'country', 'moreover', 'even', 'though', 'formally', 'false', 'impersonation', 'rape', 'given', 'incident', 'similarity', 'question', 'wrong', 'generally', 'speaking', 'describe', 'action', 'fully', 'present', 'negative', 'value', 'regarding', 'incident', 'clearly', 'great', 'interest', 'never', 'intent', 'gratuitously', 'harm', 'latter', 'statement', 'given', 'furthermore', 'present', 'everything', 'done', 'cover', 'incident', 'secure', 'impunity', 'perpetrator', 'simply', 'victim', 'origin', 'thus', 'ultimately', 'pressure', 'brought', 'bear', 'victim', 'mother', 'turn', 'consequence', 'respect', 'lastly', 'system', 'position', 'head', 'municipal', 'branch', 'office', 'important', 'function', 'compensation', 'cost', 'never', 'enforced', 'neither', 'property', 'income', 'cover', 'amount', 'endorsed', 'reasoning', 'civil', 'well', 'reason', 'constitutional', 'violation', 'present', 'particular', 'interference', 'accordance', 'necessary', 'democratic', 'society', 'protection', 'reputation', 'furthermore', 'civil', 'compensation', 'negative', 'value', 'expressed', 'publication', 'untrue', 'statement', 'ended', 'seriously', 'affecting', 'reputation', 'according', 'medium', 'general', 'show', 'greater', 'degree', 'respect', 'presumption', 'innocence', 'well', 'attention', 'seriousness', 'sexual', 'violence', 'given', 'severity', 'social', 'condemnation', 'locally', 'second', 'moreover', 'repeatedly', 'name', 'initial', 'surname', 'made', 'identification', 'easy', 'anyone', 'interested', 'also', 'could', 'considered', 'official', 'hence', 'someone', 'would', 'endure', 'provocative', 'criticism', 'since', 'merely', 'employee', 'city', 'head', 'municipal', 'branch', 'office', 'material', 'time', 'nothing', 'official', 'performance', 'duty', 'finally', 'amount', 'compensation', 'disproportionate', 'given', 'average', 'gross', 'monthly', 'salary', 'relevant', 'time', 'existence', 'interference', 'party', 'final', 'civil', 'journalist', 'interference', 'authority', 'also', 'reference', 'regard', 'situation', 'author', 'well', 'publisher', 'publication', 'director', 'editor', 'responsible', 'publication', 'interference', 'infringe', 'convention', 'unless', 'requirement', 'must', 'therefore', 'determined', 'whether', 'legitimate', 'necessary', 'democratic', 'society', 'achieve', 'whether', 'interference', 'note', 'base', 'adoption', 'final', 'civil', 'question', 'inter', 'relevant', 'provision', 'information', 'obligation', 'hold', 'provision', 'adequately', 'accessible', 'foreseeable', 'sufficient', 'precision', 'enable', 'individual', 'need', 'appropriate', 'advice', 'regulate', 'conduct', 'example', 'among', 'many', 'authority', 'time', 'united', 'kingdom', 'series', 'also', 'context', 'therefore', 'interference', 'issue', 'within', 'meaning', 'whether', 'interference', 'legitimate', 'agreement', 'position', 'domestic', 'interference', 'question', 'legitimate', 'protection', 'reputation', 'find', 'reason', 'hold', 'otherwise', 'therefore', 'interference', 'legitimate', 'necessary', 'democratic', 'general', 'principle', 'general', 'principle', 'necessity', 'interference', 'exercise', 'also', 'numerous', 'lack', 'relevant', 'sufficient', 'reasoning', 'part', 'national', 'failure', 'consider', 'applicable', 'standard', 'interference', 'question', 'entail', 'violation', 'among', 'many', 'authority', 'news', 'russia', 'furthermore', 'reiterated', 'protection', 'reputation', 'convention', 'part', 'respect', 'private', 'life', 'instance', 'come', 'play', 'attack', 'reputation', 'must', 'attain', 'certain', 'level', 'seriousness', 'carried', 'manner', 'causing', 'prejudice', 'personal', 'enjoyment', 'respect', 'private', 'life', 'springer', 'instance', 'accordance', 'criterion', 'interest', 'protection', 'reputation', 'bring', 'play', 'verify', 'whether', 'domestic', 'authority', 'struck', 'fair', 'balance', 'protecting', 'value', 'convention', 'namely', 'hand', 'respect', 'private', 'life', 'general', 'principle', 'applicable', 'balancing', 'first', 'springer', 'detail', 'extract', 'recently', 'lastly', 'state', 'certain', 'margin', 'appreciation', 'necessity', 'scope', 'interference', 'convention', 'national', 'authority', 'weighed', 'interest', 'stake', 'compliance', 'criterion', 'laid', 'strong', 'reason', 'substitute', 'view', 'domestic', 'reference', 'relevant', 'criterion', 'come', 'balancing', 'exercise', 'convention', 'include', 'contribution', 'made', 'question', 'debate', 'interest', 'well', 'known', 'concerned', 'subject', 'report', 'conduct', 'concerned', 'prior', 'publication', 'method', 'information', 'veracity', 'content', 'form', 'consequence', 'publication', 'severity', 'sanction', 'example', 'springer', 'course', 'criterion', 'relevance', 'given', 'particular', 'circumstance', 'given', 'finland', 'relevant', 'criterion', 'also', 'taken', 'account', 'depending', 'situation', 'springer', 'television', 'principle', 'present', 'relevant', 'statement', 'reason', 'given', 'domestic', 'civil', 'justify', 'interference', 'find', 'following', 'issue', 'particular', 'relevance', 'regard', 'criterion', 'whether', 'statement', 'question', 'made', 'contribution', 'debate', 'interest', 'whether', 'considered', 'figure', 'method', 'information', 'part', 'publication', 'well', 'content', 'form', 'veracity', 'information', 'lastly', 'consequence', 'publication', 'respect', 'severity', 'sanction', 'whether', 'made', 'contribution', 'debate', 'interest', 'interest', 'ordinarily', 'matter', 'affect', 'extent', 'legitimately', 'take', 'interest', 'attract', 'attention', 'concern', 'significant', 'degree', 'especially', 'affect', 'citizen', 'life', 'community', 'among', 'furthermore', 'existence', 'interest', 'example', 'publication', 'question', 'concerned', 'information', 'general', 'extract', 'information', 'regarding', 'specific', 'white', 'mind', 'present', 'clearly', 'concerned', 'incident', 'interest', 'sexual', 'assault', 'girl', 'serious', 'charge', 'subsequently', 'brought', 'whether', 'considered', 'figure', 'distinction', 'made', 'private', 'individual', 'acting', 'context', 'political', 'figure', 'accordingly', 'whilst', 'private', 'individual', 'unknown', 'particular', 'protection', 'private', 'life', 'true', 'figure', 'respect', 'limit', 'critical', 'comment', 'inevitably', 'knowingly', 'exposed', 'scrutiny', 'must', 'therefore', 'display', 'particularly', 'high', 'degree', 'tolerance', 'regard', 'state', 'body', 'civil', 'servant', 'acting', 'official', 'capacity', 'circumstance', 'subject', 'limit', 'acceptable', 'criticism', 'private', 'individual', 'example', 'russia', 'however', 'said', 'civil', 'servant', 'knowingly', 'open', 'close', 'scrutiny', 'every', 'word', 'deed', 'extent', 'politician', 'therefore', 'equal', 'footing', 'latter', 'come', 'criticism', 'action', 'also', 'finland', 'finland', 'view', 'quite', 'apart', 'party', 'different', 'view', 'whether', 'figure', 'within', 'meaning', 'convention', 'note', 'question', 'concerned', 'incident', 'sexual', 'assault', 'effect', 'somehow', 'inappropriately', 'unlawfully', 'carried', 'official', 'duty', 'capacity', 'civil', 'servant', 'head', 'municipal', 'branch', 'office', 'specific', 'circumstance', 'said', 'context', 'seeking', 'redress', 'violation', 'reputation', 'shown', 'greater', 'degree', 'tolerance', 'private', 'individual', 'similar', 'method', 'information', 'content', 'form', 'veracity', 'information', 'would', 'stress', 'context', 'draw', 'distinction', 'statement', 'value', 'existence', 'whereas', 'truth', 'value', 'susceptible', 'proof', 'requirement', 'prove', 'truth', 'value', 'impossible', 'opinion', 'fundamental', 'part', 'however', 'statement', 'amount', 'value', 'proportionality', 'interference', 'depend', 'whether', 'sufficient', 'factual', 'basis', 'statement', 'value', 'prove', 'excessive', 'distinguish', 'factual', 'value', 'necessary', 'take', 'account', 'circumstance', 'general', 'tone', 'remark', 'bearing', 'mind', 'assertion', 'matter', 'interest', 'basis', 'constitute', 'value', 'rather', 'statement', 'instance', 'reference', 'regard', 'must', 'also', 'view', 'special', 'role', 'judiciary', 'society', 'particular', 'inconceivable', 'prior', 'contemporaneous', 'discussion', 'subject', 'matter', 'journal', 'general', 'press', 'amongst', 'large', 'medium', 'task', 'information', 'idea', 'also', 'receive', 'however', 'consideration', 'must', 'given', 'fair', 'convention', 'matter', 'impartial', 'tribunal', 'presumption', 'innocence', 'repeatedly', 'must', 'borne', 'mind', 'journalist', 'pending', 'since', 'limit', 'permissible', 'comment', 'extend', 'statement', 'likely', 'prejudice', 'whether', 'intentionally', 'chance', 'fair', 'undermine', 'confidence', 'role', 'administration', 'reference', 'mindful', 'regard', 'present', 'note', 'news', 'magazine', 'ultimately', 'informed', 'incident', 'related', 'procedural', 'development', 'furthermore', 'civil', 'properly', 'established', 'first', 'stated', 'number', 'crime', 'despite', 'known', 'still', 'pending', 'thereby', 'innocent', 'proved', 'guilty', 'example', 'springer', 'television', 'finland', 'also', 'incorrect', 'statement', 'crime', 'rape', 'even', 'though', 'news', 'magazine', 'possession', 'information', 'even', 'charge', 'particular', 'concerning', 'also', 'quite', 'rightly', 'view', 'added', 'interest', 'part', 'informed', 'incident', 'done', 'appropriate', 'manner', 'moreover', 'regard', 'second', 'despite', 'accurate', 'text', 'title', 'stated', 'rape', 'girl', 'also', 'compare', 'contrast', 'example', 'explicitly', 'disregard', 'innocent', 'proved', 'guilty', 'stated', 'merely', 'former', 'deliberately', 'represent', 'properly', 'pending', 'civil', 'suit', 'confirmed', 'subsequent', 'investigation', 'furthermore', 'present', 'sexual', 'abuse', 'much', 'serious', 'sensitive', 'nature', 'therefore', 'observation', 'domestic', 'civil', 'based', 'negative', 'value', 'expressed', 'publication', 'inaccurate', 'statement', 'iceland', 'inter', 'objective', 'factual', 'nature', 'term', 'rapist', 'face', 'justify', 'conclusion', 'statement', 'question', 'value', 'rather', 'statement', 'despite', 'going', 'analysis', 'even', 'assuming', 'opposite', 'moreover', 'action', 'power', 'imposing', 'obligation', 'accurately', 'respect', 'definition', 'given', 'crime', 'might', 'generally', 'speaking', 'disproportionally', 'undermine', 'specific', 'circumstance', 'present', 'indeed', 'average', 'citizen', 'able', 'make', 'common', 'sense', 'distinction', 'sensitive', 'different', 'phrase', 'rape', 'stated', 'hand', 'example', 'suspected', 'rape', 'compare', 'contrast', 'lastly', 'second', 'name', 'initial', 'surname', 'made', 'identification', 'easy', 'locally', 'common', 'knowledge', 'head', 'specific', 'municipal', 'branch', 'office', 'near', 'material', 'time', 'consequence', 'publication', 'respect', 'severity', 'sanction', 'already', 'noted', 'protection', 'reputation', 'convention', 'part', 'respect', 'private', 'life', 'furthermore', 'nature', 'severity', 'sanction', 'matter', 'particular', 'importance', 'proportionality', 'interference', 'amount', 'compensation', 'must', 'likewise', 'bear', 'reasonable', 'relationship', 'proportionality', 'moral', 'injury', 'plaintiff', 'question', 'united', 'kingdom', 'series', 'also', 'view', 'foregoing', 'given', 'nature', 'charge', 'brought', 'well', 'conclusion', 'consequence', 'publication', 'question', 'clearly', 'sufficiently', 'serious', 'attract', 'protection', 'respect', 'reputation', 'time', 'however', 'final', 'civil', 'inter', 'equivalent', 'approximately', 'mental', 'anguish', 'cost', 'plus', 'statutory', 'interest', 'severe', 'particularly', 'given', 'amount', 'never', 'enforced', 'also', 'compare', 'contrast', 'conclusion', 'light', 'consideration', 'opinion', 'civil', 'struck', 'fair', 'balance', 'hand', 'interest', 'protection', 'reputation', 'reason', 'given', 'context', 'relevant', 'sufficient', 'furthermore', 'civil', 'conclusion', 'brought', 'latter', 'could', 'relevance', 'outcome', 'former', 'also', 'fine', 'incident', 'giving', 'rise', 'involved', 'particularly', 'serious', 'sensitive', 'nature', 'spite', 'essential', 'role', 'press', 'democratic', 'society', 'however', 'guarantee', 'wholly', 'unrestricted', 'even', 'respect', 'press', 'coverage', 'matter', 'serious', 'concern', 'example', 'indeed', 'protection', 'convention', 'journalist', 'well', 'editor', 'implication', 'subject', 'proviso', 'good', 'faith', 'provide', 'accurate', 'reliable', 'information', 'accordance', 'tenet', 'responsible', 'journalism', 'example', 'view', 'foregoing', 'violation', 'convention', 'reason', 'admissible', 'hold', 'violation', 'convention', 'done', 'notified', 'writing', 'pursuant', 'rule', 'rule', 'registrar', 'president', 'head', 'municipal', 'branch', 'office', 'name', 'initial', 'surname', 'instead']\n"
          ]
        },
        {
          "output_type": "stream",
          "name": "stderr",
          "text": [
            "/usr/local/lib/python3.10/dist-packages/ipykernel/ipkernel.py:283: DeprecationWarning: `should_run_async` will not call `transform_cell` automatically in the future. Please pass the result to `transformed_cell` argument and any exception that happen during thetransform in `preprocessing_exc_tuple` in IPython 7.17 and above.\n",
            "  and should_run_async(code)\n"
          ]
        }
      ]
    },
    {
      "cell_type": "markdown",
      "source": [
        "#### Creating bigrams"
      ],
      "metadata": {
        "id": "rRM1JmgYVmGv"
      }
    },
    {
      "cell_type": "code",
      "source": [
        "bigram_list = []\n",
        "for data in final_data:\n",
        "  bigrams = tm.find_bigrams(data)\n",
        "  bigram_list.append(bigrams)\n",
        "\n",
        "print(bigram_list[0])"
      ],
      "metadata": {
        "id": "L5VEfYezRjhh",
        "colab": {
          "base_uri": "https://localhost:8080/"
        },
        "outputId": "e8d9e582-f863-4a62-9f84-33ff7842ce86"
      },
      "execution_count": 71,
      "outputs": [
        {
          "output_type": "stream",
          "name": "stderr",
          "text": [
            "/usr/local/lib/python3.10/dist-packages/ipykernel/ipkernel.py:283: DeprecationWarning: `should_run_async` will not call `transform_cell` automatically in the future. Please pass the result to `transformed_cell` argument and any exception that happen during thetransform in `preprocessing_exc_tuple` in IPython 7.17 and above.\n",
            "  and should_run_async(code)\n"
          ]
        },
        {
          "output_type": "stream",
          "name": "stdout",
          "text": [
            "[('relevant', 'time'), ('time', 'journalist'), ('journalist', 'weekly'), ('weekly', 'news'), ('news', 'magazine'), ('magazine', 'based'), ('based', 'same'), ('same', 'town'), ('town', 'applicant'), ('applicant', 'lawyer'), ('lawyer', 'government'), ('government', 'were'), ('were', 'their'), ('their', 'agent'), ('agent', 'case'), ('case', 'june'), ('june', 'article'), ('article', 'titled'), ('titled', 'shame'), ('shame', 'through'), ('through', 'silence'), ('silence', 'this'), ('this', 'piece'), ('piece', 'written'), ('written', 'applicant'), ('applicant', 'relevant'), ('relevant', 'reason'), ('reason', 'ashamed'), ('ashamed', 'towards'), ('towards', 'head'), ('head', 'municipal'), ('municipal', 'branch'), ('branch', 'office'), ('office', 'firstly'), ('firstly', 'city'), ('city', 'front'), ('front', 'main'), ('main', 'post'), ('post', 'office'), ('office', 'building'), ('building', 'falsely'), ('falsely', 'himself'), ('himself', 'street'), ('street', 'vendor'), ('vendor', 'market'), ('market', 'inspector'), ('inspector', 'then'), ('then', 'into'), ('into', 'under'), ('under', 'pretext'), ('pretext', 'that'), ('that', 'certain'), ('certain', 'copied'), ('copied', 'thereafter'), ('thereafter', 'drove'), ('drove', 'girl'), ('girl', 'away'), ('away', 'with'), ('with', 'street'), ('street', 'where'), ('where', 'tried'), ('tried', 'rape'), ('rape', 'girl'), ('girl', 'under'), ('under', 'origin'), ('origin', 'resistance'), ('resistance', 'crying'), ('crying', 'ultimately'), ('ultimately', 'assailant'), ('assailant', 'girl'), ('girl', 'tell'), ('tell', 'anyone'), ('anyone', 'what'), ('what', 'give'), ('give', 'telephone'), ('telephone', 'number'), ('number', 'next'), ('next', 'when'), ('when', 'head'), ('head', 'municipal'), ('municipal', 'branch'), ('branch', 'office'), ('office', 'meet'), ('meet', 'police'), ('police', 'also'), ('also', 'period'), ('period', 'then'), ('then', 'brought'), ('brought', 'before'), ('before', 'investigating'), ('investigating', 'judge'), ('judge', 'assailant'), ('assailant', 'with'), ('with', 'false'), ('false', 'impersonation'), ('impersonation', 'unlawful'), ('unlawful', 'deprivation'), ('deprivation', 'liberty'), ('liberty', 'rape'), ('rape', 'have'), ('have', 'they'), ('they', 'shall'), ('shall', 'course'), ('course', 'have'), ('have', 'their'), ('their', 'conclusion'), ('conclusion', 'local'), ('local', 'police'), ('police', 'otherwise'), ('otherwise', 'very'), ('very', 'prompt'), ('prompt', 'when'), ('when', 'comes'), ('comes', 'public'), ('public', 'even'), ('even', 'much'), ('much', 'lesser'), ('lesser', 'simply'), ('simply', 'kept'), ('kept', 'silent'), ('silent', 'about'), ('about', 'incident'), ('incident', 'press'), ('press', 'also'), ('also', 'received'), ('received', 'information'), ('information', 'from'), ('from', 'investigating'), ('investigating', 'judge'), ('judge', 'public'), ('public', 'prosecution'), ('prosecution', 'service'), ('service', 'which'), ('which', 'otherwise'), ('otherwise', 'also'), ('also', 'been'), ('been', 'with'), ('with', 'respect'), ('respect', 'providing'), ('providing', 'information'), ('information', 'concerning'), ('concerning', 'this'), ('this', 'magazine'), ('magazine', 'indirectly'), ('indirectly', 'found'), ('found', 'about'), ('about', 'horrific'), ('horrific', 'ordeal'), ('ordeal', 'fellow'), ('fellow', 'citizen'), ('citizen', 'police'), ('police', 'only'), ('only', 'provided'), ('provided', 'with'), ('with', 'information'), ('information', 'following'), ('following', 'receipt'), ('receipt', 'written'), ('written', 'request'), ('request', 'them'), ('them', 'confirm'), ('confirm', 'deny'), ('deny', 'which'), ('which', 'learnt'), ('learnt', 'from'), ('from', 'nongovernmental'), ('nongovernmental', 'also'), ('also', 'stayed'), ('stayed', 'quiet'), ('quiet', 'case'), ('case', 'street'), ('street', 'vendor'), ('vendor', 'probably'), ('probably', 'priority'), ('priority', 'their'), ('their', 'rich'), ('rich', 'city'), ('city', 'administration'), ('administration', 'likewise'), ('likewise', 'nothing'), ('nothing', 'with'), ('with', 'respect'), ('respect', 'their'), ('their', 'official'), ('official', 'they'), ('they', 'remain'), ('remain', 'silent'), ('silent', 'uncomfortable'), ('uncomfortable', 'will'), ('will', 'soon'), ('soon', 'have'), ('have', 'those'), ('those', 'power'), ('power', 'police'), ('police', 'keep'), ('keep', 'quiet'), ('quiet', 'about'), ('about', 'rape'), ('rape', 'just'), ('just', 'because'), ('because', 'concerned'), ('concerned', 'girl'), ('girl', 'anyone'), ('anyone', 'from'), ('from', 'city'), ('city', 'administration'), ('administration', 'intervene'), ('intervene', 'order'), ('order', 'cover'), ('cover', 'shameful'), ('shameful', 'incident'), ('incident', 'idea'), ('idea', 'thereby'), ('thereby', 'time'), ('time', 'make'), ('make', 'possible'), ('possible', 'head'), ('head', 'municipal'), ('municipal', 'branch'), ('branch', 'office'), ('office', 'strike'), ('strike', 'deal'), ('deal', 'with'), ('with', 'until'), ('until', 'they'), ('they', 'withdraw'), ('withdraw', 'their'), ('their', 'complaint'), ('complaint', 'rape'), ('rape', 'lastly'), ('lastly', 'most'), ('most', 'importantly'), ('importantly', 'whose'), ('whose', 'interest'), ('interest', 'protect'), ('protect', 'bully'), ('bully', 'getting'), ('getting', 'salary'), ('salary', 'from'), ('from', 'municipal'), ('municipal', 'budget'), ('budget', 'while'), ('while', 'free'), ('free', 'time'), ('time', 'rape'), ('rape', 'fellow'), ('fellow', 'long'), ('long', 'these'), ('these', 'remain'), ('remain', 'unanswered'), ('unanswered', 'those'), ('those', 'power'), ('power', 'city'), ('city', 'will'), ('will', 'unable'), ('unable', 'remove'), ('remove', 'shame'), ('shame', 'regarding'), ('regarding', 'this'), ('this', 'incident'), ('incident', 'same'), ('same', 'date'), ('date', 'that'), ('that', 'june'), ('june', 'another'), ('another', 'article'), ('article', 'regarding'), ('regarding', 'incident'), ('incident', 'titled'), ('titled', 'false'), ('false', 'inspector'), ('inspector', 'from'), ('from', 'near'), ('near', 'rape'), ('rape', 'girl'), ('girl', 'this'), ('this', 'piece'), ('piece', 'written'), ('written', 'journalist'), ('journalist', 'employed'), ('employed', 'with'), ('with', 'relevant'), ('relevant', 'head'), ('head', 'municipal'), ('municipal', 'branch'), ('branch', 'office'), ('office', 'village'), ('village', 'near'), ('near', 'brought'), ('brought', 'before'), ('before', 'investigating'), ('investigating', 'judge'), ('judge', 'court'), ('court', 'first'), ('first', 'instance'), ('instance', 'this'), ('this', 'year'), ('year', 'under'), ('under', 'suspicion'), ('suspicion', 'criminal'), ('criminal', 'unlawful'), ('unlawful', 'deprivation'), ('deprivation', 'liberty'), ('liberty', 'illicit'), ('illicit', 'sexual'), ('sexual', 'girl'), ('girl', 'confirmed'), ('confirmed', 'police'), ('police', 'criminal'), ('criminal', 'complaint'), ('complaint', 'against'), ('against', 'lodged'), ('lodged', 'girl'), ('girl', 'together'), ('together', 'with'), ('with', 'mother'), ('mother', 'been'), ('been', 'selling'), ('selling', 'this'), ('this', 'year'), ('year', 'front'), ('front', 'main'), ('main', 'post'), ('post', 'office'), ('office', 'building'), ('building', 'minor'), ('minor', 'domestic'), ('domestic', 'police'), ('police', 'after'), ('after', 'detention'), ('detention', 'brought'), ('brought', 'before'), ('before', 'investigating'), ('investigating', 'judge'), ('judge', 'despite'), ('despite', 'incident'), ('incident', 'taken'), ('taken', 'place'), ('place', 'late'), ('late', 'police'), ('police', 'issue'), ('issue', 'their'), ('their', 'usual'), ('usual', 'press'), ('press', 'release'), ('release', 'until'), ('until', 'they'), ('they', 'received'), ('received', 'request'), ('request', 'this'), ('this', 'regard'), ('regard', 'criminal'), ('criminal', 'complaint'), ('complaint', 'lodged'), ('lodged', 'girl'), ('girl', 'that'), ('that', 'around'), ('around', 'himself'), ('himself', 'market'), ('market', 'inspector'), ('inspector', 'told'), ('told', 'them'), ('them', 'that'), ('that', 'they'), ('they', 'could'), ('could', 'freely'), ('freely', 'sell'), ('sell', 'their'), ('their', 'merchandise'), ('merchandise', 'front'), ('front', 'post'), ('post', 'office'), ('office', 'building'), ('building', 'because'), ('because', 'charge'), ('charge', 'that'), ('that', 'area'), ('area', 'hour'), ('hour', 'later'), ('later', 'returned'), ('returned', 'with'), ('with', 'front'), ('front', 'post'), ('post', 'office'), ('office', 'building'), ('building', 'girl'), ('girl', 'approach'), ('approach', 'vehicle'), ('vehicle', 'when'), ('when', 'girl'), ('girl', 'came'), ('came', 'near'), ('near', 'told'), ('told', 'enter'), ('enter', 'order'), ('order', 'sign'), ('sign', 'document'), ('document', 'then'), ('then', 'locked'), ('locked', 'front'), ('front', 'passenger'), ('passenger', 'door'), ('door', 'drove'), ('drove', 'away'), ('away', 'with'), ('with', 'from'), ('from', 'scene'), ('scene', 'girl'), ('girl', 'that'), ('that', 'certain'), ('certain', 'copied'), ('copied', 'touching'), ('touching', 'according'), ('according', 'criminal'), ('criminal', 'complaint'), ('complaint', 'girl'), ('girl', 'then'), ('then', 'told'), ('told', 'false'), ('false', 'inspector'), ('inspector', 'that'), ('that', 'could'), ('could', 'leave'), ('leave', 'mother'), ('mother', 'calm'), ('calm', 'down'), ('down', 'while'), ('while', 'parking'), ('parking', 'street'), ('street', 'touching'), ('touching', 'kissing'), ('kissing', 'neck'), ('neck', 'girl'), ('girl', 'screaming'), ('screaming', 'then'), ('then', 'turned'), ('turned', 'music'), ('music', 'loudly'), ('loudly', 'vehicle'), ('vehicle', 'tore'), ('tore', 'buttons'), ('buttons', 'trousers'), ('trousers', 'clip'), ('clip', 'girl'), ('girl', 'against'), ('against', 'while'), ('while', 'told'), ('told', 'calm'), ('calm', 'down'), ('down', 'that'), ('that', 'would'), ('would', 'touch'), ('touch', 'again'), ('again', 'then'), ('then', 'drove'), ('drove', 'away'), ('away', 'street'), ('street', 'that'), ('that', 'they'), ('they', 'have'), ('have', 'coffee'), ('coffee', 'together'), ('together', 'told'), ('told', 'tell'), ('tell', 'anyone'), ('anyone', 'about'), ('about', 'what'), ('what', 'later'), ('later', 'girl'), ('girl', 'phone'), ('phone', 'mother'), ('mother', 'arrangement'), ('arrangement', 'made'), ('made', 'meeting'), ('meeting', 'take'), ('take', 'place'), ('place', 'front'), ('front', 'post'), ('post', 'office'), ('office', 'building'), ('building', 'there'), ('there', 'instead'), ('instead', 'being'), ('being', 'girl'), ('girl', 'police'), ('police', 'taken'), ('taken', 'police'), ('police', 'station'), ('station', 'noted'), ('noted', 'above'), ('above', 'time'), ('time', 'publication'), ('publication', 'applicant'), ('applicant', 'also'), ('also', 'first'), ('first', 'second'), ('second', 'were'), ('were', 'news'), ('news', 'magazine'), ('magazine', 'respectively'), ('respectively', 'criminal'), ('criminal', 'following'), ('following', 'preliminary'), ('preliminary', 'criminal'), ('criminal', 'investigation'), ('investigation', 'public'), ('public', 'office'), ('office', 'connection'), ('connection', 'with'), ('with', 'incident'), ('incident', 'that'), ('that', 'unlawful'), ('unlawful', 'deprivation'), ('deprivation', 'liberty'), ('liberty', 'illicit'), ('illicit', 'performance'), ('performance', 'sexual'), ('sexual', 'court'), ('court', 'first'), ('first', 'instance'), ('instance', 'thereafter'), ('thereafter', 'defendant'), ('defendant', 'victim'), ('victim', 'well'), ('well', 'number'), ('number', 'furthermore'), ('furthermore', 'took'), ('took', 'into'), ('into', 'account'), ('account', 'given'), ('given', 'documentation'), ('documentation', 'course'), ('course', 'preliminary'), ('preliminary', 'victim'), ('victim', 'provided'), ('provided', 'court'), ('court', 'with'), ('with', 'well'), ('well', 'wherein'), ('wherein', 'they'), ('they', 'both'), ('both', 'fully'), ('fully', 'their'), ('their', 'testimony'), ('testimony', 'question'), ('question', 'court'), ('court', 'first'), ('first', 'instance'), ('instance', 'june'), ('june', 'following'), ('following', 'remittal'), ('remittal', 'appeal'), ('appeal', 'same'), ('same', 'court'), ('court', 'again'), ('again', 'this'), ('this', 'judgment'), ('judgment', 'upheld'), ('upheld', 'court'), ('court', 'second'), ('second', 'instance'), ('instance', 'thereby'), ('thereby', 'final'), ('final', 'civil'), ('civil', 'lodged'), ('lodged', 'civil'), ('civil', 'defamation'), ('defamation', 'claim'), ('claim', 'with'), ('with', 'high'), ('high', 'court'), ('court', 'against'), ('against', 'applicant'), ('applicant', 'regarding'), ('regarding', 'this'), ('this', 'court'), ('court', 'partly'), ('partly', 'ordered'), ('ordered', 'applicant'), ('applicant', 'only'), ('only', 'jointly'), ('jointly', 'total'), ('total', 'well'), ('well', 'statutory'), ('statutory', 'interest'), ('interest', 'that'), ('that', 'date'), ('date', 'account'), ('account', 'mental'), ('mental', 'anguish'), ('anguish', 'consequence'), ('consequence', 'breach'), ('breach', 'reputation'), ('reputation', 'plus'), ('plus', 'litigation'), ('litigation', 'court'), ('court', 'furthermore'), ('furthermore', 'ordered'), ('ordered', 'said'), ('said', 'publish'), ('publish', 'this'), ('this', 'judgment'), ('judgment', 'without'), ('without', 'comment'), ('comment', 'delay'), ('delay', 'their'), ('their', 'news'), ('news', 'magazine'), ('magazine', 'high'), ('high', 'court'), ('court', 'first'), ('first', 'article'), ('article', 'with'), ('with', 'specific'), ('specific', 'reference'), ('reference', 'paragraph'), ('paragraph', 'thereof'), ('thereof', 'that'), ('that', 'inter'), ('inter', 'applicant'), ('applicant', 'author'), ('author', 'stated'), ('stated', 'fact'), ('fact', 'that'), ('that', 'unlawful'), ('unlawful', 'deprivation'), ('deprivation', 'liberty'), ('liberty', 'false'), ('false', 'impersonation'), ('impersonation', 'rape'), ('rape', 'despite'), ('despite', 'fact'), ('fact', 'that'), ('that', 'criminal'), ('criminal', 'against'), ('against', 'latter'), ('latter', 'still'), ('still', 'been'), ('been', 'pending'), ('pending', 'thereby'), ('thereby', 'right'), ('right', 'innocent'), ('innocent', 'furthermore'), ('furthermore', 'applicant'), ('applicant', 'included'), ('included', 'untrue'), ('untrue', 'statement'), ('statement', 'fact'), ('fact', 'when'), ('when', 'that'), ('that', 'crime'), ('crime', 'rape'), ('rape', 'even'), ('even', 'though'), ('though', 'known'), ('known', 'that'), ('that', 'police'), ('police', 'that'), ('that', 'particular'), ('particular', 'criminal'), ('criminal', 'paragraph'), ('paragraph', 'above'), ('above', 'with'), ('with', 'respect'), ('respect', 'second'), ('second', 'article'), ('article', 'prepared'), ('prepared', 'specifically'), ('specifically', 'thereof'), ('thereof', 'court'), ('court', 'claim'), ('claim', 'that'), ('that', 'this'), ('this', 'piece'), ('piece', 'been'), ('been', 'written'), ('written', 'accurately'), ('accurately', 'based'), ('based', 'information'), ('information', 'provided'), ('provided', 'police'), ('police', 'themselves'), ('themselves', 'paragraph'), ('paragraph', 'above'), ('above', 'lastly'), ('lastly', 'court'), ('court', 'noted'), ('noted', 'existence'), ('existence', 'statement'), ('statement', 'paragraph'), ('paragraph', 'above'), ('above', 'reiterated'), ('reiterated', 'that'), ('that', 'bearing'), ('bearing', 'present'), ('present', 'case'), ('case', 'since'), ('since', 'been'), ('been', 'given'), ('given', 'after'), ('after', 'publication'), ('publication', 'question'), ('question', 'court'), ('court', 'partly'), ('partly', 'judgment'), ('judgment', 'first'), ('first', 'instance'), ('instance', 'doing'), ('doing', 'ordered'), ('ordered', 'applicant'), ('applicant', 'jointly'), ('jointly', 'total'), ('total', 'approximately'), ('approximately', 'time'), ('time', 'account'), ('account', 'mental'), ('mental', 'anguish'), ('anguish', 'consequence'), ('consequence', 'breach'), ('breach', 'reputation'), ('reputation', 'well'), ('well', 'statutory'), ('statutory', 'interest'), ('interest', 'from'), ('from', 'plus'), ('plus', 'litigation'), ('litigation', 'approximately'), ('approximately', 'time'), ('time', 'obligation'), ('obligation', 'part'), ('part', 'publish'), ('publish', 'judgment'), ('judgment', 'upheld'), ('upheld', 'reasoning'), ('reasoning', 'which'), ('which', 'essentially'), ('essentially', 'along'), ('along', 'that'), ('that', 'high'), ('high', 'court'), ('court', 'court'), ('court', 'nevertheless'), ('nevertheless', 'inter'), ('inter', 'that'), ('that', 'award'), ('award', 'been'), ('been', 'excessive'), ('excessive', 'given'), ('given', 'interest'), ('interest', 'public'), ('public', 'informed'), ('informed', 'incident'), ('incident', 'question'), ('question', 'albeit'), ('albeit', 'more'), ('more', 'appropriate'), ('appropriate', 'manner'), ('manner', 'also'), ('also', 'incorrectly'), ('incorrectly', 'stated'), ('stated', 'fact'), ('fact', 'title'), ('title', 'piece'), ('piece', 'despite'), ('despite', 'more'), ('more', 'accurate'), ('accurate', 'text'), ('text', 'just'), ('just', 'below'), ('below', 'that'), ('that', 'rape'), ('rape', 'girl'), ('girl', 'could'), ('could', 'considered'), ('considered', 'public'), ('public', 'figure'), ('figure', 'such'), ('such', 'someone'), ('someone', 'should'), ('should', 'have'), ('have', 'withstand'), ('withstand', 'more'), ('more', 'criticism'), ('criticism', 'since'), ('since', 'merely'), ('merely', 'been'), ('been', 'employed'), ('employed', 'head'), ('head', 'municipal'), ('municipal', 'branch'), ('branch', 'office'), ('office', 'been'), ('been', 'local'), ('local', 'government'), ('government', 'official'), ('official', 'above'), ('above', 'inter'), ('inter', 'some'), ('some', 'relevant'), ('relevant', 'public'), ('public', 'information'), ('information', 'below'), ('below', 'before'), ('before', 'constitutional'), ('constitutional', 'court'), ('court', 'applicant'), ('applicant', 'lodged'), ('lodged', 'constitutional'), ('constitutional', 'appeal'), ('appeal', 'against'), ('against', 'judgment'), ('judgment', 'constitutional'), ('constitutional', 'court'), ('court', 'appeal'), ('appeal', 'noted'), ('noted', 'inter'), ('inter', 'that'), ('that', 'unlawful'), ('unlawful', 'divulge'), ('divulge', 'information'), ('information', 'concerning'), ('concerning', 'ongoing'), ('ongoing', 'criminal'), ('criminal', 'case'), ('case', 'even'), ('even', 'this'), ('this', 'information'), ('information', 'accurate'), ('accurate', 'breach'), ('breach', 'right'), ('right', 'innocent'), ('innocent', 'event'), ('event', 'appropriate'), ('appropriate', 'balance'), ('balance', 'struck'), ('struck', 'between'), ('between', 'freedom'), ('freedom', 'expression'), ('expression', 'hand'), ('hand', 'protection'), ('protection', 'reputation'), ('reputation', 'person'), ('person', 'concerned'), ('concerned', 'other'), ('other', 'civil'), ('civil', 'case'), ('case', 'hand'), ('hand', 'done'), ('done', 'properly'), ('properly', 'applicant'), ('applicant', 'with'), ('with', 'constitutional'), ('constitutional', 'decision'), ('decision', 'enforcement'), ('enforcement', 'lodged'), ('lodged', 'enforcement'), ('enforcement', 'request'), ('request', 'with'), ('with', 'court'), ('court', 'first'), ('first', 'instance'), ('instance', 'civil'), ('civil', 'above'), ('above', 'court'), ('court', 'first'), ('first', 'instance'), ('instance', 'enforcement'), ('enforcement', 'order'), ('order', 'august'), ('august', 'bailiff'), ('bailiff', 'ordered'), ('ordered', 'applicant'), ('applicant', 'within'), ('within', 'three'), ('three', 'days'), ('days', 'question'), ('question', 'noted'), ('noted', 'inter'), ('inter', 'that'), ('that', 'should'), ('should', 'fail'), ('fail', 'comply'), ('comply', 'entire'), ('entire', 'property'), ('property', 'would'), ('would', 'subject'), ('subject', 'enforcement'), ('enforcement', 'according'), ('according', 'information'), ('information', 'provided'), ('provided', 'applicant'), ('applicant', 'since'), ('since', 'been'), ('been', 'unemployed'), ('unemployed', 'movable'), ('movable', 'assets'), ('assets', 'relevance'), ('relevance', 'enforcement'), ('enforcement', 'procedure'), ('procedure', 'this'), ('this', 'also'), ('also', 'civil'), ('civil', 'question'), ('question', 'been'), ('been', 'enforced'), ('enforced', 'applicant'), ('applicant', 'however'), ('however', 'stated'), ('stated', 'that'), ('that', 'flat'), ('flat', 'which'), ('which', 'been'), ('been', 'living'), ('living', 'with'), ('with', 'family'), ('family', 'that'), ('that', 'could'), ('could', 'seek'), ('seek', 'enforcement'), ('enforcement', 'this'), ('this', 'property'), ('property', 'government'), ('government', 'confirmed'), ('confirmed', 'that'), ('that', 'civil'), ('civil', 'issue'), ('issue', 'unenforced'), ('unenforced', 'other'), ('other', 'relevant'), ('relevant', 'statement'), ('statement', 'given'), ('given', 'high'), ('high', 'court'), ('court', 'part'), ('part', 'civil'), ('civil', 'defamation'), ('defamation', 'that'), ('that', 'after'), ('after', 'publication'), ('publication', 'question'), ('question', 'applicant'), ('applicant', 'such'), ('such', 'been'), ('been', 'applicant'), ('applicant', 'response'), ('response', 'opportunity'), ('opportunity', 'deny'), ('deny', 'next'), ('next', 'issue'), ('issue', 'this'), ('this', 'offer'), ('offer', 'because'), ('because', 'debate'), ('debate', 'matter'), ('matter', 'through'), ('through', 'media'), ('media', 'lastly'), ('lastly', 'informed'), ('informed', 'applicant'), ('applicant', 'that'), ('that', 'would'), ('would', 'instead'), ('instead', 'legal'), ('legal', 'this'), ('this', 'regard'), ('regard', 'june'), ('june', 'neuropsychiatrist'), ('neuropsychiatrist', 'allegedly'), ('allegedly', 'consequence'), ('consequence', 'distress'), ('distress', 'which'), ('which', 'publication'), ('publication', 'same'), ('same', 'date'), ('date', 'also'), ('also', 'provided'), ('provided', 'with'), ('with', 'certificate'), ('certificate', 'that'), ('that', 'temporarily'), ('temporarily', 'incapable'), ('incapable', 'working'), ('working', 'average'), ('average', 'gross'), ('gross', 'monthly'), ('monthly', 'were'), ('were', 'approximately'), ('approximately', 'respectively'), ('respectively', 'relevant'), ('relevant', 'legal'), ('legal', 'framework'), ('framework', 'jurisprudence'), ('jurisprudence', 'official'), ('official', 'gazette'), ('gazette', 'socialist'), ('socialist', 'federal'), ('federal', 'republic'), ('republic', 'well'), ('well', 'official'), ('official', 'gazette'), ('gazette', 'federal'), ('federal', 'republic'), ('republic', 'under'), ('under', 'inter'), ('inter', 'anyone'), ('anyone', 'mental'), ('mental', 'anguish'), ('anguish', 'consequence'), ('consequence', 'breach'), ('breach', 'reputation'), ('reputation', 'depending'), ('depending', 'duration'), ('duration', 'intensity'), ('intensity', 'said'), ('said', 'mental'), ('mental', 'anguish'), ('anguish', 'financial'), ('financial', 'compensation'), ('compensation', 'before'), ('before', 'civil'), ('civil', 'addition'), ('addition', 'request'), ('request', 'other'), ('other', 'redress'), ('redress', 'which'), ('which', 'capable'), ('capable', 'adequate'), ('adequate', 'nonpecuniary'), ('nonpecuniary', 'satisfaction'), ('satisfaction', 'public'), ('public', 'information'), ('information', 'official'), ('official', 'gazette'), ('gazette', 'republic'), ('republic', 'article'), ('article', 'provided'), ('provided', 'that'), ('that', 'prior'), ('prior', 'publication'), ('publication', 'information'), ('information', 'regarding'), ('regarding', 'event'), ('event', 'occurrence'), ('occurrence', 'certain'), ('certain', 'person'), ('person', 'journalist'), ('journalist', 'responsible'), ('responsible', 'editor'), ('editor', 'were'), ('were', 'verify'), ('verify', 'origin'), ('origin', 'veracity'), ('veracity', 'comprehensiveness'), ('comprehensiveness', 'with'), ('with', 'diligence'), ('diligence', 'article'), ('article', 'provided'), ('provided', 'inter'), ('inter', 'that'), ('that', 'right'), ('right', 'protection'), ('protection', 'privacy'), ('privacy', 'limited'), ('limited', 'state'), ('state', 'political'), ('political', 'information'), ('information', 'question'), ('question', 'public'), ('public', 'relevance'), ('relevance', 'given'), ('given', 'their'), ('their', 'such'), ('such', 'were'), ('were', 'limited'), ('limited', 'proportion'), ('proportion', 'interest'), ('interest', 'public'), ('public', 'each'), ('each', 'case'), ('case', 'article'), ('article', 'provided'), ('provided', 'inter'), ('inter', 'that'), ('that', 'media'), ('media', 'outlet'), ('outlet', 'have'), ('have', 'status'), ('status', 'responsible'), ('responsible', 'editor'), ('editor', 'that'), ('that', 'outlet'), ('outlet', 'responsible'), ('responsible', 'editor'), ('editor', 'specific'), ('specific', 'edition'), ('edition', 'column'), ('column', 'responsible'), ('responsible', 'contents'), ('contents', 'which'), ('which', 'article'), ('article', 'provided'), ('provided', 'inter'), ('inter', 'that'), ('that', 'media'), ('media', 'outlet'), ('outlet', 'could'), ('could', 'pronounce'), ('pronounce', 'anyone'), ('anyone', 'guilty'), ('guilty', 'absence'), ('absence', 'final'), ('final', 'judicial'), ('judicial', 'another'), ('another', 'decision'), ('decision', 'this'), ('this', 'connection'), ('connection', 'article'), ('article', 'provided'), ('provided', 'inter'), ('inter', 'that'), ('that', 'person'), ('person', 'pecuniary'), ('pecuniary', 'nonpecuniary'), ('nonpecuniary', 'harm'), ('harm', 'consequence'), ('consequence', 'incorrect'), ('incorrect', 'incomplete'), ('incomplete', 'information'), ('information', 'media'), ('media', 'outlet'), ('outlet', 'publication'), ('publication', 'other'), ('other', 'information'), ('information', 'breach'), ('breach', 'this'), ('this', 'adequate'), ('adequate', 'compensation'), ('compensation', 'quite'), ('quite', 'apart'), ('apart', 'from'), ('from', 'other'), ('other', 'available'), ('available', 'redress'), ('redress', 'article'), ('article', 'provided'), ('provided', 'inter'), ('inter', 'that'), ('that', 'founder'), ('founder', 'media'), ('media', 'outlet'), ('outlet', 'would'), ('would', 'have'), ('have', 'been'), ('been', 'able'), ('able', 'establish'), ('establish', 'through'), ('through', 'diligence'), ('diligence', 'inaccuracy'), ('inaccuracy', 'incompleteness'), ('incompleteness', 'information'), ('information', 'prior'), ('prior', 'publication'), ('publication', 'were'), ('were', 'bear'), ('bear', 'joint'), ('joint', 'liability'), ('liability', 'pecuniary'), ('pecuniary', 'nonpecuniary'), ('nonpecuniary', 'damage'), ('damage', 'publication'), ('publication', 'information'), ('information', 'question'), ('question', 'same'), ('same', 'obligation'), ('obligation', 'example'), ('example', 'also'), ('also', 'applied'), ('applied', 'when'), ('when', 'harm'), ('harm', 'inadmissible'), ('inadmissible', 'publication'), ('publication', 'accurate'), ('accurate', 'information'), ('information', 'regarding'), ('regarding', 'private'), ('private', 'life'), ('life', 'concerned'), ('concerned', 'commission'), ('commission', 'criminal'), ('criminal', 'this'), ('this', 'subsequently'), ('subsequently', 'through'), ('through', 'constitutional'), ('constitutional', 'court'), ('court', 'ultimately'), ('ultimately', 'other'), ('other', 'legislation'), ('legislation', 'decision'), ('decision', 'adopted'), ('adopted', 'city'), ('city', 'establishment'), ('establishment', 'municipal'), ('municipal', 'branch'), ('branch', 'rada'), ('rada', 'official'), ('official', 'gazette'), ('gazette', 'city'), ('city', 'article'), ('article', 'provided'), ('provided', 'inter'), ('inter', 'that'), ('that', 'municipal'), ('municipal', 'branch'), ('branch', 'were'), ('were', 'established'), ('established', 'purpose'), ('purpose', 'making'), ('making', 'easier'), ('easier', 'concerned'), ('concerned', 'benefit'), ('benefit', 'from'), ('from', 'administrative'), ('administrative', 'local'), ('local', 'level'), ('level', 'article'), ('article', 'provided'), ('provided', 'inter'), ('inter', 'that'), ('that', 'municipal'), ('municipal', 'branch'), ('branch', 'were'), ('were', 'perform'), ('perform', 'administrative'), ('administrative', 'technical'), ('technical', 'keep'), ('keep', 'official'), ('official', 'issue'), ('issue', 'official'), ('official', 'well'), ('well', 'prepare'), ('prepare', 'statistics'), ('statistics', 'this'), ('this', 'context'), ('context', 'internal'), ('internal', 'classification'), ('classification', 'office'), ('office', 'local'), ('local', 'administrative'), ('administrative', 'these'), ('these', 'provided'), ('provided', 'inter'), ('inter', 'that'), ('that', 'executive'), ('executive', 'working'), ('working', 'municipal'), ('municipal', 'branch'), ('branch', 'could'), ('could', 'engage'), ('engage', 'such'), ('such', 'keeping'), ('keeping', 'official'), ('official', 'issuing'), ('issuing', 'various'), ('various', 'statistics'), ('statistics', 'dealing'), ('dealing', 'with'), ('with', 'civil'), ('civil', 'defence'), ('defence', 'they'), ('they', 'could'), ('could', 'also'), ('also', 'take'), ('take', 'other'), ('other', 'specific'), ('specific', 'request'), ('request', 'municipal'), ('municipal', 'legal'), ('legal', 'volume'), ('volume', 'necessary'), ('necessary', 'their'), ('their', 'local'), ('local', 'branch'), ('branch', 'order'), ('order', 'carry'), ('carry', 'some'), ('some', 'their'), ('their', 'various'), ('various', 'administrative'), ('administrative', 'more'), ('more', 'effectively'), ('effectively', 'such'), ('such', 'branch'), ('branch', 'established'), ('established', 'bases'), ('bases', 'municipal'), ('municipal', 'while'), ('while', 'their'), ('their', 'remit'), ('remit', 'defined'), ('defined', 'through'), ('through', 'adopted'), ('adopted', 'municipal'), ('municipal', 'local'), ('local', 'branch'), ('branch', 'shall'), ('shall', 'municipal'), ('municipal', 'either'), ('either', 'municipal'), ('municipal', 'themselves'), ('themselves', 'other'), ('other', 'municipal'), ('municipal', 'violation'), ('violation', 'article'), ('article', 'convention'), ('convention', 'applicant'), ('applicant', 'under'), ('under', 'article'), ('article', 'convention'), ('convention', 'that'), ('that', 'breach'), ('breach', 'freedom'), ('freedom', 'expression'), ('expression', 'particular'), ('particular', 'that'), ('that', 'printed'), ('printed', 'question'), ('question', 'raised'), ('raised', 'serious'), ('serious', 'with'), ('with', 'sexual'), ('sexual', 'abuse'), ('abuse', 'girl'), ('girl', 'that'), ('that', 'ultimately'), ('ultimately', 'ended'), ('ended', 'being'), ('being', 'publication'), ('publication', 'losing'), ('losing', 'civil'), ('civil', 'defamation'), ('defamation', 'case'), ('case', 'being'), ('being', 'ordered'), ('ordered', 'compensation'), ('compensation', 'plus'), ('plus', 'article'), ('article', 'convention'), ('convention', 'relevant'), ('relevant', 'everyone'), ('everyone', 'right'), ('right', 'freedom'), ('freedom', 'expression'), ('expression', 'this'), ('this', 'right'), ('right', 'shall'), ('shall', 'include'), ('include', 'freedom'), ('freedom', 'hold'), ('hold', 'impart'), ('impart', 'information'), ('information', 'without'), ('without', 'interference'), ('interference', 'public'), ('public', 'authority'), ('authority', 'exercise'), ('exercise', 'these'), ('these', 'since'), ('since', 'with'), ('with', 'subject'), ('subject', 'such'), ('such', 'necessary'), ('necessary', 'democratic'), ('democratic', 'society'), ('society', 'national'), ('national', 'security'), ('security', 'territorial'), ('territorial', 'integrity'), ('integrity', 'public'), ('public', 'safety'), ('safety', 'prevention'), ('prevention', 'disorder'), ('disorder', 'crime'), ('crime', 'protection'), ('protection', 'health'), ('health', 'morals'), ('morals', 'protection'), ('protection', 'reputation'), ('reputation', 'disclosure'), ('disclosure', 'information'), ('information', 'received'), ('received', 'confidence'), ('confidence', 'authority'), ('authority', 'impartiality'), ('impartiality', 'judiciary'), ('judiciary', 'admissibility'), ('admissibility', 'court'), ('court', 'that'), ('that', 'application'), ('application', 'neither'), ('neither', 'manifestly'), ('manifestly', 'inadmissible'), ('inadmissible', 'other'), ('other', 'grounds'), ('grounds', 'listed'), ('listed', 'article'), ('article', 'convention'), ('convention', 'must'), ('must', 'therefore'), ('therefore', 'declared'), ('declared', 'admissible'), ('admissible', 'applicant'), ('applicant', 'applicant'), ('applicant', 'added'), ('added', 'that'), ('that', 'situation'), ('situation', 'protection'), ('protection', 'minority'), ('minority', 'been'), ('been', 'poor'), ('poor', 'particularly'), ('particularly', 'with'), ('with', 'respect'), ('respect', 'been'), ('been', 'among'), ('among', 'most'), ('most', 'vulnerable'), ('vulnerable', 'country'), ('country', 'moreover'), ('moreover', 'even'), ('even', 'though'), ('though', 'been'), ('been', 'formally'), ('formally', 'with'), ('with', 'false'), ('false', 'impersonation'), ('impersonation', 'rape'), ('rape', 'given'), ('given', 'what'), ('what', 'fact'), ('fact', 'during'), ('during', 'incident'), ('incident', 'between'), ('between', 'question'), ('question', 'been'), ('been', 'wrong'), ('wrong', 'generally'), ('generally', 'speaking'), ('speaking', 'describe'), ('describe', 'such'), ('such', 'event'), ('event', 'while'), ('while', 'been'), ('been', 'fully'), ('fully', 'present'), ('present', 'negative'), ('negative', 'value'), ('value', 'regarding'), ('regarding', 'incident'), ('incident', 'which'), ('which', 'clearly'), ('clearly', 'been'), ('been', 'great'), ('great', 'public'), ('public', 'interest'), ('interest', 'there'), ('there', 'never'), ('never', 'been'), ('been', 'intent'), ('intent', 'gratuitously'), ('gratuitously', 'harm'), ('harm', 'statement'), ('statement', 'given'), ('given', 'court'), ('court', 'paragraph'), ('paragraph', 'above'), ('above', 'applicant'), ('applicant', 'furthermore'), ('furthermore', 'that'), ('that', 'present'), ('present', 'case'), ('case', 'everything'), ('everything', 'been'), ('been', 'done'), ('done', 'order'), ('order', 'cover'), ('cover', 'incident'), ('incident', 'secure'), ('secure', 'impunity'), ('impunity', 'perpetrator'), ('perpetrator', 'simply'), ('simply', 'because'), ('because', 'victim'), ('victim', 'herself'), ('herself', 'been'), ('been', 'origin'), ('origin', 'criminal'), ('criminal', 'against'), ('against', 'thus'), ('thus', 'ultimately'), ('ultimately', 'pressure'), ('pressure', 'which'), ('which', 'been'), ('been', 'brought'), ('brought', 'bear'), ('bear', 'victim'), ('victim', 'mother'), ('mother', 'which'), ('which', 'turn'), ('turn', 'consequence'), ('consequence', 'them'), ('them', 'their'), ('their', 'respect'), ('respect', 'paragraph'), ('paragraph', 'above'), ('above', 'lastly'), ('lastly', 'applicant'), ('applicant', 'that'), ('that', 'legal'), ('legal', 'system'), ('system', 'position'), ('position', 'head'), ('head', 'municipal'), ('municipal', 'branch'), ('branch', 'office'), ('office', 'very'), ('very', 'important'), ('important', 'public'), ('public', 'function'), ('function', 'paragraph'), ('paragraph', 'above'), ('above', 'that'), ('that', 'compensation'), ('compensation', 'which'), ('which', 'been'), ('been', 'against'), ('against', 'never'), ('never', 'been'), ('been', 'enforced'), ('enforced', 'only'), ('only', 'because'), ('because', 'neither'), ('neither', 'property'), ('property', 'income'), ('income', 'cover'), ('cover', 'those'), ('those', 'paragraph'), ('paragraph', 'government'), ('government', 'government'), ('government', 'endorsed'), ('endorsed', 'reasoning'), ('reasoning', 'civil'), ('civil', 'above'), ('above', 'well'), ('well', 'which'), ('which', 'been'), ('been', 'constitutional'), ('constitutional', 'court'), ('court', 'paragraph'), ('paragraph', 'above'), ('above', 'that'), ('that', 'there'), ('there', 'been'), ('been', 'violation'), ('violation', 'article'), ('article', 'present'), ('present', 'case'), ('case', 'particular'), ('particular', 'interference'), ('interference', 'with'), ('with', 'freedom'), ('freedom', 'expression'), ('expression', 'been'), ('been', 'accordance'), ('accordance', 'with'), ('with', 'necessary'), ('necessary', 'democratic'), ('democratic', 'society'), ('society', 'protection'), ('protection', 'reputation'), ('reputation', 'paragraph'), ('paragraph', 'above'), ('above', 'furthermore'), ('furthermore', 'civil'), ('civil', 'compensation'), ('compensation', 'negative'), ('negative', 'value'), ('value', 'expressed'), ('expressed', 'publication'), ('publication', 'untrue'), ('untrue', 'fact'), ('fact', 'which'), ('which', 'ended'), ('ended', 'seriously'), ('seriously', 'affecting'), ('affecting', 'reputation'), ('reputation', 'paragraph'), ('paragraph', 'above'), ('above', 'according'), ('according', 'government'), ('government', 'media'), ('media', 'general'), ('general', 'show'), ('show', 'greater'), ('greater', 'degree'), ('degree', 'respect'), ('respect', 'presumption'), ('presumption', 'innocence'), ('innocence', 'well'), ('well', 'attention'), ('attention', 'seriousness'), ('seriousness', 'when'), ('when', 'sexual'), ('sexual', 'violence'), ('violence', 'given'), ('given', 'severity'), ('severity', 'social'), ('social', 'condemnation'), ('condemnation', 'such'), ('such', 'locally'), ('locally', 'second'), ('second', 'article'), ('article', 'moreover'), ('moreover', 'repeatedly'), ('repeatedly', 'name'), ('name', 'initial'), ('initial', 'surname'), ('surname', 'which'), ('which', 'made'), ('made', 'identification'), ('identification', 'easy'), ('easy', 'anyone'), ('anyone', 'interested'), ('interested', 'also'), ('also', 'could'), ('could', 'considered'), ('considered', 'public'), ('public', 'official'), ('official', 'hence'), ('hence', 'someone'), ('someone', 'would'), ('would', 'have'), ('have', 'endure'), ('endure', 'more'), ('more', 'provocative'), ('provocative', 'criticism'), ('criticism', 'since'), ('since', 'merely'), ('merely', 'been'), ('been', 'employee'), ('employee', 'city'), ('city', 'head'), ('head', 'municipal'), ('municipal', 'branch'), ('branch', 'office'), ('office', 'material'), ('material', 'time'), ('time', 'above'), ('above', 'event'), ('event', 'nothing'), ('nothing', 'with'), ('with', 'official'), ('official', 'performance'), ('performance', 'finally'), ('finally', 'government'), ('government', 'that'), ('that', 'amount'), ('amount', 'compensation'), ('compensation', 'which'), ('which', 'been'), ('been', 'been'), ('been', 'disproportionate'), ('disproportionate', 'given'), ('given', 'that'), ('that', 'less'), ('less', 'than'), ('than', 'average'), ('average', 'gross'), ('gross', 'monthly'), ('monthly', 'salary'), ('salary', 'relevant'), ('relevant', 'time'), ('time', 'paragraph'), ('paragraph', 'above'), ('above', 'existence'), ('existence', 'interference'), ('interference', 'between'), ('between', 'that'), ('that', 'final'), ('final', 'civil'), ('civil', 'judgment'), ('judgment', 'against'), ('against', 'applicant'), ('applicant', 'journalist'), ('journalist', 'court'), ('court', 'interference'), ('interference', 'public'), ('public', 'authority'), ('authority', 'with'), ('with', 'right'), ('right', 'freedom'), ('freedom', 'expression'), ('expression', 'paragraph'), ('paragraph', 'above'), ('above', 'also'), ('also', 'with'), ('with', 'further'), ('further', 'june'), ('june', 'situation'), ('situation', 'well'), ('well', 'publication'), ('publication', 'responsible'), ('responsible', 'their'), ('their', 'such'), ('such', 'interference'), ('interference', 'will'), ('will', 'infringe'), ('infringe', 'convention'), ('convention', 'unless'), ('unless', 'paragraph'), ('paragraph', 'article'), ('article', 'must'), ('must', 'therefore'), ('therefore', 'determined'), ('determined', 'whether'), ('whether', 'more'), ('more', 'legitimate'), ('legitimate', 'that'), ('that', 'paragraph'), ('paragraph', 'necessary'), ('necessary', 'democratic'), ('democratic', 'society'), ('society', 'order'), ('order', 'achieve'), ('achieve', 'those'), ('those', 'whether'), ('whether', 'interference'), ('interference', 'court'), ('court', 'that'), ('that', 'legal'), ('legal', 'bases'), ('bases', 'adoption'), ('adoption', 'final'), ('final', 'civil'), ('civil', 'question'), ('question', 'were'), ('were', 'inter'), ('inter', 'relevant'), ('relevant', 'public'), ('public', 'information'), ('information', 'above'), ('above', 'court'), ('court', 'that'), ('that', 'these'), ('these', 'were'), ('were', 'both'), ('both', 'adequately'), ('adequately', 'accessible'), ('accessible', 'foreseeable'), ('foreseeable', 'that'), ('that', 'that'), ('that', 'they'), ('they', 'were'), ('were', 'with'), ('with', 'sufficient'), ('sufficient', 'precision'), ('precision', 'enable'), ('enable', 'individual'), ('individual', 'need'), ('need', 'with'), ('with', 'appropriate'), ('appropriate', 'advice'), ('advice', 'regulate'), ('regulate', 'conduct'), ('conduct', 'example'), ('example', 'among'), ('among', 'many'), ('many', 'other'), ('other', 'times'), ('times', 'united'), ('united', 'kingdom'), ('kingdom', 'series'), ('series', 'also'), ('also', 'context'), ('context', 'court'), ('court', 'therefore'), ('therefore', 'that'), ('that', 'interference'), ('interference', 'issue'), ('issue', 'within'), ('within', 'meaning'), ('meaning', 'article'), ('article', 'whether'), ('whether', 'interference'), ('interference', 'legitimate'), ('legitimate', 'agreement'), ('agreement', 'with'), ('with', 'position'), ('position', 'domestic'), ('domestic', 'government'), ('government', 'that'), ('that', 'interference'), ('interference', 'question'), ('question', 'legitimate'), ('legitimate', 'protection'), ('protection', 'reputation'), ('reputation', 'court'), ('court', 'reason'), ('reason', 'hold'), ('hold', 'otherwise'), ('otherwise', 'therefore'), ('therefore', 'that'), ('that', 'interference'), ('interference', 'with'), ('with', 'freedom'), ('freedom', 'expression'), ('expression', 'legitimate'), ('legitimate', 'under'), ('under', 'article'), ('article', 'necessary'), ('necessary', 'democratic'), ('democratic', 'general'), ('general', 'court'), ('court', 'general'), ('general', 'necessity'), ('necessity', 'interference'), ('interference', 'with'), ('with', 'exercise'), ('exercise', 'freedom'), ('freedom', 'expression'), ('expression', 'march'), ('march', 'june'), ('june', 'court'), ('court', 'also'), ('also', 'numerous'), ('numerous', 'that'), ('that', 'lack'), ('lack', 'relevant'), ('relevant', 'sufficient'), ('sufficient', 'reasoning'), ('reasoning', 'part'), ('part', 'national'), ('national', 'failure'), ('failure', 'consider'), ('consider', 'applicable'), ('applicable', 'interference'), ('interference', 'question'), ('question', 'will'), ('will', 'entail'), ('entail', 'violation'), ('violation', 'article'), ('article', 'among'), ('among', 'many'), ('many', 'other'), ('other', 'news'), ('news', 'russia'), ('russia', 'should'), ('should', 'furthermore'), ('furthermore', 'reiterated'), ('reiterated', 'that'), ('that', 'right'), ('right', 'protection'), ('protection', 'reputation'), ('reputation', 'right'), ('right', 'which'), ('which', 'under'), ('under', 'article'), ('article', 'convention'), ('convention', 'part'), ('part', 'right'), ('right', 'respect'), ('respect', 'private'), ('private', 'life'), ('life', 'instance'), ('instance', 'order'), ('order', 'article'), ('article', 'come'), ('come', 'into'), ('into', 'play'), ('play', 'attack'), ('attack', 'reputation'), ('reputation', 'must'), ('must', 'attain'), ('attain', 'certain'), ('certain', 'level'), ('level', 'seriousness'), ('seriousness', 'carried'), ('carried', 'manner'), ('manner', 'causing'), ('causing', 'prejudice'), ('prejudice', 'personal'), ('personal', 'enjoyment'), ('enjoyment', 'right'), ('right', 'respect'), ('respect', 'private'), ('private', 'life'), ('life', 'springer'), ('springer', 'above'), ('above', 'where'), ('where', 'accordance'), ('accordance', 'with'), ('with', 'criteria'), ('criteria', 'above'), ('above', 'protection'), ('protection', 'reputation'), ('reputation', 'bring'), ('bring', 'article'), ('article', 'into'), ('into', 'play'), ('play', 'court'), ('court', 'verify'), ('verify', 'whether'), ('whether', 'domestic'), ('domestic', 'struck'), ('struck', 'fair'), ('fair', 'balance'), ('balance', 'when'), ('when', 'protecting'), ('protecting', 'convention'), ('convention', 'namely'), ('namely', 'hand'), ('hand', 'freedom'), ('freedom', 'expression'), ('expression', 'article'), ('article', 'other'), ('other', 'right'), ('right', 'respect'), ('respect', 'private'), ('private', 'life'), ('life', 'article'), ('article', 'above'), ('above', 'general'), ('general', 'applicable'), ('applicable', 'balancing'), ('balancing', 'these'), ('these', 'were'), ('were', 'first'), ('first', 'springer'), ('springer', 'above'), ('above', 'then'), ('then', 'more'), ('more', 'detail'), ('detail', 'more'), ('more', 'recently'), ('recently', 'above'), ('above', 'lastly'), ('lastly', 'court'), ('court', 'that'), ('that', 'have'), ('have', 'certain'), ('certain', 'margin'), ('margin', 'appreciation'), ('appreciation', 'necessity'), ('necessity', 'scope'), ('scope', 'interference'), ('interference', 'freedom'), ('freedom', 'expression'), ('expression', 'article'), ('article', 'convention'), ('convention', 'where'), ('where', 'national'), ('national', 'have'), ('have', 'weighed'), ('weighed', 'stake'), ('stake', 'compliance'), ('compliance', 'with'), ('with', 'criteria'), ('criteria', 'laid'), ('laid', 'down'), ('down', 'strong'), ('strong', 'substitute'), ('substitute', 'view'), ('view', 'that'), ('that', 'domestic'), ('domestic', 'above'), ('above', 'with'), ('with', 'further'), ('further', 'relevant'), ('relevant', 'criteria'), ('criteria', 'when'), ('when', 'comes'), ('comes', 'balancing'), ('balancing', 'exercise'), ('exercise', 'between'), ('between', 'under'), ('under', 'article'), ('article', 'article'), ('article', 'convention'), ('convention', 'include'), ('include', 'contribution'), ('contribution', 'made'), ('made', 'article'), ('article', 'question'), ('question', 'debate'), ('debate', 'public'), ('public', 'interest'), ('interest', 'well'), ('well', 'known'), ('known', 'person'), ('person', 'concerned'), ('concerned', 'what'), ('what', 'subject'), ('subject', 'report'), ('report', 'conduct'), ('conduct', 'person'), ('person', 'concerned'), ('concerned', 'prior'), ('prior', 'publication'), ('publication', 'article'), ('article', 'method'), ('method', 'information'), ('information', 'veracity'), ('veracity', 'content'), ('content', 'form'), ('form', 'publication'), ('publication', 'severity'), ('severity', 'sanction'), ('sanction', 'example'), ('example', 'springer'), ('springer', 'above'), ('above', 'course'), ('course', 'some'), ('some', 'above'), ('above', 'criteria'), ('criteria', 'have'), ('have', 'more'), ('more', 'less'), ('less', 'relevance'), ('relevance', 'given'), ('given', 'particular'), ('particular', 'given'), ('given', 'case'), ('case', 'finland'), ('finland', 'june'), ('june', 'other'), ('other', 'relevant'), ('relevant', 'criteria'), ('criteria', 'also'), ('also', 'taken'), ('taken', 'into'), ('into', 'account'), ('account', 'depending'), ('depending', 'situation'), ('situation', 'springer'), ('springer', 'television'), ('television', 'application'), ('application', 'these'), ('these', 'present'), ('present', 'case'), ('case', 'relevant'), ('relevant', 'given'), ('given', 'domestic'), ('domestic', 'civil'), ('civil', 'justify'), ('justify', 'interference'), ('interference', 'with'), ('with', 'freedom'), ('freedom', 'expression'), ('expression', 'court'), ('court', 'following'), ('following', 'particular'), ('particular', 'relevance'), ('relevance', 'regard'), ('regard', 'criteria'), ('criteria', 'above'), ('above', 'whether'), ('whether', 'question'), ('question', 'made'), ('made', 'contribution'), ('contribution', 'debate'), ('debate', 'public'), ('public', 'interest'), ('interest', 'whether'), ('whether', 'considered'), ('considered', 'public'), ('public', 'figure'), ('figure', 'method'), ('method', 'information'), ('information', 'part'), ('part', 'applicant'), ('applicant', 'publication'), ('publication', 'well'), ('well', 'content'), ('content', 'form'), ('form', 'veracity'), ('veracity', 'information'), ('information', 'lastly'), ('lastly', 'publication'), ('publication', 'respect'), ('respect', 'severity'), ('severity', 'sanction'), ('sanction', 'applicant'), ('applicant', 'whether'), ('whether', 'made'), ('made', 'contribution'), ('contribution', 'debate'), ('debate', 'public'), ('public', 'interest'), ('interest', 'public'), ('public', 'interest'), ('interest', 'ordinarily'), ('ordinarily', 'which'), ('which', 'affect'), ('affect', 'public'), ('public', 'such'), ('such', 'extent'), ('extent', 'that'), ('that', 'legitimately'), ('legitimately', 'take'), ('take', 'interest'), ('interest', 'them'), ('them', 'which'), ('which', 'attract'), ('attract', 'attention'), ('attention', 'which'), ('which', 'concern'), ('concern', 'significant'), ('significant', 'degree'), ('degree', 'especially'), ('especially', 'that'), ('that', 'they'), ('they', 'affect'), ('affect', 'life'), ('life', 'community'), ('community', 'among'), ('among', 'above'), ('above', 'court'), ('court', 'furthermore'), ('furthermore', 'existence'), ('existence', 'such'), ('such', 'interest'), ('interest', 'example'), ('example', 'when'), ('when', 'publication'), ('publication', 'question'), ('question', 'concerned'), ('concerned', 'information'), ('information', 'criminal'), ('criminal', 'general'), ('general', 'june'), ('june', 'information'), ('information', 'regarding'), ('regarding', 'specific'), ('specific', 'criminal'), ('criminal', 'case'), ('case', 'white'), ('white', 'with'), ('with', 'this'), ('this', 'mind'), ('mind', 'court'), ('court', 'that'), ('that', 'present'), ('present', 'case'), ('case', 'clearly'), ('clearly', 'concerned'), ('concerned', 'incident'), ('incident', 'public'), ('public', 'interest'), ('interest', 'they'), ('they', 'sexual'), ('sexual', 'assault'), ('assault', 'girl'), ('girl', 'very'), ('very', 'serious'), ('serious', 'subsequently'), ('subsequently', 'brought'), ('brought', 'against'), ('against', 'this'), ('this', 'whether'), ('whether', 'considered'), ('considered', 'public'), ('public', 'figure'), ('figure', 'court'), ('court', 'that'), ('that', 'distinction'), ('distinction', 'made'), ('made', 'between'), ('between', 'private'), ('private', 'acting'), ('acting', 'public'), ('public', 'context'), ('context', 'political'), ('political', 'public'), ('public', 'accordingly'), ('accordingly', 'whilst'), ('whilst', 'private'), ('private', 'individual'), ('individual', 'unknown'), ('unknown', 'public'), ('public', 'claim'), ('claim', 'particular'), ('particular', 'protection'), ('protection', 'right'), ('right', 'private'), ('private', 'life'), ('life', 'same'), ('same', 'true'), ('true', 'public'), ('public', 'june'), ('june', 'march'), ('march', 'above'), ('above', 'respect'), ('respect', 'whom'), ('whom', 'critical'), ('critical', 'comment'), ('comment', 'they'), ('they', 'inevitably'), ('inevitably', 'knowingly'), ('knowingly', 'exposed'), ('exposed', 'public'), ('public', 'scrutiny'), ('scrutiny', 'must'), ('must', 'therefore'), ('therefore', 'display'), ('display', 'particularly'), ('particularly', 'high'), ('high', 'degree'), ('degree', 'tolerance'), ('tolerance', 'march'), ('march', 'turkey'), ('turkey', 'above'), ('above', 'state'), ('state', 'civil'), ('civil', 'court'), ('court', 'that'), ('that', 'when'), ('when', 'acting'), ('acting', 'official'), ('official', 'capacity'), ('capacity', 'they'), ('they', 'some'), ('some', 'subject'), ('subject', 'acceptable'), ('acceptable', 'criticism'), ('criticism', 'than'), ('than', 'private'), ('private', 'example'), ('example', 'russia'), ('russia', 'however'), ('however', 'said'), ('said', 'that'), ('that', 'civil'), ('civil', 'knowingly'), ('knowingly', 'themselves'), ('themselves', 'open'), ('open', 'close'), ('close', 'scrutiny'), ('scrutiny', 'their'), ('their', 'every'), ('every', 'word'), ('word', 'deed'), ('deed', 'extent'), ('extent', 'which'), ('which', 'should'), ('should', 'therefore'), ('therefore', 'equal'), ('equal', 'footing'), ('footing', 'with'), ('with', 'latter'), ('latter', 'when'), ('when', 'comes'), ('comes', 'criticism'), ('criticism', 'their'), ('their', 'also'), ('also', 'finland'), ('finland', 'finland'), ('finland', 'view'), ('view', 'above'), ('above', 'quite'), ('quite', 'apart'), ('apart', 'from'), ('from', 'different'), ('different', 'whether'), ('whether', 'should'), ('should', 'public'), ('public', 'figure'), ('figure', 'within'), ('within', 'meaning'), ('meaning', 'case'), ('case', 'under'), ('under', 'article'), ('article', 'convention'), ('convention', 'court'), ('court', 'that'), ('that', 'question'), ('question', 'concerned'), ('concerned', 'incident'), ('incident', 'which'), ('which', 'been'), ('been', 'have'), ('have', 'sexual'), ('sexual', 'assault'), ('assault', 'effect'), ('effect', 'that'), ('that', 'somehow'), ('somehow', 'inappropriately'), ('inappropriately', 'unlawfully'), ('unlawfully', 'carried'), ('carried', 'official'), ('official', 'capacity'), ('capacity', 'civil'), ('civil', 'servant'), ('servant', 'head'), ('head', 'municipal'), ('municipal', 'branch'), ('branch', 'office'), ('office', 'these'), ('these', 'specific'), ('specific', 'said'), ('said', 'that'), ('that', 'context'), ('context', 'seeking'), ('seeking', 'redress'), ('redress', 'violation'), ('violation', 'reputation'), ('reputation', 'should'), ('should', 'have'), ('have', 'shown'), ('shown', 'greater'), ('greater', 'degree'), ('degree', 'tolerance'), ('tolerance', 'than'), ('than', 'private'), ('private', 'individual'), ('individual', 'similar'), ('similar', 'method'), ('method', 'information'), ('information', 'content'), ('content', 'form'), ('form', 'veracity'), ('veracity', 'information'), ('information', 'court'), ('court', 'would'), ('would', 'stress'), ('stress', 'that'), ('that', 'context'), ('context', 'freedom'), ('freedom', 'expression'), ('expression', 'distinction'), ('distinction', 'between'), ('between', 'fact'), ('fact', 'value'), ('value', 'existence'), ('existence', 'whereas'), ('whereas', 'truth'), ('truth', 'value'), ('value', 'susceptible'), ('susceptible', 'proof'), ('proof', 'requirement'), ('requirement', 'prove'), ('prove', 'truth'), ('truth', 'value'), ('value', 'judgment'), ('judgment', 'impossible'), ('impossible', 'freedom'), ('freedom', 'opinion'), ('opinion', 'itself'), ('itself', 'which'), ('which', 'fundamental'), ('fundamental', 'part'), ('part', 'right'), ('right', 'article'), ('article', 'however'), ('however', 'where'), ('where', 'statement'), ('statement', 'value'), ('value', 'judgment'), ('judgment', 'proportionality'), ('proportionality', 'interference'), ('interference', 'depend'), ('depend', 'whether'), ('whether', 'there'), ('there', 'sufficient'), ('sufficient', 'factual'), ('factual', 'basis'), ('basis', 'statement'), ('statement', 'there'), ('there', 'that'), ('that', 'value'), ('value', 'judgment'), ('judgment', 'prove'), ('prove', 'excessive'), ('excessive', 'order'), ('order', 'distinguish'), ('distinguish', 'between'), ('between', 'factual'), ('factual', 'allegation'), ('allegation', 'value'), ('value', 'judgment'), ('judgment', 'necessary'), ('necessary', 'take'), ('take', 'account'), ('account', 'case'), ('case', 'general'), ('general', 'tone'), ('tone', 'bearing'), ('bearing', 'mind'), ('mind', 'that'), ('that', 'about'), ('about', 'public'), ('public', 'interest'), ('interest', 'that'), ('that', 'basis'), ('basis', 'constitute'), ('constitute', 'value'), ('value', 'rather'), ('rather', 'than'), ('than', 'fact'), ('fact', 'instance'), ('instance', 'above'), ('above', 'with'), ('with', 'further'), ('further', 'regard'), ('regard', 'must'), ('must', 'also'), ('also', 'view'), ('view', 'special'), ('special', 'role'), ('role', 'judiciary'), ('judiciary', 'society'), ('society', 'particular'), ('particular', 'inconceivable'), ('inconceivable', 'that'), ('that', 'there'), ('there', 'should'), ('should', 'prior'), ('prior', 'contemporaneous'), ('contemporaneous', 'discussion'), ('discussion', 'subject'), ('subject', 'matter'), ('matter', 'general'), ('general', 'press'), ('press', 'amongst'), ('amongst', 'public'), ('public', 'large'), ('large', 'only'), ('only', 'media'), ('media', 'have'), ('have', 'task'), ('task', 'such'), ('such', 'information'), ('information', 'public'), ('public', 'also'), ('also', 'right'), ('right', 'receive'), ('receive', 'them'), ('them', 'however'), ('however', 'consideration'), ('consideration', 'must'), ('must', 'given'), ('given', 'right'), ('right', 'fair'), ('fair', 'hearing'), ('hearing', 'under'), ('under', 'article'), ('article', 'convention'), ('convention', 'which'), ('which', 'criminal'), ('criminal', 'right'), ('right', 'impartial'), ('impartial', 'tribunal'), ('tribunal', 'right'), ('right', 'presumption'), ('presumption', 'innocence'), ('innocence', 'court'), ('court', 'repeatedly'), ('repeatedly', 'this'), ('this', 'must'), ('must', 'borne'), ('borne', 'mind'), ('mind', 'when'), ('when', 'pending'), ('pending', 'criminal'), ('criminal', 'since'), ('since', 'permissible'), ('permissible', 'comment'), ('comment', 'extend'), ('extend', 'which'), ('which', 'likely'), ('likely', 'prejudice'), ('prejudice', 'whether'), ('whether', 'intentionally'), ('intentionally', 'person'), ('person', 'fair'), ('fair', 'trial'), ('trial', 'undermine'), ('undermine', 'confidence'), ('confidence', 'public'), ('public', 'role'), ('role', 'administration'), ('administration', 'criminal'), ('criminal', 'justice'), ('justice', 'above'), ('above', 'with'), ('with', 'further'), ('further', 'being'), ('being', 'mindful'), ('mindful', 'above'), ('above', 'present'), ('present', 'case'), ('case', 'court'), ('court', 'that'), ('that', 'applicant'), ('applicant', 'news'), ('news', 'magazine'), ('magazine', 'were'), ('were', 'ultimately'), ('ultimately', 'informed'), ('informed', 'incident'), ('incident', 'related'), ('related', 'procedural'), ('procedural', 'police'), ('police', 'themselves'), ('themselves', 'above'), ('above', 'furthermore'), ('furthermore', 'civil'), ('civil', 'properly'), ('properly', 'established'), ('established', 'that'), ('that', 'first'), ('first', 'article'), ('article', 'stated'), ('stated', 'fact'), ('fact', 'that'), ('that', 'number'), ('number', 'despite'), ('despite', 'been'), ('been', 'known'), ('known', 'that'), ('that', 'criminal'), ('criminal', 'against'), ('against', 'were'), ('were', 'still'), ('still', 'pending'), ('pending', 'thereby'), ('thereby', 'right'), ('right', 'innocent'), ('innocent', 'until'), ('until', 'proved'), ('proved', 'guilty'), ('guilty', 'example'), ('example', 'springer'), ('springer', 'television'), ('television', 'above'), ('above', 'above'), ('above', 'finland'), ('finland', 'also'), ('also', 'incorrect'), ('incorrect', 'statement'), ('statement', 'fact'), ('fact', 'that'), ('that', 'crime'), ('crime', 'rape'), ('rape', 'even'), ('even', 'though'), ('though', 'news'), ('news', 'magazine'), ('magazine', 'itself'), ('itself', 'possession'), ('possession', 'information'), ('information', 'that'), ('that', 'police'), ('police', 'even'), ('even', 'against'), ('against', 'this'), ('this', 'particular'), ('particular', 'above'), ('above', 'concerning'), ('concerning', 'both'), ('both', 'court'), ('court', 'also'), ('also', 'quite'), ('quite', 'rightly'), ('rightly', 'view'), ('view', 'added'), ('added', 'that'), ('that', 'while'), ('while', 'there'), ('there', 'been'), ('been', 'interest'), ('interest', 'part'), ('part', 'public'), ('public', 'informed'), ('informed', 'incident'), ('incident', 'this'), ('this', 'done'), ('done', 'appropriate'), ('appropriate', 'manner'), ('manner', 'moreover'), ('moreover', 'second'), ('second', 'article'), ('article', 'only'), ('only', 'that'), ('that', 'despite'), ('despite', 'more'), ('more', 'accurate'), ('accurate', 'text'), ('text', 'just'), ('just', 'below'), ('below', 'title'), ('title', 'stated'), ('stated', 'that'), ('that', 'fact'), ('fact', 'rape'), ('rape', 'girl'), ('girl', 'paragraph'), ('paragraph', 'above'), ('above', 'also'), ('also', 'compare'), ('compare', 'contrast'), ('contrast', 'with'), ('with', 'example'), ('example', 'above'), ('above', 'that'), ('that', 'order'), ('order', 'where'), ('where', 'applicant'), ('applicant', 'explicitly'), ('explicitly', 'disregard'), ('disregard', 'right'), ('right', 'innocent'), ('innocent', 'until'), ('until', 'proved'), ('proved', 'guilty'), ('guilty', 'stated'), ('stated', 'merely'), ('merely', 'that'), ('that', 'former'), ('former', 'lawyer'), ('lawyer', 'deliberately'), ('deliberately', 'represent'), ('represent', 'properly'), ('properly', 'pending'), ('pending', 'civil'), ('civil', 'suit'), ('suit', 'confirmed'), ('confirmed', 'subsequent'), ('subsequent', 'police'), ('police', 'investigation'), ('investigation', 'furthermore'), ('furthermore', 'present'), ('present', 'case'), ('case', 'sexual'), ('sexual', 'abuse'), ('abuse', 'they'), ('they', 'were'), ('were', 'much'), ('much', 'more'), ('more', 'serious'), ('serious', 'sensitive'), ('sensitive', 'nature'), ('nature', 'therefore'), ('therefore', 'that'), ('that', 'government'), ('government', 'their'), ('their', 'domestic'), ('domestic', 'civil'), ('civil', 'against'), ('against', 'applicant'), ('applicant', 'based'), ('based', 'negative'), ('negative', 'value'), ('value', 'expressed'), ('expressed', 'because'), ('because', 'publication'), ('publication', 'inaccurate'), ('inaccurate', 'fact'), ('fact', 'iceland'), ('iceland', 'where'), ('where', 'court'), ('court', 'inter'), ('inter', 'that'), ('that', 'objective'), ('objective', 'factual'), ('factual', 'nature'), ('nature', 'term'), ('term', 'rapist'), ('rapist', 'when'), ('when', 'face'), ('face', 'justify'), ('justify', 'conclusion'), ('conclusion', 'that'), ('that', 'statement'), ('statement', 'question'), ('question', 'value'), ('value', 'judgment'), ('judgment', 'rather'), ('rather', 'than'), ('than', 'statement'), ('statement', 'fact'), ('fact', 'despite'), ('despite', 'then'), ('then', 'going'), ('going', 'into'), ('into', 'analysis'), ('analysis', 'even'), ('even', 'assuming'), ('assuming', 'that'), ('that', 'opposite'), ('opposite', 'were'), ('were', 'case'), ('case', 'moreover'), ('moreover', 'while'), ('while', 'right'), ('right', 'public'), ('public', 'imposing'), ('imposing', 'obligation'), ('obligation', 'accurately'), ('accurately', 'respect'), ('respect', 'legal'), ('legal', 'definition'), ('definition', 'given'), ('given', 'crime'), ('crime', 'might'), ('might', 'generally'), ('generally', 'speaking'), ('speaking', 'disproportionally'), ('disproportionally', 'undermine'), ('undermine', 'right'), ('right', 'freedom'), ('freedom', 'expression'), ('expression', 'specific'), ('specific', 'present'), ('present', 'case'), ('case', 'applicant'), ('applicant', 'indeed'), ('indeed', 'average'), ('average', 'citizen'), ('citizen', 'should'), ('should', 'have'), ('have', 'been'), ('been', 'able'), ('able', 'make'), ('make', 'common'), ('common', 'sense'), ('sense', 'distinction'), ('distinction', 'between'), ('between', 'such'), ('such', 'sensitive'), ('sensitive', 'very'), ('very', 'different'), ('different', 'rape'), ('rape', 'stated'), ('stated', 'fact'), ('fact', 'hand'), ('hand', 'example'), ('example', 'suspected'), ('suspected', 'rape'), ('rape', 'other'), ('other', 'compare'), ('compare', 'contrast'), ('contrast', 'lastly'), ('lastly', 'second'), ('second', 'article'), ('article', 'name'), ('name', 'initial'), ('initial', 'surname'), ('surname', 'which'), ('which', 'made'), ('made', 'identification'), ('identification', 'easy'), ('easy', 'locally'), ('locally', 'being'), ('being', 'common'), ('common', 'knowledge'), ('knowledge', 'that'), ('that', 'head'), ('head', 'specific'), ('specific', 'municipal'), ('municipal', 'branch'), ('branch', 'office'), ('office', 'near'), ('near', 'material'), ('material', 'time'), ('time', 'paragraph'), ('paragraph', 'publication'), ('publication', 'respect'), ('respect', 'severity'), ('severity', 'sanction'), ('sanction', 'applicant'), ('applicant', 'already'), ('already', 'noted'), ('noted', 'above'), ('above', 'right'), ('right', 'protection'), ('protection', 'reputation'), ('reputation', 'right'), ('right', 'which'), ('which', 'under'), ('under', 'article'), ('article', 'convention'), ('convention', 'part'), ('part', 'right'), ('right', 'respect'), ('respect', 'private'), ('private', 'life'), ('life', 'above'), ('above', 'furthermore'), ('furthermore', 'nature'), ('nature', 'severity'), ('severity', 'sanction'), ('sanction', 'matter'), ('matter', 'particular'), ('particular', 'importance'), ('importance', 'proportionality'), ('proportionality', 'interference'), ('interference', 'under'), ('under', 'article'), ('article', 'paragraph'), ('paragraph', 'above'), ('above', 'amount'), ('amount', 'compensation'), ('compensation', 'must'), ('must', 'likewise'), ('likewise', 'bear'), ('bear', 'reasonable'), ('reasonable', 'relationship'), ('relationship', 'proportionality'), ('proportionality', 'moral'), ('moral', 'injury'), ('injury', 'plaintiff'), ('plaintiff', 'question'), ('question', 'united'), ('united', 'kingdom'), ('kingdom', 'series'), ('series', 'also'), ('also', 'above'), ('above', 'view'), ('view', 'foregoing'), ('foregoing', 'given'), ('given', 'nature'), ('nature', 'criminal'), ('criminal', 'brought'), ('brought', 'against'), ('against', 'well'), ('well', 'paragraph'), ('paragraph', 'above'), ('above', 'court'), ('court', 'that'), ('that', 'publication'), ('publication', 'question'), ('question', 'were'), ('were', 'clearly'), ('clearly', 'sufficiently'), ('sufficiently', 'serious'), ('serious', 'attract'), ('attract', 'protection'), ('protection', 'article'), ('article', 'respect'), ('respect', 'reputation'), ('reputation', 'above'), ('above', 'same'), ('same', 'time'), ('time', 'however'), ('however', 'final'), ('final', 'civil'), ('civil', 'court'), ('court', 'judgment'), ('judgment', 'against'), ('against', 'applicant'), ('applicant', 'inter'), ('inter', 'equivalent'), ('equivalent', 'approximately'), ('approximately', 'mental'), ('mental', 'anguish'), ('anguish', 'plus'), ('plus', 'statutory'), ('statutory', 'interest'), ('interest', 'severe'), ('severe', 'itself'), ('itself', 'particularly'), ('particularly', 'given'), ('given', 'that'), ('that', 'were'), ('were', 'never'), ('never', 'enforced'), ('enforced', 'against'), ('against', 'applicant'), ('applicant', 'above'), ('above', 'also'), ('also', 'compare'), ('compare', 'contrast'), ('contrast', 'above'), ('above', 'conclusion'), ('conclusion', 'light'), ('light', 'above'), ('above', 'court'), ('court', 'opinion'), ('opinion', 'that'), ('that', 'civil'), ('civil', 'struck'), ('struck', 'fair'), ('fair', 'balance'), ('balance', 'between'), ('between', 'freedom'), ('freedom', 'expression'), ('expression', 'hand'), ('hand', 'interest'), ('interest', 'protection'), ('protection', 'reputation'), ('reputation', 'other'), ('other', 'that'), ('that', 'given'), ('given', 'their'), ('their', 'this'), ('this', 'context'), ('context', 'were'), ('were', 'both'), ('both', 'relevant'), ('relevant', 'sufficient'), ('sufficient', 'furthermore'), ('furthermore', 'civil'), ('civil', 'against'), ('against', 'applicant'), ('applicant', 'were'), ('were', 'themselves'), ('themselves', 'before'), ('before', 'conclusion'), ('conclusion', 'criminal'), ('criminal', 'case'), ('case', 'brought'), ('brought', 'against'), ('against', 'which'), ('which', 'latter'), ('latter', 'could'), ('could', 'have'), ('have', 'been'), ('been', 'relevance'), ('relevance', 'outcome'), ('outcome', 'former'), ('former', 'above'), ('above', 'also'), ('also', 'fine'), ('fine', 'above'), ('above', 'incident'), ('incident', 'giving'), ('giving', 'rise'), ('rise', 'involved'), ('involved', 'particularly'), ('particularly', 'serious'), ('serious', 'sensitive'), ('sensitive', 'nature'), ('nature', 'spite'), ('spite', 'essential'), ('essential', 'role'), ('role', 'press'), ('press', 'democratic'), ('democratic', 'society'), ('society', 'however'), ('however', 'paragraph'), ('paragraph', 'article'), ('article', 'does'), ('does', 'guarantee'), ('guarantee', 'wholly'), ('wholly', 'unrestricted'), ('unrestricted', 'freedom'), ('freedom', 'expression'), ('expression', 'even'), ('even', 'with'), ('with', 'respect'), ('respect', 'press'), ('press', 'coverage'), ('coverage', 'serious'), ('serious', 'public'), ('public', 'concern'), ('concern', 'example'), ('example', 'indeed'), ('indeed', 'protection'), ('protection', 'article'), ('article', 'convention'), ('convention', 'well'), ('well', 'implication'), ('implication', 'subject'), ('subject', 'proviso'), ('proviso', 'that'), ('that', 'they'), ('they', 'good'), ('good', 'faith'), ('faith', 'order'), ('order', 'provide'), ('provide', 'accurate'), ('accurate', 'reliable'), ('reliable', 'information'), ('information', 'accordance'), ('accordance', 'with'), ('with', 'responsible'), ('responsible', 'journalism'), ('journalism', 'example'), ('example', 'above'), ('above', 'view'), ('view', 'foregoing'), ('foregoing', 'there'), ('there', 'been'), ('been', 'violation'), ('violation', 'article'), ('article', 'convention'), ('convention', 'these'), ('these', 'court'), ('court', 'application'), ('application', 'admissible'), ('admissible', 'that'), ('that', 'there'), ('there', 'been'), ('been', 'violation'), ('violation', 'article'), ('article', 'convention'), ('convention', 'done'), ('done', 'notified'), ('notified', 'writing'), ('writing', 'pursuant'), ('pursuant', 'rule'), ('rule', 'court'), ('court', 'registrar'), ('registrar', 'president'), ('president', 'article'), ('article', 'head'), ('head', 'municipal'), ('municipal', 'branch'), ('branch', 'office'), ('office', 'name'), ('name', 'initial'), ('initial', 'surname'), ('surname', 'this'), ('this', 'judgment'), ('judgment', 'will'), ('will', 'instead')]\n"
          ]
        }
      ]
    },
    {
      "cell_type": "code",
      "source": [
        "combined_tuples = []\n",
        "final_bigram_list = []\n",
        "for bigrams in bigram_list:\n",
        "  combined_tuples = []\n",
        "  for tuples in bigrams:\n",
        "    combined = '_'.join(tuples)\n",
        "    combined_tuples.append(combined)\n",
        "  final_bigram_list.append(combined_tuples)\n",
        "print(final_bigram_list[1])\n",
        "final_data = final_bigram_list"
      ],
      "metadata": {
        "id": "lG5xTqvVRn1P",
        "colab": {
          "base_uri": "https://localhost:8080/"
        },
        "outputId": "6087005f-7563-420b-f7e1-f6768c649f13"
      },
      "execution_count": 72,
      "outputs": [
        {
          "output_type": "stream",
          "name": "stdout",
          "text": [
            "['applicant_born', 'born_campaigner', 'campaigner_against', 'against_abortion', 'abortion_applicant', 'applicant_distributed', 'distributed_immediate', 'immediate_vicinity', 'vicinity_medical', 'medical_practice', 'practice_inter', 'inter_following', 'following_text', 'text_front', 'front_page', 'page_know', 'know_that', 'that_full', 'full_name', 'name_address', 'address_that', 'that_unlawful', 'unlawful_according', 'according_federal', 'federal_constitutional', 'constitutional_court', 'court_nach', 'nach_sind', 'sind_underneath', 'underneath_following', 'following_smaller', 'smaller_type', 'type_according', 'according_international', 'international_criminal', 'criminal_murder', 'murder_intentional', 'intentional_innocent', 'innocent_human', 'human_being', 'being_tode', 'tode_back', 'back_side', 'side_folded', 'folded_leaflet', 'leaflet_following', 'following_text', 'text_murder', 'murder_human', 'human_unlawful', 'unlawful_morally', 'morally_degraded', 'degraded_state', 'state_murder', 'murder_innocent', 'innocent_people', 'people_make', 'make_subject', 'subject_criminal', 'criminal_liability', 'liability_strafe', 'strafe_applicant', 'applicant_further', 'further_federal', 'federal_constitutional', 'constitutional_leading', 'leading_judgment', 'judgment_paragraph', 'paragraph_below', 'below_with', 'with_regard', 'regard_abortion', 'abortion_statement', 'statement_personal', 'personal_physician', 'physician_schiller', 'schiller_also', 'also_section', 'section_pregnancy', 'pregnancy_paragraph', 'paragraph_below', 'below_make', 'make_their', 'their_influence', 'influence_those', 'those_letter', 'letter_that', 'that_applicant', 'applicant_sign', 'sign_declaration', 'declaration_cease', 'cease_desist', 'desist_applicant', 'applicant_following', 'following_statement', 'statement_full', 'full_name', 'name_carrying', 'carrying_publicly', 'publicly_that', 'that_with', 'with_then', 'then_should', 'should_stand', 'stand_opinion', 'opinion_instead', 'instead_leaflet', 'leaflet_campaign', 'campaign_slander', 'slander_interim', 'interim_injunction', 'injunction_already', 'already_given', 'given_lawyer', 'lawyer_mandate', 'mandate_lodge', 'lodge_criminal', 'criminal_complaint', 'complaint_ourselves', 'ourselves_unprincipled', 'unprincipled_characterless', 'characterless_stand', 'stand_subsequently', 'subsequently_applied', 'applied_regional', 'regional_court', 'court_civil', 'civil_injunction', 'injunction_applicant', 'applicant_claim', 'claim_that', 'that_plaintiff', 'plaintiff_unlawful', 'unlawful_disseminate', 'disseminate_name', 'name_assertion', 'assertion_that', 'that_unlawful', 'unlawful_were', 'were_medical', 'medical_practice', 'practice_also', 'also_lodged', 'lodged_claim', 'claim_nonpecuniary', 'nonpecuniary_damages', 'damages_amount', 'amount_legal', 'legal_date', 'date_oral', 'oral_hearing', 'hearing_before', 'before_regional', 'regional_court', 'court_applicant', 'applicant_distributed', 'distributed_second', 'second_leaflet', 'leaflet_directly', 'directly_front', 'front_practice', 'practice_among', 'among_other', 'other_applicant', 'applicant_this', 'this_second', 'second_leaflet', 'leaflet_which', 'which_name', 'name_into', 'into_immediate', 'immediate_vicinity', 'vicinity_practice', 'practice_following', 'following_sentence', 'sentence_front', 'front_side', 'side_leaflet', 'leaflet_near', 'near_unlawful', 'unlawful_silent', 'silent_about', 'about_murder', 'murder_emphases', 'emphases_original', 'original_back', 'back_folded', 'folded_leaflet', 'leaflet_following', 'following_text', 'text_these', 'these_prenatal', 'prenatal_have', 'have_meanwhile', 'meanwhile_taken', 'taken_that', 'that_bring', 'bring_mind', 'mind_holocaust', 'holocaust_holocaust', 'holocaust_emphases', 'emphases_original', 'original_farther', 'farther_down', 'down_leaflet', 'leaflet_read', 'read_simply', 'simply_unable', 'unable_understand', 'understand_that', 'that_medical', 'medical_personnel', 'personnel_supposed', 'supposed_help', 'help_save', 'save_stoop', 'stoop_take', 'take_part', 'part_murder', 'murder_regional', 'regional_court', 'court_injunction', 'injunction_ordered', 'ordered_applicant', 'applicant_desist', 'desist_from', 'from_publicly', 'publicly_both', 'both_writing', 'writing_orally', 'orally_well', 'well_that', 'that_plaintiff', 'plaintiff_unlawful', 'unlawful_medical', 'medical_practice', 'practice_addition', 'addition_regional', 'regional_court', 'court_compensation', 'compensation_pecuniary', 'pecuniary_damage', 'damage_plaintiff', 'plaintiff_claim', 'claim_respect', 'respect_nonpecuniary', 'nonpecuniary_damage', 'damage_court', 'court_that', 'that_were', 'were_freedom', 'freedom_expression', 'expression_public', 'public_debate', 'debate_moreover', 'moreover_they', 'they_classified', 'classified_fact', 'fact_such', 'such_information', 'information_that', 'that_were', 'were_unlawful', 'unlawful_line', 'line_with', 'with_judgment', 'judgment_constitutional', 'constitutional_court', 'court_incorrect', 'incorrect_however', 'however_when', 'when_read', 'read_conjunction', 'conjunction_with', 'with_whole', 'whole_leaflet', 'leaflet_pillory', 'pillory_effect', 'effect_serious', 'serious_interference', 'interference_with', 'with_personality', 'personality_which', 'which_freedom', 'freedom_expression', 'expression_court', 'court_came', 'came_this', 'this_conclusion', 'conclusion_based', 'based_that', 'that_applicant', 'applicant_singled', 'singled_name', 'name_vicinity', 'vicinity_practice', 'practice_that', 'that_federal', 'federal_constitutional', 'constitutional_judgment', 'judgment_only', 'only_that', 'that_stated', 'stated_that', 'that_been', 'been_subject', 'subject_criminal', 'criminal_liability', 'liability_that', 'that_murder', 'murder_that', 'that_this', 'this_criminal', 'criminal_that', 'that_associated', 'associated_with', 'with_holocaust', 'holocaust_nonetheless', 'nonetheless_regard', 'regard_nonpecuniary', 'nonpecuniary_damage', 'damage_court', 'court_that', 'that_even', 'even_though', 'though_reputation', 'reputation_been', 'been_grave', 'grave_enough', 'enough_justify', 'justify_injunction', 'injunction_they', 'they_been', 'been_sufficiently', 'sufficiently_serious', 'serious_justify', 'justify_nonpecuniary', 'nonpecuniary_damage', 'damage_applicant', 'applicant_against', 'against_regional', 'regional_decision', 'decision_additionally', 'additionally_expanded', 'expanded_action', 'action_include', 'include_second', 'second_leaflet', 'leaflet_paragraph', 'paragraph_above', 'above_which', 'which_subsequently', 'subsequently_subject', 'subject_matter', 'matter_judgment', 'judgment_court', 'court_appeal', 'appeal_court', 'court_appeal', 'appeal_confirmed', 'confirmed_reasoning', 'reasoning_regional', 'regional_court', 'court_essence', 'essence_both', 'both_however', 'however_partly', 'partly_regional', 'regional_judgment', 'judgment_concerning', 'concerning_precise', 'precise_wording', 'wording_injunction', 'injunction_ordered', 'ordered_applicant', 'applicant_desist', 'desist_from', 'from_public', 'public_that', 'that_unlawful', 'unlawful_medical', 'medical_practice', 'practice_direct', 'direct_connection', 'connection_this', 'this_that', 'that_murder', 'murder_intentional', 'intentional_innocent', 'innocent_human', 'human_being', 'being_court', 'court_appeal', 'appeal_further', 'further_ordered', 'ordered_applicant', 'applicant_desist', 'desist_from', 'from_that', 'that_unlawful', 'unlawful_causing', 'causing_infanticide', 'infanticide_outset', 'outset_that', 'that_view', 'view_that', 'that_should', 'should_subject', 'subject_criminal', 'criminal_liability', 'liability_were', 'were_compatible', 'compatible_with', 'with_fell', 'fell_within', 'within_freedom', 'freedom_expression', 'expression_however', 'however_court', 'court_also', 'also_noted', 'noted_that', 'that_very', 'very_wording', 'wording_that', 'that_plaintiff', 'plaintiff_murder', 'murder_which', 'which_could', 'could_neither', 'neither_were', 'were_considered', 'considered_fact', 'fact_considered', 'considered_value', 'value_view', 'view_applicant', 'applicant_unacceptable', 'unacceptable_pillory', 'pillory_effect', 'effect_plaintiff', 'plaintiff_given', 'given_applicant', 'applicant_reason', 'reason_that', 'that_regard', 'regard_court', 'court_noted', 'noted_that', 'that_been', 'been_involved', 'involved_public', 'public_debate', 'debate_about', 'about_regard', 'regard_second', 'second_leaflet', 'leaflet_court', 'court_appeal', 'appeal_that', 'that_even', 'even_though', 'though_been', 'been_name', 'name_been', 'been_distributed', 'distributed_front', 'front_medical', 'medical_practice', 'practice_vicinity', 'vicinity_similarly', 'similarly_first', 'first_leaflet', 'leaflet_negligible', 'negligible_part', 'part_would', 'would_have', 'have_understood', 'understood_from', 'from_leaflet', 'leaflet_that', 'that_professional', 'professional_murder', 'murder_however', 'however_even', 'even_understood', 'understood_nonlegal', 'nonlegal_sense', 'sense_leaflet', 'leaflet_made', 'made_understood', 'understood_that', 'that_applicant', 'applicant_illegal', 'illegal_punishable', 'punishable_since', 'since_applicant', 'applicant_that', 'that_only', 'only_been', 'been_which', 'which_were', 'were_according', 'according_federal', 'federal_constitutional', 'constitutional_court', 'court_paragraph', 'paragraph_below', 'below_unlawful', 'unlawful_subject', 'subject_criminal', 'criminal_liability', 'liability_justifiable', 'justifiable_criticism', 'criticism_claim', 'claim_damages', 'damages_court', 'court_appeal', 'appeal_upheld', 'upheld_judgment', 'judgment_also', 'also_grant', 'grant_leave', 'leave_appeal', 'appeal_federal', 'federal_court', 'court_justice', 'justice_request', 'request_applicant', 'applicant_legal', 'legal_complaint', 'complaint_against', 'against_denial', 'denial_leave', 'leave_appeal', 'appeal_grounds', 'grounds_that', 'that_intended', 'intended_appeal', 'appeal_sufficient', 'sufficient_prospect', 'prospect_success', 'success_federal', 'federal_constitutional', 'constitutional_court', 'court_admit', 'admit_complaint', 'complaint_lodged', 'lodged_applicant', 'applicant_adjudication', 'adjudication_being', 'being_inadmissible', 'inadmissible_without', 'without_providing', 'providing_relevant', 'relevant_domestic', 'domestic_practice', 'practice_relevant', 'relevant_domestic', 'domestic_practice', 'practice_have', 'have_been', 'been_judgment', 'judgment_case', 'case_violation', 'violation_article', 'article_convention', 'convention_applicant', 'applicant_that', 'that_injunction', 'injunction_desist', 'desist_from', 'from_that', 'that_unlawful', 'unlawful_medical', 'medical_practice', 'practice_freedom', 'freedom_expression', 'expression_provided', 'provided_article', 'article_convention', 'convention_which', 'which_relevant', 'relevant_everyone', 'everyone_right', 'right_freedom', 'freedom_expression', 'expression_this', 'this_right', 'right_shall', 'shall_include', 'include_freedom', 'freedom_hold', 'hold_receive', 'receive_impart', 'impart_information', 'information_without', 'without_interference', 'interference_public', 'public_authority', 'authority_regardless', 'regardless_exercise', 'exercise_these', 'these_since', 'since_with', 'with_subject', 'subject_such', 'such_necessary', 'necessary_democratic', 'democratic_society', 'society_protection', 'protection_reputation', 'reputation_admissibility', 'admissibility_court', 'court_that', 'that_this', 'this_complaint', 'complaint_neither', 'neither_inadmissible', 'inadmissible_domestic', 'domestic_manifestly', 'manifestly_within', 'within_meaning', 'meaning_article', 'article_convention', 'convention_further', 'further_that', 'that_inadmissible', 'inadmissible_other', 'other_grounds', 'grounds_must', 'must_therefore', 'therefore_declared', 'declared_admissible', 'admissible_applicant', 'applicant_that', 'that_court', 'court_desist', 'desist_order', 'order_with', 'with_freedom', 'freedom_expression', 'expression_without', 'without_being', 'being_protection', 'protection_personality', 'personality_that', 'that_public', 'public_debate', 'debate_personally', 'personally_legal', 'legal_situation', 'situation_under', 'under_which', 'which_doctor', 'doctor_within', 'within_twelve', 'twelve_conception', 'conception_following', 'following_obligatory', 'obligatory_were', 'were_considered', 'considered_unlawful', 'unlawful_were', 'were_exempt', 'exempt_from', 'from_criminal', 'criminal_liability', 'liability_term', 'term_murder', 'murder_have', 'have_understood', 'understood_legal', 'legal_qualification', 'qualification_professional', 'professional_critique', 'critique_killing', 'killing_unborn', 'unborn_applicant', 'applicant_further', 'further_that', 'that_could', 'could_considered', 'considered_murder', 'murder_legal', 'legal_sense', 'sense_since', 'since_killing', 'killing_defenseless', 'defenseless_unborn', 'unborn_could', 'could_seen', 'seen_malicious', 'malicious_within', 'within_meaning', 'meaning_article', 'article_criminal', 'criminal_code', 'code_case', 'case_light', 'light_contribution', 'contribution_public', 'public_debate', 'debate_great', 'great_importance', 'importance_possible', 'possible_with', 'with_personality', 'personality_government', 'government_that', 'that_injunction', 'injunction_court', 'court_appeal', 'appeal_freedom', 'freedom_expression', 'expression_carefully', 'carefully_weighed', 'weighed_freedom', 'freedom_expression', 'expression_against', 'against_from', 'from_article', 'article_convention', 'convention_they', 'they_acknowledged', 'acknowledged_that', 'that_applicant', 'applicant_made', 'made_statement', 'statement_context', 'context_public', 'public_debate', 'debate_about', 'about_abortion', 'abortion_within', 'within_scope', 'scope_margin', 'margin_appreciation', 'appreciation_domestic', 'domestic_come', 'come_compelling', 'compelling_conclusion', 'conclusion_that', 'that_distributed', 'distributed_applicant', 'applicant_such', 'such_serious', 'serious_violation', 'violation_personality', 'personality_justify', 'justify_restriction', 'restriction_freedom', 'freedom_expression', 'expression_government', 'government_further', 'further_that', 'that_domestic', 'domestic_carried', 'carried_extensive', 'extensive_analysis', 'analysis_various', 'various_conceivable', 'conceivable_interpretation', 'interpretation_come', 'come_convincing', 'convincing_conclusion', 'conclusion_that', 'that_been', 'been_supposed', 'supposed_lawbreaker', 'lawbreaker_based', 'based_this', 'this_conclusion', 'conclusion_injunction', 'injunction_which', 'which_been', 'been_limited', 'limited_claim', 'claim_that', 'that_unlawful', 'unlawful_these', 'these_within', 'within_same', 'same_context', 'context_murder', 'murder_expressly', 'expressly_them', 'them_infanticide', 'infanticide_applicant', 'applicant_been', 'been_from', 'from_taking', 'taking_public', 'public_very', 'very_clear', 'clear_stance', 'stance_against', 'against_abortion', 'abortion_court', 'court_appeal', 'appeal_even', 'even_right', 'right_freedom', 'freedom_expression', 'expression_abortion', 'abortion_injustice', 'injustice_moreover', 'moreover_also', 'also_been', 'been_from', 'from_personally', 'personally_sharply', 'sharply_abortion', 'abortion_such', 'such_their', 'their_assessment', 'assessment_outset', 'outset_court', 'court_this', 'this_dispute', 'dispute_between', 'between_that', 'that_injunction', 'injunction_with', 'with_freedom', 'freedom_expression', 'expression_legal', 'legal_basis', 'basis_legitimate', 'legitimate_protecting', 'protecting_reputation', 'reputation_therefore', 'therefore_remains', 'remains_determined', 'determined_whether', 'whether_interference', 'interference_necessary', 'necessary_democratic', 'democratic_society', 'society_whether', 'whether_balancing', 'balancing_exercise', 'exercise_domestic', 'domestic_conformity', 'conformity_with', 'with_criteria', 'criteria_laid', 'laid_down', 'down_fundamental', 'fundamental_concerning', 'concerning_question', 'question_whether', 'whether_interference', 'interference_with', 'with_freedom', 'freedom_expression', 'expression_necessary', 'necessary_democratic', 'democratic_society', 'society_well', 'well_established', 'established_have', 'have_recently', 'recently_been', 'been_june', 'june_with', 'with_further', 'further_freedom', 'freedom_expression', 'expression_essential', 'essential_democratic', 'democratic_society', 'society_basic', 'basic_progress', 'progress_each', 'each_subject', 'subject_paragraph', 'paragraph_article', 'article_applicable', 'applicable_only', 'only_information', 'information_that', 'that_received', 'received_inoffensive', 'inoffensive_matter', 'matter_indifference', 'indifference_also', 'also_those', 'those_that', 'that_offend', 'offend_shock', 'shock_disturb', 'disturb_such', 'such_pluralism', 'pluralism_tolerance', 'tolerance_without', 'without_which', 'which_there', 'there_democratic', 'democratic_society', 'society_forth', 'forth_article', 'article_this', 'this_freedom', 'freedom_subject', 'subject_which', 'which_must', 'must_however', 'however_strictly', 'strictly_need', 'need_must', 'must_established', 'established_convincingly', 'convincingly_adjective', 'adjective_necessary', 'necessary_within', 'within_meaning', 'meaning_article', 'article_existence', 'existence_pressing', 'pressing_social', 'social_need', 'need_have', 'have_certain', 'certain_margin', 'margin_appreciation', 'appreciation_whether', 'whether_such', 'such_need', 'need_goes', 'goes_hand', 'hand_hand', 'hand_with', 'with_supervision', 'supervision_embracing', 'embracing_both', 'both_legislation', 'legislation_even', 'even_those', 'those_given', 'given_independent', 'independent_court', 'court_court', 'court_therefore', 'therefore_give', 'give_final', 'final_ruling', 'ruling_whether', 'whether_restriction', 'restriction_reconcilable', 'reconcilable_with', 'with_freedom', 'freedom_expression', 'expression_article', 'article_task', 'task_supervisory', 'supervisory_jurisdiction', 'jurisdiction_take', 'take_place', 'place_competent', 'competent_national', 'national_rather', 'rather_review', 'review_under', 'under_article', 'article_they', 'they_pursuant', 'pursuant_their', 'their_power', 'power_appreciation', 'appreciation_this', 'this_does', 'does_mean', 'mean_that', 'that_supervision', 'supervision_limited', 'limited_whether', 'whether_respondent', 'respondent_state', 'state_discretion', 'discretion_reasonably', 'reasonably_carefully', 'carefully_good', 'good_faith', 'faith_what', 'what_court', 'court_look', 'look_interference', 'interference_light', 'light_case', 'case_whole', 'whole_determine', 'determine_whether', 'whether_proportionate', 'proportionate_legitimate', 'legitimate_whether', 'whether_national', 'national_justify', 'justify_relevant', 'relevant_sufficient', 'sufficient_doing', 'doing_court', 'court_satisfy', 'satisfy_itself', 'itself_that', 'that_national', 'national_applied', 'applied_which', 'which_were', 'were_conformity', 'conformity_with', 'with_article', 'article_moreover', 'moreover_that', 'that_they', 'they_acceptable', 'acceptable_assessment', 'assessment_relevant', 'relevant_court', 'court_further', 'further_that', 'that_right', 'right_protection', 'protection_reputation', 'reputation_article', 'article_convention', 'convention_part', 'part_right', 'right_respect', 'respect_private', 'private_life', 'life_order', 'order_article', 'article_come', 'come_into', 'into_play', 'play_however', 'however_attack', 'attack_reputation', 'reputation_must', 'must_attain', 'attain_certain', 'certain_level', 'level_seriousness', 'seriousness_made', 'made_manner', 'manner_causing', 'causing_prejudice', 'prejudice_personal', 'personal_enjoyment', 'enjoyment_right', 'right_respect', 'respect_private', 'private_life', 'life_springer', 'springer_above', 'above_that', 'that_concerned', 'concerned_criminal', 'criminal_conduct', 'conduct_court', 'court_also', 'also_took', 'took_into', 'into_account', 'account_that', 'that_under', 'under_article', 'article_convention', 'convention_have', 'have_right', 'right_innocent', 'innocent_criminal', 'criminal_until', 'until_proved', 'proved_guilty', 'guilty_among', 'among_other', 'other_worm', 'worm_august', 'august_when', 'when_examining', 'examining_whether', 'whether_there', 'there_need', 'need_interference', 'interference_with', 'with_freedom', 'freedom_expression', 'expression_democratic', 'democratic_society', 'society_protection', 'protection_reputation', 'reputation_court', 'court_ascertain', 'ascertain_whether', 'whether_domestic', 'domestic_have', 'have_struck', 'struck_fair', 'fair_balance', 'balance_when', 'when_protecting', 'protecting_convention', 'convention_which', 'which_come', 'come_into', 'into_conflict', 'conflict_with', 'with_each', 'each_other', 'other_certain', 'certain_namely', 'namely_hand', 'hand_freedom', 'freedom_expression', 'expression_article', 'article_other', 'other_right', 'right_respect', 'respect_private', 'private_life', 'life_article', 'article_june', 'june_limited', 'limited_united', 'united_kingdom', 'kingdom_springer', 'springer_above', 'above_above', 'above_although', 'although_differ', 'differ_outcome', 'outcome_judgment', 'judgment_where', 'where_balancing', 'balancing_exercise', 'exercise_national', 'national_conformity', 'conformity_with', 'with_criteria', 'criteria_laid', 'laid_down', 'down_court', 'court_would', 'would_require', 'require_strong', 'strong_substitute', 'substitute_view', 'view_that', 'that_domestic', 'domestic_with', 'with_springer', 'springer_above', 'above_turning', 'turning_present', 'present_case', 'case_court', 'court_that', 'that_while', 'while_regional', 'regional_court', 'court_considered', 'considered_fact', 'fact_court', 'court_appeal', 'appeal_left', 'left_this', 'this_question', 'question_open', 'open_both', 'both_been', 'been_considered', 'considered_that', 'that_while', 'while_strictly', 'strictly_speaking', 'speaking_calling', 'calling_unlawful', 'unlawful_correct', 'correct_statement', 'statement_read', 'read_conjunction', 'conjunction_with', 'with_rest', 'rest_leaflet', 'leaflet_could', 'could_understood', 'understood_that', 'that_professional', 'professional_murder', 'murder_court', 'court_that', 'that_previous', 'previous_decision', 'decision_march', 'march_that', 'that_german', 'german_under', 'under_article', 'article_criminal', 'criminal_code', 'code_fine', 'fine_line', 'line_between', 'between_which', 'which_considered', 'considered_unlawful', 'unlawful_exempt', 'exempt_from', 'from_criminal', 'criminal_liability', 'liability_those', 'those_which', 'which_considered', 'considered_thus', 'thus_lawful', 'lawful_that', 'that_statement', 'statement_that', 'that_physician', 'physician_among', 'among_unlawful', 'unlawful_correct', 'correct_from', 'from_strictly', 'strictly_judicial', 'judicial_point', 'point_view', 'view_however', 'however_regard', 'regard_fact', 'fact_that', 'that_applicant', 'applicant_primarily', 'primarily_statement', 'statement_court', 'court_that', 'that_domestic', 'domestic_also', 'also_took', 'took_into', 'into_account', 'account_point', 'point_view', 'view_reasonable', 'reasonable_with', 'with_ordinary', 'ordinary_susceptibility', 'susceptibility_would', 'would_assume', 'assume_that', 'that_unlawful', 'unlawful_were', 'were_forbidden', 'forbidden_sense', 'sense_subject', 'subject_criminal', 'criminal_liability', 'liability_court', 'court_that', 'that_present', 'present_case', 'case_comparable', 'comparable_case', 'case_above', 'above_provided', 'provided_further', 'further_explanation', 'explanation_regarding', 'regarding_fact', 'fact_that', 'that_providing', 'providing_were', 'were_exempt', 'exempt_from', 'from_criminal', 'criminal_liability', 'liability_under', 'under_article', 'article_criminal', 'criminal_code', 'code_contrast', 'contrast_applicant', 'applicant_even', 'even_assumption', 'assumption_that', 'that_provided', 'provided_were', 'were_subject', 'subject_criminal', 'criminal_liability', 'liability_providing', 'providing_definition', 'definition_murder', 'murder_international', 'international_first', 'first_leaflet', 'leaflet_calling', 'calling_infanticide', 'infanticide_second', 'second_leaflet', 'leaflet_court', 'court_therefore', 'therefore_with', 'with_domestic', 'domestic_that', 'that_when', 'when_taking', 'taking_into', 'into_account', 'account_whole', 'whole_they', 'they_could', 'could_understood', 'understood_that', 'that_professional', 'professional_murder', 'murder_this', 'this_conclusion', 'conclusion_into', 'into_question', 'question_judgment', 'judgment_case', 'case_above', 'above_since', 'since_that', 'that_case', 'case_leaflet', 'leaflet_question', 'question_provided', 'provided_sufficiently', 'sufficiently_clear', 'clear_further', 'further_explanation', 'explanation_according', 'according_which', 'which_were', 'were_subject', 'subject_criminal', 'criminal_liability', 'liability_court', 'court_would', 'would_further', 'further_reiterate', 'reiterate_that', 'that_while', 'while_existence', 'existence_truth', 'truth_value', 'value_susceptible', 'susceptible_proof', 'proof_however', 'however_even', 'even_where', 'where_statement', 'statement_value', 'value_judgment', 'judgment_there', 'there_must', 'must_sufficient', 'sufficient_factual', 'factual_basis', 'basis_support', 'support_failing', 'failing_which', 'which_will', 'will_excessive', 'excessive_court', 'court_that', 'that_applicant', 'applicant_neither', 'neither_domestic', 'domestic_before', 'before_court', 'court_indication', 'indication_that', 'that_murder', 'murder_that', 'that_were', 'were_subject', 'subject_criminal', 'criminal_liability', 'liability_moreover', 'moreover_applicant', 'applicant_before', 'before_court', 'court_that', 'that_could', 'could_considered', 'considered_murder', 'murder_within', 'within_meaning', 'meaning_article', 'article_criminal', 'criminal_code', 'code_court', 'court_that', 'that_there', 'there_evidence', 'evidence_that', 'that_argument', 'argument_domestic', 'domestic_domestic', 'domestic_contrast', 'contrast_article', 'article_criminal', 'criminal_code', 'code_clearly', 'clearly_that', 'that_from', 'from_criminal', 'criminal_liability', 'liability_under', 'under_article', 'article_criminal', 'criminal_code', 'code_court', 'court_that', 'that_even', 'even_assuming', 'assuming_that', 'that_were', 'were_considered', 'considered_value', 'value_there', 'there_sufficient', 'sufficient_factual', 'factual_basis', 'basis_calling', 'calling_murder', 'murder_that', 'that_regard', 'regard_court', 'court_also', 'also_that', 'that_these', 'these_were', 'were_only', 'only_very', 'very_serious', 'serious_something', 'something_reflected', 'reflected_fact', 'fact_that', 'that_conviction', 'conviction_murder', 'murder_would', 'would_carry', 'carry_life', 'life_sentence', 'sentence_might', 'might_also', 'also_incite', 'incite_hatred', 'hatred_aggression', 'aggression_regard', 'regard_seriousness', 'seriousness_sanction', 'sanction_applicant', 'applicant_court', 'court_that', 'that_criminally', 'criminally_slander', 'slander_ordered', 'ordered_damages', 'damages_contrast', 'contrast_addition', 'addition_injunction', 'injunction_limited', 'limited_scope', 'scope_only', 'only_applicant', 'applicant_from', 'from_that', 'that_unlawful', 'unlawful_these', 'these_within', 'within_same', 'same_context', 'context_murder', 'murder_expressly', 'expressly_them', 'them_infanticide', 'infanticide_that', 'that_regard', 'regard_court', 'court_that', 'that_applicant', 'applicant_from', 'from_against', 'against_that', 'that_lastly', 'lastly_court', 'court_that', 'that_domestic', 'domestic_carried', 'carried_detailed', 'detailed_analysis', 'analysis_various', 'various_therein', 'therein_therefore', 'therefore_satisfied', 'satisfied_that', 'that_legal', 'legal_protection', 'protection_received', 'received_applicant', 'applicant_domestic', 'domestic_level', 'level_compatible', 'compatible_with', 'with_procedural', 'procedural_article', 'article_convention', 'convention_these', 'these_court', 'court_that', 'that_injunction', 'injunction_disproportionate', 'disproportionate_legitimate', 'legitimate_namely', 'namely_protection', 'protection_reputation', 'reputation_that', 'that_given', 'given_domestic', 'domestic_were', 'were_relevant', 'relevant_sufficient', 'sufficient_interference', 'interference_with', 'with_exercise', 'exercise_right', 'right_freedom', 'freedom_expression', 'expression_could', 'could_therefore', 'therefore_reasonably', 'reasonably_domestic', 'domestic_necessary', 'necessary_democratic', 'democratic_society', 'society_there', 'there_accordingly', 'accordingly_been', 'been_violation', 'violation_article', 'article_convention', 'convention_these', 'these_court', 'court_unanimously', 'unanimously_complaint', 'complaint_concerning', 'concerning_article', 'article_convention', 'convention_admissible', 'admissible_that', 'that_there', 'there_been', 'been_violation', 'violation_article', 'article_convention', 'convention_done', 'done_notified', 'notified_writing', 'writing_pursuant', 'pursuant_rule', 'rule_court', 'court_registrar', 'registrar_president']\n"
          ]
        },
        {
          "output_type": "stream",
          "name": "stderr",
          "text": [
            "/usr/local/lib/python3.10/dist-packages/ipykernel/ipkernel.py:283: DeprecationWarning: `should_run_async` will not call `transform_cell` automatically in the future. Please pass the result to `transformed_cell` argument and any exception that happen during thetransform in `preprocessing_exc_tuple` in IPython 7.17 and above.\n",
            "  and should_run_async(code)\n"
          ]
        }
      ]
    },
    {
      "cell_type": "markdown",
      "source": [
        "#### TFIDF and LDA"
      ],
      "metadata": {
        "id": "xp9eSKY2Vv3T"
      }
    },
    {
      "cell_type": "code",
      "source": [
        "id2word = corpora.Dictionary(final_data)\n",
        "texts = final_data\n",
        "corpus = [id2word.doc2bow(text) for text in texts]\n",
        "tfidf = TfidfModel(corpus, id2word=id2word)\n",
        "\n",
        "df_sorted = tm.view_frequencies(id2word, texts, corpus, tfidf)\n",
        "df_sorted"
      ],
      "metadata": {
        "id": "zxmTZOI4SUv-",
        "colab": {
          "base_uri": "https://localhost:8080/",
          "height": 480
        },
        "outputId": "df4aa1f5-eafa-44c7-bd00-2f47e053e7c2"
      },
      "execution_count": 73,
      "outputs": [
        {
          "output_type": "stream",
          "name": "stderr",
          "text": [
            "/usr/local/lib/python3.10/dist-packages/ipykernel/ipkernel.py:283: DeprecationWarning: `should_run_async` will not call `transform_cell` automatically in the future. Please pass the result to `transformed_cell` argument and any exception that happen during thetransform in `preprocessing_exc_tuple` in IPython 7.17 and above.\n",
            "  and should_run_async(code)\n"
          ]
        },
        {
          "output_type": "execute_result",
          "data": {
            "text/plain": [
              "                         Word  Frequency\n",
              "84411     university_hospital   0.679984\n",
              "149817       anonymous_letter   0.648767\n",
              "163289       military_service   0.592997\n",
              "147408  applicant_association   0.515443\n",
              "69871          prime_minister   0.499757\n",
              "...                       ...        ...\n",
              "45993            present_case   0.000056\n",
              "45939               fact_that   0.000056\n",
              "129446      interference_with   0.000055\n",
              "157021      interference_with   0.000051\n",
              "125901              fact_that   0.000050\n",
              "\n",
              "[184369 rows x 2 columns]"
            ],
            "text/html": [
              "\n",
              "  <div id=\"df-4e956d65-b67a-4e4f-b085-1f81abbec997\">\n",
              "    <div class=\"colab-df-container\">\n",
              "      <div>\n",
              "<style scoped>\n",
              "    .dataframe tbody tr th:only-of-type {\n",
              "        vertical-align: middle;\n",
              "    }\n",
              "\n",
              "    .dataframe tbody tr th {\n",
              "        vertical-align: top;\n",
              "    }\n",
              "\n",
              "    .dataframe thead th {\n",
              "        text-align: right;\n",
              "    }\n",
              "</style>\n",
              "<table border=\"1\" class=\"dataframe\">\n",
              "  <thead>\n",
              "    <tr style=\"text-align: right;\">\n",
              "      <th></th>\n",
              "      <th>Word</th>\n",
              "      <th>Frequency</th>\n",
              "    </tr>\n",
              "  </thead>\n",
              "  <tbody>\n",
              "    <tr>\n",
              "      <th>84411</th>\n",
              "      <td>university_hospital</td>\n",
              "      <td>0.679984</td>\n",
              "    </tr>\n",
              "    <tr>\n",
              "      <th>149817</th>\n",
              "      <td>anonymous_letter</td>\n",
              "      <td>0.648767</td>\n",
              "    </tr>\n",
              "    <tr>\n",
              "      <th>163289</th>\n",
              "      <td>military_service</td>\n",
              "      <td>0.592997</td>\n",
              "    </tr>\n",
              "    <tr>\n",
              "      <th>147408</th>\n",
              "      <td>applicant_association</td>\n",
              "      <td>0.515443</td>\n",
              "    </tr>\n",
              "    <tr>\n",
              "      <th>69871</th>\n",
              "      <td>prime_minister</td>\n",
              "      <td>0.499757</td>\n",
              "    </tr>\n",
              "    <tr>\n",
              "      <th>...</th>\n",
              "      <td>...</td>\n",
              "      <td>...</td>\n",
              "    </tr>\n",
              "    <tr>\n",
              "      <th>45993</th>\n",
              "      <td>present_case</td>\n",
              "      <td>0.000056</td>\n",
              "    </tr>\n",
              "    <tr>\n",
              "      <th>45939</th>\n",
              "      <td>fact_that</td>\n",
              "      <td>0.000056</td>\n",
              "    </tr>\n",
              "    <tr>\n",
              "      <th>129446</th>\n",
              "      <td>interference_with</td>\n",
              "      <td>0.000055</td>\n",
              "    </tr>\n",
              "    <tr>\n",
              "      <th>157021</th>\n",
              "      <td>interference_with</td>\n",
              "      <td>0.000051</td>\n",
              "    </tr>\n",
              "    <tr>\n",
              "      <th>125901</th>\n",
              "      <td>fact_that</td>\n",
              "      <td>0.000050</td>\n",
              "    </tr>\n",
              "  </tbody>\n",
              "</table>\n",
              "<p>184369 rows × 2 columns</p>\n",
              "</div>\n",
              "      <button class=\"colab-df-convert\" onclick=\"convertToInteractive('df-4e956d65-b67a-4e4f-b085-1f81abbec997')\"\n",
              "              title=\"Convert this dataframe to an interactive table.\"\n",
              "              style=\"display:none;\">\n",
              "        \n",
              "  <svg xmlns=\"http://www.w3.org/2000/svg\" height=\"24px\"viewBox=\"0 0 24 24\"\n",
              "       width=\"24px\">\n",
              "    <path d=\"M0 0h24v24H0V0z\" fill=\"none\"/>\n",
              "    <path d=\"M18.56 5.44l.94 2.06.94-2.06 2.06-.94-2.06-.94-.94-2.06-.94 2.06-2.06.94zm-11 1L8.5 8.5l.94-2.06 2.06-.94-2.06-.94L8.5 2.5l-.94 2.06-2.06.94zm10 10l.94 2.06.94-2.06 2.06-.94-2.06-.94-.94-2.06-.94 2.06-2.06.94z\"/><path d=\"M17.41 7.96l-1.37-1.37c-.4-.4-.92-.59-1.43-.59-.52 0-1.04.2-1.43.59L10.3 9.45l-7.72 7.72c-.78.78-.78 2.05 0 2.83L4 21.41c.39.39.9.59 1.41.59.51 0 1.02-.2 1.41-.59l7.78-7.78 2.81-2.81c.8-.78.8-2.07 0-2.86zM5.41 20L4 18.59l7.72-7.72 1.47 1.35L5.41 20z\"/>\n",
              "  </svg>\n",
              "      </button>\n",
              "      \n",
              "  <style>\n",
              "    .colab-df-container {\n",
              "      display:flex;\n",
              "      flex-wrap:wrap;\n",
              "      gap: 12px;\n",
              "    }\n",
              "\n",
              "    .colab-df-convert {\n",
              "      background-color: #E8F0FE;\n",
              "      border: none;\n",
              "      border-radius: 50%;\n",
              "      cursor: pointer;\n",
              "      display: none;\n",
              "      fill: #1967D2;\n",
              "      height: 32px;\n",
              "      padding: 0 0 0 0;\n",
              "      width: 32px;\n",
              "    }\n",
              "\n",
              "    .colab-df-convert:hover {\n",
              "      background-color: #E2EBFA;\n",
              "      box-shadow: 0px 1px 2px rgba(60, 64, 67, 0.3), 0px 1px 3px 1px rgba(60, 64, 67, 0.15);\n",
              "      fill: #174EA6;\n",
              "    }\n",
              "\n",
              "    [theme=dark] .colab-df-convert {\n",
              "      background-color: #3B4455;\n",
              "      fill: #D2E3FC;\n",
              "    }\n",
              "\n",
              "    [theme=dark] .colab-df-convert:hover {\n",
              "      background-color: #434B5C;\n",
              "      box-shadow: 0px 1px 3px 1px rgba(0, 0, 0, 0.15);\n",
              "      filter: drop-shadow(0px 1px 2px rgba(0, 0, 0, 0.3));\n",
              "      fill: #FFFFFF;\n",
              "    }\n",
              "  </style>\n",
              "\n",
              "      <script>\n",
              "        const buttonEl =\n",
              "          document.querySelector('#df-4e956d65-b67a-4e4f-b085-1f81abbec997 button.colab-df-convert');\n",
              "        buttonEl.style.display =\n",
              "          google.colab.kernel.accessAllowed ? 'block' : 'none';\n",
              "\n",
              "        async function convertToInteractive(key) {\n",
              "          const element = document.querySelector('#df-4e956d65-b67a-4e4f-b085-1f81abbec997');\n",
              "          const dataTable =\n",
              "            await google.colab.kernel.invokeFunction('convertToInteractive',\n",
              "                                                     [key], {});\n",
              "          if (!dataTable) return;\n",
              "\n",
              "          const docLinkHtml = 'Like what you see? Visit the ' +\n",
              "            '<a target=\"_blank\" href=https://colab.research.google.com/notebooks/data_table.ipynb>data table notebook</a>'\n",
              "            + ' to learn more about interactive tables.';\n",
              "          element.innerHTML = '';\n",
              "          dataTable['output_type'] = 'display_data';\n",
              "          await google.colab.output.renderOutput(dataTable, element);\n",
              "          const docLink = document.createElement('div');\n",
              "          docLink.innerHTML = docLinkHtml;\n",
              "          element.appendChild(docLink);\n",
              "        }\n",
              "      </script>\n",
              "    </div>\n",
              "  </div>\n",
              "  "
            ]
          },
          "metadata": {},
          "execution_count": 73
        }
      ]
    },
    {
      "cell_type": "code",
      "source": [
        "corpus_filter, id2word_filter = tm.filter_tf_idf(id2word, texts, corpus, tfidf)\n",
        "lda_model = tm.perform_lda(corpus_filter, id2word_filter)"
      ],
      "metadata": {
        "id": "BjiA2qDDSn5S",
        "colab": {
          "base_uri": "https://localhost:8080/"
        },
        "outputId": "a7dee9a5-a7f8-405c-a8b1-192965feb246"
      },
      "execution_count": 74,
      "outputs": [
        {
          "output_type": "stream",
          "name": "stderr",
          "text": [
            "/usr/local/lib/python3.10/dist-packages/ipykernel/ipkernel.py:283: DeprecationWarning: `should_run_async` will not call `transform_cell` automatically in the future. Please pass the result to `transformed_cell` argument and any exception that happen during thetransform in `preprocessing_exc_tuple` in IPython 7.17 and above.\n",
            "  and should_run_async(code)\n"
          ]
        }
      ]
    },
    {
      "cell_type": "markdown",
      "source": [
        "#### Visualisation"
      ],
      "metadata": {
        "id": "DsipJ4-EVzrd"
      }
    },
    {
      "cell_type": "markdown",
      "source": [
        "Processed"
      ],
      "metadata": {
        "id": "ECR5p3Vb-N-_"
      }
    },
    {
      "cell_type": "code",
      "source": [
        "pyLDAvis.enable_notebook()\n",
        "vis = pyLDAvis.gensim.prepare(lda_model, corpus_filter, id2word_filter, mds=\"mmds\", R=30)\n",
        "vis"
      ],
      "metadata": {
        "id": "vMhPVd1GSr6e",
        "colab": {
          "base_uri": "https://localhost:8080/",
          "height": 955
        },
        "outputId": "00ea0dfb-5e05-466b-fa3c-4435bc6d0e90"
      },
      "execution_count": 24,
      "outputs": [
        {
          "output_type": "stream",
          "name": "stderr",
          "text": [
            "/usr/local/lib/python3.10/dist-packages/ipykernel/ipkernel.py:283: DeprecationWarning: `should_run_async` will not call `transform_cell` automatically in the future. Please pass the result to `transformed_cell` argument and any exception that happen during thetransform in `preprocessing_exc_tuple` in IPython 7.17 and above.\n",
            "  and should_run_async(code)\n",
            "/usr/local/lib/python3.10/dist-packages/sklearn/manifold/_mds.py:299: FutureWarning: The default value of `normalized_stress` will change to `'auto'` in version 1.4. To suppress this warning, manually set the value of `normalized_stress`.\n",
            "  warnings.warn(\n"
          ]
        },
        {
          "output_type": "execute_result",
          "data": {
            "text/plain": [
              "PreparedData(topic_coordinates=              x         y  topics  cluster       Freq\n",
              "topic                                                \n",
              "8     -0.126356 -0.081723       1        1  19.956541\n",
              "1      0.016955  0.119387       2        1  15.273004\n",
              "9     -0.082085  0.064202       3        1  15.041572\n",
              "5      0.043340 -0.086074       4        1  12.627142\n",
              "2      0.094333 -0.011987       5        1  10.900403\n",
              "7      0.048646  0.017382       6        1   6.348753\n",
              "6      0.011873  0.025666       7        1   5.954619\n",
              "0     -0.007629 -0.035895       8        1   5.768164\n",
              "3     -0.009949 -0.000472       9        1   5.510437\n",
              "4      0.010871 -0.010486      10        1   2.619366, topic_info=                         Term       Freq      Total Category  logprob  loglift\n",
              "10453           personal_data  21.000000  21.000000  Default  30.0000  30.0000\n",
              "4161              hate_speech  32.000000  32.000000  Default  29.0000  29.0000\n",
              "29854        radio_television  27.000000  27.000000  Default  28.0000  28.0000\n",
              "46113          state_security  23.000000  23.000000  Default  27.0000  27.0000\n",
              "9761     individual_concerned  22.000000  22.000000  Default  26.0000  26.0000\n",
              "...                       ...        ...        ...      ...      ...      ...\n",
              "94566               year_rank   0.607305   0.809689  Topic10  -7.1468   3.3546\n",
              "41133            tomb_unknown   0.578780   0.781309  Topic10  -7.1949   3.3422\n",
              "39641        desecration_tomb   0.578778   0.781316  Topic10  -7.1949   3.3422\n",
              "64489           remove_banner   0.497063   0.699514  Topic10  -7.3471   3.3006\n",
              "48337  discharge_professional   0.482927   0.685312  Topic10  -7.3760   3.2922\n",
              "\n",
              "[386 rows x 6 columns], token_table=       Topic      Freq                  Term\n",
              "term                                        \n",
              "1911       3  0.866167       abortion_doctor\n",
              "1921       3  1.002916       abortion_murder\n",
              "7359       8  0.810070      abuse_individual\n",
              "87256      1  1.023082           abuse_trust\n",
              "5          5  0.820976  acceptable_criticism\n",
              "...      ...       ...                   ...\n",
              "55414      9  1.392705            weak_woman\n",
              "28306      3  0.894978          wear_clothes\n",
              "58436      5  1.110664        weigh_interest\n",
              "11456      8  0.699092            whole_part\n",
              "94566     10  1.235042             year_rank\n",
              "\n",
              "[387 rows x 3 columns], R=30, lambda_step=0.01, plot_opts={'xlab': 'PC1', 'ylab': 'PC2'}, topic_order=[9, 2, 10, 6, 3, 8, 7, 1, 4, 5])"
            ],
            "text/html": [
              "\n",
              "<link rel=\"stylesheet\" type=\"text/css\" href=\"https://cdn.jsdelivr.net/gh/bmabey/pyLDAvis@3.4.0/pyLDAvis/js/ldavis.v1.0.0.css\">\n",
              "\n",
              "\n",
              "<div id=\"ldavis_el1831401412021720321899799806\" style=\"background-color:white;\"></div>\n",
              "<script type=\"text/javascript\">\n",
              "\n",
              "var ldavis_el1831401412021720321899799806_data = {\"mdsDat\": {\"x\": [-0.12635551872216252, 0.01695494143422292, -0.08208491491135002, 0.04334034484773989, 0.09433302758091773, 0.04864589514051237, 0.011873341574794853, -0.007629045951368963, -0.009949228152599217, 0.01087115715929302], \"y\": [-0.0817228967954941, 0.11938720927621216, 0.06420226206398315, -0.08607412789271213, -0.011986714604534316, 0.017381951522775826, 0.0256655797006551, -0.035894845673656355, -0.0004724316891046385, -0.010485985908124721], \"topics\": [1, 2, 3, 4, 5, 6, 7, 8, 9, 10], \"cluster\": [1, 1, 1, 1, 1, 1, 1, 1, 1, 1], \"Freq\": [19.956540598438416, 15.273003629788814, 15.041572260950156, 12.627141518654659, 10.900402875996313, 6.348753179959546, 5.954619389328759, 5.768163617273659, 5.510437044113205, 2.6193658854964736]}, \"tinfo\": {\"Term\": [\"personal_data\", \"hate_speech\", \"radio_television\", \"state_security\", \"individual_concerned\", \"national_radio\", \"publish_advertisement\", \"ministry_state\", \"search_engine\", \"information_request\", \"hidden_camera\", \"data_protection\", \"factual_basis\", \"comment_posted\", \"wall_account\", \"professional_integrity\", \"president_cassation\", \"misconduct_office\", \"professional_military\", \"access_information\", \"breach_peace\", \"data_subject\", \"penal_code\", \"hatred_violence\", \"federal_commissioner\", \"office_manager\", \"official_document\", \"television_show\", \"first_video\", \"republican_guard\", \"publish_advertisement\", \"misconduct_office\", \"office_manager\", \"republican_guard\", \"fifth_criterion\", \"national_republican\", \"previously_unknown\", \"presidential_candidate\", \"interest_publication\", \"seriousness_test\", \"access_official\", \"essential_previously\", \"statistical_data\", \"responsible_journalism\", \"criterion_established\", \"territorial_post\", \"abuse_trust\", \"refusal_publish\", \"breach_duty\", \"general_search\", \"twenty_year\", \"tourism_association\", \"newspaper_publish\", \"supervisory_board\", \"active_euthanasia\", \"information_journalist\", \"multinational_company\", \"practice_rescript\", \"document_disclosed\", \"document_handed\", \"official_document\", \"access_information\", \"parliamentary_assembly\", \"information_disclosed\", \"radio_television\", \"state_security\", \"individual_concerned\", \"national_radio\", \"ministry_state\", \"hidden_camera\", \"president_cassation\", \"professional_integrity\", \"federal_commissioner\", \"first_video\", \"moral_professional\", \"third_video\", \"opinion_expressed\", \"professional_activity\", \"communist_regime\", \"sanction_company\", \"code_journalistic\", \"professional_file\", \"second_third\", \"judiciary_land\", \"thirteen_concerned\", \"political_activity\", \"electronic_gambling\", \"gambling_arcade\", \"three_video\", \"generally_accessible\", \"name_individual\", \"district_administration\", \"duty_discretion\", \"integrity_colleague\", \"television_show\", \"civil_servant\", \"journalistic_ethic\", \"authority_judiciary\", \"breach_peace\", \"real_property\", \"association_request\", \"property_transaction\", \"former_prime\", \"abortion_murder\", \"incitement_hatred\", \"pregnant_woman\", \"press_badge\", \"paper_copy\", \"agricultural_forest\", \"forest_land\", \"leave_scene\", \"found_established\", \"area_reserved\", \"regional_real\", \"image_could\", \"interest_informed\", \"wear_clothes\", \"arrest_prosecution\", \"district_found\", \"demonstration_area\", \"constitutional_association\", \"interference_association\", \"transaction_commission\", \"discrimination_hostility\", \"prosecution_imprisonment\", \"charge_breach\", \"context_demonstration\", \"left_scene\", \"found_guilty\", \"presumption_innocence\", \"federal_constitutional\", \"private_life\", \"publication_image\", \"cost_expense\", \"chapter_penal\", \"penal_code\", \"abortion_doctor\", \"receive_information\", \"access_information\", \"wall_account\", \"hatred_violence\", \"cassation_division\", \"message_posted\", \"posted_wall\", \"political_debate\", \"account_holder\", \"content_comment\", \"account_comment\", \"division_bull\", \"feeling_rejection\", \"aware_comment\", \"communication_service\", \"racist_hate\", \"regional_commercial\", \"violence_group\", \"commit_suicide\", \"electronic_communication\", \"mean_communication\", \"publicly_accessible\", \"communication_site\", \"content_message\", \"electoral_context\", \"holder_account\", \"strong_feeling\", \"discrimination_hatred\", \"control_zone\", \"nonpecuniary_damage\", \"custom_control\", \"regulatory_body\", \"hate_speech\", \"comment_posted\", \"publish_retraction\", \"penal_code\", \"first_second\", \"news_item\", \"election_campaign\", \"former_husband\", \"deputy_mayor\", \"asylum_seeker\", \"claimant_former\", \"pleural_cancer\", \"staff_member\", \"medical_practitioner\", \"contact_claimant\", \"involved_drug\", \"late_minister\", \"staff_meeting\", \"ethnic_discord\", \"violent_action\", \"call_violence\", \"factual_basis\", \"claimant_present\", \"acceptable_criticism\", \"limit_acceptable\", \"medical_doctor\", \"ethnic_group\", \"victim_homicide\", \"unfair_competition\", \"identity_obvious\", \"federal_labour\", \"extremist_activity\", \"weigh_interest\", \"employer_interest\", \"glory_russia\", \"regional_chamber\", \"group_people\", \"present_scene\", \"penal_code\", \"made_identity\", \"hate_speech\", \"warsaw_regional\", \"fierce_defender\", \"information_society\", \"society_service\", \"amount_abuse\", \"publish_apology\", \"defender_agent\", \"recipient_service\", \"warsaw_district\", \"super_express\", \"press_conference\", \"post_comment\", \"phrase_question\", \"statement_made\", \"statement_question\", \"defamatory_comment\", \"museum_director\", \"agent_fierce\", \"towards_lustration\", \"electronic_commerce\", \"author_comment\", \"illegal_activity\", \"infringement_personal\", \"thus_company\", \"service_provided\", \"communication_network\", \"daily_newspaper\", \"statement_issue\", \"question_statement\", \"directive_electronic\", \"service_provider\", \"ordered_publish\", \"news_portal\", \"good_name\", \"civil_code\", \"member_state\", \"comment_posted\", \"personal_data\", \"search_engine\", \"data_protection\", \"data_subject\", \"taxation_data\", \"engine_provider\", \"search_result\", \"protection_board\", \"circular_letter\", \"list_result\", \"operator_search\", \"press_release\", \"legislative_decree\", \"sensitive_data\", \"formal_notice\", \"research_purpose\", \"result_displayed\", \"protection_individual\", \"data_data\", \"following_search\", \"protection_code\", \"degree_notoriety\", \"taxation_information\", \"journalistic_purpose\", \"among_many\", \"many_authority\", \"easily_accessible\", \"individual_regard\", \"basis_name\", \"displayed_following\", \"member_state\", \"protection_private\", \"civil_code\", \"access_information\", \"information_request\", \"intelligence_service\", \"foreign_intelligence\", \"federal_archive\", \"consult_file\", \"director_radio\", \"democracy_rule\", \"board_newspaper\", \"liable_defamation\", \"information_information\", \"information_authority\", \"press_receive\", \"physical_access\", \"second_basic\", \"period_closure\", \"president_assembly\", \"radio_station\", \"approximately_charity\", \"whole_part\", \"service_file\", \"election_code\", \"competent_authority\", \"liability_defamation\", \"assembly_governor\", \"international_supervisor\", \"supervisor_president\", \"abuse_individual\", \"consultation_file\", \"archival_document\", \"collector_fund\", \"editorial_board\", \"retraction_statement\", \"information_disclosed\", \"access_information\", \"first_instance\", \"receive_information\", \"received_information\", \"official_gazette\", \"tribunal_instance\", \"branch_office\", \"procedural_document\", \"municipal_branch\", \"undue_influence\", \"preliminary_investigation\", \"head_municipal\", \"publication_document\", \"reduced_bench\", \"impartiality_fairness\", \"took_view\", \"document_file\", \"extract_statement\", \"inspectorate_service\", \"conduct_completely\", \"principle_impartiality\", \"odds_principle\", \"completely_odds\", \"breach_privacy\", \"private_prosecution\", \"weak_woman\", \"publication_director\", \"objective_test\", \"fair_respect\", \"unlawful_nuisance\", \"civil_procedure\", \"publication_capable\", \"defamatory_nature\", \"investigation_general\", \"letter_minister\", \"comment_made\", \"civil_party\", \"provided_inter\", \"civil_code\", \"presumption_innocence\", \"general_inspectorate\", \"medical_practice\", \"professional_military\", \"service_contract\", \"four_serviceman\", \"military_specialist\", \"noncommissioned_officer\", \"specialist_code\", \"serviceman_professional\", \"internal_inquiry\", \"discharge_army\", \"military_discipline\", \"military_rank\", \"state_president\", \"burial_place\", \"armed_force\", \"dismissal_military\", \"unknown_soldier\", \"eternal_flame\", \"soldier_military\", \"commander_armed\", \"discharge_military\", \"duke_battalion\", \"expiry_contract\", \"grand_duke\", \"internal_investigation\", \"volunteer_military\", \"year_rank\", \"tomb_unknown\", \"desecration_tomb\", \"remove_banner\", \"discharge_professional\"], \"Freq\": [21.0, 32.0, 27.0, 23.0, 22.0, 20.0, 22.0, 18.0, 11.0, 9.0, 14.0, 8.0, 12.0, 13.0, 11.0, 12.0, 12.0, 14.0, 5.0, 34.0, 11.0, 7.0, 19.0, 9.0, 10.0, 12.0, 14.0, 11.0, 9.0, 11.0, 22.233413366971412, 14.622276644767565, 12.084933247594284, 11.4508949933641, 10.816678866222619, 10.8165092028303, 10.182302653460964, 9.547273783940152, 8.913191745608726, 8.91281958074816, 8.62198505649299, 8.279153491378544, 8.278210080822069, 7.957070801367329, 7.644566567629657, 7.644483104186662, 7.643978902895783, 7.643459650820101, 7.009549328260738, 6.749393776445454, 6.701940020216747, 6.375876397625304, 6.374876204562529, 6.333937385773502, 5.8702842774048705, 5.852470305338103, 5.74152823405351, 5.74152823405351, 5.107094212595682, 5.107094212595682, 13.233288972470783, 19.064179188908614, 6.316346438972442, 5.827760337325522, 26.99985757448602, 23.541044315727845, 21.93692301313716, 20.274308348062462, 18.585814611014435, 14.088257247048686, 12.401148879112123, 12.401148879112123, 10.150823568121211, 9.589286241132463, 8.46453825394248, 7.339774036048621, 6.7773958538848875, 6.333886111196595, 6.215007200299298, 6.215001441017278, 6.215001441017278, 5.652613311002781, 5.652607551720761, 5.6517358058513025, 5.6517358058513025, 5.204046918700538, 5.090204761715667, 5.090204761715667, 5.090204761715667, 5.089318355855611, 5.089318355855611, 4.847008606980495, 4.5278019717105735, 4.5278019717105735, 10.715736881516127, 7.523778908033117, 6.215001441017278, 5.187096828143273, 11.554229371526565, 8.833912922039705, 7.733185813358629, 6.632442719917051, 5.791518501889402, 5.802109694816676, 5.451941859211356, 4.972529500372281, 4.43090548492777, 4.43087145285702, 4.43087145285702, 4.43087145285702, 3.8804883042939298, 3.3300600374552243, 3.3300600374552243, 3.3300236850160143, 3.3293074646179623, 3.304623384938237, 3.1720566097068956, 3.1720228354548636, 2.7796304815229296, 2.7796304815229296, 2.779595418177309, 2.779595418177309, 2.779595418177309, 2.7259974849336115, 2.648132364876874, 2.2988728246143677, 2.2292210354506237, 2.2292210354506237, 4.352574486447965, 4.9823230021866785, 4.909022046891176, 9.808101572749065, 4.969990501639375, 6.681395791140841, 3.2517388360866963, 5.802721240815301, 2.9079081845649304, 3.8816624107347963, 3.849824119454805, 11.217717103587153, 9.159838197034205, 8.165240820432237, 5.112583165263019, 5.112583165263019, 4.603801334252278, 4.603801334252278, 4.095031623567075, 4.095031623567075, 4.095031623567075, 4.095031623567075, 3.5862850713610244, 3.5862850713610244, 3.5862850713610244, 3.416302700115201, 3.1916282256164967, 3.09353258730873, 3.0775731486565117, 3.0775731486565117, 3.0775731486565117, 3.0775731486565117, 3.0775731486565117, 3.0775731486565117, 3.0775731486565117, 3.0775731486565117, 3.0545997209023046, 2.932086604626227, 2.9320658269253044, 2.932080977332227, 2.770661616079031, 30.028466667317684, 12.188949955501927, 3.8683339204410556, 10.948774005798285, 5.6221831182475785, 5.191893381158742, 3.0790890550863055, 7.5987014941172655, 5.953358125070652, 4.924720093417612, 3.587646437272816, 3.1340835730672305, 2.770842380544576, 2.7098610898854925, 2.696258955233798, 2.696258955233798, 2.696263439330824, 2.568614275634989, 2.5684558375400925, 2.427064411160521, 2.4270492773330603, 11.525098667496573, 2.250593520076762, 2.250598004173787, 2.250598004173787, 2.002877427080234, 1.8614568540699972, 1.8614794613925, 1.8614652617519198, 1.8049703101667147, 1.7201726723442823, 1.7200590752196396, 1.6145178177204897, 1.6145166966962334, 1.578667648840068, 1.578671198750213, 1.4372575387228905, 2.6973201915298013, 2.8526024163070756, 1.8049703101667147, 2.4748348046333732, 4.000692307877164, 3.1625244828553, 2.5573697237753255, 2.466594279098544, 2.176375069367301, 2.095390616372569, 2.017776108366497, 1.921777074844919, 1.7815910414405456, 1.740192995320162, 1.6493735872690776, 1.5806710210994601, 1.4453731925804718, 1.2861838818133455, 1.2367683961752494, 1.1953835173031102, 1.1953592503910568, 1.1591822902501012, 1.1591822902501012, 1.104584458635676, 1.1045839145345089, 1.0137808295184378, 0.9506015431164655, 0.9229901500089771, 0.9229850354580061, 0.9229823149521705, 0.8730206605625217, 0.8730206605625217, 0.8730206605625217, 0.8321828210038026, 4.010198408188111, 1.8999953992823966, 1.92177424551885, 1.8840234183418898, 1.6137720685224657, 1.9220386786860693, 1.585723544537315, 21.434845305374196, 11.360278694228576, 8.643944815608956, 7.332588384715159, 3.877747178328856, 3.335095729777545, 3.19423859506995, 2.7765126066505594, 2.2975202896244324, 2.1005537432294608, 2.1560017761883126, 1.9462500032798529, 1.9385226910056828, 1.6746097158496736, 1.6746097158496736, 1.573931236835349, 1.4726900755786854, 1.3978411916579612, 1.3978411916579612, 1.3978411916579612, 1.3978411916579612, 1.350196713243373, 1.3315511404591374, 1.3297651116982643, 1.2437756705281646, 1.1559849929690207, 1.1210699117215466, 1.1210699117215466, 1.1210699117215466, 1.1210699117215466, 3.8889963323324213, 1.4150044799862758, 1.3642808140931584, 1.720612076615614, 9.129112485313764, 4.884560972929497, 4.030160689823646, 3.17565066247168, 3.0902172385895996, 2.4374333500593806, 2.397146336179816, 1.979367985327457, 1.9718763091968248, 1.684478868424395, 1.5017043744821623, 1.4667226545183176, 1.4667096038512124, 1.3812677761304657, 1.3812610530595326, 1.3601157096820318, 1.3601157096820318, 1.2377621462961965, 1.2349497275349859, 1.2103796715979136, 1.2103601944659457, 1.0908097561844428, 1.0908097561844428, 1.0908097561844428, 1.0908097561844428, 1.0908097561844428, 1.0394811858528912, 0.9540371830209603, 0.9540315475056194, 0.8685669799861284, 4.286423984579755, 1.663694296897406, 2.822495458114962, 4.368715559224904, 1.8592484588652072, 1.9191464729191776, 1.1509337840641927, 1.1605405580841093, 1.5409060187989774, 1.4528744291578501, 1.2864380889924318, 1.1996218967626644, 1.116781436832895, 0.7774688881230294, 0.7759102080032775, 0.6926348005230486, 0.6926164769997502, 0.6926106210283868, 1.8802282959773984, 0.6078093552033863, 0.6078052465783168, 0.6077904177476062, 0.6077866397015653, 0.607783286685704, 0.6077821532718918, 0.6077807365046265, 0.5229769204985484, 0.5229748425732259, 0.5229737563849891, 0.5229580774939194, 0.5229540160944254, 0.4381468470724861, 0.4381437774100778, 0.43814099110112265, 0.4381392909804043, 0.4381318293394735, 0.4381315459860204, 0.4381303653466326, 0.6077827672043734, 2.558926309685719, 0.6916101944367544, 0.8622996227071489, 0.777463315505119, 0.6077988711256228, 0.5199238342673156, 5.768042225323701, 4.051270884320442, 1.842614415119065, 1.3505687352289173, 1.2272891903389298, 1.2272891903389298, 0.9801393457592542, 0.8561567137615517, 0.8561567137615517, 0.8561567137615517, 0.8561567137615517, 0.8561567137615517, 0.7830737272199368, 0.7318503294564589, 0.7318503294564589, 0.7013530506677096, 0.6604924654580652, 0.6073047339055228, 0.6073047339055228, 0.6073047339055228, 0.6073047339055228, 0.6073047339055228, 0.6073047339055228, 0.6073047339055228, 0.6073047339055228, 0.6073047339055228, 0.5787804091309133, 0.5787778051045884, 0.4970626957810557, 0.4829272776405632], \"Total\": [21.0, 32.0, 27.0, 23.0, 22.0, 20.0, 22.0, 18.0, 11.0, 9.0, 14.0, 8.0, 12.0, 13.0, 11.0, 12.0, 12.0, 14.0, 5.0, 34.0, 11.0, 7.0, 19.0, 9.0, 10.0, 12.0, 14.0, 11.0, 9.0, 11.0, 22.409636277580333, 14.797902554738087, 12.260420202562868, 11.626368883668793, 10.992150347791975, 10.991982553202304, 10.357773692751218, 9.722756233197739, 9.088667414788121, 9.088367726763586, 8.797602269770273, 8.454623289951849, 8.45389652252272, 8.132717337483038, 7.820038894264859, 7.819953746140426, 7.819510415224801, 7.819097440124653, 7.185072542392542, 6.9248890526392435, 6.878617528493436, 6.551344769477683, 6.550415317863982, 6.509650413483184, 6.045854585971128, 6.028104152838244, 5.916996540847141, 5.916996540847141, 5.282562160311232, 5.282562160311232, 14.215754197443646, 34.74619941466804, 7.561862519700063, 8.811705323953756, 27.17917594399944, 23.72106983392305, 22.11661689063951, 20.453606636751587, 18.765685875769506, 14.267555281524208, 12.580446359060605, 12.580446359060605, 10.33034500254634, 9.768584093674157, 8.643835724885093, 7.5190717984735596, 6.956693322155132, 6.513337408750991, 6.394304668569543, 6.394299159233996, 6.394299159233996, 5.831910779273026, 5.831905246133053, 5.831125768915174, 5.831125768915174, 5.383547342343457, 5.26950243402385, 5.26950243402385, 5.26950243402385, 5.2686937131883465, 5.2686937131883465, 5.026550203653868, 4.707099439980818, 4.707099439980818, 11.863081471124843, 8.247880564336345, 8.929556226726046, 8.247374447774481, 11.734330434704153, 9.013855148351908, 7.913127493602546, 6.812383871872305, 5.97157426895225, 5.9825557590439935, 5.632732154750897, 5.160249201160642, 4.610843250635158, 4.6108116149356775, 4.6108116149356775, 4.6108116149356775, 4.060426030716438, 3.509997725294369, 3.509997725294369, 3.509963348065974, 3.509272991668515, 3.4846100192937857, 3.352035844905131, 3.3520189930774387, 2.95956813077871, 2.95956813077871, 2.9595348030801256, 2.9595348030801256, 2.9595348030801256, 2.9064732836080727, 2.828121386500762, 2.4788567008758178, 2.409158645421524, 2.409158645421524, 4.986285402604289, 5.92565055504832, 6.026786130468455, 15.954440064082418, 7.063295712026091, 11.917042937385293, 3.9968562075151244, 19.73352405732272, 3.463536082015178, 10.950892763120455, 34.74619941466804, 11.399991825060944, 9.342306783520101, 8.347476999753434, 5.29478331006905, 5.29478331006905, 4.7859953271562725, 4.7859953271562725, 4.277219414778651, 4.277219414778651, 4.277219414778651, 4.277219414778651, 3.768466701761095, 3.768466701761095, 3.768466701761095, 3.5986319402954305, 3.3738933171265204, 3.275816630846805, 3.259748818322778, 3.259748818322778, 3.259748818322778, 3.259748818322778, 3.259748818322778, 3.259748818322778, 3.259748818322778, 3.259748818322778, 3.23687722049223, 3.1143861511711806, 3.114366114111941, 3.1143976488545753, 2.952961333086354, 32.66293444363545, 13.942181899414493, 4.56341159274614, 19.73352405732272, 9.494268269388424, 8.31372839777428, 7.225958083274716, 7.784261717284764, 6.139287806292836, 5.110277134324106, 3.7731777213498034, 3.319774520454279, 2.957608695845012, 2.8955725003858106, 2.8817839651139434, 2.8817839651139434, 2.8817964575363675, 2.75414734230246, 2.754101759119332, 2.6127079128059214, 2.6127083416261243, 12.413497489895088, 2.436115494802842, 2.43612612302174, 2.43612612302174, 2.18851803479315, 2.0470830288655284, 2.0471122384312714, 2.0471199667429016, 1.9904894999909863, 1.905699467239248, 1.9056706518301092, 1.8007250378118096, 1.800724444056245, 1.764262596079547, 1.7643005815569222, 1.6228693086991295, 3.2843727427124683, 19.73352405732272, 3.089754812111989, 32.66293444363545, 4.194975094473293, 3.3565348402641173, 2.7515436278643994, 2.660727744200543, 2.3713494928877252, 2.28941316485771, 2.211784703131947, 2.1159089073877864, 1.975663232022653, 1.9342716972650056, 1.8434616305359899, 1.7772323087465371, 1.63938079865902, 1.4802463121209506, 1.4308172868919031, 1.3894613423321884, 1.3894434070782817, 1.3531892722200427, 1.3531892722200427, 1.2986543676750752, 1.2986558639075452, 1.2078514293189582, 1.1446228925022544, 1.1170375060811333, 1.1170418202588137, 1.1170425999091655, 1.0670269164655195, 1.0670269164655195, 1.0670269164655195, 1.026234544065172, 5.979586659246369, 2.628652012819587, 2.7188473249812057, 2.6584068694119707, 4.332627422336455, 7.119874799128823, 13.942181899414493, 21.638084680942473, 11.554787108433572, 8.839234804036451, 7.52745060421349, 4.072948761725864, 3.529602747957705, 3.3893201544075033, 2.9712516864399134, 2.4921049356961804, 2.295477593231002, 2.3637619786963677, 2.1409359333570466, 2.1330394216961372, 1.8691164464201797, 1.8691164464201797, 1.7684512680580522, 1.6673051375163228, 1.592347873159981, 1.592347873159981, 1.592347873159981, 1.592347873159981, 1.5463770582629974, 1.526227729597532, 1.5281881161191497, 1.4383492135021665, 1.3505400444489823, 1.315576545855396, 1.315576545855396, 1.315576545855396, 1.315576545855396, 7.119874799128823, 2.84110694141835, 4.332627422336455, 34.74619941466804, 9.324526623101926, 5.079910662080127, 4.225316119464777, 3.3708218142037243, 3.2853448714380757, 2.6323458359211265, 2.5922415949781663, 2.1744835195968992, 2.166825750838998, 1.8796144308765153, 1.6968074136416045, 1.661729908343882, 1.6617423328733258, 1.576282075596327, 1.576285936843405, 1.5550243295760697, 1.5550243295760697, 1.4334568898869868, 1.4304274536603139, 1.4053656367657514, 1.4053761625288543, 1.285717127164087, 1.285717127164087, 1.285717127164087, 1.285717127164087, 1.285717127164087, 1.2344617434928218, 1.1490023060324877, 1.1490003626972047, 1.0635623997051253, 6.095466238997554, 2.393124714767296, 8.811705323953756, 34.74619941466804, 6.754955382721645, 10.950892763120455, 2.2374427291379946, 2.689045828455368, 1.7360865015009141, 1.6512223893969102, 1.4815588929728962, 1.3967010746037478, 1.3118872538449757, 0.972539116466313, 0.972519872421612, 0.8877048448327475, 0.88772458499965, 0.8877278086883562, 2.4264025628413686, 0.8028638252636975, 0.802866609604872, 0.8028802170994702, 0.8028838855448186, 0.8028865056759633, 0.8028917159610673, 0.8028917924638969, 0.7180254137582323, 0.7180269065015193, 0.7180273786377244, 0.7180450015333756, 0.7180484354960881, 0.633183713601675, 0.6331861419053396, 0.6331877644714994, 0.6331878789965169, 0.6331953812836321, 0.6331963478380773, 0.6331958249181434, 0.9782051565738663, 8.726146095940695, 2.1094714881279226, 4.332627422336455, 5.92565055504832, 6.511913677385562, 2.497982905894542, 5.970427785672943, 4.253656130030991, 2.044999269660611, 1.5529534950130486, 1.4296739289734155, 1.4296739289734155, 1.18252404219214, 1.0585413869607678, 1.0585413869607678, 1.0585413869607678, 1.0585413869607678, 1.0585413869607678, 0.9856581293884763, 0.9342349797042924, 0.9342349797042924, 0.9039310431377314, 0.8630708349235364, 0.8096893640863798, 0.8096893640863798, 0.8096893640863798, 0.8096893640863798, 0.8096893640863798, 0.8096893640863798, 0.8096893640863798, 0.8096893640863798, 0.8096893640863798, 0.7813085690894327, 0.7813158235708897, 0.699513670499587, 0.685311887007103], \"Category\": [\"Default\", \"Default\", \"Default\", \"Default\", \"Default\", \"Default\", \"Default\", \"Default\", \"Default\", \"Default\", \"Default\", \"Default\", \"Default\", \"Default\", \"Default\", \"Default\", \"Default\", \"Default\", \"Default\", \"Default\", \"Default\", \"Default\", \"Default\", \"Default\", \"Default\", \"Default\", \"Default\", \"Default\", \"Default\", \"Default\", \"Topic1\", \"Topic1\", \"Topic1\", \"Topic1\", \"Topic1\", \"Topic1\", \"Topic1\", \"Topic1\", \"Topic1\", \"Topic1\", \"Topic1\", \"Topic1\", \"Topic1\", \"Topic1\", \"Topic1\", \"Topic1\", \"Topic1\", \"Topic1\", \"Topic1\", \"Topic1\", \"Topic1\", \"Topic1\", \"Topic1\", \"Topic1\", \"Topic1\", \"Topic1\", \"Topic1\", \"Topic1\", \"Topic1\", \"Topic1\", \"Topic1\", \"Topic1\", \"Topic1\", \"Topic1\", \"Topic2\", \"Topic2\", \"Topic2\", \"Topic2\", \"Topic2\", \"Topic2\", \"Topic2\", \"Topic2\", \"Topic2\", \"Topic2\", \"Topic2\", \"Topic2\", \"Topic2\", \"Topic2\", \"Topic2\", \"Topic2\", \"Topic2\", \"Topic2\", \"Topic2\", \"Topic2\", \"Topic2\", \"Topic2\", \"Topic2\", \"Topic2\", \"Topic2\", \"Topic2\", \"Topic2\", \"Topic2\", \"Topic2\", \"Topic2\", \"Topic2\", \"Topic2\", \"Topic2\", \"Topic2\", \"Topic3\", \"Topic3\", \"Topic3\", \"Topic3\", \"Topic3\", \"Topic3\", \"Topic3\", \"Topic3\", \"Topic3\", \"Topic3\", \"Topic3\", \"Topic3\", \"Topic3\", \"Topic3\", \"Topic3\", \"Topic3\", \"Topic3\", \"Topic3\", \"Topic3\", \"Topic3\", \"Topic3\", \"Topic3\", \"Topic3\", \"Topic3\", \"Topic3\", \"Topic3\", \"Topic3\", \"Topic3\", \"Topic3\", \"Topic3\", \"Topic3\", \"Topic3\", \"Topic3\", \"Topic3\", \"Topic3\", \"Topic3\", \"Topic3\", \"Topic3\", \"Topic3\", \"Topic3\", \"Topic3\", \"Topic4\", \"Topic4\", \"Topic4\", \"Topic4\", \"Topic4\", \"Topic4\", \"Topic4\", \"Topic4\", \"Topic4\", \"Topic4\", \"Topic4\", \"Topic4\", \"Topic4\", \"Topic4\", \"Topic4\", \"Topic4\", \"Topic4\", \"Topic4\", \"Topic4\", \"Topic4\", \"Topic4\", \"Topic4\", \"Topic4\", \"Topic4\", \"Topic4\", \"Topic4\", \"Topic4\", \"Topic4\", \"Topic4\", \"Topic4\", \"Topic4\", \"Topic4\", \"Topic4\", \"Topic4\", \"Topic4\", \"Topic4\", \"Topic4\", \"Topic5\", \"Topic5\", \"Topic5\", \"Topic5\", \"Topic5\", \"Topic5\", \"Topic5\", \"Topic5\", \"Topic5\", \"Topic5\", \"Topic5\", \"Topic5\", \"Topic5\", \"Topic5\", \"Topic5\", \"Topic5\", \"Topic5\", \"Topic5\", \"Topic5\", \"Topic5\", \"Topic5\", \"Topic5\", \"Topic5\", \"Topic5\", \"Topic5\", \"Topic5\", \"Topic5\", \"Topic5\", \"Topic5\", \"Topic5\", \"Topic5\", \"Topic5\", \"Topic5\", \"Topic5\", \"Topic6\", \"Topic6\", \"Topic6\", \"Topic6\", \"Topic6\", \"Topic6\", \"Topic6\", \"Topic6\", \"Topic6\", \"Topic6\", \"Topic6\", \"Topic6\", \"Topic6\", \"Topic6\", \"Topic6\", \"Topic6\", \"Topic6\", \"Topic6\", \"Topic6\", \"Topic6\", \"Topic6\", \"Topic6\", \"Topic6\", \"Topic6\", \"Topic6\", \"Topic6\", \"Topic6\", \"Topic6\", \"Topic6\", \"Topic6\", \"Topic6\", \"Topic6\", \"Topic6\", \"Topic6\", \"Topic6\", \"Topic6\", \"Topic6\", \"Topic7\", \"Topic7\", \"Topic7\", \"Topic7\", \"Topic7\", \"Topic7\", \"Topic7\", \"Topic7\", \"Topic7\", \"Topic7\", \"Topic7\", \"Topic7\", \"Topic7\", \"Topic7\", \"Topic7\", \"Topic7\", \"Topic7\", \"Topic7\", \"Topic7\", \"Topic7\", \"Topic7\", \"Topic7\", \"Topic7\", \"Topic7\", \"Topic7\", \"Topic7\", \"Topic7\", \"Topic7\", \"Topic7\", \"Topic7\", \"Topic7\", \"Topic7\", \"Topic7\", \"Topic7\", \"Topic8\", \"Topic8\", \"Topic8\", \"Topic8\", \"Topic8\", \"Topic8\", \"Topic8\", \"Topic8\", \"Topic8\", \"Topic8\", \"Topic8\", \"Topic8\", \"Topic8\", \"Topic8\", \"Topic8\", \"Topic8\", \"Topic8\", \"Topic8\", \"Topic8\", \"Topic8\", \"Topic8\", \"Topic8\", \"Topic8\", \"Topic8\", \"Topic8\", \"Topic8\", \"Topic8\", \"Topic8\", \"Topic8\", \"Topic8\", \"Topic8\", \"Topic8\", \"Topic8\", \"Topic8\", \"Topic8\", \"Topic8\", \"Topic8\", \"Topic8\", \"Topic9\", \"Topic9\", \"Topic9\", \"Topic9\", \"Topic9\", \"Topic9\", \"Topic9\", \"Topic9\", \"Topic9\", \"Topic9\", \"Topic9\", \"Topic9\", \"Topic9\", \"Topic9\", \"Topic9\", \"Topic9\", \"Topic9\", \"Topic9\", \"Topic9\", \"Topic9\", \"Topic9\", \"Topic9\", \"Topic9\", \"Topic9\", \"Topic9\", \"Topic9\", \"Topic9\", \"Topic9\", \"Topic9\", \"Topic9\", \"Topic9\", \"Topic9\", \"Topic9\", \"Topic9\", \"Topic9\", \"Topic9\", \"Topic9\", \"Topic10\", \"Topic10\", \"Topic10\", \"Topic10\", \"Topic10\", \"Topic10\", \"Topic10\", \"Topic10\", \"Topic10\", \"Topic10\", \"Topic10\", \"Topic10\", \"Topic10\", \"Topic10\", \"Topic10\", \"Topic10\", \"Topic10\", \"Topic10\", \"Topic10\", \"Topic10\", \"Topic10\", \"Topic10\", \"Topic10\", \"Topic10\", \"Topic10\", \"Topic10\", \"Topic10\", \"Topic10\", \"Topic10\", \"Topic10\"], \"logprob\": [30.0, 29.0, 28.0, 27.0, 26.0, 25.0, 24.0, 23.0, 22.0, 21.0, 20.0, 19.0, 18.0, 17.0, 16.0, 15.0, 14.0, 13.0, 12.0, 11.0, 10.0, 9.0, 8.0, 7.0, 6.0, 5.0, 4.0, 3.0, 2.0, 1.0, -5.5771, -5.9962, -6.1868, -6.2407, -6.2976, -6.2977, -6.3581, -6.4225, -6.4912, -6.4912, -6.5244, -6.565, -6.5651, -6.6047, -6.6447, -6.6447, -6.6448, -6.6449, -6.7315, -6.7693, -6.7763, -6.8262, -6.8264, -6.8328, -6.9088, -6.9119, -6.931, -6.931, -7.0481, -7.0481, -6.096, -5.7309, -6.8356, -6.9161, -5.1154, -5.2525, -5.3231, -5.4019, -5.4889, -5.7659, -5.8935, -5.8935, -6.0937, -6.1506, -6.2754, -6.418, -6.4977, -6.5653, -6.5843, -6.5843, -6.5843, -6.6791, -6.6791, -6.6793, -6.6793, -6.7618, -6.7839, -6.7839, -6.7839, -6.7841, -6.7841, -6.8329, -6.901, -6.901, -6.0396, -6.3932, -6.5843, -6.7651, -5.9489, -6.2174, -6.3505, -6.504, -6.6396, -6.6378, -6.7, -6.7921, -6.9074, -6.9074, -6.9074, -6.9074, -7.04, -7.193, -7.193, -7.193, -7.1932, -7.2007, -7.2416, -7.2416, -7.3737, -7.3737, -7.3737, -7.3737, -7.3737, -7.3932, -7.4221, -7.5636, -7.5943, -7.5943, -6.9252, -6.7901, -6.8049, -6.1128, -6.7926, -6.4967, -7.2168, -6.6377, -7.3286, -7.0397, -7.048, -5.8035, -6.0062, -6.1211, -6.5893, -6.5893, -6.6941, -6.6941, -6.8113, -6.8113, -6.8113, -6.8113, -6.9439, -6.9439, -6.9439, -6.9925, -7.0605, -7.0917, -7.0969, -7.0969, -7.0969, -7.0969, -7.0969, -7.0969, -7.0969, -7.0969, -7.1044, -7.1453, -7.1453, -7.1453, -7.2019, -4.8189, -5.7205, -6.8682, -5.8278, -6.4943, -6.5739, -7.0964, -6.046, -6.29, -6.4797, -6.7965, -6.9316, -7.0548, -7.0771, -7.0821, -7.0821, -7.0821, -7.1306, -7.1307, -7.1873, -7.1873, -5.6294, -7.2628, -7.2628, -7.2628, -7.3794, -7.4526, -7.4526, -7.4526, -7.4834, -7.5316, -7.5316, -7.5949, -7.5949, -7.6174, -7.6174, -7.7112, -7.0817, -7.0257, -7.4834, -7.1678, -6.147, -6.3821, -6.5945, -6.6306, -6.7558, -6.7937, -6.8314, -6.8802, -6.9559, -6.9794, -7.033, -7.0756, -7.1651, -7.2818, -7.3209, -7.355, -7.355, -7.3857, -7.3857, -7.434, -7.434, -7.5197, -7.5841, -7.6136, -7.6136, -7.6136, -7.6692, -7.6692, -7.6692, -7.7171, -6.1446, -6.8916, -6.8802, -6.9, -7.0549, -6.88, -7.0724, -4.4043, -5.0392, -5.3125, -5.477, -6.1141, -6.2648, -6.308, -6.4481, -6.6375, -6.7271, -6.7011, -6.8034, -6.8074, -6.9538, -6.9538, -7.0158, -7.0823, -7.1344, -7.1344, -7.1344, -7.1344, -7.1691, -7.183, -7.1843, -7.2512, -7.3244, -7.3551, -7.3551, -7.3551, -7.3551, -6.1112, -7.1222, -7.1587, -6.9267, -5.2261, -5.8515, -6.0437, -6.282, -6.3093, -6.5466, -6.5633, -6.7548, -6.7585, -6.9161, -7.0309, -7.0545, -7.0545, -7.1145, -7.1145, -7.13, -7.13, -7.2242, -7.2265, -7.2466, -7.2466, -7.3506, -7.3506, -7.3506, -7.3506, -7.3506, -7.3988, -7.4846, -7.4846, -7.5784, -5.9821, -6.9285, -6.3999, -5.9631, -6.8174, -6.7857, -7.297, -7.2886, -6.9595, -7.0183, -7.1399, -7.2098, -7.2814, -7.6435, -7.6455, -7.7591, -7.7591, -7.7591, -6.7604, -7.8897, -7.8897, -7.8897, -7.8898, -7.8898, -7.8898, -7.8898, -8.04, -8.04, -8.04, -8.0401, -8.0401, -8.217, -8.217, -8.217, -8.217, -8.2171, -8.2171, -8.2171, -7.8898, -6.4522, -7.7606, -7.54, -7.6435, -7.8897, -8.0459, -4.8958, -5.2491, -6.0369, -6.3476, -6.4433, -6.4433, -6.6682, -6.8034, -6.8034, -6.8034, -6.8034, -6.8034, -6.8926, -6.9603, -6.9603, -7.0029, -7.0629, -7.1468, -7.1468, -7.1468, -7.1468, -7.1468, -7.1468, -7.1468, -7.1468, -7.1468, -7.1949, -7.1949, -7.3471, -7.376], \"loglift\": [30.0, 29.0, 28.0, 27.0, 26.0, 25.0, 24.0, 23.0, 22.0, 21.0, 20.0, 19.0, 18.0, 17.0, 16.0, 15.0, 14.0, 13.0, 12.0, 11.0, 10.0, 9.0, 8.0, 7.0, 6.0, 5.0, 4.0, 3.0, 2.0, 1.0, 1.6037, 1.5997, 1.5972, 1.5964, 1.5955, 1.5955, 1.5945, 1.5934, 1.5921, 1.5921, 1.5914, 1.5906, 1.5906, 1.5898, 1.5889, 1.5889, 1.5889, 1.5889, 1.5869, 1.5859, 1.5856, 1.5845, 1.5844, 1.5842, 1.5821, 1.582, 1.5815, 1.5815, 1.5778, 1.5778, 1.54, 1.0114, 1.4316, 1.1982, 1.8725, 1.8715, 1.8709, 1.8703, 1.8695, 1.8664, 1.8647, 1.8647, 1.8616, 1.8606, 1.8581, 1.8549, 1.853, 1.8511, 1.8506, 1.8506, 1.8506, 1.8479, 1.8479, 1.8478, 1.8478, 1.8452, 1.8445, 1.8445, 1.8445, 1.8444, 1.8444, 1.8427, 1.8402, 1.8402, 1.7774, 1.7872, 1.5167, 1.4154, 1.8789, 1.8742, 1.8714, 1.8676, 1.8637, 1.8637, 1.8617, 1.8573, 1.8545, 1.8545, 1.8545, 1.8545, 1.849, 1.8417, 1.8417, 1.8417, 1.8417, 1.8413, 1.8392, 1.8392, 1.8316, 1.8316, 1.8316, 1.8316, 1.8316, 1.8302, 1.8286, 1.819, 1.8167, 1.8167, 1.7584, 1.721, 1.6892, 1.4078, 1.5429, 1.3157, 1.688, 0.6704, 1.7195, 0.8572, -0.3057, 2.0532, 2.0496, 2.0472, 2.0343, 2.0343, 2.0305, 2.0305, 2.0258, 2.0258, 2.0258, 2.0258, 2.0198, 2.0198, 2.0198, 2.0173, 2.0138, 2.0121, 2.0118, 2.0118, 2.0118, 2.0118, 2.0118, 2.0118, 2.0118, 2.0118, 2.0114, 2.009, 2.009, 2.009, 2.0056, 1.9852, 1.9349, 1.9041, 1.4802, 1.5454, 1.5985, 1.2163, 2.1922, 2.1856, 2.1794, 2.1659, 2.1588, 2.1511, 2.1501, 2.1498, 2.1498, 2.1498, 2.1466, 2.1466, 2.1427, 2.1427, 2.1421, 2.1372, 2.1372, 2.1372, 2.1277, 2.1213, 2.1213, 2.1213, 2.1185, 2.1139, 2.1139, 2.1072, 2.1072, 2.1052, 2.1052, 2.0949, 2.0195, 0.2823, 1.6788, -0.3637, 2.7095, 2.6974, 2.6837, 2.6812, 2.6711, 2.6684, 2.6651, 2.6607, 2.6535, 2.6512, 2.6457, 2.6397, 2.631, 2.6164, 2.6112, 2.6065, 2.6065, 2.6022, 2.6022, 2.5951, 2.5951, 2.5818, 2.5712, 2.5661, 2.5661, 2.5661, 2.5562, 2.5562, 2.5562, 2.5473, 2.3574, 2.4323, 2.41, 2.4126, 1.7693, 1.4474, 0.583, 2.8116, 2.804, 2.7987, 2.7948, 2.7719, 2.7643, 2.7617, 2.7532, 2.7397, 2.7323, 2.729, 2.7257, 2.7254, 2.7111, 2.7111, 2.7045, 2.6969, 2.6907, 2.6907, 2.6907, 2.6907, 2.6853, 2.6845, 2.6819, 2.6757, 2.6655, 2.661, 2.661, 2.661, 2.661, 2.2163, 2.1239, 1.6655, -0.1844, 2.8316, 2.8136, 2.8055, 2.7932, 2.7916, 2.7759, 2.7746, 2.7588, 2.7585, 2.7432, 2.7307, 2.728, 2.728, 2.7207, 2.7207, 2.7189, 2.7189, 2.706, 2.7059, 2.7035, 2.7034, 2.6884, 2.6884, 2.6884, 2.6884, 2.6884, 2.6809, 2.6669, 2.6669, 2.6503, 2.5007, 2.4893, 1.7144, 0.7792, 1.5627, 1.1113, 2.1881, 2.0125, 2.7793, 2.7706, 2.7573, 2.7464, 2.7375, 2.6747, 2.6727, 2.6504, 2.6503, 2.6503, 2.6435, 2.6202, 2.6202, 2.6202, 2.6201, 2.6201, 2.6201, 2.6201, 2.5816, 2.5816, 2.5815, 2.5815, 2.5815, 2.5303, 2.5303, 2.5303, 2.5303, 2.5303, 2.5303, 2.5303, 2.4226, 1.6718, 1.7834, 1.2842, 0.8675, 0.527, 1.329, 3.6078, 3.5935, 3.538, 3.5026, 3.4896, 3.4896, 3.4545, 3.43, 3.43, 3.43, 3.43, 3.43, 3.4122, 3.3981, 3.3981, 3.3885, 3.3747, 3.3546, 3.3546, 3.3546, 3.3546, 3.3546, 3.3546, 3.3546, 3.3546, 3.3546, 3.3422, 3.3422, 3.3006, 3.2922]}, \"token.table\": {\"Topic\": [3, 3, 8, 1, 5, 1, 2, 3, 6, 7, 8, 1, 4, 4, 1, 6, 3, 7, 6, 8, 8, 3, 10, 3, 8, 3, 5, 6, 2, 3, 4, 4, 7, 8, 9, 1, 3, 9, 10, 5, 4, 3, 5, 3, 7, 6, 7, 9, 1, 9, 2, 6, 5, 5, 2, 8, 10, 9, 4, 6, 4, 6, 4, 4, 2, 8, 9, 9, 3, 8, 8, 5, 4, 4, 3, 4, 2, 3, 1, 4, 6, 7, 7, 7, 6, 6, 7, 8, 3, 5, 10, 6, 8, 10, 10, 4, 3, 10, 7, 2, 3, 4, 1, 9, 1, 10, 2, 7, 4, 8, 1, 4, 8, 8, 4, 6, 4, 2, 5, 7, 1, 10, 5, 5, 10, 9, 5, 5, 7, 8, 2, 2, 3, 5, 4, 6, 1, 1, 3, 8, 1, 4, 2, 7, 8, 3, 7, 5, 3, 3, 3, 10, 2, 1, 9, 1, 2, 5, 6, 10, 5, 4, 5, 4, 9, 2, 4, 5, 6, 3, 9, 3, 2, 7, 8, 1, 8, 8, 1, 8, 6, 6, 9, 2, 8, 3, 1, 3, 10, 10, 8, 5, 1, 2, 7, 2, 5, 3, 3, 7, 8, 8, 5, 7, 3, 5, 7, 4, 5, 2, 5, 9, 5, 4, 6, 7, 4, 10, 10, 10, 2, 1, 2, 1, 9, 6, 2, 2, 1, 1, 4, 1, 6, 1, 10, 4, 9, 9, 1, 1, 4, 1, 3, 8, 7, 2, 2, 6, 3, 1, 2, 3, 4, 5, 8, 7, 6, 8, 5, 2, 4, 6, 4, 1, 3, 9, 5, 8, 2, 1, 3, 6, 8, 7, 3, 9, 1, 9, 1, 3, 7, 9, 9, 2, 2, 2, 10, 3, 3, 7, 7, 7, 3, 7, 3, 9, 9, 9, 1, 3, 4, 1, 6, 4, 8, 6, 4, 8, 2, 3, 1, 3, 8, 2, 8, 6, 9, 1, 5, 4, 3, 4, 1, 7, 1, 7, 2, 8, 2, 7, 7, 8, 2, 7, 1, 10, 8, 6, 4, 6, 10, 6, 10, 10, 5, 5, 10, 2, 6, 6, 6, 1, 4, 6, 8, 1, 7, 7, 2, 4, 1, 2, 2, 2, 6, 10, 9, 1, 6, 3, 9, 1, 9, 5, 10, 5, 4, 5, 10, 4, 6, 6, 9, 3, 5, 8, 10], \"Freq\": [0.8661668101504285, 1.0029158509604588, 0.810069656083931, 1.023081954648181, 0.8209755566839148, 0.5468223955446243, 0.14390063040648007, 0.11512050432518406, 0.028780126081296015, 0.05756025216259203, 0.11512050432518406, 1.0230060105041565, 0.9351870016719736, 1.0447147684473157, 0.9924155327722355, 0.7389949215008184, 0.8675262261947351, 0.6952414550046221, 0.8434016183605597, 0.6976142826861292, 0.8703217444183952, 0.8547014086023097, 1.0703945171444167, 0.8949829956797902, 0.7777760588798449, 1.0109782771056939, 0.9784205178260472, 0.7700269392316799, 0.6062535454964372, 0.12125070909928744, 0.24250141819857488, 1.0614396561154975, 0.7601230070195526, 0.9197586378446112, 0.6056119432617665, 0.9742420774041461, 1.022640368513071, 1.392708364967026, 1.0145505527564833, 0.7654891930092815, 0.9583734103413885, 0.7505899247411562, 0.2501966415803854, 0.8068235647883032, 0.8025344243545232, 0.4616136595750623, 0.23080682978753114, 0.23080682978753114, 0.6875887630154545, 0.34379438150772723, 0.9699461501166524, 0.12124326876458155, 1.0601143904160055, 0.8209791384139046, 0.9383358286162465, 0.9402363230189896, 1.2350415410585995, 1.0222804421747984, 0.8606974207174807, 0.14344957011958012, 0.9158021763948656, 0.895221005968185, 1.0614396561154975, 0.9203163087711693, 0.9383350201457085, 0.7777760588798449, 1.2454978483852996, 1.245510114232051, 1.0136728234713646, 0.9131461436761817, 0.8703202724222603, 1.041021824091308, 0.9351870016719736, 0.9203163087711693, 0.8301653375135307, 0.9632716864194362, 0.4195671716776616, 0.5873940403487262, 1.023012814663508, 0.9632681302284412, 0.9371834810994804, 0.6280034764109182, 1.0181876824779148, 0.9299297156572174, 0.7197033623990691, 0.9042471435705047, 0.6466728115607666, 0.7715330252683664, 1.0136614085010611, 0.9773120578986271, 1.2798921637471083, 0.9744361128585184, 0.7597785871096029, 0.9446961756225243, 1.2350415410585995, 0.926819213594945, 1.032178763492993, 1.0703945171444167, 0.7601230070195526, 0.9947180068678975, 1.0136614085010611, 0.9351870016719736, 0.9465103955739189, 1.2455412344323198, 0.9465103955739189, 1.2350415410585995, 1.062225275619071, 0.7601230070195526, 0.3281127187948982, 0.6562254375897963, 0.4151698591974722, 0.4151698591974722, 0.13838995306582405, 0.7115532671342493, 0.9203163087711693, 0.7700278264110079, 0.9203163087711693, 0.9488561894793442, 1.1106641033288103, 0.8499540073556031, 0.946227847846023, 1.1586534494455427, 1.0892843701458939, 0.9769999417700115, 1.2350415410585995, 1.2455369148956719, 1.0494992920625092, 0.9666896867517244, 0.08055747389597703, 0.8899906804206671, 0.968021880927993, 0.16592591446782784, 0.8296295723391391, 1.0494834229540735, 0.9351870016719736, 0.8937788948330826, 1.0007141143415674, 0.5921578712764727, 0.14803946781911817, 0.29607893563823634, 0.4213068228645767, 0.631960234296865, 1.0236898105300338, 0.6280034764109182, 0.9466747308143851, 0.8675262261947351, 1.0700242907981976, 1.0277146748851205, 1.0047601737443914, 0.8547014086023097, 0.8022003710238564, 0.9779954593000519, 0.9488561894793442, 0.9213881352323012, 0.15356468920538355, 1.0108465199644072, 0.9490018346453192, 1.1336180931593156, 0.7523302858611678, 1.2350415410585995, 0.6161925637755679, 0.9184722839819942, 0.061231485598799616, 0.9633595008757438, 1.0282566231885437, 0.981247293159559, 0.9203163087711693, 1.0047779704485036, 0.8279163941246033, 0.8548779211883494, 1.1264714141123158, 0.8876686948060858, 0.9947271822260996, 0.7601230070195526, 1.1786841476061791, 0.6809124657958759, 0.34045623289793797, 1.0640480127976808, 0.9953378123327528, 0.9651964505846444, 1.090297086195373, 0.8736501834363151, 1.245515805100611, 1.062225275619071, 0.9842692780649405, 0.8609284779041071, 0.9902441787402352, 1.0136728234713646, 0.9446961756225243, 1.2350415410585995, 0.7777760588798449, 1.041021824091308, 0.33596294416300765, 0.6719258883260153, 0.6543697005964886, 1.028960828110597, 1.0410173113213845, 0.985118302794011, 0.8301653375135307, 0.9376291781844577, 0.7777760588798449, 0.9230091525474983, 0.8209755566839148, 0.871278380541671, 0.323650276740391, 0.647300553480782, 0.7404445385460584, 0.9203163087711693, 0.9138604152234149, 0.4003229956619316, 0.4003229956619316, 0.4003229956619316, 1.0360645432294564, 0.14045190796365667, 0.28090381592731334, 0.5618076318546267, 0.9443257083800837, 0.9446961756225243, 0.9446961756225243, 0.6439342859984339, 1.012486307496655, 1.0136571682719457, 0.9255150438558742, 1.0140279715527727, 0.7159728149301423, 0.7197126524949998, 0.9490018346453192, 0.9778226576462786, 1.0007293904224184, 0.36084893040325305, 0.6014148840054218, 0.36780292545735815, 0.7356058509147163, 0.915972455004049, 0.699460191400465, 0.9632778838705826, 1.3926637125935886, 1.2454979670614643, 0.9787592759252712, 0.9144783892181908, 0.07034449147832236, 0.3718791213664129, 0.3718791213664129, 0.3718791213664129, 0.8461088798386608, 1.0062251813957284, 0.3804231199577322, 0.7608462399154644, 0.8675262261947351, 0.7934553140008669, 0.13224255233347781, 0.3040511153796434, 0.5574270448626796, 0.1520255576898217, 0.6344026655484551, 0.970511036889302, 0.6099864051219701, 0.6017780134847355, 0.9036758314505887, 0.92875564791142, 1.0447147684473157, 1.1253452855640345, 0.9443257083800837, 1.0140279715527727, 0.9689454530365318, 1.0282362766378643, 0.9134164222549195, 0.6430767551222942, 0.9538612269792351, 1.028514935492842, 0.8675202739648518, 1.0849154475856904, 0.6017825128974317, 0.9341708777169921, 0.8437892099020726, 0.16875784198041452, 0.9654584369803714, 1.2455060496478063, 0.31339238355699467, 0.6267847671139893, 0.06267847671139894, 1.3927054695935466, 0.6749647312321145, 0.9211867316959049, 1.0288223237784044, 0.9538612269792351, 1.004953114816667, 1.0275404515741318, 1.0607748360164637, 1.0096754891856812, 0.6280034764109182, 0.6280034764109182, 0.3519754872376524, 0.3519754872376524, 0.4740523897232016, 0.4740523897232016, 1.3926703728380718, 1.1265005545716156, 0.2831539385495025, 0.7078848463737561, 0.9203163087711693, 0.9817205298423272, 0.8735863105444764, 0.8765371956275604, 0.2191342989068901, 0.9371834810994804, 1.0614396561154975, 0.6430767551222942, 0.9934076020417758, 0.9984629053691371, 0.45658377888957163, 0.3652670231116573, 0.18263351155582866, 0.4469388141100102, 0.4469388141100102, 0.9452202753232497, 1.1264755047877764, 1.0231359899605577, 1.1335936863066058, 0.8336501342100894, 0.8547097797055433, 1.0159293203018283, 0.946125149654538, 1.1309330577122507, 0.9836810586209169, 0.5997702385117314, 0.4178637217815197, 0.8357274435630394, 0.9383358286162465, 0.9519863842382136, 0.8851332607510601, 0.6344042195757936, 1.0288232998947309, 1.0700242907981976, 0.9902768319438309, 0.9403675045003831, 0.7115585964527761, 0.8952216307965125, 0.33447127936633464, 0.6689425587326693, 0.8456487684987948, 0.7516740502140068, 1.2350415410585995, 0.699460191400465, 1.0892663416809094, 1.014332965755254, 0.9446961756225243, 1.0117587515246913, 0.9371834810994804, 0.6755632436382589, 0.6989012567581238, 0.9463091934809638, 0.9203163087711693, 1.033980904972105, 0.7777760588798449, 0.9217084818521798, 0.9820894477211757, 0.6552102157544347, 0.9272464348132807, 0.08429513043757098, 1.0230239538115473, 0.9309659739412336, 1.028960828110597, 0.9488561894793442, 0.895225088285771, 1.279904047597275, 0.8242655322857712, 0.9158425042677704, 0.7389949215008184, 1.0136728234713646, 1.1520163299875452, 1.0176463469590742, 0.7622606264899109, 0.9769823129526344, 1.1062790769180726, 0.9769860012817987, 0.8891804565281992, 0.7654893186479835, 1.2350415410585995, 0.9649129726407671, 1.0123182775196111, 0.953521751599869, 1.3927045538252978, 0.89497849629496, 1.110663737107995, 0.6990917277497051, 1.2350415410585995], \"Term\": [\"abortion_doctor\", \"abortion_murder\", \"abuse_individual\", \"abuse_trust\", \"acceptable_criticism\", \"access_information\", \"access_information\", \"access_information\", \"access_information\", \"access_information\", \"access_information\", \"access_official\", \"account_comment\", \"account_holder\", \"active_euthanasia\", \"agent_fierce\", \"agricultural_forest\", \"among_many\", \"amount_abuse\", \"approximately_charity\", \"archival_document\", \"area_reserved\", \"armed_force\", \"arrest_prosecution\", \"assembly_governor\", \"association_request\", \"asylum_seeker\", \"author_comment\", \"authority_judiciary\", \"authority_judiciary\", \"authority_judiciary\", \"aware_comment\", \"basis_name\", \"board_newspaper\", \"branch_office\", \"breach_duty\", \"breach_peace\", \"breach_privacy\", \"burial_place\", \"call_violence\", \"cassation_division\", \"chapter_penal\", \"chapter_penal\", \"charge_breach\", \"circular_letter\", \"civil_code\", \"civil_code\", \"civil_code\", \"civil_party\", \"civil_party\", \"civil_servant\", \"civil_servant\", \"claimant_former\", \"claimant_present\", \"code_journalistic\", \"collector_fund\", \"commander_armed\", \"comment_made\", \"comment_posted\", \"comment_posted\", \"commit_suicide\", \"communication_network\", \"communication_service\", \"communication_site\", \"communist_regime\", \"competent_authority\", \"completely_odds\", \"conduct_completely\", \"constitutional_association\", \"consult_file\", \"consultation_file\", \"contact_claimant\", \"content_comment\", \"content_message\", \"context_demonstration\", \"control_zone\", \"cost_expense\", \"cost_expense\", \"criterion_established\", \"custom_control\", \"daily_newspaper\", \"data_data\", \"data_protection\", \"data_subject\", \"defamatory_comment\", \"defender_agent\", \"degree_notoriety\", \"democracy_rule\", \"demonstration_area\", \"deputy_mayor\", \"desecration_tomb\", \"directive_electronic\", \"director_radio\", \"discharge_army\", \"discharge_military\", \"discrimination_hatred\", \"discrimination_hostility\", \"dismissal_military\", \"displayed_following\", \"district_administration\", \"district_found\", \"division_bull\", \"document_disclosed\", \"document_file\", \"document_handed\", \"duke_battalion\", \"duty_discretion\", \"easily_accessible\", \"editorial_board\", \"editorial_board\", \"election_campaign\", \"election_campaign\", \"election_campaign\", \"election_code\", \"electoral_context\", \"electronic_commerce\", \"electronic_communication\", \"electronic_gambling\", \"employer_interest\", \"engine_provider\", \"essential_previously\", \"eternal_flame\", \"ethnic_discord\", \"ethnic_group\", \"expiry_contract\", \"extract_statement\", \"extremist_activity\", \"factual_basis\", \"factual_basis\", \"federal_archive\", \"federal_commissioner\", \"federal_constitutional\", \"federal_constitutional\", \"federal_labour\", \"feeling_rejection\", \"fierce_defender\", \"fifth_criterion\", \"first_instance\", \"first_instance\", \"first_instance\", \"first_second\", \"first_second\", \"first_video\", \"following_search\", \"foreign_intelligence\", \"forest_land\", \"formal_notice\", \"former_husband\", \"former_prime\", \"found_established\", \"found_guilty\", \"four_serviceman\", \"gambling_arcade\", \"general_inspectorate\", \"general_inspectorate\", \"general_search\", \"generally_accessible\", \"glory_russia\", \"good_name\", \"grand_duke\", \"group_people\", \"hate_speech\", \"hate_speech\", \"hatred_violence\", \"head_municipal\", \"hidden_camera\", \"holder_account\", \"identity_obvious\", \"illegal_activity\", \"image_could\", \"impartiality_fairness\", \"incitement_hatred\", \"individual_concerned\", \"individual_regard\", \"information_authority\", \"information_disclosed\", \"information_disclosed\", \"information_information\", \"information_journalist\", \"information_request\", \"information_society\", \"infringement_personal\", \"inspectorate_service\", \"integrity_colleague\", \"intelligence_service\", \"interest_informed\", \"interest_publication\", \"interference_association\", \"internal_inquiry\", \"internal_investigation\", \"international_supervisor\", \"involved_drug\", \"journalistic_ethic\", \"journalistic_ethic\", \"journalistic_purpose\", \"judiciary_land\", \"late_minister\", \"leave_scene\", \"left_scene\", \"legislative_decree\", \"liability_defamation\", \"liable_defamation\", \"limit_acceptable\", \"list_result\", \"made_identity\", \"made_identity\", \"many_authority\", \"mean_communication\", \"medical_doctor\", \"medical_practice\", \"medical_practice\", \"medical_practice\", \"medical_practitioner\", \"member_state\", \"member_state\", \"member_state\", \"message_posted\", \"military_discipline\", \"military_rank\", \"military_specialist\", \"ministry_state\", \"misconduct_office\", \"moral_professional\", \"multinational_company\", \"municipal_branch\", \"museum_director\", \"name_individual\", \"national_radio\", \"national_republican\", \"news_item\", \"news_item\", \"news_portal\", \"news_portal\", \"newspaper_publish\", \"noncommissioned_officer\", \"nonpecuniary_damage\", \"objective_test\", \"odds_principle\", \"office_manager\", \"official_document\", \"official_document\", \"official_gazette\", \"official_gazette\", \"official_gazette\", \"operator_search\", \"opinion_expressed\", \"ordered_publish\", \"ordered_publish\", \"paper_copy\", \"parliamentary_assembly\", \"parliamentary_assembly\", \"penal_code\", \"penal_code\", \"penal_code\", \"period_closure\", \"personal_data\", \"phrase_question\", \"physical_access\", \"pleural_cancer\", \"political_activity\", \"political_debate\", \"post_comment\", \"posted_wall\", \"practice_rescript\", \"pregnant_woman\", \"preliminary_investigation\", \"present_scene\", \"president_assembly\", \"president_cassation\", \"presidential_candidate\", \"press_badge\", \"press_conference\", \"press_receive\", \"press_release\", \"presumption_innocence\", \"presumption_innocence\", \"previously_unknown\", \"principle_impartiality\", \"private_life\", \"private_life\", \"private_life\", \"private_prosecution\", \"procedural_document\", \"professional_activity\", \"professional_file\", \"professional_integrity\", \"professional_military\", \"property_transaction\", \"prosecution_imprisonment\", \"protection_board\", \"protection_code\", \"protection_individual\", \"protection_private\", \"protection_private\", \"provided_inter\", \"provided_inter\", \"publication_director\", \"publication_document\", \"publication_image\", \"publication_image\", \"publicly_accessible\", \"publish_advertisement\", \"publish_apology\", \"publish_retraction\", \"publish_retraction\", \"question_statement\", \"racist_hate\", \"radio_station\", \"radio_television\", \"real_property\", \"receive_information\", \"receive_information\", \"receive_information\", \"received_information\", \"received_information\", \"recipient_service\", \"reduced_bench\", \"refusal_publish\", \"regional_chamber\", \"regional_commercial\", \"regional_real\", \"regulatory_body\", \"republican_guard\", \"research_purpose\", \"responsible_journalism\", \"result_displayed\", \"retraction_statement\", \"retraction_statement\", \"sanction_company\", \"search_engine\", \"search_result\", \"second_basic\", \"second_third\", \"sensitive_data\", \"seriousness_test\", \"service_contract\", \"service_file\", \"service_provided\", \"service_provider\", \"service_provider\", \"serviceman_professional\", \"society_service\", \"soldier_military\", \"specialist_code\", \"staff_meeting\", \"staff_member\", \"state_president\", \"state_security\", \"statement_issue\", \"statement_made\", \"statement_question\", \"statistical_data\", \"strong_feeling\", \"super_express\", \"supervisor_president\", \"supervisory_board\", \"taxation_data\", \"taxation_information\", \"television_show\", \"television_show\", \"territorial_post\", \"third_video\", \"thirteen_concerned\", \"three_video\", \"thus_company\", \"tomb_unknown\", \"took_view\", \"tourism_association\", \"towards_lustration\", \"transaction_commission\", \"tribunal_instance\", \"twenty_year\", \"undue_influence\", \"unfair_competition\", \"unknown_soldier\", \"victim_homicide\", \"violence_group\", \"violent_action\", \"volunteer_military\", \"wall_account\", \"warsaw_district\", \"warsaw_regional\", \"weak_woman\", \"wear_clothes\", \"weigh_interest\", \"whole_part\", \"year_rank\"]}, \"R\": 30, \"lambda.step\": 0.01, \"plot.opts\": {\"xlab\": \"PC1\", \"ylab\": \"PC2\"}, \"topic.order\": [9, 2, 10, 6, 3, 8, 7, 1, 4, 5]};\n",
              "\n",
              "function LDAvis_load_lib(url, callback){\n",
              "  var s = document.createElement('script');\n",
              "  s.src = url;\n",
              "  s.async = true;\n",
              "  s.onreadystatechange = s.onload = callback;\n",
              "  s.onerror = function(){console.warn(\"failed to load library \" + url);};\n",
              "  document.getElementsByTagName(\"head\")[0].appendChild(s);\n",
              "}\n",
              "\n",
              "if(typeof(LDAvis) !== \"undefined\"){\n",
              "   // already loaded: just create the visualization\n",
              "   !function(LDAvis){\n",
              "       new LDAvis(\"#\" + \"ldavis_el1831401412021720321899799806\", ldavis_el1831401412021720321899799806_data);\n",
              "   }(LDAvis);\n",
              "}else if(typeof define === \"function\" && define.amd){\n",
              "   // require.js is available: use it to load d3/LDAvis\n",
              "   require.config({paths: {d3: \"https://d3js.org/d3.v5\"}});\n",
              "   require([\"d3\"], function(d3){\n",
              "      window.d3 = d3;\n",
              "      LDAvis_load_lib(\"https://cdn.jsdelivr.net/gh/bmabey/pyLDAvis@3.4.0/pyLDAvis/js/ldavis.v3.0.0.js\", function(){\n",
              "        new LDAvis(\"#\" + \"ldavis_el1831401412021720321899799806\", ldavis_el1831401412021720321899799806_data);\n",
              "      });\n",
              "    });\n",
              "}else{\n",
              "    // require.js not available: dynamically load d3 & LDAvis\n",
              "    LDAvis_load_lib(\"https://d3js.org/d3.v5.js\", function(){\n",
              "         LDAvis_load_lib(\"https://cdn.jsdelivr.net/gh/bmabey/pyLDAvis@3.4.0/pyLDAvis/js/ldavis.v3.0.0.js\", function(){\n",
              "                 new LDAvis(\"#\" + \"ldavis_el1831401412021720321899799806\", ldavis_el1831401412021720321899799806_data);\n",
              "            })\n",
              "         });\n",
              "}\n",
              "</script>"
            ]
          },
          "metadata": {},
          "execution_count": 24
        }
      ]
    },
    {
      "cell_type": "markdown",
      "source": [
        "Lemmatized"
      ],
      "metadata": {
        "id": "KW-Re_W2-0Xm"
      }
    },
    {
      "cell_type": "code",
      "source": [
        "pyLDAvis.enable_notebook()\n",
        "vis = pyLDAvis.gensim.prepare(lda_model, corpus_filter, id2word_filter, mds=\"mmds\", R=30)\n",
        "vis"
      ],
      "metadata": {
        "colab": {
          "base_uri": "https://localhost:8080/",
          "height": 955
        },
        "id": "ezZG005--SOU",
        "outputId": "ef8d4f20-0f51-4726-d8be-fe2cc60d5f9c"
      },
      "execution_count": 41,
      "outputs": [
        {
          "output_type": "stream",
          "name": "stderr",
          "text": [
            "/usr/local/lib/python3.10/dist-packages/ipykernel/ipkernel.py:283: DeprecationWarning: `should_run_async` will not call `transform_cell` automatically in the future. Please pass the result to `transformed_cell` argument and any exception that happen during thetransform in `preprocessing_exc_tuple` in IPython 7.17 and above.\n",
            "  and should_run_async(code)\n",
            "/usr/local/lib/python3.10/dist-packages/sklearn/manifold/_mds.py:299: FutureWarning: The default value of `normalized_stress` will change to `'auto'` in version 1.4. To suppress this warning, manually set the value of `normalized_stress`.\n",
            "  warnings.warn(\n"
          ]
        },
        {
          "output_type": "execute_result",
          "data": {
            "text/plain": [
              "PreparedData(topic_coordinates=              x         y  topics  cluster       Freq\n",
              "topic                                                \n",
              "6      0.071995  0.115539       1        1  18.063118\n",
              "7      0.008691 -0.143398       2        1  17.626772\n",
              "1     -0.132114 -0.033826       3        1  15.821390\n",
              "5     -0.054963  0.074504       4        1  10.070693\n",
              "3      0.029762 -0.038905       5        1   9.778244\n",
              "0      0.110545 -0.005928       6        1   9.206677\n",
              "8     -0.001334  0.033130       7        1   8.063059\n",
              "9     -0.007818 -0.009263       8        1   4.122035\n",
              "2     -0.029968  0.004335       9        1   3.984611\n",
              "4      0.005202  0.003813      10        1   3.263402, topic_info=                       Term        Freq       Total Category  logprob  loglift\n",
              "4045      applicant_company  223.000000  223.000000  Default  30.0000  30.0000\n",
              "602            court_appeal   65.000000   65.000000  Default  29.0000  29.0000\n",
              "10844  administrative_court   69.000000   69.000000  Default  28.0000  28.0000\n",
              "92599      military_service   35.000000   35.000000  Default  27.0000  27.0000\n",
              "29443         search_engine   41.000000   41.000000  Default  26.0000  26.0000\n",
              "...                     ...         ...         ...      ...      ...      ...\n",
              "17156             that_book    0.344925    1.365315  Topic10  -8.1050   2.0466\n",
              "40275             copy_book    0.344949    1.526514  Topic10  -8.1050   1.9351\n",
              "12800     length_proceeding    0.344939    1.581822  Topic10  -8.1050   1.8994\n",
              "8538         district_court    0.400245   17.717203  Topic10  -7.9563  -0.3678\n",
              "21478            penal_code    0.400917   20.034544  Topic10  -7.9546  -0.4891\n",
              "\n",
              "[449 rows x 6 columns], token_table=       Topic      Freq               Term\n",
              "term                                     \n",
              "2690       2  0.458601    abortion_murder\n",
              "2690       5  0.458601    abortion_murder\n",
              "66248      2  0.968506       abuse_public\n",
              "15116      9  0.796470  access_classified\n",
              "15117      9  0.887856    access_document\n",
              "...      ...       ...                ...\n",
              "93349      6  0.955240      with_ministry\n",
              "3799       2  0.966920        with_regard\n",
              "52860      7  0.730729     withdrawn_from\n",
              "10695      8  0.679083     without_notice\n",
              "90835      4  1.056687  worked_prosecutor\n",
              "\n",
              "[484 rows x 3 columns], R=30, lambda_step=0.01, plot_opts={'xlab': 'PC1', 'ylab': 'PC2'}, topic_order=[7, 8, 2, 6, 4, 1, 9, 10, 3, 5])"
            ],
            "text/html": [
              "\n",
              "<link rel=\"stylesheet\" type=\"text/css\" href=\"https://cdn.jsdelivr.net/gh/bmabey/pyLDAvis@3.4.0/pyLDAvis/js/ldavis.v1.0.0.css\">\n",
              "\n",
              "\n",
              "<div id=\"ldavis_el183140141202173936492355770\" style=\"background-color:white;\"></div>\n",
              "<script type=\"text/javascript\">\n",
              "\n",
              "var ldavis_el183140141202173936492355770_data = {\"mdsDat\": {\"x\": [0.07199548885603256, 0.008691116910089083, -0.1321140130676095, -0.054962725721552044, 0.02976225026943169, 0.11054524601991943, -0.0013342967184842957, -0.00781753197780166, -0.029967841277415804, 0.005202306707390569], \"y\": [0.11553904600589496, -0.14339841772771877, -0.03382567812193584, 0.07450402403411724, -0.038905021887786176, -0.005928490317669709, 0.033130133238658634, -0.009263387954961726, 0.0043346028051701145, 0.003813189926231319], \"topics\": [1, 2, 3, 4, 5, 6, 7, 8, 9, 10], \"cluster\": [1, 1, 1, 1, 1, 1, 1, 1, 1, 1], \"Freq\": [18.06311771210149, 17.626772156381975, 15.82139031622208, 10.070692535240973, 9.77824406522633, 9.206676633104369, 8.063058943082, 4.122034852210992, 3.9846108325424234, 3.2634019538873673]}, \"tinfo\": {\"Term\": [\"applicant_company\", \"court_appeal\", \"administrative_court\", \"military_service\", \"search_engine\", \"hate_speech\", \"personal_data\", \"radio_television\", \"court_cassation\", \"public_prosecutor\", \"professional_military\", \"judge_public\", \"national_radio\", \"television_council\", \"article_code\", \"state_security\", \"supreme_court\", \"individual_concerned\", \"public_office\", \"constitutional_court\", \"publish_advertisement\", \"first_applicant\", \"anonymous_letter\", \"access_information\", \"information_request\", \"ministry_state\", \"private_life\", \"applicant_article\", \"service_contract\", \"with_ministry\", \"radio_television\", \"national_radio\", \"television_council\", \"publish_advertisement\", \"hidden_camera\", \"editorial_board\", \"section_press\", \"first_video\", \"that_advertisement\", \"third_video\", \"judicial_order\", \"refusal_publish\", \"right_impart\", \"asylum_seeker\", \"that_sanction\", \"application_annulment\", \"code_journalistic\", \"second_third\", \"which_could\", \"public_radio\", \"video_that\", \"electronic_gambling\", \"gambling_arcade\", \"right_image\", \"three_video\", \"article_claimant\", \"publication_image\", \"applicant_case\", \"publication_advertisement\", \"video_been\", \"criminal_proceeding\", \"television_show\", \"value_judgment\", \"applicant_company\", \"that_judge\", \"first_applicant\", \"supreme_administrative\", \"appellate_court\", \"company_that\", \"second_applicant\", \"supreme_court\", \"constitutional_court\", \"commercial_court\", \"administrative_court\", \"factual_basis\", \"journalistic_ethic\", \"court_appeal\", \"search_engine\", \"public_office\", \"private_life\", \"data_subject\", \"right_forgotten\", \"with_regard\", \"misconduct_public\", \"breach_peace\", \"prosecution_conviction\", \"office_manager\", \"fifth_criterion\", \"national_court\", \"previously_unknown\", \"presidential_candidate\", \"handed_over\", \"applicant_disclosure\", \"seriousness_test\", \"instant_case\", \"under_prohibition\", \"essential_previously\", \"fundamental_right\", \"engine_provider\", \"that_disclosure\", \"public_trust\", \"search_result\", \"after_release\", \"breach_duty\", \"abuse_public\", \"general_search\", \"trial_judge\", \"member_state\", \"personal_data\", \"applicant_company\", \"data_protection\", \"supreme_court\", \"service_provider\", \"publication_article\", \"first_applicant\", \"criminal_record\", \"anonymous_letter\", \"wall_account\", \"criminal_division\", \"police_order\", \"hatred_violence\", \"cassation_criminal\", \"former_husband\", \"paragraph_section\", \"sentence_enforcement\", \"that_claimant\", \"public_communication\", \"person_group\", \"personal_right\", \"fierce_defender\", \"posted_wall\", \"tourism_association\", \"were_posted\", \"account_holder\", \"constitutional_council\", \"applicant_journalist\", \"against_person\", \"comment_which\", \"form_expression\", \"discrimination_against\", \"political_debate\", \"division_appeal\", \"division_bull\", \"feeling_rejection\", \"press_badge\", \"been_present\", \"hate_speech\", \"penal_code\", \"comment_posted\", \"enforcement_judge\", \"that_police\", \"violence_against\", \"article_penal\", \"criminal_court\", \"court_cassation\", \"prosecutor_office\", \"that_comment\", \"applicant_company\", \"that_journalist\", \"section_penal\", \"criminal_liability\", \"district_court\", \"article_code\", \"professional_integrity\", \"republican_guard\", \"national_republican\", \"officer_court\", \"moral_professional\", \"territorial_post\", \"opinion_expressed\", \"comrade_prosecutor\", \"communist_regime\", \"judge_prosecutor\", \"labour_court\", \"proceeding_against\", \"during_communist\", \"professional_file\", \"prosecutor_during\", \"public_school\", \"article_concerned\", \"duty_discretion\", \"worked_prosecutor\", \"loyalty_constitution\", \"duty_loyalty\", \"offended_party\", \"promotion_court\", \"present_scene\", \"teaching_post\", \"public_service\", \"commander_territorial\", \"administrative_proceeding\", \"code_been\", \"president_court\", \"applicant_article\", \"justice_system\", \"disciplinary_proceeding\", \"article_been\", \"court_cassation\", \"professional_activity\", \"applicant_allegation\", \"significant_disadvantage\", \"taxation_data\", \"commission_decision\", \"pregnant_woman\", \"circular_letter\", \"legislative_decree\", \"hearing_camera\", \"ethnic_discord\", \"first_proceeding\", \"regulatory_body\", \"appeal_hearing\", \"taxation_information\", \"could_understood\", \"exempt_from\", \"public_hearing\", \"sitting_judge\", \"regulation_national\", \"their_right\", \"criminal_murder\", \"statement_could\", \"termination_pregnancy\", \"extremist_activity\", \"medium_service\", \"which_abortion\", \"justice_peace\", \"glory_russia\", \"protection_ombudsman\", \"justice_union\", \"considered_unlawful\", \"discord_between\", \"data_which\", \"cassation_appeal\", \"unlawful_abortion\", \"that_abortion\", \"that_injunction\", \"from_criminal\", \"protection_board\", \"criminal_code\", \"criminal_liability\", \"personal_data\", \"applicant_company\", \"data_protection\", \"warsaw_regional\", \"supreme_administrative\", \"article_criminal\", \"personality_right\", \"administrative_court\", \"applicant_statement\", \"regional_court\", \"hate_speech\", \"abortion_murder\", \"military_service\", \"professional_military\", \"judge_public\", \"information_request\", \"individual_concerned\", \"service_contract\", \"ministry_state\", \"with_ministry\", \"thirteen_judge\", \"state_security\", \"from_military\", \"minister_defence\", \"into_judiciary\", \"intelligence_service\", \"federal_commissioner\", \"judge_concerned\", \"real_property\", \"dealt_with\", \"discharge_from\", \"from_army\", \"foreign_intelligence\", \"proceeding_concerning\", \"association_request\", \"file_person\", \"serve_until\", \"property_transaction\", \"federal_archive\", \"were_indication\", \"four_serviceman\", \"military_specialist\", \"administrative_court\", \"public_prosecutor\", \"access_information\", \"constitutional_court\", \"receive_information\", \"from_professional\", \"presumption_innocence\", \"applicant_friend\", \"judicial_investigation\", \"took_view\", \"minister_justice\", \"press_release\", \"tribunal_instance\", \"medical_report\", \"very_good\", \"added_that\", \"proceeding_brought\", \"procedural_document\", \"urgent_proceeding\", \"that_publication\", \"their_identity\", \"undue_influence\", \"victim_homicide\", \"connection_with\", \"identity_card\", \"notarial_deed\", \"right_fair\", \"content_leaflet\", \"document_from\", \"police_custody\", \"connection_that\", \"open_court\", \"withdrawn_from\", \"content_article\", \"fair_hearing\", \"time_when\", \"investigating_judge\", \"police_officer\", \"sentence_article\", \"civil_party\", \"public_prosecutor\", \"extract_from\", \"right_innocent\", \"criminal_court\", \"that_police\", \"court_cassation\", \"district_court\", \"that_judge\", \"active_euthanasia\", \"disclose_information\", \"combination_with\", \"pleural_cancer\", \"national_hospital\", \"without_notice\", \"dismissal_without\", \"public_hospital\", \"internal_channel\", \"serious_breach\", \"following_disclosure\", \"paper_file\", \"that_university\", \"channel_disclosure\", \"medical_file\", \"chief_physician\", \"hospital_that\", \"public_body\", \"court_constitutional\", \"suspicion_active\", \"that_suspicion\", \"patient_with\", \"appendix_recommendation\", \"that_active\", \"standard_therapy\", \"federal_court\", \"treatment_university\", \"research_material\", \"electronic_file\", \"external_body\", \"prosecutor_office\", \"high_court\", \"information_disclosed\", \"criminal_complaint\", \"public_prosecutor\", \"constitutional_court\", \"city_court\", \"article_penal\", \"penal_code\", \"first_applicant\", \"official_document\", \"access_official\", \"statistical_data\", \"district_administration\", \"applicant_request\", \"municipal_authority\", \"body_municipal\", \"part_applicant\", \"state_body\", \"crime_statistic\", \"data_card\", \"statistic_service\", \"information_commissioner\", \"security_council\", \"such_information\", \"statistic_report\", \"request_access\", \"access_classified\", \"document_public\", \"police_department\", \"liable_under\", \"individual_found\", \"office_national\", \"access_document\", \"data_secrecy\", \"information_number\", \"information_specific\", \"criminally_liable\", \"found_administratively\", \"state_statistic\", \"right_access\", \"city_court\", \"access_information\", \"copy_book\", \"receive_information\", \"criminal_code\", \"information_sought\", \"approximately_charity\", \"election_code\", \"edition_newsletter\", \"electoral_commission\", \"article_election\", \"applicant_trade\", \"applicant_stated\", \"security_court\", \"seizure_copy\", \"mayor_municipality\", \"information_from\", \"those_passage\", \"brought_against\", \"armed_clash\", \"passage_page\", \"that_claim\", \"been_untrue\", \"wind_farm\", \"campaign_material\", \"null_void\", \"news_anchor\", \"banking_collapse\", \"shall_responsible\", \"social_debate\", \"that_passage\", \"propaganda_terrorist\", \"newsletter_been\", \"veracity_statement\", \"that_newsletter\", \"local_election\", \"trade_union\", \"news_item\", \"assize_court\", \"security_force\", \"election_campaign\", \"supreme_court\", \"criminal_proceeding\", \"regional_court\", \"that_book\", \"copy_book\", \"length_proceeding\", \"district_court\", \"penal_code\"], \"Freq\": [223.0, 65.0, 69.0, 35.0, 41.0, 37.0, 45.0, 31.0, 45.0, 35.0, 18.0, 18.0, 24.0, 24.0, 16.0, 16.0, 47.0, 15.0, 19.0, 31.0, 20.0, 40.0, 18.0, 17.0, 13.0, 12.0, 18.0, 15.0, 12.0, 12.0, 31.173523414615673, 23.90365987522823, 23.90365987522823, 19.927130763728833, 16.61012456599473, 12.658830329457132, 11.876095139795702, 11.305530863691008, 8.653561131288651, 8.653097498415336, 8.62421243448269, 7.990355647843896, 7.989972230816917, 7.326698306328959, 7.326840339891736, 7.326840339891736, 7.326840339891736, 6.663706977116163, 6.001094649379172, 6.000450714832903, 6.0005780298917655, 6.0005780298917655, 6.0005780298917655, 6.0005780298917655, 6.0005780298917655, 5.509783261491107, 5.3378777590938835, 5.337571246249859, 5.337571246249859, 5.33746232932089, 10.63952960042765, 12.602040453952558, 24.00057239240434, 106.40017077277307, 11.042362541845339, 25.704527703210452, 17.14145078251316, 11.304908270975414, 16.054935239079356, 18.519523698143352, 20.991832012510624, 15.91257786921614, 9.922426427497566, 19.46602211383638, 10.491045653309929, 7.328720628766843, 64.86454459755993, 41.5275865818944, 19.779120923747566, 18.026771686831424, 16.883875590493332, 16.172211365804934, 15.325173434280558, 14.683293054182542, 13.377072944012037, 12.159005459324895, 12.139224800128856, 10.864777696958436, 10.22756814925263, 10.22756814925263, 9.59040528114484, 9.590356447103838, 8.953138999773754, 8.950216138790314, 8.315973259075317, 8.315973259075317, 8.315915807262375, 7.961976014006963, 7.678757966188217, 7.676138163518047, 7.676138163518047, 7.355413417767573, 7.04151538368997, 7.039093071626789, 7.039093071626789, 6.779507827061865, 8.311725415655895, 13.200757638978041, 35.25979487123312, 70.56728049238966, 12.24578929536491, 22.080294403043734, 8.928516589042001, 8.690937543276968, 11.961863153951649, 8.458445855547978, 18.1229354219755, 11.134822461414977, 10.887653264316326, 10.46771250837885, 9.965846556784967, 9.381352803132698, 9.94754204853093, 8.796855826515282, 8.212415574084448, 8.781116798518001, 7.6278457584547175, 7.329375980523379, 15.846280542247099, 6.458218170272049, 5.874270386915627, 5.873658668130788, 5.28972635500707, 5.28972635500707, 5.28972635500707, 5.28963869035508, 4.861234105645918, 4.7051739433891315, 4.7051739433891315, 4.7051739433891315, 4.7051739433891315, 4.7051739433891315, 4.7051739433891315, 4.7051739433891315, 4.705083378068509, 4.698054091083607, 34.69803022958489, 15.376985876425532, 10.554464416638924, 5.875672376754431, 8.956003267086071, 7.789697266783568, 6.462741279558895, 7.629604852831774, 18.83654760533394, 7.044807495862687, 7.178059700665986, 27.27740565982879, 5.843635458603433, 6.234940169212683, 6.460246059942338, 6.960204660762418, 16.510181075628818, 9.82605753496194, 8.044143591472634, 7.598465495211115, 7.152278628378994, 6.706634997220645, 5.369997467421389, 5.369676613722832, 5.369676613722832, 4.9240178015071345, 4.9240178015071345, 4.83094561099468, 4.032888504246632, 4.03270756245499, 4.03270756245499, 4.03270756245499, 3.8411263114050382, 3.587067623986267, 3.587067623986267, 3.587067623986267, 3.5583134704714396, 3.524392423573068, 3.141540927999387, 3.141447174712788, 2.947022757800748, 2.851290599861507, 2.851294907999403, 2.6959116573006923, 2.69585503605977, 2.69585503605977, 10.70087293975654, 13.351051456645092, 8.017020375875665, 5.817371328818633, 4.900826890062306, 21.409362667313612, 4.0331199127964865, 4.5784559063678305, 3.587426635477619, 6.322844887194952, 5.403456400046185, 4.08176944252917, 3.7457787935133453, 3.1317121637822876, 2.6005462460997455, 2.600532302661507, 2.51419831773466, 2.457176029481348, 2.1710548840943282, 2.171057871973951, 2.1147024784524016, 2.0912267082577096, 2.0278798756112733, 2.0278824651069463, 2.0378952481061963, 1.8847221968300296, 1.826986801306793, 1.826986801306793, 1.826986801306793, 1.7415519689543708, 1.7414543648866994, 1.66358892717416, 1.5983851273422842, 1.598379649562976, 1.598389609161718, 1.5983821394626616, 1.4963072079161095, 1.4552168913863737, 1.4552219707817322, 2.7116788351261927, 1.6959666863204101, 3.5769022437087434, 2.2269834092137972, 2.8517980395232367, 3.3164181014434226, 5.429522661873663, 4.654832802623497, 9.295334937809152, 18.916445960164367, 5.159912340089103, 3.1629327171507082, 5.272710373217182, 2.7437375883247372, 3.7867330619242656, 6.636348754171163, 3.8976168601741383, 2.3143737091832173, 2.353047827058152, 2.122765172017974, 35.49895217657187, 18.14507462573483, 18.12617722761006, 13.07812479401026, 15.003989469897148, 12.36041226599272, 12.732903314079206, 12.347667212529375, 11.577193509040818, 15.973816845004736, 8.503924430840403, 7.732615010737675, 7.33953037488132, 6.9950343329807, 6.954280019636992, 7.306081455064367, 6.189990168976639, 6.183777058564995, 5.804299824689033, 5.804299824689033, 5.771281891581992, 5.41326396986796, 5.032997906530776, 4.670033577729183, 4.64726592645135, 4.6473248167154555, 4.547643854836481, 4.642741878837559, 4.261577457649863, 4.261577457649863, 39.71560311445997, 21.922972840793754, 11.12319758523915, 12.302712560475838, 5.2912238375876495, 5.41862748506816, 4.768313555938575, 4.353497631436848, 3.333894817821437, 2.8244296349602926, 2.824043971146651, 2.823735505796558, 2.314694914484929, 2.3146775037676184, 2.253633065094876, 2.1870019214419885, 3.8333501522452194, 1.9324922200434056, 1.9324884422462532, 1.9324843359450006, 1.9324160070921579, 1.6776034249131855, 1.6775819078946221, 1.6775677822183133, 1.6775538207940546, 1.6775237626688857, 1.5501812835008644, 1.4226970548136044, 1.2953087493236044, 1.2952939666390952, 1.167886197281158, 1.1678782310567282, 1.1676890126950097, 1.0404546935019812, 1.0404493553103527, 1.0404459060173006, 2.8250064881602532, 7.284228236686746, 1.925196472481941, 3.8442670005032493, 7.9870752422322795, 1.8050551316945251, 1.8050472475961201, 2.6969531261193875, 2.442073693356023, 3.408219527501138, 2.4433821251871417, 1.7237682703671184, 2.026494782022874, 1.5938020866989708, 1.5400048803768698, 1.5399961475276243, 1.3316521126838863, 1.262168190025775, 0.9842330032115562, 0.9842105833005125, 0.9431734972110302, 0.8683292005405758, 0.8410223366772991, 0.7757785482066855, 0.7757248075959441, 0.7247399146097047, 0.7062997477005356, 0.7062969767002942, 0.7062616254547909, 0.7062352589676458, 0.7022206254210015, 0.6368114586178016, 0.6368110807541324, 0.6367611187800837, 0.6184429598512385, 0.5673299710811147, 0.5673120855341023, 0.5672989022905298, 0.5672901694412843, 0.5672847114105058, 0.49784424307436137, 0.4978438652106921, 2.2959335782788752, 1.609345718658882, 0.8452692724108436, 0.7062931980636015, 1.0986388703278238, 0.9969724668969211, 0.7062528086358412, 0.7748812479467124, 0.8442037808331908, 0.8451732950388476, 4.247794301693161, 2.767530142733668, 2.6574455906490106, 1.7549171690316814, 1.6393328455894343, 1.6393328455894343, 1.4356992574237224, 1.4356992574237224, 1.4356992574237224, 1.4356992574237224, 1.4356992574237224, 1.4356992574237224, 1.3673613758468008, 1.2381604997073785, 1.2320612048943431, 1.2320612048943431, 1.2208326809081351, 1.0443377971377643, 1.0284213666194966, 1.0284213666194966, 1.0284213666194966, 1.0284213666194966, 0.9151332683371594, 0.9151323754644258, 0.9151283169520007, 0.8247869667512997, 0.8247869667512997, 0.8247869667512997, 0.8247869667512997, 0.8247869667512997, 2.606062225898466, 1.7603016786363967, 3.9470254135270215, 0.9797037140000485, 1.435295191926673, 1.4361012124943109, 1.1861436011672652, 0.8162760130655198, 0.7925754130716072, 0.5128098451726915, 0.45686053416592676, 0.4568600688160818, 0.45685953698768766, 0.4567744444446188, 0.40089337366868233, 0.3449377471997367, 0.3449485167247188, 0.34486993907947866, 0.28898351678032574, 0.28898251960208665, 0.28898212073079105, 0.28898251960208665, 0.2889807246812563, 0.28899129477059066, 0.2889908294207458, 0.2889904637887247, 0.2889606813986506, 0.28895775634248266, 0.2889462887927331, 0.28891690527395464, 0.2889044737852407, 0.23302335315039227, 0.2330232035736564, 0.2330339232397266, 0.23303365732552953, 0.23303340803096975, 0.23303277648475165, 0.6247225938779414, 1.7992281085240314, 0.5516276007926387, 0.39285914183561976, 0.6806732676949663, 1.2376893870167176, 0.5702901571692037, 0.5944194108488259, 0.34492544866812125, 0.3449491815102116, 0.34493881085652506, 0.400244908659803, 0.40091730594642044], \"Total\": [223.0, 65.0, 69.0, 35.0, 41.0, 37.0, 45.0, 31.0, 45.0, 35.0, 18.0, 18.0, 24.0, 24.0, 16.0, 16.0, 47.0, 15.0, 19.0, 31.0, 20.0, 40.0, 18.0, 17.0, 13.0, 12.0, 18.0, 15.0, 12.0, 12.0, 31.360744449756158, 24.092366210896216, 24.092366210896216, 20.11417892961848, 16.798087454965124, 12.846075625798566, 12.063119552256346, 11.492969784396339, 8.840305281762378, 8.840274302712213, 8.810907558949726, 8.177084488906454, 8.177082920496208, 7.513643859678055, 7.51388479823939, 7.51388479823939, 7.51388479823939, 6.8506854235545935, 6.187720908974525, 6.187102025158807, 6.1874913312172986, 6.1874913312172986, 6.1874913312172986, 6.1874913312172986, 6.1874913312172986, 5.696560098115711, 5.524502133863703, 5.524240979272223, 5.524240979272223, 5.524312436992406, 11.387520123778863, 13.670155827374728, 31.47423589943234, 223.2634056706897, 13.646232561612058, 40.085484837130494, 26.431920162154377, 15.045432820642734, 25.052480720981013, 32.33773472514512, 47.42016348144896, 31.0710591078367, 14.47826392988648, 69.1521822755437, 18.229726298864605, 10.060295197821867, 65.05967605766554, 41.716009089532434, 19.969235894691348, 18.215547774523404, 17.071943311693598, 16.360432200966454, 15.513167871630221, 14.872778388958812, 13.565385078055286, 12.347191736160447, 12.327219193060213, 11.052771272306604, 10.415561613078534, 10.415561613078534, 9.778399061763436, 9.77834980334356, 9.141132251051346, 9.138991548182904, 8.503966734974886, 8.503966734974886, 8.503908957513914, 8.15004540896126, 7.866750615261903, 7.864753071381031, 7.864753071381031, 7.543460969671707, 7.229508551995802, 7.227627772677863, 7.227627772677863, 6.967534270759633, 8.619066478807143, 14.686480538539737, 45.770792012723376, 223.2634056706897, 17.56998875171335, 47.42016348144896, 10.69184218271384, 12.17904173812898, 40.085484837130494, 13.321956281928907, 18.314095084846613, 11.32562551954897, 11.079356653847713, 10.658651004975644, 10.156649138253638, 9.572155141939785, 10.157927101067937, 8.987657928432682, 8.403215875046678, 8.98847020764808, 7.818647381140356, 7.520469031443326, 16.264488033712023, 6.649072920955224, 6.065071294763038, 6.0645288014928305, 5.4805270214761155, 5.4805270214761155, 5.4805270214761155, 5.480440328547024, 5.052198739692687, 4.895974372968491, 4.895974372968491, 4.895974372968491, 4.895974372968491, 4.895974372968491, 4.895974372968491, 4.895974372968491, 4.895884750896369, 4.895660106128204, 37.218723876446056, 20.034544406060387, 13.57267031651802, 6.469750001509999, 11.567728720921512, 9.717618024551474, 7.640549090656229, 10.496129519860991, 45.306861040071084, 9.520234671455263, 9.934370152489626, 223.2634056706897, 6.907086398339545, 8.626584709751063, 11.599193698168435, 17.71720300008434, 16.709890473396726, 10.025061974359188, 8.242384092801707, 7.796702572165817, 7.351002746330104, 6.905311762936948, 5.5682182736275845, 5.568209876905152, 5.568209876905152, 5.12250312474028, 5.12250312474028, 5.0294756598125465, 4.231099602966129, 4.231099115093787, 4.231099115093787, 4.231099115093787, 4.039529348167859, 3.785415006773726, 3.785415006773726, 3.785415006773726, 3.7567014624818453, 3.7227000652448896, 3.3397455318819476, 3.339753844024739, 3.1459939459413806, 3.0496450783005864, 3.0496809235477382, 2.8941131666158872, 2.8941260406968543, 2.8941260406968543, 12.266675315549744, 15.960009470439617, 9.720515473252915, 6.874157946182572, 5.758522216312619, 45.306861040071084, 5.024492758075007, 6.734374707963053, 5.549106760817101, 6.5212365881288346, 5.601582891760701, 4.281564940677203, 3.9439740795402134, 3.3302801561377944, 2.798596223175997, 2.7985911026503207, 2.7145023864158246, 2.6554902468000017, 2.3690694001694026, 2.369116485888131, 2.3128811141188748, 2.289507964059711, 2.2258976875303746, 2.2259233910014746, 2.238168623103618, 2.082722097394896, 2.025248914269158, 2.025248914269158, 2.025248914269158, 1.9395556401395673, 1.939578527229601, 1.8615608044468592, 1.7963737888030393, 1.7963749419060664, 1.7964050093386184, 1.796406509738267, 1.6944642376835912, 1.6531980108561346, 1.65322720728641, 3.297452210616413, 1.9852485471234222, 5.010168742954264, 2.8393771978833424, 3.9424233307563727, 5.223049254901817, 13.190283204162414, 11.599193698168435, 45.770792012723376, 223.2634056706897, 17.56998875171335, 7.424106345023915, 26.431920162154377, 5.486712490884651, 12.709989509770315, 69.1521822755437, 15.262246749609552, 16.972208513264565, 37.218723876446056, 4.36109045175659, 35.70046383194244, 18.346511584219456, 18.3472390002188, 13.279560146119385, 15.244788415104626, 12.561828959556188, 12.947950476886458, 12.562284573917397, 11.790950910855459, 16.350667019992525, 8.705329660619846, 7.9340181623337935, 7.548532307711936, 7.1966269454855745, 7.162844708377357, 7.529334796078038, 6.391423483733145, 6.391462375192808, 6.005698073453271, 6.005698073453271, 5.97292756699229, 5.620061673549894, 5.2344205007129485, 4.871584150364371, 4.848661385220814, 4.848744046420678, 4.749220518666909, 4.848642299234165, 4.462971996078777, 4.462971996078777, 69.1521822755437, 35.209366054455316, 17.45677805691182, 31.0710591078367, 6.917170901308266, 7.401091598764237, 4.9692745025845895, 4.554475713245958, 3.5349731944759646, 3.0251942277604615, 3.0252159525483853, 3.0251261250361954, 2.515439915038536, 2.515454578095936, 2.4548669456779733, 2.388024950555915, 4.194592930459761, 2.133118847689185, 2.133119844742367, 2.1331179016324393, 2.133131702661338, 1.8782457551165326, 1.8782561964897058, 1.8782576247658822, 1.87825048988912, 1.8782468113966309, 1.750803347671789, 1.623368983604292, 1.495926677803784, 1.4959257868842444, 1.3684849019661425, 1.3684837468643534, 1.3684969283132382, 1.2410421972964911, 1.2410416451230042, 1.2410417830355231, 4.294783457048158, 14.72727526054604, 2.9702421024993106, 9.77875042339028, 35.209366054455316, 2.846421953642671, 2.846410615594674, 10.496129519860991, 11.567728720921512, 45.306861040071084, 17.71720300008434, 13.646232561612058, 2.2369734250367515, 1.8045195788849533, 1.7506991575442825, 1.7507050997847082, 1.5420688385275414, 1.4725743051391413, 1.1946093644677354, 1.194648318977457, 1.153646033288159, 1.0789898127409607, 1.0535036147259227, 0.9861400648478291, 0.9862288590474837, 0.9351933027518171, 0.9166428723698246, 0.9166431519380216, 0.9166983629485719, 0.9167407275146949, 0.9138858299100711, 0.8471502349906349, 0.8471534605834762, 0.8472314581389083, 0.8314494412731083, 0.7776528456597498, 0.7776793259685378, 0.7776749603670677, 0.7777212180691493, 0.7777284388018547, 0.7081618165198313, 0.7081624795629744, 9.520234671455263, 5.201997249240522, 2.6460158232737228, 2.348022402245828, 35.209366054455316, 31.0710591078367, 3.6239689557930705, 7.640549090656229, 20.034544406060387, 40.085484837130494, 4.458976065922843, 2.978679248572711, 2.8685259054406393, 1.9663150359050705, 1.8504122885730627, 1.8504122885730627, 1.6467785333718683, 1.6467785333718683, 1.6467785333718683, 1.6467785333718683, 1.6467785333718683, 1.6467785333718683, 1.5786076839015273, 1.449368306767586, 1.4431403094113362, 1.4431403094113362, 1.4322125877663363, 1.2555400895199875, 1.2395002850531014, 1.2395002850531014, 1.2395002850531014, 1.2395002850531014, 1.1263023049960723, 1.1263082437754144, 1.1263108509139066, 1.0358656741927161, 1.0358656741927161, 1.0358656741927161, 1.0358656741927161, 1.0358656741927161, 4.05599768004155, 3.6239689557930705, 17.45677805691182, 1.5265140847834813, 6.917170901308266, 13.190283204162414, 5.199713435634911, 1.0294578902208247, 1.0052343032032784, 0.7254227088457823, 0.6694524830389877, 0.6694520757112586, 0.6694520241364262, 0.6696846754272363, 0.6134699907779716, 0.5575063403896362, 0.5575273866912454, 0.5577399078615699, 0.5015386146795062, 0.501539398070918, 0.5015391903544628, 0.5015400696817078, 0.5015415712951907, 0.5015634515219906, 0.5015629661698412, 0.5015633618977647, 0.5016415021179436, 0.5016551485006042, 0.5016859556738463, 0.501765984306682, 0.5017984916461734, 0.445572217999642, 0.4455732667851109, 0.44559396357126735, 0.4455943240527327, 0.4455953731831125, 0.4455957189933323, 1.4024698632471522, 4.844153139757585, 1.8223813132390374, 1.1330904941260016, 7.229825076499758, 47.42016348144896, 11.387520123778863, 16.972208513264565, 1.3653146169906694, 1.5265140847834813, 1.5818221955198242, 17.71720300008434, 20.034544406060387], \"Category\": [\"Default\", \"Default\", \"Default\", \"Default\", \"Default\", \"Default\", \"Default\", \"Default\", \"Default\", \"Default\", \"Default\", \"Default\", \"Default\", \"Default\", \"Default\", \"Default\", \"Default\", \"Default\", \"Default\", \"Default\", \"Default\", \"Default\", \"Default\", \"Default\", \"Default\", \"Default\", \"Default\", \"Default\", \"Default\", \"Default\", \"Topic1\", \"Topic1\", \"Topic1\", \"Topic1\", \"Topic1\", \"Topic1\", \"Topic1\", \"Topic1\", \"Topic1\", \"Topic1\", \"Topic1\", \"Topic1\", \"Topic1\", \"Topic1\", \"Topic1\", \"Topic1\", \"Topic1\", \"Topic1\", \"Topic1\", \"Topic1\", \"Topic1\", \"Topic1\", \"Topic1\", \"Topic1\", \"Topic1\", \"Topic1\", \"Topic1\", \"Topic1\", \"Topic1\", \"Topic1\", \"Topic1\", \"Topic1\", \"Topic1\", \"Topic1\", \"Topic1\", \"Topic1\", \"Topic1\", \"Topic1\", \"Topic1\", \"Topic1\", \"Topic1\", \"Topic1\", \"Topic1\", \"Topic1\", \"Topic1\", \"Topic1\", \"Topic2\", \"Topic2\", \"Topic2\", \"Topic2\", \"Topic2\", \"Topic2\", \"Topic2\", \"Topic2\", \"Topic2\", \"Topic2\", \"Topic2\", \"Topic2\", \"Topic2\", \"Topic2\", \"Topic2\", \"Topic2\", \"Topic2\", \"Topic2\", \"Topic2\", \"Topic2\", \"Topic2\", \"Topic2\", \"Topic2\", \"Topic2\", \"Topic2\", \"Topic2\", \"Topic2\", \"Topic2\", \"Topic2\", \"Topic2\", \"Topic2\", \"Topic2\", \"Topic2\", \"Topic2\", \"Topic2\", \"Topic2\", \"Topic2\", \"Topic2\", \"Topic2\", \"Topic2\", \"Topic3\", \"Topic3\", \"Topic3\", \"Topic3\", \"Topic3\", \"Topic3\", \"Topic3\", \"Topic3\", \"Topic3\", \"Topic3\", \"Topic3\", \"Topic3\", \"Topic3\", \"Topic3\", \"Topic3\", \"Topic3\", \"Topic3\", \"Topic3\", \"Topic3\", \"Topic3\", \"Topic3\", \"Topic3\", \"Topic3\", \"Topic3\", \"Topic3\", \"Topic3\", \"Topic3\", \"Topic3\", \"Topic3\", \"Topic3\", \"Topic3\", \"Topic3\", \"Topic3\", \"Topic3\", \"Topic3\", \"Topic3\", \"Topic3\", \"Topic3\", \"Topic3\", \"Topic3\", \"Topic3\", \"Topic3\", \"Topic3\", \"Topic3\", \"Topic3\", \"Topic3\", \"Topic4\", \"Topic4\", \"Topic4\", \"Topic4\", \"Topic4\", \"Topic4\", \"Topic4\", \"Topic4\", \"Topic4\", \"Topic4\", \"Topic4\", \"Topic4\", \"Topic4\", \"Topic4\", \"Topic4\", \"Topic4\", \"Topic4\", \"Topic4\", \"Topic4\", \"Topic4\", \"Topic4\", \"Topic4\", \"Topic4\", \"Topic4\", \"Topic4\", \"Topic4\", \"Topic4\", \"Topic4\", \"Topic4\", \"Topic4\", \"Topic4\", \"Topic4\", \"Topic4\", \"Topic4\", \"Topic4\", \"Topic4\", \"Topic4\", \"Topic4\", \"Topic4\", \"Topic5\", \"Topic5\", \"Topic5\", \"Topic5\", \"Topic5\", \"Topic5\", \"Topic5\", \"Topic5\", \"Topic5\", \"Topic5\", \"Topic5\", \"Topic5\", \"Topic5\", \"Topic5\", \"Topic5\", \"Topic5\", \"Topic5\", \"Topic5\", \"Topic5\", \"Topic5\", \"Topic5\", \"Topic5\", \"Topic5\", \"Topic5\", \"Topic5\", \"Topic5\", \"Topic5\", \"Topic5\", \"Topic5\", \"Topic5\", \"Topic5\", \"Topic5\", \"Topic5\", \"Topic5\", \"Topic5\", \"Topic5\", \"Topic5\", \"Topic5\", \"Topic5\", \"Topic5\", \"Topic5\", \"Topic5\", \"Topic5\", \"Topic5\", \"Topic5\", \"Topic5\", \"Topic5\", \"Topic5\", \"Topic5\", \"Topic5\", \"Topic6\", \"Topic6\", \"Topic6\", \"Topic6\", \"Topic6\", \"Topic6\", \"Topic6\", \"Topic6\", \"Topic6\", \"Topic6\", \"Topic6\", \"Topic6\", \"Topic6\", \"Topic6\", \"Topic6\", \"Topic6\", \"Topic6\", \"Topic6\", \"Topic6\", \"Topic6\", \"Topic6\", \"Topic6\", \"Topic6\", \"Topic6\", \"Topic6\", \"Topic6\", \"Topic6\", \"Topic6\", \"Topic6\", \"Topic6\", \"Topic6\", \"Topic6\", \"Topic6\", \"Topic6\", \"Topic6\", \"Topic6\", \"Topic7\", \"Topic7\", \"Topic7\", \"Topic7\", \"Topic7\", \"Topic7\", \"Topic7\", \"Topic7\", \"Topic7\", \"Topic7\", \"Topic7\", \"Topic7\", \"Topic7\", \"Topic7\", \"Topic7\", \"Topic7\", \"Topic7\", \"Topic7\", \"Topic7\", \"Topic7\", \"Topic7\", \"Topic7\", \"Topic7\", \"Topic7\", \"Topic7\", \"Topic7\", \"Topic7\", \"Topic7\", \"Topic7\", \"Topic7\", \"Topic7\", \"Topic7\", \"Topic7\", \"Topic7\", \"Topic7\", \"Topic7\", \"Topic7\", \"Topic7\", \"Topic7\", \"Topic7\", \"Topic7\", \"Topic7\", \"Topic8\", \"Topic8\", \"Topic8\", \"Topic8\", \"Topic8\", \"Topic8\", \"Topic8\", \"Topic8\", \"Topic8\", \"Topic8\", \"Topic8\", \"Topic8\", \"Topic8\", \"Topic8\", \"Topic8\", \"Topic8\", \"Topic8\", \"Topic8\", \"Topic8\", \"Topic8\", \"Topic8\", \"Topic8\", \"Topic8\", \"Topic8\", \"Topic8\", \"Topic8\", \"Topic8\", \"Topic8\", \"Topic8\", \"Topic8\", \"Topic8\", \"Topic8\", \"Topic8\", \"Topic8\", \"Topic8\", \"Topic8\", \"Topic8\", \"Topic8\", \"Topic8\", \"Topic8\", \"Topic9\", \"Topic9\", \"Topic9\", \"Topic9\", \"Topic9\", \"Topic9\", \"Topic9\", \"Topic9\", \"Topic9\", \"Topic9\", \"Topic9\", \"Topic9\", \"Topic9\", \"Topic9\", \"Topic9\", \"Topic9\", \"Topic9\", \"Topic9\", \"Topic9\", \"Topic9\", \"Topic9\", \"Topic9\", \"Topic9\", \"Topic9\", \"Topic9\", \"Topic9\", \"Topic9\", \"Topic9\", \"Topic9\", \"Topic9\", \"Topic9\", \"Topic9\", \"Topic9\", \"Topic9\", \"Topic9\", \"Topic9\", \"Topic9\", \"Topic10\", \"Topic10\", \"Topic10\", \"Topic10\", \"Topic10\", \"Topic10\", \"Topic10\", \"Topic10\", \"Topic10\", \"Topic10\", \"Topic10\", \"Topic10\", \"Topic10\", \"Topic10\", \"Topic10\", \"Topic10\", \"Topic10\", \"Topic10\", \"Topic10\", \"Topic10\", \"Topic10\", \"Topic10\", \"Topic10\", \"Topic10\", \"Topic10\", \"Topic10\", \"Topic10\", \"Topic10\", \"Topic10\", \"Topic10\", \"Topic10\", \"Topic10\", \"Topic10\", \"Topic10\", \"Topic10\", \"Topic10\", \"Topic10\", \"Topic10\", \"Topic10\", \"Topic10\", \"Topic10\", \"Topic10\", \"Topic10\"], \"logprob\": [30.0, 29.0, 28.0, 27.0, 26.0, 25.0, 24.0, 23.0, 22.0, 21.0, 20.0, 19.0, 18.0, 17.0, 16.0, 15.0, 14.0, 13.0, 12.0, 11.0, 10.0, 9.0, 8.0, 7.0, 6.0, 5.0, 4.0, 3.0, 2.0, 1.0, -5.3122, -5.5777, -5.5777, -5.7596, -5.9417, -6.2134, -6.2772, -6.3264, -6.5937, -6.5938, -6.5971, -6.6735, -6.6735, -6.7602, -6.7602, -6.7602, -6.7602, -6.855, -6.9598, -6.9599, -6.9599, -6.9599, -6.9599, -6.9599, -6.9599, -7.0452, -7.0769, -7.0769, -7.0769, -7.077, -6.3871, -6.2179, -5.5736, -4.0845, -6.35, -5.5051, -5.9102, -6.3265, -5.9757, -5.8329, -5.7076, -5.9846, -6.4569, -5.783, -6.4012, -6.7599, -4.555, -5.0009, -5.7426, -5.8354, -5.9009, -5.944, -5.9978, -6.0406, -6.1337, -6.2292, -6.2308, -6.3417, -6.4022, -6.4022, -6.4665, -6.4665, -6.5353, -6.5356, -6.6091, -6.6091, -6.6091, -6.6526, -6.6888, -6.6891, -6.6891, -6.7318, -6.7754, -6.7758, -6.7758, -6.8134, -6.6096, -6.147, -5.1645, -4.4707, -6.2221, -5.6326, -6.538, -6.565, -6.2455, -6.5921, -5.722, -6.2091, -6.2316, -6.2709, -6.32, -6.3805, -6.3219, -6.4448, -6.5136, -6.4466, -6.5874, -6.6273, -5.8563, -6.7539, -6.8486, -6.8487, -6.9534, -6.9534, -6.9534, -6.9535, -7.0379, -7.0705, -7.0705, -7.0705, -7.0705, -7.0705, -7.0705, -7.0705, -7.0706, -7.0721, -5.0725, -5.8863, -6.2627, -6.8484, -6.4269, -6.5664, -6.7532, -6.5872, -5.6834, -6.6669, -6.6482, -5.3132, -6.8539, -6.789, -6.7535, -6.679, -5.3635, -5.8824, -6.0825, -6.1395, -6.2, -6.2644, -6.4866, -6.4867, -6.4867, -6.5734, -6.5734, -6.5924, -6.773, -6.773, -6.773, -6.773, -6.8217, -6.8901, -6.8901, -6.8901, -6.8982, -6.9078, -7.0228, -7.0228, -7.0867, -7.1197, -7.1197, -7.1757, -7.1758, -7.1758, -5.7972, -5.5759, -6.0859, -6.4066, -6.5781, -5.1036, -6.7729, -6.6461, -6.89, -6.2938, -6.451, -6.7315, -6.8174, -6.9964, -7.1823, -7.1823, -7.2161, -7.239, -7.3628, -7.3628, -7.3891, -7.4003, -7.431, -7.431, -7.4261, -7.5042, -7.5353, -7.5353, -7.5353, -7.5832, -7.5833, -7.629, -7.669, -7.669, -7.669, -7.669, -7.735, -7.7629, -7.7628, -7.1404, -7.6098, -6.8635, -7.3374, -7.0901, -6.9391, -6.4462, -6.6001, -5.9085, -5.198, -6.4971, -6.9865, -6.4755, -7.1287, -6.8065, -6.2454, -6.7776, -7.2989, -7.2823, -7.3853, -4.5083, -5.1794, -5.1804, -5.5068, -5.3695, -5.5633, -5.5336, -5.5643, -5.6287, -5.3068, -5.9372, -6.0323, -6.0845, -6.1326, -6.1384, -6.0891, -6.2548, -6.2558, -6.3192, -6.3192, -6.3249, -6.3889, -6.4618, -6.5366, -6.5415, -6.5415, -6.5632, -6.5425, -6.6281, -6.6281, -4.396, -4.9902, -5.6687, -5.568, -6.4117, -6.3879, -6.3831, -6.4742, -6.741, -6.9068, -6.907, -6.9071, -7.1059, -7.1059, -7.1326, -7.1626, -6.6014, -7.2863, -7.2863, -7.2863, -7.2864, -7.4278, -7.4278, -7.4278, -7.4278, -7.4278, -7.5068, -7.5926, -7.6864, -7.6864, -7.7899, -7.79, -7.7901, -7.9055, -7.9055, -7.9055, -6.9066, -5.9594, -7.2901, -6.5986, -5.8673, -7.3545, -7.3546, -6.953, -7.0523, -6.719, -7.0518, -7.4006, -6.5679, -6.8081, -6.8424, -6.8424, -6.9878, -7.0414, -7.2901, -7.2901, -7.3327, -7.4154, -7.4473, -7.5281, -7.5282, -7.5961, -7.6219, -7.6219, -7.622, -7.622, -7.6277, -7.7255, -7.7255, -7.7256, -7.7547, -7.841, -7.841, -7.8411, -7.8411, -7.8411, -7.9717, -7.9717, -6.4431, -6.7984, -7.4423, -7.6219, -7.1801, -7.2772, -7.622, -7.5292, -7.4436, -7.4424, -5.7939, -6.2223, -6.2629, -6.6779, -6.746, -6.746, -6.8786, -6.8786, -6.8786, -6.8786, -6.8786, -6.8786, -6.9274, -7.0267, -7.0316, -7.0316, -7.0408, -7.1969, -7.2123, -7.2123, -7.2123, -7.2123, -7.329, -7.329, -7.329, -7.4329, -7.4329, -7.4329, -7.4329, -7.4329, -6.2824, -6.6748, -5.8673, -7.2608, -6.8789, -6.8784, -7.0696, -7.2436, -7.2731, -7.7085, -7.824, -7.824, -7.824, -7.8242, -7.9547, -8.105, -8.105, -8.1052, -8.282, -8.282, -8.282, -8.282, -8.282, -8.282, -8.282, -8.282, -8.2821, -8.2821, -8.2821, -8.2822, -8.2823, -8.4972, -8.4972, -8.4972, -8.4972, -8.4972, -8.4972, -7.5111, -6.4533, -7.6355, -7.9749, -7.4253, -6.8274, -7.6022, -7.5608, -8.105, -8.105, -8.105, -7.9563, -7.9546], \"loglift\": [30.0, 29.0, 28.0, 27.0, 26.0, 25.0, 24.0, 23.0, 22.0, 21.0, 20.0, 19.0, 18.0, 17.0, 16.0, 15.0, 14.0, 13.0, 12.0, 11.0, 10.0, 9.0, 8.0, 7.0, 6.0, 5.0, 4.0, 3.0, 2.0, 1.0, 1.7053, 1.7034, 1.7034, 1.702, 1.7, 1.6966, 1.6957, 1.6949, 1.6899, 1.6899, 1.6899, 1.6882, 1.6881, 1.6861, 1.6861, 1.6861, 1.6861, 1.6836, 1.6807, 1.6807, 1.6806, 1.6806, 1.6806, 1.6806, 1.6806, 1.678, 1.6769, 1.6769, 1.6769, 1.6769, 1.6434, 1.6299, 1.4402, 0.9702, 1.4996, 1.267, 1.2782, 1.4255, 1.2663, 1.1539, 0.8964, 1.0421, 1.3334, 0.4437, 1.1588, 1.3945, 1.7327, 1.7312, 1.7262, 1.7253, 1.7247, 1.7242, 1.7236, 1.7229, 1.7218, 1.7204, 1.7204, 1.7186, 1.7175, 1.7175, 1.7163, 1.7163, 1.715, 1.7149, 1.7134, 1.7134, 1.7134, 1.7124, 1.7116, 1.7115, 1.7115, 1.7105, 1.7094, 1.7093, 1.7093, 1.7084, 1.6994, 1.6291, 1.4748, 0.584, 1.3747, 0.9714, 1.5555, 1.3983, 0.5265, 1.2815, 1.8333, 1.8268, 1.8264, 1.8257, 1.8248, 1.8237, 1.8229, 1.8223, 1.8208, 1.8205, 1.8191, 1.8181, 1.8178, 1.8147, 1.8118, 1.8118, 1.8084, 1.8084, 1.8084, 1.8084, 1.8053, 1.8041, 1.8041, 1.8041, 1.8041, 1.8041, 1.8041, 1.8041, 1.8041, 1.8026, 1.7737, 1.5792, 1.5923, 1.7475, 1.5879, 1.6227, 1.6764, 1.5248, 0.9661, 1.5427, 1.5188, -0.2585, 1.6766, 1.5191, 1.2585, 0.9095, 2.2835, 2.2755, 2.2712, 2.2698, 2.2681, 2.2663, 2.2593, 2.2592, 2.2592, 2.256, 2.256, 2.2553, 2.2476, 2.2475, 2.2475, 2.2475, 2.2452, 2.2417, 2.2417, 2.2417, 2.2413, 2.2408, 2.2344, 2.2343, 2.2302, 2.2283, 2.2283, 2.2246, 2.2246, 2.2246, 2.159, 2.117, 2.1029, 2.1286, 2.1343, 1.5459, 2.0758, 1.9097, 1.8593, 2.2941, 2.289, 2.2772, 2.2735, 2.2635, 2.2516, 2.2516, 2.2484, 2.2474, 2.2377, 2.2377, 2.2354, 2.2344, 2.2318, 2.2318, 2.2313, 2.2251, 2.222, 2.222, 2.222, 2.2173, 2.2173, 2.2126, 2.2082, 2.2082, 2.2082, 2.2082, 2.2006, 2.1975, 2.1974, 2.1294, 2.1675, 1.988, 2.0821, 2.0012, 1.8708, 1.4374, 1.412, 0.7309, -0.1433, 1.0997, 1.4718, 0.713, 1.632, 1.1141, -0.0187, 0.96, 0.3326, -0.4361, 1.605, 2.3796, 2.3742, 2.3731, 2.37, 2.3693, 2.3691, 2.3685, 2.368, 2.3669, 2.3619, 2.3618, 2.3595, 2.3572, 2.3568, 2.3557, 2.3551, 2.3532, 2.3522, 2.3511, 2.3511, 2.3509, 2.3478, 2.346, 2.343, 2.3428, 2.3428, 2.3419, 2.3418, 2.3391, 2.3391, 1.8307, 1.9115, 1.9345, 1.4588, 2.1173, 2.0735, 2.4766, 2.4727, 2.4593, 2.4492, 2.4491, 2.449, 2.4347, 2.4347, 2.4323, 2.4299, 2.4278, 2.4191, 2.4191, 2.4191, 2.4191, 2.4049, 2.4049, 2.4049, 2.4049, 2.4049, 2.3962, 2.3859, 2.3739, 2.3739, 2.3594, 2.3594, 2.3592, 2.3416, 2.3416, 2.3416, 2.099, 1.8139, 2.0843, 1.5842, 1.0344, 2.0624, 2.0624, 1.159, 0.9625, -0.0694, 0.5367, 0.4489, 3.09, 3.0647, 3.0606, 3.0606, 3.0421, 3.0346, 2.9951, 2.9951, 2.9874, 2.9716, 2.9636, 2.9489, 2.9487, 2.9339, 2.9281, 2.9281, 2.928, 2.9279, 2.9254, 2.9034, 2.9034, 2.9032, 2.8929, 2.8735, 2.8734, 2.8734, 2.8733, 2.8733, 2.8364, 2.8364, 1.7665, 2.0156, 2.0477, 1.9875, -0.2784, -0.2505, 1.5535, 0.9003, 0.022, -0.6704, 3.1742, 3.1492, 3.1463, 3.109, 3.1016, 3.1016, 3.0856, 3.0856, 3.0856, 3.0856, 3.0856, 3.0856, 3.0791, 3.0652, 3.0646, 3.0646, 3.063, 3.0385, 3.036, 3.036, 3.036, 3.036, 3.0151, 3.0151, 3.0151, 2.9949, 2.9949, 2.9949, 2.9949, 2.9949, 2.7804, 2.5006, 1.736, 2.7792, 1.6501, 1.0052, 1.7448, 3.1904, 3.1847, 3.0756, 3.0403, 3.0403, 3.0403, 3.0398, 2.997, 2.9423, 2.9423, 2.9417, 2.8711, 2.8711, 2.8711, 2.8711, 2.8711, 2.8711, 2.8711, 2.8711, 2.8708, 2.8708, 2.8707, 2.8704, 2.8703, 2.7742, 2.7742, 2.7742, 2.7742, 2.7742, 2.7742, 2.6137, 2.432, 2.2274, 2.3631, 1.0595, -0.2234, 0.4283, 0.0707, 2.0466, 1.9351, 1.8994, -0.3678, -0.4891]}, \"token.table\": {\"Topic\": [2, 5, 2, 9, 9, 1, 6, 9, 9, 3, 8, 7, 1, 4, 5, 6, 9, 4, 2, 3, 3, 5, 1, 5, 6, 8, 4, 6, 3, 4, 1, 1, 2, 3, 5, 2, 7, 3, 9, 1, 3, 4, 5, 1, 10, 4, 7, 1, 4, 4, 4, 5, 3, 8, 7, 10, 6, 1, 3, 9, 2, 2, 5, 3, 8, 8, 5, 3, 8, 9, 2, 7, 4, 1, 8, 4, 2, 3, 3, 1, 2, 5, 4, 1, 2, 5, 4, 7, 7, 5, 3, 1, 5, 6, 8, 9, 7, 7, 9, 5, 2, 1, 3, 4, 7, 8, 9, 1, 4, 5, 9, 5, 8, 3, 7, 3, 3, 5, 5, 1, 10, 2, 3, 9, 9, 2, 5, 9, 2, 5, 6, 6, 4, 5, 8, 5, 3, 8, 9, 1, 3, 5, 7, 3, 3, 7, 9, 4, 4, 4, 10, 1, 2, 3, 10, 10, 1, 3, 2, 2, 5, 5, 1, 7, 5, 1, 2, 3, 7, 6, 6, 8, 3, 3, 2, 6, 1, 2, 5, 8, 5, 1, 8, 6, 3, 3, 9, 6, 6, 5, 7, 6, 4, 6, 2, 1, 2, 5, 2, 3, 5, 3, 5, 1, 1, 2, 3, 5, 8, 8, 7, 6, 9, 9, 6, 8, 9, 6, 1, 6, 9, 9, 2, 6, 8, 6, 1, 7, 1, 2, 6, 4, 6, 7, 1, 5, 4, 5, 7, 5, 4, 5, 5, 9, 4, 8, 7, 5, 2, 3, 6, 6, 6, 7, 6, 2, 4, 9, 2, 8, 1, 4, 2, 10, 7, 4, 2, 9, 4, 9, 7, 4, 8, 3, 9, 8, 2, 3, 7, 8, 3, 1, 2, 5, 3, 1, 2, 5, 7, 8, 7, 9, 2, 3, 7, 3, 3, 3, 5, 4, 1, 4, 7, 2, 3, 7, 7, 2, 2, 7, 4, 7, 6, 4, 5, 4, 4, 6, 4, 6, 2, 4, 3, 8, 2, 5, 5, 8, 3, 5, 8, 2, 4, 5, 6, 7, 8, 1, 4, 4, 2, 1, 1, 2, 4, 1, 1, 1, 6, 6, 9, 1, 1, 2, 3, 4, 5, 9, 10, 5, 5, 4, 9, 8, 1, 9, 7, 2, 1, 1, 1, 7, 2, 2, 1, 2, 3, 4, 1, 2, 3, 1, 9, 7, 1, 7, 3, 8, 2, 6, 6, 2, 5, 1, 3, 4, 5, 8, 9, 6, 9, 5, 9, 9, 9, 9, 1, 5, 6, 1, 2, 3, 10, 8, 5, 5, 4, 1, 1, 5, 5, 4, 2, 5, 8, 1, 2, 3, 2, 3, 7, 2, 5, 3, 4, 1, 5, 7, 3, 7, 7, 1, 8, 8, 7, 5, 1, 6, 1, 7, 7, 3, 4, 10, 8, 2, 7, 2, 7, 5, 7, 1, 2, 4, 6, 7, 7, 7, 1, 1, 3, 5, 3, 3, 5, 6, 3, 5, 1, 6, 2, 7, 8, 4], \"Freq\": [0.45860089858820197, 0.45860089858820197, 0.9685058805133339, 0.7964699879733156, 0.8878564154409224, 0.114568678909687, 0.6301277340032785, 0.229137357819374, 1.0071577869411437, 0.9123210195674409, 0.8940651585823564, 0.8375121874394211, 0.27475633269666927, 0.04338257884684252, 0.10122601730929921, 0.5784343846245669, 0.014460859615614172, 1.0365823595152246, 0.9682539206717664, 0.9896681143434467, 0.9828495438408802, 0.8442133437952422, 0.731118880469009, 0.1329307055398198, 0.1329307055398198, 1.2027189512194614, 0.7424594289485786, 0.29698377157943145, 0.12531320884892372, 0.8145358575180041, 0.9051017178216422, 0.4747755221307896, 0.31801001954043456, 0.12093338771255961, 0.08510127283476418, 0.9845607472712022, 0.8782569612494903, 0.9123354512146657, 1.0808402064505804, 0.3276057635569228, 0.2620846108455382, 0.1310423054227691, 0.2620846108455382, 0.9316086402655787, 0.9713850459541324, 0.8682783207532145, 0.17365566415064293, 1.05326721682172, 1.0173615456705205, 1.0566873098041536, 0.5467755062770374, 0.5467755062770374, 0.7852838753876358, 0.1308806458979393, 0.5487325801330978, 0.5487325801330978, 0.9552155772198624, 0.9316385139792793, 1.0213127324221685, 0.6072461959729617, 0.9685058805133339, 0.9583214870199366, 0.9097933217473959, 0.9402271344900247, 1.0692976490074175, 1.0909370760974326, 1.0142054484461314, 0.27594055363014547, 0.27594055363014547, 0.5518811072602909, 0.6135753281572972, 0.40905021877153147, 1.0365823595152246, 0.9316086402655787, 1.14240073251958, 1.0365869706152255, 0.22103240777527636, 0.81045216184268, 1.0212471755583226, 0.6906905446969848, 0.27627621787879386, 0.8926048398488288, 0.9760853001438644, 0.6386593079622762, 0.2794134472334958, 0.03991620674764226, 0.8979546587742906, 0.7307351353042117, 1.0648166543443647, 0.5901570406508224, 0.9123210195674409, 0.5149486518779304, 0.03218429074237065, 0.3862114889084478, 0.03218429074237065, 0.03218429074237065, 0.8057743742947807, 0.6160028989710926, 0.6550873064114824, 0.864722353341507, 0.9990827489271135, 0.04414342450762866, 0.41936253282247227, 0.4635059573301009, 0.06621513676144299, 1.0942285866259716, 0.6072461959729617, 0.22744015072044094, 0.22744015072044094, 0.37906691786740154, 0.07581338357348032, 0.4258903147787362, 0.4258903147787362, 0.7621857166360453, 0.285819643738517, 0.9928374312401836, 0.5172773346260635, 0.4310644455217196, 0.9875329328206209, 0.9659697528903012, 0.08781543208093646, 0.6005124045371562, 0.37532025283572257, 0.9653761341009128, 0.6072461959729617, 0.6829827935336504, 0.28457616397235436, 0.8878543602670471, 0.995785874497116, 0.6048775362470532, 0.9387522992058607, 0.9990512221254582, 0.872834177942039, 0.14547236299033983, 1.1083282350617873, 0.6048882187331778, 1.0212471755583226, 0.8370937226375715, 1.0171310107891356, 0.3386539060353623, 0.39509622370792263, 0.11288463534512075, 0.11288463534512075, 1.0212471755583226, 1.0212471755583226, 0.6684819616079919, 0.8067767406420233, 0.945380831597781, 1.0566873098041536, 1.0744889273632279, 1.3785066111193247, 1.0119822098736762, 0.41494779863365905, 0.5532637315115454, 0.13831593287788635, 0.9947929520644104, 0.9696983282592475, 0.9273928665867519, 1.0169383003548613, 0.9407438437980138, 1.0719679617215037, 0.8735501388925675, 0.35131825719664056, 0.7026365143932811, 1.0311640246918017, 0.5485545880424341, 0.10971091760848681, 0.27427729402121703, 0.8057747328059135, 1.0528043455441576, 0.9772653582469963, 1.2858842716602235, 1.0212471755583226, 0.902381440439673, 0.995225516659444, 1.0263601829860671, 0.6486138338014225, 0.2993602309852719, 0.024946685915439328, 0.024946685915439328, 1.1051749355656824, 0.957106840647434, 0.9492136391579045, 1.0045325232399132, 1.0212471755583226, 0.9844528219688312, 0.9653761341009128, 0.8962637461123327, 0.9990512221254582, 0.7609532889570323, 0.2536510963190108, 1.0338494176404542, 0.27023040767850254, 0.6755760191962563, 0.9815896229490599, 0.9696983282592475, 1.0046595722358502, 1.1133533169182792, 1.0226674440078478, 0.9403868901090889, 0.05373639372051937, 0.9845766909813158, 1.0719660003669407, 1.0120199722484, 0.1922338578987133, 0.1922338578987133, 0.1922338578987133, 0.1922338578987133, 0.3844677157974266, 1.0908713710183657, 1.0648206992444695, 0.9839428132133281, 0.8067767406420233, 0.6334696138869038, 0.7558533786564986, 0.3779266893282493, 0.9653761341009128, 0.9789480869062459, 0.19231829068632028, 0.5769548720589609, 0.19231829068632028, 0.9653761341009128, 0.9407374522171887, 0.9726779021651362, 0.8668170055157801, 0.9273325879321561, 0.2328406100100117, 0.6985218300300351, 0.6958046322055793, 0.29820198523096253, 0.9296970037308259, 0.9760853001438644, 0.9810740460613906, 0.8486627295188668, 1.0214611763640855, 1.1133540315864, 0.8230016218803308, 0.10287520273504135, 0.10287520273504135, 1.1133337522203681, 0.9941394169479597, 0.9008251136082112, 0.6321823039481226, 0.8067767406420233, 1.0647638732936262, 1.0909374088238637, 0.7950849192092717, 1.0311518569225977, 0.8851678226029623, 0.06808983250792018, 0.980379419291586, 0.8962637461123327, 1.0083163204716938, 0.9916647429658224, 1.0040199044015852, 1.0085539909029797, 1.0137123768359417, 1.0808402064505804, 0.9601018525437242, 0.6484794809516151, 0.9961661627551368, 1.026074795845099, 0.6193032948066808, 0.4128688632044538, 1.064822784665257, 0.8982720304170896, 0.9734555549037024, 0.8878610969401215, 0.9522510386075781, 0.8970669366380974, 0.7307357520988679, 0.8979546587742906, 1.014054732837885, 1.0013732244446323, 0.6072461959729617, 1.1803150017548623, 0.09982757578430415, 0.748706818382281, 0.049913787892152076, 0.049913787892152076, 0.9307930091504629, 0.02184799423444584, 0.7646797982056044, 0.19663194811001256, 0.9837383117646367, 0.3147130842968166, 0.3147130842968166, 0.3147130842968166, 0.07867827107420415, 1.1423968549848564, 0.6684823597317803, 0.8067767406420233, 0.13580244577609982, 0.33950611444024953, 0.4753085602163494, 0.9382050313244918, 1.0212471755583226, 0.9892711409972668, 0.9342378442045378, 0.9535936977470265, 0.08152168165178048, 0.8967384981695852, 0.08152168165178048, 1.022662292348355, 1.0212658700931572, 0.991694189267598, 1.006183095218312, 0.9601018525437242, 0.9881668244517536, 0.9375942658640922, 0.9453807225894373, 0.9536086257508587, 0.8896699521166938, 0.7961002617769695, 0.19902506544424237, 0.945380831597781, 0.9975000678875314, 0.9811129444075077, 0.8982697947537052, 1.0311948727611182, 0.9718809148201977, 0.945380831597781, 0.7352759928269689, 0.21007885509341967, 0.3829180814488789, 0.5743771221733184, 1.1133346821028622, 1.0908209594996645, 1.0231948839766187, 0.8985138945083287, 0.8370664270937378, 1.0015405749859878, 0.08520460139384949, 0.028401533797949827, 0.6248337435548962, 0.22721227038359862, 0.028401533797949827, 0.96975934380943, 0.9902143678728841, 0.9837094683695815, 1.017196589313289, 0.9051017178216422, 0.24632479833022386, 0.7389743949906715, 0.08210826611007462, 0.9050589317997277, 0.9943234605788284, 0.9884969424009014, 0.9387580114618661, 0.7228388703038022, 0.14456777406076043, 0.9783438107865098, 0.23567940476773044, 0.05891985119193261, 0.2945992559596631, 0.17675955357579784, 0.11783970238386522, 0.05891985119193261, 0.05891985119193261, 0.8935877213874284, 0.7531565978862471, 0.97059296314359, 0.6982203679410397, 1.2857958512364165, 0.24654846449265128, 0.7396453934779539, 1.142332748369251, 0.977969273883537, 0.9696983282592475, 0.9783439984383255, 0.351319656595322, 0.702639313190644, 1.0068077200256154, 0.9279560175552471, 0.5875488855818344, 0.21646537889857054, 0.15461812778469325, 0.061847251113877295, 1.0217955674817618, 0.23184146070452416, 0.6955243821135725, 0.9947675597524407, 0.6899557519856514, 0.8825420433619826, 0.336672892475179, 0.673345784950358, 0.9520164802329991, 0.9267928095258817, 0.984791369217259, 1.0312124528308948, 0.9552749077092961, 0.8417632664416665, 0.1870585036537037, 0.18020918376649703, 0.18020918376649703, 0.7208367350659881, 0.8985035190722227, 1.2858770531858739, 0.6072461959729617, 0.9785533507860106, 0.9653761341009128, 0.9875329328206209, 0.6929333159628149, 0.6072461959729617, 1.0458333300424438, 0.6929333159628149, 0.6431617489652097, 0.18916522028388522, 0.15133217622710818, 0.4428495909385745, 0.4639376666975542, 0.06326422727693921, 0.021088075758979738, 1.180428168105336, 0.9200708974310661, 0.8441965652230236, 0.9837210308000002, 0.9961661627551368, 0.9509767236132942, 0.0731520556625611, 0.9875329328206209, 0.8979533046829715, 0.1995940758295391, 0.7983763033181565, 1.285920839332381, 1.0180643895372112, 0.7324319153662397, 1.0012827313308676, 0.20132126841466497, 0.7046244394513274, 0.10066063420733248, 1.017196589313289, 0.7043798201559591, 0.8686730777600223, 0.14477884629333707, 0.8060832871150004, 0.0732802988286364, 0.1465605976572728, 0.7780265441151389, 0.172894787581142, 0.9375946816954813, 0.9316086402655787, 1.1804236735469993, 1.0139634333615188, 0.9375886156043528, 0.9602817401810994, 1.0180679571491105, 1.017729620852893, 0.9696983282592475, 0.8057746432630596, 0.9916718643949308, 0.9893596347539901, 0.7130277991747289, 0.7130277991747289, 1.2858077891750246, 0.928174764595525, 0.7950895539356823, 0.9407374522171887, 1.064823383495901, 1.0074305320096832, 0.9375938276180423, 0.7625284399813772, 0.06354403666511477, 0.06354403666511477, 0.06354403666511477, 0.031772018332557384, 0.8147081060833827, 1.064817464059388, 0.9050900102098757, 0.9696983282592475, 0.8232470117458901, 0.20581175293647253, 0.9712487827725795, 0.5387853856216703, 0.4040890392162528, 1.0312165120511656, 0.9123210195674409, 1.0743672703155545, 0.9696623503651791, 0.9552402613864641, 0.9669204977425223, 0.7307287136059306, 0.6790828798995725, 1.0566873098041536], \"Term\": [\"abortion_murder\", \"abortion_murder\", \"abuse_public\", \"access_classified\", \"access_document\", \"access_information\", \"access_information\", \"access_information\", \"access_official\", \"account_holder\", \"active_euthanasia\", \"added_that\", \"administrative_court\", \"administrative_court\", \"administrative_court\", \"administrative_court\", \"administrative_court\", \"administrative_proceeding\", \"after_release\", \"against_person\", \"anonymous_letter\", \"appeal_hearing\", \"appellate_court\", \"appellate_court\", \"appellate_court\", \"appendix_recommendation\", \"applicant_allegation\", \"applicant_allegation\", \"applicant_article\", \"applicant_article\", \"applicant_case\", \"applicant_company\", \"applicant_company\", \"applicant_company\", \"applicant_company\", \"applicant_disclosure\", \"applicant_friend\", \"applicant_journalist\", \"applicant_request\", \"applicant_statement\", \"applicant_statement\", \"applicant_statement\", \"applicant_statement\", \"application_annulment\", \"approximately_charity\", \"article_been\", \"article_been\", \"article_claimant\", \"article_code\", \"article_concerned\", \"article_criminal\", \"article_criminal\", \"article_penal\", \"article_penal\", \"assize_court\", \"assize_court\", \"association_request\", \"asylum_seeker\", \"been_present\", \"body_municipal\", \"breach_duty\", \"breach_peace\", \"cassation_appeal\", \"cassation_criminal\", \"channel_disclosure\", \"chief_physician\", \"circular_letter\", \"city_court\", \"city_court\", \"city_court\", \"civil_party\", \"civil_party\", \"code_been\", \"code_journalistic\", \"combination_with\", \"commander_territorial\", \"comment_posted\", \"comment_posted\", \"comment_which\", \"commercial_court\", \"commercial_court\", \"commission_decision\", \"communist_regime\", \"company_that\", \"company_that\", \"company_that\", \"comrade_prosecutor\", \"connection_that\", \"connection_with\", \"considered_unlawful\", \"constitutional_council\", \"constitutional_court\", \"constitutional_court\", \"constitutional_court\", \"constitutional_court\", \"constitutional_court\", \"content_article\", \"content_leaflet\", \"copy_book\", \"could_understood\", \"court_appeal\", \"court_cassation\", \"court_cassation\", \"court_cassation\", \"court_cassation\", \"court_constitutional\", \"crime_statistic\", \"criminal_code\", \"criminal_code\", \"criminal_code\", \"criminal_code\", \"criminal_complaint\", \"criminal_complaint\", \"criminal_court\", \"criminal_court\", \"criminal_division\", \"criminal_liability\", \"criminal_liability\", \"criminal_murder\", \"criminal_proceeding\", \"criminal_proceeding\", \"criminal_record\", \"criminal_record\", \"criminally_liable\", \"data_card\", \"data_protection\", \"data_protection\", \"data_secrecy\", \"data_subject\", \"data_which\", \"dealt_with\", \"discharge_from\", \"disciplinary_proceeding\", \"disciplinary_proceeding\", \"disclose_information\", \"discord_between\", \"discrimination_against\", \"dismissal_without\", \"district_administration\", \"district_court\", \"district_court\", \"district_court\", \"district_court\", \"division_appeal\", \"division_bull\", \"document_from\", \"document_public\", \"during_communist\", \"duty_discretion\", \"duty_loyalty\", \"edition_newsletter\", \"editorial_board\", \"election_campaign\", \"election_campaign\", \"election_campaign\", \"election_code\", \"electronic_gambling\", \"enforcement_judge\", \"engine_provider\", \"essential_previously\", \"ethnic_discord\", \"exempt_from\", \"extract_from\", \"extract_from\", \"extremist_activity\", \"factual_basis\", \"factual_basis\", \"factual_basis\", \"fair_hearing\", \"federal_archive\", \"federal_commissioner\", \"federal_court\", \"feeling_rejection\", \"fierce_defender\", \"fifth_criterion\", \"file_person\", \"first_applicant\", \"first_applicant\", \"first_applicant\", \"first_applicant\", \"first_proceeding\", \"first_video\", \"following_disclosure\", \"foreign_intelligence\", \"form_expression\", \"former_husband\", \"found_administratively\", \"four_serviceman\", \"from_army\", \"from_criminal\", \"from_criminal\", \"from_military\", \"from_professional\", \"from_professional\", \"fundamental_right\", \"gambling_arcade\", \"general_search\", \"glory_russia\", \"handed_over\", \"hate_speech\", \"hate_speech\", \"hatred_violence\", \"hearing_camera\", \"hidden_camera\", \"high_court\", \"high_court\", \"high_court\", \"high_court\", \"high_court\", \"hospital_that\", \"identity_card\", \"individual_concerned\", \"individual_found\", \"information_commissioner\", \"information_disclosed\", \"information_disclosed\", \"information_number\", \"information_request\", \"information_sought\", \"information_sought\", \"information_sought\", \"information_specific\", \"instant_case\", \"intelligence_service\", \"internal_channel\", \"into_judiciary\", \"investigating_judge\", \"investigating_judge\", \"journalistic_ethic\", \"journalistic_ethic\", \"judge_concerned\", \"judge_prosecutor\", \"judge_public\", \"judicial_investigation\", \"judicial_order\", \"justice_peace\", \"justice_system\", \"justice_system\", \"justice_system\", \"justice_union\", \"labour_court\", \"legislative_decree\", \"length_proceeding\", \"liable_under\", \"loyalty_constitution\", \"medical_file\", \"medical_report\", \"medium_service\", \"member_state\", \"member_state\", \"military_service\", \"military_specialist\", \"minister_defence\", \"minister_justice\", \"ministry_state\", \"misconduct_public\", \"moral_professional\", \"municipal_authority\", \"national_court\", \"national_hospital\", \"national_radio\", \"national_republican\", \"news_item\", \"news_item\", \"notarial_deed\", \"offended_party\", \"office_manager\", \"office_national\", \"officer_court\", \"official_document\", \"open_court\", \"opinion_expressed\", \"paper_file\", \"paragraph_section\", \"part_applicant\", \"patient_with\", \"penal_code\", \"penal_code\", \"penal_code\", \"penal_code\", \"person_group\", \"personal_data\", \"personal_data\", \"personal_data\", \"personal_right\", \"personality_right\", \"personality_right\", \"personality_right\", \"personality_right\", \"pleural_cancer\", \"police_custody\", \"police_department\", \"police_officer\", \"police_officer\", \"police_officer\", \"police_order\", \"political_debate\", \"posted_wall\", \"pregnant_woman\", \"present_scene\", \"president_court\", \"president_court\", \"president_court\", \"presidential_candidate\", \"press_badge\", \"press_release\", \"presumption_innocence\", \"previously_unknown\", \"private_life\", \"procedural_document\", \"proceeding_against\", \"proceeding_brought\", \"proceeding_concerning\", \"professional_activity\", \"professional_activity\", \"professional_file\", \"professional_integrity\", \"professional_military\", \"promotion_court\", \"property_transaction\", \"prosecution_conviction\", \"prosecutor_during\", \"prosecutor_office\", \"prosecutor_office\", \"protection_board\", \"protection_board\", \"protection_ombudsman\", \"public_body\", \"public_communication\", \"public_hearing\", \"public_hospital\", \"public_office\", \"public_prosecutor\", \"public_prosecutor\", \"public_prosecutor\", \"public_prosecutor\", \"public_prosecutor\", \"public_radio\", \"public_school\", \"public_service\", \"public_trust\", \"publication_advertisement\", \"publication_article\", \"publication_article\", \"publication_article\", \"publication_image\", \"publish_advertisement\", \"radio_television\", \"real_property\", \"receive_information\", \"receive_information\", \"refusal_publish\", \"regional_court\", \"regional_court\", \"regional_court\", \"regional_court\", \"regional_court\", \"regional_court\", \"regional_court\", \"regulation_national\", \"regulatory_body\", \"republican_guard\", \"request_access\", \"research_material\", \"right_access\", \"right_access\", \"right_fair\", \"right_forgotten\", \"right_image\", \"right_impart\", \"right_innocent\", \"right_innocent\", \"search_engine\", \"search_result\", \"second_applicant\", \"second_applicant\", \"second_applicant\", \"second_applicant\", \"second_third\", \"section_penal\", \"section_penal\", \"section_press\", \"security_council\", \"security_force\", \"sentence_article\", \"sentence_article\", \"sentence_enforcement\", \"serious_breach\", \"seriousness_test\", \"serve_until\", \"service_contract\", \"service_provider\", \"service_provider\", \"significant_disadvantage\", \"significant_disadvantage\", \"significant_disadvantage\", \"sitting_judge\", \"standard_therapy\", \"state_body\", \"state_security\", \"state_statistic\", \"statement_could\", \"statistic_report\", \"statistic_service\", \"statistical_data\", \"such_information\", \"supreme_administrative\", \"supreme_administrative\", \"supreme_administrative\", \"supreme_court\", \"supreme_court\", \"supreme_court\", \"supreme_court\", \"suspicion_active\", \"taxation_data\", \"taxation_information\", \"teaching_post\", \"television_council\", \"television_show\", \"television_show\", \"termination_pregnancy\", \"territorial_post\", \"that_abortion\", \"that_abortion\", \"that_active\", \"that_advertisement\", \"that_book\", \"that_claimant\", \"that_comment\", \"that_comment\", \"that_comment\", \"that_disclosure\", \"that_injunction\", \"that_journalist\", \"that_journalist\", \"that_judge\", \"that_judge\", \"that_judge\", \"that_police\", \"that_police\", \"that_publication\", \"that_sanction\", \"that_suspicion\", \"that_university\", \"their_identity\", \"their_right\", \"third_video\", \"thirteen_judge\", \"three_video\", \"time_when\", \"took_view\", \"tourism_association\", \"trade_union\", \"trade_union\", \"treatment_university\", \"trial_judge\", \"tribunal_instance\", \"under_prohibition\", \"undue_influence\", \"unlawful_abortion\", \"urgent_proceeding\", \"value_judgment\", \"value_judgment\", \"value_judgment\", \"value_judgment\", \"value_judgment\", \"very_good\", \"victim_homicide\", \"video_been\", \"video_that\", \"violence_against\", \"violence_against\", \"wall_account\", \"warsaw_regional\", \"warsaw_regional\", \"were_indication\", \"were_posted\", \"which_abortion\", \"which_could\", \"with_ministry\", \"with_regard\", \"withdrawn_from\", \"without_notice\", \"worked_prosecutor\"]}, \"R\": 30, \"lambda.step\": 0.01, \"plot.opts\": {\"xlab\": \"PC1\", \"ylab\": \"PC2\"}, \"topic.order\": [7, 8, 2, 6, 4, 1, 9, 10, 3, 5]};\n",
              "\n",
              "function LDAvis_load_lib(url, callback){\n",
              "  var s = document.createElement('script');\n",
              "  s.src = url;\n",
              "  s.async = true;\n",
              "  s.onreadystatechange = s.onload = callback;\n",
              "  s.onerror = function(){console.warn(\"failed to load library \" + url);};\n",
              "  document.getElementsByTagName(\"head\")[0].appendChild(s);\n",
              "}\n",
              "\n",
              "if(typeof(LDAvis) !== \"undefined\"){\n",
              "   // already loaded: just create the visualization\n",
              "   !function(LDAvis){\n",
              "       new LDAvis(\"#\" + \"ldavis_el183140141202173936492355770\", ldavis_el183140141202173936492355770_data);\n",
              "   }(LDAvis);\n",
              "}else if(typeof define === \"function\" && define.amd){\n",
              "   // require.js is available: use it to load d3/LDAvis\n",
              "   require.config({paths: {d3: \"https://d3js.org/d3.v5\"}});\n",
              "   require([\"d3\"], function(d3){\n",
              "      window.d3 = d3;\n",
              "      LDAvis_load_lib(\"https://cdn.jsdelivr.net/gh/bmabey/pyLDAvis@3.4.0/pyLDAvis/js/ldavis.v3.0.0.js\", function(){\n",
              "        new LDAvis(\"#\" + \"ldavis_el183140141202173936492355770\", ldavis_el183140141202173936492355770_data);\n",
              "      });\n",
              "    });\n",
              "}else{\n",
              "    // require.js not available: dynamically load d3 & LDAvis\n",
              "    LDAvis_load_lib(\"https://d3js.org/d3.v5.js\", function(){\n",
              "         LDAvis_load_lib(\"https://cdn.jsdelivr.net/gh/bmabey/pyLDAvis@3.4.0/pyLDAvis/js/ldavis.v3.0.0.js\", function(){\n",
              "                 new LDAvis(\"#\" + \"ldavis_el183140141202173936492355770\", ldavis_el183140141202173936492355770_data);\n",
              "            })\n",
              "         });\n",
              "}\n",
              "</script>"
            ]
          },
          "metadata": {},
          "execution_count": 41
        }
      ]
    },
    {
      "cell_type": "markdown",
      "source": [
        "Only Stop Word Removal"
      ],
      "metadata": {
        "id": "82i1isY-Iznn"
      }
    },
    {
      "cell_type": "code",
      "source": [
        "pyLDAvis.enable_notebook()\n",
        "vis = pyLDAvis.gensim.prepare(lda_model, corpus_filter, id2word_filter, mds=\"mmds\", R=30)\n",
        "vis"
      ],
      "metadata": {
        "colab": {
          "base_uri": "https://localhost:8080/",
          "height": 955
        },
        "id": "71oh12I1I3Bx",
        "outputId": "0d12499c-7051-4dc3-971a-5a1bd7559287"
      },
      "execution_count": 58,
      "outputs": [
        {
          "output_type": "stream",
          "name": "stderr",
          "text": [
            "/usr/local/lib/python3.10/dist-packages/ipykernel/ipkernel.py:283: DeprecationWarning: `should_run_async` will not call `transform_cell` automatically in the future. Please pass the result to `transformed_cell` argument and any exception that happen during thetransform in `preprocessing_exc_tuple` in IPython 7.17 and above.\n",
            "  and should_run_async(code)\n",
            "/usr/local/lib/python3.10/dist-packages/sklearn/manifold/_mds.py:299: FutureWarning: The default value of `normalized_stress` will change to `'auto'` in version 1.4. To suppress this warning, manually set the value of `normalized_stress`.\n",
            "  warnings.warn(\n"
          ]
        },
        {
          "output_type": "execute_result",
          "data": {
            "text/plain": [
              "PreparedData(topic_coordinates=              x         y  topics  cluster       Freq\n",
              "topic                                                \n",
              "6     -0.108086 -0.066735       1        1  19.900101\n",
              "4      0.139679  0.029373       2        1  17.167719\n",
              "9     -0.081070  0.093616       3        1  16.256832\n",
              "1      0.030547 -0.088146       4        1  10.366192\n",
              "7      0.039700 -0.025010       5        1   8.065765\n",
              "0      0.033656  0.047580       6        1   7.707722\n",
              "5     -0.010677  0.047378       7        1   6.884769\n",
              "8     -0.000810 -0.017846       8        1   6.508481\n",
              "2     -0.041399 -0.020343       9        1   6.272155\n",
              "3     -0.001540  0.000133      10        1   0.870264, topic_info=                           Term       Freq      Total Category  logprob  \\\n",
              "9422              personal_data  48.000000  48.000000  Default  30.0000   \n",
              "2510         access_information  50.000000  50.000000  Default  29.0000   \n",
              "3716                hate_speech  40.000000  40.000000  Default  28.0000   \n",
              "4830           radio_television  18.000000  18.000000  Default  27.0000   \n",
              "22139             search_engine  24.000000  24.000000  Default  26.0000   \n",
              "...                         ...        ...        ...      ...      ...   \n",
              "3863          information_shall   0.048145   1.111283  Topic10  -8.5444   \n",
              "61406              upon_receipt   0.048145   1.443987  Topic10  -8.5444   \n",
              "2510         access_information   0.056852  50.592288  Topic10  -8.3781   \n",
              "12338  significant_disadvantage   0.043772   7.510733  Topic10  -8.6396   \n",
              "6044         interference_first   0.032928   0.615091  Topic10  -8.9243   \n",
              "\n",
              "       loglift  \n",
              "9422   30.0000  \n",
              "2510   29.0000  \n",
              "3716   28.0000  \n",
              "4830   27.0000  \n",
              "22139  26.0000  \n",
              "...        ...  \n",
              "3863    1.6051  \n",
              "61406   1.3432  \n",
              "2510   -2.0470  \n",
              "12338  -0.4010  \n",
              "6044    1.8167  \n",
              "\n",
              "[395 rows x 6 columns], token_table=       Topic      Freq                  Term\n",
              "term                                        \n",
              "79656      4  0.899228           abuse_trust\n",
              "5          2  0.946759  acceptable_criticism\n",
              "2510       1  0.889464    access_information\n",
              "2510       3  0.079063    access_information\n",
              "2510       5  0.019766    access_information\n",
              "...      ...       ...                   ...\n",
              "95471      5  0.805428          whose_source\n",
              "2475       7  0.796650        within_context\n",
              "76724      5  1.157473     without_knowledge\n",
              "7472       4  1.086600        without_notice\n",
              "29230      6  1.098097          would_longer\n",
              "\n",
              "[388 rows x 3 columns], R=30, lambda_step=0.01, plot_opts={'xlab': 'PC1', 'ylab': 'PC2'}, topic_order=[7, 5, 10, 2, 8, 1, 6, 9, 3, 4])"
            ],
            "text/html": [
              "\n",
              "<link rel=\"stylesheet\" type=\"text/css\" href=\"https://cdn.jsdelivr.net/gh/bmabey/pyLDAvis@3.4.0/pyLDAvis/js/ldavis.v1.0.0.css\">\n",
              "\n",
              "\n",
              "<div id=\"ldavis_el1831401412021765129897832949\" style=\"background-color:white;\"></div>\n",
              "<script type=\"text/javascript\">\n",
              "\n",
              "var ldavis_el1831401412021765129897832949_data = {\"mdsDat\": {\"x\": [-0.10808586992195922, 0.13967896937719457, -0.08107041902916128, 0.030547305640383517, 0.03970041578840465, 0.033656196113575454, -0.01067748641003679, -0.0008098158775086382, -0.041399070809453986, -0.0015402248714383136], \"y\": [-0.06673477897179422, 0.029372840802131695, 0.09361564415323864, -0.08814568178760068, -0.02500988010232968, 0.04758001342117469, 0.04737794356437134, -0.017846259852495345, -0.02034253416727813, 0.00013269294058172469], \"topics\": [1, 2, 3, 4, 5, 6, 7, 8, 9, 10], \"cluster\": [1, 1, 1, 1, 1, 1, 1, 1, 1, 1], \"Freq\": [19.900100604257798, 17.167718716651347, 16.256831509552867, 10.366191938101087, 8.065764748219252, 7.707722499744925, 6.884769345436788, 6.508481447231995, 6.272155318646537, 0.8702638721573992]}, \"tinfo\": {\"Term\": [\"personal_data\", \"access_information\", \"hate_speech\", \"radio_television\", \"search_engine\", \"state_security\", \"ministry_state\", \"information_request\", \"national_radio\", \"data_protection\", \"private_life\", \"receive_information\", \"professional_integrity\", \"president_cassation\", \"wall_account\", \"hidden_camera\", \"misconduct_office\", \"breach_peace\", \"publish_advertisement\", \"federal_commissioner\", \"penal_code\", \"data_subject\", \"factual_basis\", \"real_property\", \"information_sought\", \"hatred_violence\", \"cassation_division\", \"fifth_criterion\", \"national_republican\", \"republican_guard\", \"ministry_state\", \"information_request\", \"receive_information\", \"federal_commissioner\", \"real_property\", \"information_sought\", \"foreign_intelligence\", \"access_official\", \"statistical_data\", \"information_information\", \"intelligence_service\", \"provide_information\", \"judiciary_land\", \"thirteen_concerned\", \"personal_information\", \"certain_information\", \"generally_accessible\", \"democracy_rule\", \"state_security\", \"second_basic\", \"agricultural_forest\", \"forest_land\", \"concerned_information\", \"concerning_wrongful\", \"loyalty_constitution\", \"information_federal\", \"crime_statistics\", \"state_municipal\", \"statistics_service\", \"refusal_disclose\", \"access_information\", \"security_service\", \"information_disclosed\", \"national_republican\", \"republican_guard\", \"former_husband\", \"territorial_post\", \"pregnant_woman\", \"director_radio\", \"circular_letter\", \"press_badge\", \"nonpecuniary_damages\", \"board_newspaper\", \"liable_defamation\", \"leave_scene\", \"commit_suicide\", \"found_established\", \"area_reserved\", \"made_identity\", \"contact_claimant\", \"involved_drug\", \"commander_territorial\", \"misuse_money\", \"unknown_soldier\", \"regulatory_body\", \"acceptable_criticism\", \"district_found\", \"demonstration_area\", \"president_assembly\", \"radio_station\", \"claimant_present\", \"general_command\", \"inspectorate_internal\", \"factual_basis\", \"editorial_board\", \"penal_code\", \"general_inspectorate\", \"general_search\", \"publish_retraction\", \"present_scene\", \"responsible_journalism\", \"found_guilty\", \"personal_data\", \"search_engine\", \"president_cassation\", \"professional_integrity\", \"wall_account\", \"breach_peace\", \"data_subject\", \"cassation_division\", \"moral_professional\", \"taxation_data\", \"electronic_communication\", \"communist_regime\", \"posted_wall\", \"professional_file\", \"professional_activity\", \"political_debate\", \"protection_regard\", \"duty_discretion\", \"account_holder\", \"division_bull\", \"diplomatic_service\", \"information_question\", \"communication_service\", \"feeling_rejection\", \"racist_hate\", \"press_release\", \"intimidation_hostility\", \"hostility_discrimination\", \"violence_intimidation\", \"respect_private\", \"data_protection\", \"hatred_violence\", \"hate_speech\", \"significant_disadvantage\", \"private_life\", \"incitement_hatred\", \"misconduct_office\", \"fifth_criterion\", \"previously_unknown\", \"seriousness_test\", \"essential_previously\", \"abuse_trust\", \"breach_duty\", \"active_euthanasia\", \"district_administration\", \"unknown_information\", \"attorney_reference\", \"office_holder\", \"prison_term\", \"harm_interest\", \"prison_officer\", \"regional_commercial\", \"national_hospital\", \"damage_sustained\", \"breach_professional\", \"theft_employer\", \"prison_service\", \"information_journalist\", \"disclosure_name\", \"trust_office\", \"customs_control\", \"control_zone\", \"without_notice\", \"nonpecuniary_damage\", \"binding_instrument\", \"debate_evasion\", \"parliamentary_assembly\", \"disclose_information\", \"first_second\", \"information_disclosed\", \"criteria_established\", \"radio_television\", \"national_radio\", \"hidden_camera\", \"first_video\", \"journalistic_ethics\", \"code_journalistic\", \"second_third\", \"electronic_gambling\", \"gambling_arcade\", \"information_society\", \"news_whose\", \"pleural_cancer\", \"entering_gambling\", \"whose_source\", \"convention_company\", \"chairman_interparty\", \"committee_electronic\", \"interparty_committee\", \"second_video\", \"request_rectification\", \"undue_influence\", \"company_made\", \"exercise_impart\", \"without_knowledge\", \"legitimate_exercise\", \"parliament_chairman\", \"size_investment\", \"television_code\", \"recipient_service\", \"electronic_commerce\", \"service_provider\", \"news_portal\", \"private_life\", \"member_parliament\", \"took_view\", \"regulation_national\", \"interest_informed\", \"publication_could\", \"unfair_competition\", \"physical_appearance\", \"innocent_proved\", \"particular_protection\", \"protection_privacy\", \"proved_guilty\", \"recommendation_committee\", \"protect_privacy\", \"banning_publication\", \"confession_first\", \"crime_issue\", \"company_locust\", \"harmful_effect\", \"chamber_medical\", \"federal_chamber\", \"locust_company\", \"degree_interest\", \"information_identification\", \"never_sought\", \"consideration_given\", \"would_longer\", \"proper_conduct\", \"particular_consideration\", \"innocence_convention\", \"balance_interest\", \"could_would\", \"psychological_pressure\", \"effect_disclosure\", \"presumption_innocence\", \"federal_constitutional\", \"factual_basis\", \"first_instance\", \"private_life\", \"provided_inter\", \"appendix_recommendation\", \"provision_information\", \"contact_media\", \"office_manager\", \"interest_publication\", \"presidential_candidate\", \"election_campaign\", \"debate_general\", \"tourism_association\", \"supervisory_board\", \"advertising_marketing\", \"publication_anonymous\", \"compare_contrast\", \"federal_president\", \"lapse_time\", \"manager_presidential\", \"publication_picture\", \"since_release\", \"staff_meeting\", \"ordered_company\", \"reproduction_anonymous\", \"particular_interest\", \"time_report\", \"correctness_text\", \"equivalent_meaning\", \"release_parole\", \"internal_audit\", \"approximately_charity\", \"election_code\", \"professional_private\", \"chairman_tourism\", \"news_report\", \"release_prison\", \"within_context\", \"publication_photograph\", \"information_provided\", \"time_publication\", \"first_second\", \"criteria_established\", \"former_prime\", \"television_show\", \"news_item\", \"prime_minister\", \"prime_private\", \"life_intimate\", \"information_prime\", \"plus_interest\", \"impartiality_fairness\", \"reduced_bench\", \"disclosed_information\", \"odds_impartiality\", \"conduct_completely\", \"completely_odds\", \"found_information\", \"proceeds_crime\", \"objective_test\", \"forfeit_state\", \"letter_minister\", \"news_anchor\", \"social_debate\", \"general_meeting\", \"content_news\", \"personal_animosity\", \"defamatory_nature\", \"null_void\", \"investigation_general\", \"banking_collapse\", \"meeting_tribunal\", \"shall_responsible\", \"private_life\", \"tribunal_instance\", \"penal_code\", \"chapter_penal\", \"took_view\", \"protection_private\", \"general_inspectorate\", \"civil_party\", \"conducive_causing\", \"finland_finland\", \"publish_advertisement\", \"warsaw_regional\", \"fierce_defender\", \"refusal_publish\", \"editorial_profile\", \"newspaper_publish\", \"super_express\", \"interpretation_press\", \"publication_advertisement\", \"publish_apology\", \"press_conference\", \"effective_exercise\", \"advertisement_could\", \"incompatible_editorial\", \"phrase_question\", \"among_many\", \"commercial_speech\", \"refuse_publication\", \"towards_lustration\", \"affected_professional\", \"economic_activity\", \"obligation_publish\", \"preventive_censorship\", \"principle_proportionality\", \"weight_given\", \"press_could\", \"third_personal\", \"obliged_publish\", \"content_book\", \"advertisement_book\", \"ordered_publish\", \"good_name\", \"civil_code\", \"effective_remedy\", \"special_investigative\", \"general_code\", \"information_interest\", \"applicability_convention\", \"purpose_request\", \"access_relevant\", \"existence_interference\", \"unfettered_access\", \"even_absence\", \"domestic_authority\", \"copy_relevant\", \"access_material\", \"data_third\", \"district_second\", \"able_journalistic\", \"lack_significant\", \"request_access\", \"access_file\", \"second_relevant\", \"full_copy\", \"interference_provision\", \"registry_city\", \"journalistic_investigation\", \"convention_existence\", \"would_review\", \"rule_regarding\", \"second_able\", \"able_conduct\", \"question_applicability\", \"authority_considered\", \"first_second\", \"regarding_lack\", \"information_shall\", \"upon_receipt\", \"access_information\", \"significant_disadvantage\", \"interference_first\"], \"Freq\": [48.0, 50.0, 40.0, 18.0, 24.0, 30.0, 24.0, 23.0, 13.0, 20.0, 23.0, 16.0, 13.0, 13.0, 13.0, 9.0, 10.0, 13.0, 7.0, 13.0, 20.0, 11.0, 15.0, 12.0, 11.0, 11.0, 10.0, 7.0, 10.0, 10.0, 24.38585582985218, 23.310902597852174, 16.221435822870063, 13.318635935350846, 11.842976677694704, 11.737060626479108, 11.04144807737424, 10.02851406251697, 9.62957405064593, 9.255013194024473, 9.168724785950612, 7.416005489416006, 7.41594095945667, 7.41594095945667, 6.678101453594007, 6.678069188614339, 6.678069188614339, 6.5729979530908675, 29.717192010281067, 5.998059720289348, 5.940148691068019, 5.940148691068019, 5.940184906861524, 5.940184906861524, 5.891213252415161, 5.63652206301227, 5.20243626971711, 5.20243626971711, 5.20243626971711, 5.202281529508498, 45.48370215533528, 6.552372070986341, 7.977663061504775, 10.065535617766495, 10.065535617766495, 9.47617664353472, 6.5229905525189595, 5.3436528528453975, 5.343227945508009, 4.901356693926945, 4.753054660222564, 4.751634231349384, 4.339171055173277, 4.3227774711496405, 4.162610127271875, 3.589932174380205, 3.572157357481089, 3.572157357481089, 3.572055107052306, 3.5719983012585375, 3.5719983012585375, 3.57125187312842, 3.57125187312842, 3.2152525198422746, 3.2144992750169052, 2.98172248151534, 2.981708280066898, 2.981708280066898, 2.981477364515229, 2.981477364515229, 2.981566265582477, 2.9810249063678635, 2.9810249063678635, 13.020455989666006, 9.022268244254121, 15.528956670077413, 5.344104458905856, 5.313026577193076, 4.6970523844069705, 3.566404918775127, 4.941241745905586, 3.919680718279044, 48.171799204473295, 24.55623129369835, 13.716129258533426, 13.716129258533426, 13.716061480885507, 12.861137898415771, 11.11017336957424, 9.9839433933331, 8.739994401012858, 8.71628674802278, 7.495776987690141, 6.873874034602823, 6.873715886757677, 6.251817237013085, 5.629749143148693, 5.6295635614936765, 5.176560355350024, 5.007669753009649, 5.007474488833501, 5.007474488833501, 4.769080060223191, 4.721917575628133, 4.385384340337644, 4.385384340337644, 4.385384340337644, 4.3743747758934735, 4.357014822381749, 4.3569989538054505, 4.356962106433367, 4.177075387594837, 19.429372933068993, 10.607244932806056, 35.991822364304305, 5.721999363227499, 10.492687797794174, 5.0089935688154394, 10.262973714028512, 7.59169976285196, 7.146486637313007, 6.256051468128947, 5.81083765658183, 5.365613897916307, 4.920391511267117, 4.119892355625185, 3.6962257175621613, 3.5847082301276485, 3.5847003410337415, 3.5847003410337415, 3.1394652632334834, 3.139459775168157, 3.139456002123245, 2.9897161977141455, 2.707299498502165, 2.694210805702541, 2.694210805702541, 2.694210805702541, 2.6941998295718883, 2.6941998295718883, 2.6941998295718883, 2.6941998295718883, 2.566085575079827, 2.56606705285935, 2.5660327524510596, 2.56593602529968, 2.248942799510324, 2.248942799510324, 4.291838587365725, 4.595844821066039, 3.272381746388275, 3.9449410651143033, 2.694210805702541, 18.130059460826594, 13.614484909861455, 9.46045425301723, 6.439263942283127, 5.6807353107135246, 4.1732499096008455, 3.7955642237864025, 3.4178745346837847, 3.4178745346837847, 3.3748864256025444, 3.04018431180941, 2.656034650021665, 2.2848310884202507, 2.2848310884202507, 1.9071895722186725, 1.9071895722186725, 1.9071895722186725, 1.9071895722186725, 1.9071895722186725, 1.6103969961279196, 1.5774982407912994, 1.5295872882412096, 1.5295872882412096, 1.5295872882412096, 1.5295872882412096, 1.5295872882412096, 1.5295872882412096, 1.5295872882412096, 1.45769597230792, 1.4576934368920758, 3.614551278777807, 2.176651566495472, 6.511808327960705, 2.6634017678072563, 1.817138807351634, 1.5302940020470437, 2.0810460463746483, 1.750236347302845, 1.4477245965443208, 1.4037193237566508, 1.0572318847015756, 1.0572318847015756, 1.0572318847015756, 1.0572318847015756, 1.0572318847015756, 1.0572318847015756, 1.0572318847015756, 1.0572318847015756, 1.0572318847015756, 1.007860597317861, 0.931248560860613, 0.8978867550707124, 0.7879192250317982, 0.7879197351092313, 0.7106950318951701, 0.7106950318951701, 0.7106950318951701, 0.7106950318951701, 0.7106950318951701, 0.7106950318951701, 0.7106950318951701, 0.7106950318951701, 0.7106950318951701, 0.7106950318951701, 0.7106950318951701, 0.7106950318951701, 3.1377647931785413, 2.7891442102983084, 1.337911556207952, 1.0081511501756815, 1.1178442585555965, 0.7879222854963966, 0.7111911459585235, 0.7108322427246697, 0.7107234049523854, 5.768084267011872, 4.49046364023907, 3.8507015440040098, 3.7928653588914547, 3.5316939126987723, 3.212320193543416, 2.785525774422429, 2.349050643919503, 2.253441345853643, 1.9333650660699333, 1.9333650660699333, 1.9333650660699333, 1.9333650660699333, 1.9333650660699333, 1.9333650660699333, 1.8420649887712401, 1.7006786489593064, 1.6141806555663807, 1.6138559149127754, 1.6138559149127754, 1.6138559149127754, 1.6138559149127754, 1.6138559149127754, 1.5378202429912446, 1.4574073495413395, 1.436479631187239, 1.2945743441926234, 1.2945743441926234, 1.2943645327987472, 1.2943645327987472, 1.93354366773421, 1.6144914999170257, 1.7406705003172325, 1.613816504086347, 1.740346215280118, 1.6138560288168982, 3.4317897087043803, 3.249766869945816, 2.2935397125526955, 5.503834163036932, 0.9483947179556891, 0.8449127615557234, 0.8449130307524211, 0.8449144844145886, 0.8448959636817873, 0.844898440291406, 0.7414350046242417, 0.7414270364019899, 0.741423052290864, 0.7414233214875617, 0.6379595089450206, 0.6379543403684248, 0.6379452415200428, 0.5344731915585522, 0.5344701227161984, 0.5344718994144032, 0.5344725993258173, 0.5344684536966727, 0.5344693151261054, 0.5344665693197889, 0.5344644157462074, 0.5344658155690354, 0.5344636081561143, 0.5344658694083749, 0.5344626390480026, 0.5344649003002632, 5.041538582296883, 0.9483732898985526, 1.879753807451857, 0.9484588944484195, 0.7414235368449199, 0.7414394732894234, 0.7416212887390461, 0.6379436263398566, 0.5344814828168412, 0.5344810521021248, 7.523329489838926, 4.044719089184635, 3.191405096297871, 2.9027304255374715, 2.0363008847317836, 2.0226081746702795, 1.756112012492001, 1.7474794848686133, 1.7474794848686133, 1.7473234165725973, 1.6644930739888664, 1.4586566322420493, 1.4586566322420493, 1.4586566322420493, 1.458517685800317, 1.2979670958704286, 1.1698428075022895, 1.1698428075022895, 1.1697376896938692, 0.9307205471086825, 0.881057415417522, 0.881057415417522, 0.881057415417522, 0.881057415417522, 0.881057415417522, 0.881057415417522, 0.881057415417522, 0.881057415417522, 0.881057415417522, 0.881057415417522, 1.9173971818550664, 1.6255993811045102, 1.9950108586294097, 0.8814160404381546, 0.18506768027891138, 0.1546409149342098, 0.10900166678974071, 0.09378875205113321, 0.07857472147052252, 0.06336167715026303, 0.06336157636453371, 0.06336154036963039, 0.0633612020175391, 0.06336108683384845, 0.048146293161287206, 0.04814615278116423, 0.048146026799002574, 0.048145976406137915, 0.048145911615311926, 0.04814577483467928, 0.04814573164079528, 0.04814571004385329, 0.048145634454556295, 0.04814565245200796, 0.048145587661181974, 0.048145573263220644, 0.1242168708041999, 0.03292746805955319, 0.03292745006210152, 0.03292741046770786, 0.03292742846515953, 0.0329273708733142, 0.032927345676881874, 0.032927345676881874, 0.20028286989540922, 0.045526292538334484, 0.048145260107561684, 0.04814465539318577, 0.056852441620645726, 0.043772455271623, 0.03292754724834051], \"Total\": [48.0, 50.0, 40.0, 18.0, 24.0, 30.0, 24.0, 23.0, 13.0, 20.0, 23.0, 16.0, 13.0, 13.0, 13.0, 9.0, 10.0, 13.0, 7.0, 13.0, 20.0, 11.0, 15.0, 12.0, 11.0, 11.0, 10.0, 7.0, 10.0, 10.0, 24.56500153464351, 23.490175204202977, 16.400795020584756, 13.497773717841104, 12.02211156835278, 11.916322116122515, 11.22097835948882, 10.207674797997736, 9.808703943757575, 9.434218288492623, 9.348125066324304, 7.595136202240659, 7.595075488459693, 7.595075488459693, 6.857234255532053, 6.857203351091119, 6.857203351091119, 6.7522230515841795, 30.603138925423206, 6.177320840672626, 6.119281088764638, 6.119281088764638, 6.119318711795505, 6.119318711795505, 6.070525982404232, 5.815704839656605, 5.381566086339584, 5.381566086339584, 5.381566086339584, 5.381414972118719, 50.592287538417025, 7.61660131336, 12.078225995912124, 10.252805470448626, 10.252805470448626, 9.663194735045616, 6.710111788644456, 5.530634924468366, 5.53021363373363, 5.088398746904861, 4.940036796277583, 4.938715825062867, 4.526309170118379, 4.509789569614358, 4.3495920542996265, 3.7770546647056875, 3.759139078943807, 3.759139078943807, 3.759041368383198, 3.7589914459632556, 3.7589914459632556, 3.7582722287020056, 3.7582722287020056, 3.402344594905095, 3.4020535325527597, 3.168704208279632, 3.168689794282102, 3.168689794282102, 3.1684610180133053, 3.1684610180133053, 3.16855681499347, 3.1680324389656964, 3.1680324389656964, 15.259854239895715, 10.621842334021586, 20.59504002198446, 6.255604300410098, 6.5192932584290135, 5.590363271963673, 4.229307354333641, 7.276393752110897, 6.340322696259467, 48.35900450391652, 24.74169749089189, 13.901432706905233, 13.901432706905233, 13.901372141137294, 13.046679736048285, 11.295528830426413, 10.16925018410537, 8.925295188680693, 8.901903804290582, 7.681081336549772, 7.059173914659712, 7.059019635506953, 6.437116815896228, 5.81504842882488, 5.814866103353673, 5.361877975729124, 5.1929687472586314, 5.1927764154554605, 5.1927764154554605, 4.954574180538604, 4.907245288200401, 4.5706856272554806, 4.5706856272554806, 4.5706856272554806, 4.559867540321321, 4.542376953228091, 4.542377763717322, 4.542353552777483, 4.362497089421755, 20.550597085540268, 11.354265042680685, 40.344978388638815, 7.510732736541222, 23.293909220285013, 6.598259031026314, 10.45768312146346, 7.7864091622794875, 7.341196036740535, 6.450760867556475, 6.005547051444724, 5.560323297343835, 5.115100910694645, 4.31487676683683, 3.8910265912220043, 3.779417612679102, 3.7794097358966345, 3.7794097358966345, 3.334174645784937, 3.3341691594993628, 3.33416538878066, 3.184794892106684, 2.902176995925268, 2.8889201882539948, 2.8889201882539948, 2.8889201882539948, 2.888909212123342, 2.888909212123342, 2.888909212123342, 2.888909212123342, 2.760897874610873, 2.760891958342851, 2.760905957617764, 2.7609652164598115, 2.443652182061778, 2.443652182061778, 5.472740600741429, 6.194460460282143, 5.389134953945764, 12.078225995912124, 4.485879567818496, 18.329237263250864, 13.812945284208073, 9.658852680052219, 6.637626581481404, 5.879198191318943, 4.371590047011544, 3.9939007449042707, 3.6162074143689034, 3.6162074143689034, 3.5734830503476633, 3.238513501172605, 2.8544133909396505, 2.483152828255218, 2.483152828255218, 2.105507720997999, 2.105507720997999, 2.105507720997999, 2.105507720997999, 2.105507720997999, 1.809015931980367, 1.775923401414943, 1.7279021572235762, 1.7279021572235762, 1.7279021572235762, 1.7279021572235762, 1.7279021572235762, 1.7279021572235762, 1.7279021572235762, 1.6561204311251547, 1.6561272496189277, 4.93635624452791, 3.0765798700894136, 23.293909220285013, 5.037649270866622, 3.4883171494507024, 2.195942233536198, 2.281237185534269, 1.9502515946990893, 1.647816063083209, 1.603715830474999, 1.2572137479518364, 1.2572137479518364, 1.2572137479518364, 1.2572137479518364, 1.2572137479518364, 1.2572137479518364, 1.2572137479518364, 1.2572137479518364, 1.2572137479518364, 1.207904117114623, 1.1313504070775635, 1.0979273328962385, 0.987945127951543, 0.98794634194281, 0.9106667098019472, 0.9106667098019472, 0.9106667098019472, 0.9106667098019472, 0.9106667098019472, 0.9106667098019472, 0.9106667098019472, 0.9106667098019472, 0.9106667098019472, 0.9106667098019472, 0.9106667098019472, 0.9106667098019472, 4.415926923864496, 9.068143157237234, 15.259854239895715, 7.578132484073382, 23.293909220285013, 2.1176963537861395, 1.3346431710943847, 5.639982022881844, 2.0900421291162967, 5.97096829139355, 4.692030100299848, 4.0529193244589745, 3.994772403320793, 3.7331601758075044, 3.4137208230769813, 2.9871044866703533, 2.550643161087809, 2.454841256968521, 2.1349515566030397, 2.1349515566030397, 2.1349515566030397, 2.1349515566030397, 2.1349515566030397, 2.1349515566030397, 2.0435522238052055, 1.9025437225329602, 1.815580082610007, 1.8153740902808178, 1.8153740902808178, 1.8153740902808178, 1.8153740902808178, 1.8153740902808178, 1.739339262214809, 1.6601414960689844, 1.6378895697857894, 1.4959735241187027, 1.4959735241187027, 1.4958319071553257, 1.4958319071553257, 2.510512536007705, 2.0359575775172734, 4.4327371262662085, 3.5854970134432613, 5.389134953945764, 4.485879567818496, 3.633016450665187, 3.4512196317574317, 2.494799335263028, 6.635709701326645, 1.149489650962039, 1.0460067654926342, 1.0460091441367225, 1.0460128796426251, 1.046021192086568, 1.0460246598047391, 0.942524269941353, 0.9425365357008048, 0.942533984001664, 0.9425390489230528, 0.8390393368188002, 0.8390419275098716, 0.8390509139096817, 0.7355535835135691, 0.7355607269759794, 0.7355633575921909, 0.7355644166021281, 0.7355615720766282, 0.7355630366158507, 0.7355606508927627, 0.7355633640010091, 0.7355659446049385, 0.7355639627449162, 0.7355672873416064, 0.7355629750717502, 0.7355664040011793, 23.293909220285013, 2.2276828871750283, 20.59504002198446, 3.708679466728313, 3.4883171494507024, 4.0997667598510095, 6.255604300410098, 6.2039551499588566, 1.5243228766516583, 1.5243217842201249, 7.726379901699465, 4.247793303755277, 3.3944757958741327, 3.105773530909186, 2.239342619730174, 2.226236678100822, 1.9592962954461977, 1.9505207580744421, 1.9505207580744421, 1.9503798350705766, 1.867659946727587, 1.6616974443898738, 1.6616974443898738, 1.6616974443898738, 1.6615706798438554, 1.5010932560861898, 1.3728831643805508, 1.3728831643805508, 1.3727870823878325, 1.1370805898450613, 1.0840973144540755, 1.0840973144540755, 1.0840973144540755, 1.0840973144540755, 1.0840973144540755, 1.0840973144540755, 1.0840973144540755, 1.0840973144540755, 1.0840973144540755, 1.0840973144540755, 2.479616260987803, 3.3072196796294224, 6.6210835458060435, 4.737909755766479, 0.40103646114389435, 0.37060080330761025, 0.32493921993180763, 0.30971097504097556, 0.29449100087651725, 0.2792561749872051, 0.27925774731956166, 0.2792581477005588, 0.2792615150260914, 0.27926169681517876, 0.2640325655144863, 0.2640337336059905, 0.26403503739379053, 0.26403609882964796, 0.26403619849303245, 0.2640373854001279, 0.26403745939425044, 0.2640379737278497, 0.2640381655863224, 0.2640388295128105, 0.2640396846768099, 0.2640398619064546, 0.9047912703391368, 0.24880657380399235, 0.2488067220023278, 0.24880670727532816, 0.24880705954854165, 0.24880744665844154, 0.24880738383773243, 0.24880790291955945, 5.389134953945764, 0.7690393787855158, 1.1112833666234507, 1.4439874477594166, 50.592287538417025, 7.510732736541222, 0.61509054183328], \"Category\": [\"Default\", \"Default\", \"Default\", \"Default\", \"Default\", \"Default\", \"Default\", \"Default\", \"Default\", \"Default\", \"Default\", \"Default\", \"Default\", \"Default\", \"Default\", \"Default\", \"Default\", \"Default\", \"Default\", \"Default\", \"Default\", \"Default\", \"Default\", \"Default\", \"Default\", \"Default\", \"Default\", \"Default\", \"Default\", \"Default\", \"Topic1\", \"Topic1\", \"Topic1\", \"Topic1\", \"Topic1\", \"Topic1\", \"Topic1\", \"Topic1\", \"Topic1\", \"Topic1\", \"Topic1\", \"Topic1\", \"Topic1\", \"Topic1\", \"Topic1\", \"Topic1\", \"Topic1\", \"Topic1\", \"Topic1\", \"Topic1\", \"Topic1\", \"Topic1\", \"Topic1\", \"Topic1\", \"Topic1\", \"Topic1\", \"Topic1\", \"Topic1\", \"Topic1\", \"Topic1\", \"Topic1\", \"Topic1\", \"Topic1\", \"Topic2\", \"Topic2\", \"Topic2\", \"Topic2\", \"Topic2\", \"Topic2\", \"Topic2\", \"Topic2\", \"Topic2\", \"Topic2\", \"Topic2\", \"Topic2\", \"Topic2\", \"Topic2\", \"Topic2\", \"Topic2\", \"Topic2\", \"Topic2\", \"Topic2\", \"Topic2\", \"Topic2\", \"Topic2\", \"Topic2\", \"Topic2\", \"Topic2\", \"Topic2\", \"Topic2\", \"Topic2\", \"Topic2\", \"Topic2\", \"Topic2\", \"Topic2\", \"Topic2\", \"Topic2\", \"Topic2\", \"Topic2\", \"Topic2\", \"Topic2\", \"Topic2\", \"Topic3\", \"Topic3\", \"Topic3\", \"Topic3\", \"Topic3\", \"Topic3\", \"Topic3\", \"Topic3\", \"Topic3\", \"Topic3\", \"Topic3\", \"Topic3\", \"Topic3\", \"Topic3\", \"Topic3\", \"Topic3\", \"Topic3\", \"Topic3\", \"Topic3\", \"Topic3\", \"Topic3\", \"Topic3\", \"Topic3\", \"Topic3\", \"Topic3\", \"Topic3\", \"Topic3\", \"Topic3\", \"Topic3\", \"Topic3\", \"Topic3\", \"Topic3\", \"Topic3\", \"Topic3\", \"Topic3\", \"Topic3\", \"Topic4\", \"Topic4\", \"Topic4\", \"Topic4\", \"Topic4\", \"Topic4\", \"Topic4\", \"Topic4\", \"Topic4\", \"Topic4\", \"Topic4\", \"Topic4\", \"Topic4\", \"Topic4\", \"Topic4\", \"Topic4\", \"Topic4\", \"Topic4\", \"Topic4\", \"Topic4\", \"Topic4\", \"Topic4\", \"Topic4\", \"Topic4\", \"Topic4\", \"Topic4\", \"Topic4\", \"Topic4\", \"Topic4\", \"Topic4\", \"Topic4\", \"Topic4\", \"Topic4\", \"Topic4\", \"Topic4\", \"Topic5\", \"Topic5\", \"Topic5\", \"Topic5\", \"Topic5\", \"Topic5\", \"Topic5\", \"Topic5\", \"Topic5\", \"Topic5\", \"Topic5\", \"Topic5\", \"Topic5\", \"Topic5\", \"Topic5\", \"Topic5\", \"Topic5\", \"Topic5\", \"Topic5\", \"Topic5\", \"Topic5\", \"Topic5\", \"Topic5\", \"Topic5\", \"Topic5\", \"Topic5\", \"Topic5\", \"Topic5\", \"Topic5\", \"Topic5\", \"Topic5\", \"Topic5\", \"Topic5\", \"Topic5\", \"Topic5\", \"Topic5\", \"Topic6\", \"Topic6\", \"Topic6\", \"Topic6\", \"Topic6\", \"Topic6\", \"Topic6\", \"Topic6\", \"Topic6\", \"Topic6\", \"Topic6\", \"Topic6\", \"Topic6\", \"Topic6\", \"Topic6\", \"Topic6\", \"Topic6\", \"Topic6\", \"Topic6\", \"Topic6\", \"Topic6\", \"Topic6\", \"Topic6\", \"Topic6\", \"Topic6\", \"Topic6\", \"Topic6\", \"Topic6\", \"Topic6\", \"Topic6\", \"Topic6\", \"Topic6\", \"Topic6\", \"Topic6\", \"Topic6\", \"Topic6\", \"Topic6\", \"Topic6\", \"Topic6\", \"Topic7\", \"Topic7\", \"Topic7\", \"Topic7\", \"Topic7\", \"Topic7\", \"Topic7\", \"Topic7\", \"Topic7\", \"Topic7\", \"Topic7\", \"Topic7\", \"Topic7\", \"Topic7\", \"Topic7\", \"Topic7\", \"Topic7\", \"Topic7\", \"Topic7\", \"Topic7\", \"Topic7\", \"Topic7\", \"Topic7\", \"Topic7\", \"Topic7\", \"Topic7\", \"Topic7\", \"Topic7\", \"Topic7\", \"Topic7\", \"Topic7\", \"Topic7\", \"Topic7\", \"Topic7\", \"Topic7\", \"Topic7\", \"Topic8\", \"Topic8\", \"Topic8\", \"Topic8\", \"Topic8\", \"Topic8\", \"Topic8\", \"Topic8\", \"Topic8\", \"Topic8\", \"Topic8\", \"Topic8\", \"Topic8\", \"Topic8\", \"Topic8\", \"Topic8\", \"Topic8\", \"Topic8\", \"Topic8\", \"Topic8\", \"Topic8\", \"Topic8\", \"Topic8\", \"Topic8\", \"Topic8\", \"Topic8\", \"Topic8\", \"Topic8\", \"Topic8\", \"Topic8\", \"Topic8\", \"Topic8\", \"Topic8\", \"Topic8\", \"Topic8\", \"Topic8\", \"Topic8\", \"Topic8\", \"Topic8\", \"Topic8\", \"Topic9\", \"Topic9\", \"Topic9\", \"Topic9\", \"Topic9\", \"Topic9\", \"Topic9\", \"Topic9\", \"Topic9\", \"Topic9\", \"Topic9\", \"Topic9\", \"Topic9\", \"Topic9\", \"Topic9\", \"Topic9\", \"Topic9\", \"Topic9\", \"Topic9\", \"Topic9\", \"Topic9\", \"Topic9\", \"Topic9\", \"Topic9\", \"Topic9\", \"Topic9\", \"Topic9\", \"Topic9\", \"Topic9\", \"Topic9\", \"Topic9\", \"Topic9\", \"Topic9\", \"Topic9\", \"Topic10\", \"Topic10\", \"Topic10\", \"Topic10\", \"Topic10\", \"Topic10\", \"Topic10\", \"Topic10\", \"Topic10\", \"Topic10\", \"Topic10\", \"Topic10\", \"Topic10\", \"Topic10\", \"Topic10\", \"Topic10\", \"Topic10\", \"Topic10\", \"Topic10\", \"Topic10\", \"Topic10\", \"Topic10\", \"Topic10\", \"Topic10\", \"Topic10\", \"Topic10\", \"Topic10\", \"Topic10\", \"Topic10\", \"Topic10\", \"Topic10\", \"Topic10\", \"Topic10\", \"Topic10\", \"Topic10\", \"Topic10\", \"Topic10\"], \"logprob\": [30.0, 29.0, 28.0, 27.0, 26.0, 25.0, 24.0, 23.0, 22.0, 21.0, 20.0, 19.0, 18.0, 17.0, 16.0, 15.0, 14.0, 13.0, 12.0, 11.0, 10.0, 9.0, 8.0, 7.0, 6.0, 5.0, 4.0, 3.0, 2.0, 1.0, -5.4465, -5.4916, -5.8542, -6.0513, -6.1688, -6.1778, -6.2389, -6.3351, -6.3757, -6.4153, -6.4247, -6.6369, -6.6369, -6.6369, -6.7417, -6.7417, -6.7417, -6.7575, -5.2488, -6.8491, -6.8588, -6.8588, -6.8588, -6.8588, -6.867, -6.9112, -6.9914, -6.9914, -6.9914, -6.9914, -4.8232, -6.7607, -6.5639, -6.1837, -6.1837, -6.244, -6.6175, -6.8169, -6.817, -6.9033, -6.934, -6.9343, -7.0251, -7.0289, -7.0667, -7.2147, -7.2196, -7.2196, -7.2197, -7.2197, -7.2197, -7.2199, -7.2199, -7.3249, -7.3251, -7.4003, -7.4003, -7.4003, -7.4004, -7.4004, -7.4004, -7.4005, -7.4005, -5.9263, -6.2931, -5.7501, -6.8168, -6.8227, -6.9459, -7.2213, -6.8952, -7.1268, -4.5635, -5.2373, -5.8197, -5.8197, -5.8197, -5.8841, -6.0304, -6.1373, -6.2704, -6.2731, -6.424, -6.5106, -6.5106, -6.6054, -6.7102, -6.7103, -6.7942, -6.8273, -6.8274, -6.8274, -6.8761, -6.8861, -6.96, -6.96, -6.96, -6.9625, -6.9665, -6.9665, -6.9665, -7.0087, -5.4715, -6.0768, -4.855, -6.694, -6.0876, -6.8271, -5.6598, -5.9613, -6.0217, -6.1548, -6.2286, -6.3083, -6.3949, -6.5725, -6.681, -6.7117, -6.7117, -6.7117, -6.8443, -6.8443, -6.8443, -6.8932, -6.9924, -6.9972, -6.9972, -6.9972, -6.9972, -6.9972, -6.9972, -6.9972, -7.046, -7.046, -7.046, -7.046, -7.1779, -7.1779, -6.5316, -6.4632, -6.8028, -6.6159, -6.9972, -4.8398, -5.1263, -5.4903, -5.875, -6.0003, -6.3087, -6.4036, -6.5084, -6.5084, -6.5211, -6.6255, -6.7606, -6.9111, -6.9111, -7.0918, -7.0918, -7.0918, -7.0918, -7.0918, -7.2609, -7.2816, -7.3124, -7.3124, -7.3124, -7.3124, -7.3124, -7.3124, -7.3124, -7.3606, -7.3606, -6.4524, -6.9596, -5.8638, -6.7578, -7.1401, -7.312, -6.9591, -7.1323, -7.322, -7.3529, -7.6364, -7.6364, -7.6364, -7.6364, -7.6364, -7.6364, -7.6364, -7.6364, -7.6364, -7.6842, -7.7632, -7.7997, -7.9304, -7.9304, -8.0335, -8.0335, -8.0335, -8.0335, -8.0335, -8.0335, -8.0335, -8.0335, -8.0335, -8.0335, -8.0335, -8.0335, -6.5485, -6.6663, -7.4009, -7.6839, -7.5806, -7.9304, -8.0328, -8.0333, -8.0335, -5.8268, -6.0771, -6.2308, -6.246, -6.3173, -6.4121, -6.5547, -6.7251, -6.7666, -6.9198, -6.9198, -6.9198, -6.9198, -6.9198, -6.9198, -6.9682, -7.0481, -7.1003, -7.1005, -7.1005, -7.1005, -7.1005, -7.1005, -7.1487, -7.2024, -7.2169, -7.3209, -7.3209, -7.3211, -7.3211, -6.9197, -7.1001, -7.0248, -7.1005, -7.025, -7.1005, -6.2898, -6.3443, -6.6928, -5.8174, -7.5759, -7.6914, -7.6914, -7.6914, -7.6914, -7.6914, -7.8221, -7.8221, -7.8221, -7.8221, -7.9724, -7.9724, -7.9724, -8.1494, -8.1494, -8.1494, -8.1494, -8.1494, -8.1494, -8.1494, -8.1494, -8.1494, -8.1494, -8.1494, -8.1494, -8.1494, -5.9052, -7.5759, -6.8917, -7.5758, -7.8221, -7.8221, -7.8218, -7.9724, -8.1493, -8.1493, -5.4679, -6.0885, -6.3254, -6.4203, -6.7748, -6.7815, -6.9228, -6.9277, -6.9277, -6.9278, -6.9764, -7.1084, -7.1084, -7.1084, -7.1085, -7.2251, -7.329, -7.329, -7.3291, -7.5577, -7.6125, -7.6125, -7.6125, -7.6125, -7.6125, -7.6125, -7.6125, -7.6125, -7.6125, -7.6125, -6.8349, -7.0, -6.7953, -7.6121, -7.1979, -7.3775, -7.7272, -7.8775, -8.0545, -8.2697, -8.2697, -8.2697, -8.2697, -8.2697, -8.5443, -8.5443, -8.5443, -8.5443, -8.5443, -8.5443, -8.5443, -8.5443, -8.5443, -8.5443, -8.5444, -8.5444, -7.5966, -8.9243, -8.9243, -8.9243, -8.9243, -8.9243, -8.9243, -8.9243, -7.1188, -8.6003, -8.5444, -8.5444, -8.3781, -8.6396, -8.9243], \"loglift\": [30.0, 29.0, 28.0, 27.0, 26.0, 25.0, 24.0, 23.0, 22.0, 21.0, 20.0, 19.0, 18.0, 17.0, 16.0, 15.0, 14.0, 13.0, 12.0, 11.0, 10.0, 9.0, 8.0, 7.0, 6.0, 5.0, 4.0, 3.0, 2.0, 1.0, 1.6071, 1.6068, 1.6034, 1.6011, 1.5994, 1.5993, 1.5983, 1.5967, 1.596, 1.5953, 1.5951, 1.5906, 1.5906, 1.5906, 1.588, 1.588, 1.588, 1.5875, 1.5851, 1.585, 1.5847, 1.5847, 1.5847, 1.5847, 1.5845, 1.5832, 1.5806, 1.5806, 1.5806, 1.5806, 1.508, 1.4639, 1.1997, 1.7437, 1.7437, 1.7426, 1.7339, 1.7277, 1.7277, 1.7247, 1.7236, 1.7235, 1.7199, 1.7198, 1.7182, 1.7113, 1.7111, 1.7111, 1.7111, 1.7111, 1.7111, 1.7111, 1.7111, 1.7056, 1.7054, 1.7013, 1.7013, 1.7013, 1.7013, 1.7013, 1.7013, 1.7013, 1.7013, 1.6034, 1.5989, 1.4798, 1.6047, 1.5575, 1.588, 1.5917, 1.3751, 1.2812, 1.8128, 1.8091, 1.8032, 1.8032, 1.8032, 1.8023, 1.8001, 1.7983, 1.7957, 1.7956, 1.7922, 1.7901, 1.7901, 1.7874, 1.7843, 1.7843, 1.7815, 1.7803, 1.7803, 1.7803, 1.7785, 1.7782, 1.7753, 1.7753, 1.7753, 1.7751, 1.775, 1.775, 1.775, 1.7732, 1.7606, 1.7486, 1.7025, 1.5446, 1.0191, 1.5411, 2.2478, 2.2413, 2.2397, 2.236, 2.2337, 2.231, 2.2278, 2.2204, 2.2153, 2.2137, 2.2137, 2.2137, 2.2064, 2.2064, 2.2064, 2.2034, 2.1971, 2.1968, 2.1968, 2.1968, 2.1968, 2.1968, 2.1968, 2.1968, 2.1934, 2.1934, 2.1934, 2.1934, 2.1836, 2.1836, 2.0236, 1.9681, 1.7678, 1.1477, 1.7568, 2.5066, 2.5031, 2.4968, 2.4872, 2.4832, 2.4711, 2.4666, 2.4611, 2.4611, 2.4604, 2.4543, 2.4455, 2.4343, 2.4343, 2.4186, 2.4186, 2.4186, 2.4186, 2.4186, 2.4012, 2.3991, 2.3956, 2.3956, 2.3956, 2.3956, 2.3956, 2.3956, 2.3956, 2.3899, 2.3899, 2.2059, 2.1715, 1.243, 1.8802, 1.8654, 2.1564, 2.4711, 2.4547, 2.4335, 2.4297, 2.3897, 2.3897, 2.3897, 2.3897, 2.3897, 2.3897, 2.3897, 2.3897, 2.3897, 2.3819, 2.3683, 2.3618, 2.3367, 2.3367, 2.315, 2.315, 2.315, 2.315, 2.315, 2.315, 2.315, 2.315, 2.315, 2.315, 2.315, 2.315, 2.2212, 1.3839, 0.1288, 0.5458, -0.4738, 1.5743, 1.9335, 0.4917, 1.4843, 2.6413, 2.6319, 2.6247, 2.624, 2.6204, 2.615, 2.606, 2.5935, 2.5903, 2.5767, 2.5767, 2.5767, 2.5767, 2.5767, 2.5767, 2.5721, 2.5637, 2.5583, 2.5582, 2.5582, 2.5582, 2.5582, 2.5582, 2.5527, 2.5456, 2.5446, 2.5313, 2.5313, 2.5312, 2.5312, 2.4147, 2.4439, 1.7411, 1.8776, 1.5456, 1.6536, 2.6751, 2.6719, 2.648, 2.545, 2.5398, 2.5186, 2.5186, 2.5186, 2.5185, 2.5185, 2.4921, 2.4921, 2.4921, 2.4921, 2.4581, 2.4581, 2.458, 2.4127, 2.4127, 2.4127, 2.4127, 2.4127, 2.4127, 2.4127, 2.4127, 2.4127, 2.4127, 2.4127, 2.4127, 2.4127, 1.2016, 1.8781, 0.3382, 1.3685, 1.1835, 1.022, 0.5997, 0.4574, 1.6841, 1.6841, 2.7424, 2.7201, 2.7074, 2.7014, 2.674, 2.6731, 2.6596, 2.6591, 2.6591, 2.6591, 2.6539, 2.6387, 2.6387, 2.6387, 2.6387, 2.6237, 2.609, 2.609, 2.609, 2.5688, 2.5617, 2.5617, 2.5617, 2.5617, 2.5617, 2.5617, 2.5617, 2.5617, 2.5617, 2.5617, 2.5119, 2.0588, 1.5694, 1.0872, 3.9708, 3.8701, 3.6519, 3.5495, 3.4229, 3.2609, 3.2609, 3.2608, 3.2608, 3.2608, 3.0423, 3.0423, 3.0423, 3.0423, 3.0423, 3.0423, 3.0423, 3.0423, 3.0423, 3.0423, 3.0423, 3.0423, 2.7585, 2.7218, 2.7218, 2.7218, 2.7218, 2.7218, 2.7218, 2.7218, 1.4517, 1.9173, 1.6051, 1.3432, -2.047, -0.401, 1.8167]}, \"token.table\": {\"Topic\": [4, 2, 1, 3, 5, 1, 3, 4, 9, 9, 7, 9, 1, 9, 6, 7, 2, 4, 6, 8, 6, 4, 2, 4, 3, 4, 3, 1, 5, 7, 6, 2, 3, 8, 2, 3, 5, 6, 9, 2, 4, 5, 8, 2, 5, 2, 9, 2, 5, 3, 3, 6, 5, 7, 8, 1, 1, 3, 8, 8, 6, 6, 2, 2, 6, 9, 8, 4, 5, 7, 6, 6, 1, 4, 7, 4, 4, 1, 3, 3, 4, 7, 8, 6, 1, 2, 3, 2, 1, 4, 8, 4, 4, 2, 3, 3, 9, 2, 4, 9, 6, 9, 1, 9, 7, 7, 5, 3, 5, 5, 7, 4, 5, 2, 6, 9, 6, 1, 1, 2, 6, 7, 3, 9, 4, 3, 8, 2, 3, 4, 5, 6, 4, 7, 5, 1, 1, 8, 2, 8, 2, 2, 3, 8, 5, 2, 2, 8, 8, 2, 3, 1, 1, 9, 4, 6, 1, 2, 3, 2, 3, 5, 3, 8, 1, 3, 9, 1, 4, 1, 6, 1, 4, 8, 4, 5, 7, 3, 1, 4, 5, 1, 6, 6, 2, 1, 6, 7, 7, 5, 9, 3, 8, 2, 5, 4, 1, 7, 2, 5, 8, 2, 8, 6, 1, 2, 7, 8, 2, 5, 1, 4, 2, 3, 4, 5, 2, 6, 8, 8, 1, 5, 7, 5, 9, 4, 2, 8, 8, 9, 9, 8, 4, 7, 7, 9, 5, 3, 4, 6, 7, 6, 2, 3, 5, 8, 8, 3, 1, 9, 6, 5, 8, 3, 3, 2, 1, 2, 2, 3, 7, 2, 9, 9, 3, 5, 6, 9, 4, 2, 8, 8, 9, 4, 4, 4, 3, 5, 6, 8, 8, 3, 3, 3, 7, 6, 6, 6, 3, 8, 3, 6, 1, 4, 6, 1, 4, 6, 6, 9, 7, 6, 7, 7, 9, 9, 2, 4, 3, 2, 5, 1, 1, 5, 6, 8, 1, 9, 9, 1, 4, 1, 5, 2, 7, 7, 7, 2, 5, 3, 1, 2, 5, 3, 1, 5, 5, 1, 4, 4, 2, 5, 8, 1, 3, 7, 5, 8, 7, 1, 1, 4, 1, 1, 9, 7, 3, 5, 8, 2, 4, 9, 1, 2, 7, 7, 2, 5, 8, 7, 9, 5, 8, 4, 5, 6, 4, 2, 2, 3, 3, 9, 9, 5, 7, 5, 4, 6], \"Freq\": [0.8992282881084448, 0.9467592437821055, 0.8894636354568758, 0.0790634342628334, 0.01976585856570835, 0.9796550338732899, 0.9628760416332017, 0.9270253163990911, 0.9224264156613792, 0.6017942696946077, 0.7841159557368392, 0.8794451412949191, 0.9805073362320869, 0.6661811289508465, 0.7492639393494345, 0.6023582943790513, 1.064073426387796, 1.0583663268917922, 1.0980965804904421, 1.3594949329708133, 0.795409691970939, 0.8184470828874443, 0.883722222601817, 0.9774978220949674, 0.9964220984194693, 1.0384502874802988, 0.9833566702518628, 1.0208243275862834, 0.9498896537183018, 0.6684610281382573, 0.9108070908136383, 0.5392755070753905, 0.26963775353769526, 0.26963775353769526, 0.9826273939402583, 0.4530980434313162, 0.15103268114377208, 0.15103268114377208, 0.30206536228754416, 0.3223749933158791, 0.3223749933158791, 0.16118749665793955, 0.16118749665793955, 0.946803284638651, 0.9149988807240591, 1.0643188562690893, 0.7283941022404504, 1.0590262400429633, 0.9498896537183018, 0.8751422272727702, 0.99161744484906, 0.8278802810845175, 1.1574729458140358, 0.9367894057428808, 1.0609640005287868, 0.9805013078391377, 0.9805013078391377, 0.6560289918344657, 0.6560289918344657, 1.0609697018608875, 0.795409691970939, 1.0980965804904421, 1.0641152174729105, 0.4784592549925374, 0.4784592549925374, 0.9224264156613792, 1.359502789320084, 1.086605359885458, 0.9498896537183018, 1.10170130261726, 1.0980965804904421, 0.795409691970939, 0.9290975749033092, 0.6687651673758406, 0.44584344491722705, 1.0866030314224595, 1.0384502874802988, 0.048660386646557155, 0.9245473462845859, 0.9738366538775629, 0.8184470828874443, 1.0714782681765795, 1.3595021842314432, 1.0980965804904421, 1.0366956106933831, 0.9467635504786545, 1.0091684608618492, 0.9041242040814859, 0.16143456018677246, 0.8071728009338623, 1.0609806366707388, 1.0384542329715536, 1.0280063387445963, 0.9467635504786545, 0.9628760416332017, 0.9628403796266828, 0.9224264156613792, 0.8473106375504321, 0.09414562639449245, 0.8931192495416297, 1.0980965804904421, 0.6017942696946077, 0.8442541555654635, 0.21106353889136586, 1.0013086093903276, 0.6105417718306763, 0.6038183359582414, 0.9113300189507297, 0.8295984317933701, 0.8054276713227093, 1.10170130261726, 0.9990763453525204, 1.1574729458140358, 0.851908530424393, 0.065531425417261, 0.065531425417261, 1.0122019651774103, 0.9631217911748545, 0.4411046374811168, 0.2205523187405584, 0.3308284781108376, 0.9367894057428808, 0.8751422272727702, 0.8837888912468888, 1.0274312373353347, 0.656029461988973, 0.656029461988973, 0.3958758976970862, 0.2639172651313908, 0.1319586325656954, 0.1319586325656954, 0.1319586325656954, 0.5566756122526658, 0.3711170748351105, 0.9039375635772663, 0.9803066762621502, 0.9805073362320869, 1.3595202612204424, 0.9313689982216337, 0.8257600924022007, 1.064073426387796, 0.6308827155374659, 0.31544135776873294, 1.1918392334160146, 0.8295984317933701, 0.9469600005041123, 0.7992832922108286, 0.1598566584421657, 1.3595054961569193, 0.7669543003814611, 0.1533908600762922, 1.0208243275862834, 0.30236878613157353, 0.6047375722631471, 0.8997743835080223, 0.8838994477256078, 0.02478623213940303, 0.07435869641820908, 0.8923043570185091, 0.0880726314068766, 0.9687989454756426, 0.9317876872257403, 0.8805960684182595, 0.9560035758025451, 0.15155512920875083, 0.7577756460437541, 0.6017942696946077, 0.662348924644033, 0.3311744623220165, 1.0316892217580762, 1.0980965804904421, 0.9539741104970764, 1.0384542329715536, 0.9560145870668328, 0.2255942483199589, 0.2255942483199589, 0.4511884966399178, 1.0189015845657095, 0.97913275656985, 0.899860494662512, 0.8395170643689301, 1.00702212335837, 1.0980965804904421, 0.795409691970939, 0.9469600005041123, 0.9627599049162928, 0.8767172535509925, 0.8525094499594912, 1.149861929439387, 0.9498896537183018, 1.025367195771043, 0.8805962255416419, 1.3595010776061995, 1.0641152174729105, 1.0205473271609435, 1.105227285874649, 0.9216498256845665, 0.9367894057428808, 0.9196264730265795, 1.1574729458140358, 1.3595070581203776, 0.886959344389554, 0.9560167610665821, 1.012200721380765, 0.9883822287214229, 1.0641010853574193, 0.9367894057428808, 1.359502903068844, 0.39701056831531706, 0.5955158524729756, 0.9769997354224993, 0.9562347494997142, 1.0643188562690893, 1.0083700101498099, 1.0337067670965894, 1.0135419862993145, 0.9753428004483963, 1.0980965804904421, 1.359502196076517, 0.8016676819376893, 0.32503625526579855, 0.6500725105315971, 0.6685243142738772, 0.9263509319673228, 0.8983770771875783, 1.0865765284238842, 1.0124089291848155, 1.3594974146567989, 1.191822788608086, 0.9224264156613792, 0.9224264156613792, 1.0609668295314085, 1.0583663268917922, 1.0048621441598167, 1.0512241985888717, 0.8065764172732363, 1.1574729458140358, 0.18272380749500958, 0.7308952299800383, 1.0980965804904421, 1.10170130261726, 0.795409691970939, 0.7768860843640303, 0.09711076054550379, 0.04855538027275189, 0.09711076054550379, 1.3595071987419156, 0.992576263560441, 1.0208197268968566, 0.601840181781478, 0.6235518668564951, 1.0510040380004044, 0.9560111729615168, 1.0318380326142942, 0.991639117249358, 0.9040553332998429, 0.23644533636821896, 0.9457813454728758, 0.9468319108060436, 1.0070904413360076, 0.9869429119549428, 1.0121382099355214, 1.07085875215362, 0.9224264156613792, 0.877218464051728, 0.22645302271552836, 0.6793590681465851, 0.9224264156613792, 0.9535230996375864, 0.15069978118543595, 0.9041986871126158, 0.8699512859146431, 0.9224264156613792, 0.899775401092845, 1.0384542329715536, 0.8997729029559383, 0.42929677047473463, 0.3005077393323142, 0.04292967704747346, 0.21464838523736732, 1.1918355534005596, 1.0318056802860534, 0.9320943166952036, 1.0070904413360076, 0.6684610281382573, 1.0980965804904421, 0.795409691970939, 0.795409691970939, 0.7317489446909472, 0.2439163148969824, 0.932509098982262, 0.795409691970939, 0.9216424582267417, 0.47221123000572884, 0.47221123000572884, 0.5319165890651367, 0.3546110593767578, 0.1773055296883789, 1.0980965804904421, 1.025367195771043, 0.8147166316040314, 1.0255087115099046, 0.9823387393164049, 0.9367894057428808, 1.0354137515604624, 1.0254412827887076, 0.8943962595553648, 0.17887925191107298, 0.8751422272727702, 0.9468319108060436, 0.982037590625172, 0.9981607583470621, 0.975562463887774, 0.6038208219680063, 0.795409691970939, 0.9560004065168688, 0.9291236646690801, 0.9659429350348601, 0.7283941022404504, 1.3003235303492813, 0.9419758890706944, 0.45538538524743755, 0.9107707704948751, 0.8818203391846466, 1.10170130261726, 0.6685243142738772, 1.1015763056427001, 0.9753428004483963, 1.105573458278258, 0.9169060558686118, 0.13743071555327774, 0.6871535777663887, 0.13743071555327774, 1.0104399671527469, 0.9712948630569563, 1.0015271423816707, 0.9498896537183018, 0.919045084809882, 0.13129215497284027, 0.9301228371642891, 0.20257857222288772, 0.8103142888915509, 1.3594965655859355, 0.2662856035696223, 0.7988568107088668, 0.9367894057428808, 1.1574729458140358, 1.3595002387682205, 0.9786879810078409, 0.9290975749033092, 0.9802915992737544, 0.03267638664245848, 1.0195026842831942, 0.9290975749033092, 1.0207746549862857, 1.0043170613506127, 1.0110196872338857, 1.1574729458140358, 0.8692579204159019, 1.04320169625879, 1.0384502874802988, 0.9224264156613792, 0.9216498256845665, 0.557802723723186, 0.557802723723186, 1.10170130261726, 0.28667118187847906, 0.5733423637569581, 0.28667118187847906, 0.8788064857910463, 0.7284450828751937, 0.448896925930118, 0.448896925930118, 1.0384542329715536, 1.126174697853819, 0.6068638499183652, 1.0583641211230252, 0.8817449015871015, 0.6925267955422079, 0.8806007620331857, 1.0070948290471877, 0.9416654045910816, 0.9224264156613792, 0.8054276713227093, 0.7966500749605744, 1.1574729458140358, 1.0865998502131298, 1.0980965804904421], \"Term\": [\"abuse_trust\", \"acceptable_criticism\", \"access_information\", \"access_information\", \"access_information\", \"access_official\", \"account_holder\", \"active_euthanasia\", \"advertisement_book\", \"advertisement_could\", \"advertising_marketing\", \"affected_professional\", \"agricultural_forest\", \"among_many\", \"appendix_recommendation\", \"approximately_charity\", \"area_reserved\", \"attorney_reference\", \"balance_interest\", \"banking_collapse\", \"banning_publication\", \"binding_instrument\", \"board_newspaper\", \"breach_duty\", \"breach_peace\", \"breach_professional\", \"cassation_division\", \"certain_information\", \"chairman_interparty\", \"chairman_tourism\", \"chamber_medical\", \"chapter_penal\", \"chapter_penal\", \"chapter_penal\", \"circular_letter\", \"civil_code\", \"civil_code\", \"civil_code\", \"civil_code\", \"civil_party\", \"civil_party\", \"civil_party\", \"civil_party\", \"claimant_present\", \"code_journalistic\", \"commander_territorial\", \"commercial_speech\", \"commit_suicide\", \"committee_electronic\", \"communication_service\", \"communist_regime\", \"company_locust\", \"company_made\", \"compare_contrast\", \"completely_odds\", \"concerned_information\", \"concerning_wrongful\", \"conducive_causing\", \"conducive_causing\", \"conduct_completely\", \"confession_first\", \"consideration_given\", \"contact_claimant\", \"contact_media\", \"contact_media\", \"content_book\", \"content_news\", \"control_zone\", \"convention_company\", \"correctness_text\", \"could_would\", \"crime_issue\", \"crime_statistics\", \"criteria_established\", \"criteria_established\", \"customs_control\", \"damage_sustained\", \"data_protection\", \"data_protection\", \"data_subject\", \"debate_evasion\", \"debate_general\", \"defamatory_nature\", \"degree_interest\", \"democracy_rule\", \"demonstration_area\", \"diplomatic_service\", \"director_radio\", \"disclose_information\", \"disclose_information\", \"disclosed_information\", \"disclosure_name\", \"district_administration\", \"district_found\", \"division_bull\", \"duty_discretion\", \"economic_activity\", \"editorial_board\", \"editorial_board\", \"editorial_profile\", \"effect_disclosure\", \"effective_exercise\", \"effective_remedy\", \"effective_remedy\", \"election_campaign\", \"election_code\", \"electronic_commerce\", \"electronic_communication\", \"electronic_gambling\", \"entering_gambling\", \"equivalent_meaning\", \"essential_previously\", \"exercise_impart\", \"factual_basis\", \"factual_basis\", \"factual_basis\", \"federal_chamber\", \"federal_commissioner\", \"federal_constitutional\", \"federal_constitutional\", \"federal_constitutional\", \"federal_president\", \"feeling_rejection\", \"fierce_defender\", \"fifth_criterion\", \"finland_finland\", \"finland_finland\", \"first_instance\", \"first_instance\", \"first_instance\", \"first_instance\", \"first_instance\", \"first_second\", \"first_second\", \"first_video\", \"foreign_intelligence\", \"forest_land\", \"forfeit_state\", \"former_husband\", \"former_prime\", \"found_established\", \"found_guilty\", \"found_guilty\", \"found_information\", \"gambling_arcade\", \"general_command\", \"general_inspectorate\", \"general_inspectorate\", \"general_meeting\", \"general_search\", \"general_search\", \"generally_accessible\", \"good_name\", \"good_name\", \"harm_interest\", \"harmful_effect\", \"hate_speech\", \"hate_speech\", \"hate_speech\", \"hatred_violence\", \"hatred_violence\", \"hidden_camera\", \"hostility_discrimination\", \"impartiality_fairness\", \"incitement_hatred\", \"incitement_hatred\", \"incompatible_editorial\", \"information_disclosed\", \"information_disclosed\", \"information_federal\", \"information_identification\", \"information_information\", \"information_journalist\", \"information_prime\", \"information_provided\", \"information_provided\", \"information_provided\", \"information_question\", \"information_request\", \"information_shall\", \"information_society\", \"information_sought\", \"innocence_convention\", \"innocent_proved\", \"inspectorate_internal\", \"intelligence_service\", \"interest_informed\", \"interest_publication\", \"internal_audit\", \"interparty_committee\", \"interpretation_press\", \"intimidation_hostility\", \"investigation_general\", \"involved_drug\", \"journalistic_ethics\", \"journalistic_investigation\", \"judiciary_land\", \"lapse_time\", \"leave_scene\", \"legitimate_exercise\", \"letter_minister\", \"liable_defamation\", \"life_intimate\", \"locust_company\", \"loyalty_constitution\", \"made_identity\", \"manager_presidential\", \"meeting_tribunal\", \"member_parliament\", \"member_parliament\", \"ministry_state\", \"misconduct_office\", \"misuse_money\", \"moral_professional\", \"national_hospital\", \"national_radio\", \"national_republican\", \"never_sought\", \"news_anchor\", \"news_item\", \"news_portal\", \"news_portal\", \"news_report\", \"news_whose\", \"newspaper_publish\", \"nonpecuniary_damage\", \"nonpecuniary_damages\", \"null_void\", \"objective_test\", \"obligation_publish\", \"obliged_publish\", \"odds_impartiality\", \"office_holder\", \"office_manager\", \"ordered_company\", \"ordered_publish\", \"parliament_chairman\", \"parliamentary_assembly\", \"parliamentary_assembly\", \"particular_consideration\", \"particular_interest\", \"particular_protection\", \"penal_code\", \"penal_code\", \"penal_code\", \"penal_code\", \"personal_animosity\", \"personal_data\", \"personal_information\", \"phrase_question\", \"physical_appearance\", \"pleural_cancer\", \"plus_interest\", \"political_debate\", \"posted_wall\", \"pregnant_woman\", \"present_scene\", \"present_scene\", \"president_assembly\", \"president_cassation\", \"presidential_candidate\", \"press_badge\", \"press_conference\", \"press_could\", \"press_release\", \"presumption_innocence\", \"presumption_innocence\", \"preventive_censorship\", \"previously_unknown\", \"prime_minister\", \"prime_minister\", \"prime_private\", \"principle_proportionality\", \"prison_officer\", \"prison_service\", \"prison_term\", \"private_life\", \"private_life\", \"private_life\", \"private_life\", \"proceeds_crime\", \"professional_activity\", \"professional_file\", \"professional_integrity\", \"professional_private\", \"proper_conduct\", \"protect_privacy\", \"protection_privacy\", \"protection_private\", \"protection_private\", \"protection_regard\", \"proved_guilty\", \"provide_information\", \"provided_inter\", \"provided_inter\", \"provision_information\", \"provision_information\", \"provision_information\", \"psychological_pressure\", \"publication_advertisement\", \"publication_anonymous\", \"publication_could\", \"publication_photograph\", \"publication_picture\", \"publish_advertisement\", \"publish_apology\", \"publish_retraction\", \"publish_retraction\", \"racist_hate\", \"radio_station\", \"radio_television\", \"real_property\", \"receive_information\", \"recipient_service\", \"recommendation_committee\", \"reduced_bench\", \"refusal_disclose\", \"refusal_publish\", \"refuse_publication\", \"regarding_lack\", \"regional_commercial\", \"regulation_national\", \"regulation_national\", \"regulatory_body\", \"release_parole\", \"release_prison\", \"reproduction_anonymous\", \"republican_guard\", \"request_rectification\", \"respect_private\", \"responsible_journalism\", \"responsible_journalism\", \"responsible_journalism\", \"search_engine\", \"second_basic\", \"second_third\", \"second_video\", \"security_service\", \"security_service\", \"seriousness_test\", \"service_provider\", \"service_provider\", \"shall_responsible\", \"significant_disadvantage\", \"significant_disadvantage\", \"since_release\", \"size_investment\", \"social_debate\", \"staff_meeting\", \"state_municipal\", \"state_security\", \"state_security\", \"statistical_data\", \"statistics_service\", \"super_express\", \"supervisory_board\", \"taxation_data\", \"television_code\", \"television_show\", \"territorial_post\", \"theft_employer\", \"third_personal\", \"thirteen_concerned\", \"time_publication\", \"time_publication\", \"time_report\", \"took_view\", \"took_view\", \"took_view\", \"tourism_association\", \"towards_lustration\", \"tribunal_instance\", \"tribunal_instance\", \"trust_office\", \"undue_influence\", \"unfair_competition\", \"unknown_information\", \"unknown_soldier\", \"upon_receipt\", \"violence_intimidation\", \"wall_account\", \"warsaw_regional\", \"weight_given\", \"whose_source\", \"within_context\", \"without_knowledge\", \"without_notice\", \"would_longer\"]}, \"R\": 30, \"lambda.step\": 0.01, \"plot.opts\": {\"xlab\": \"PC1\", \"ylab\": \"PC2\"}, \"topic.order\": [7, 5, 10, 2, 8, 1, 6, 9, 3, 4]};\n",
              "\n",
              "function LDAvis_load_lib(url, callback){\n",
              "  var s = document.createElement('script');\n",
              "  s.src = url;\n",
              "  s.async = true;\n",
              "  s.onreadystatechange = s.onload = callback;\n",
              "  s.onerror = function(){console.warn(\"failed to load library \" + url);};\n",
              "  document.getElementsByTagName(\"head\")[0].appendChild(s);\n",
              "}\n",
              "\n",
              "if(typeof(LDAvis) !== \"undefined\"){\n",
              "   // already loaded: just create the visualization\n",
              "   !function(LDAvis){\n",
              "       new LDAvis(\"#\" + \"ldavis_el1831401412021765129897832949\", ldavis_el1831401412021765129897832949_data);\n",
              "   }(LDAvis);\n",
              "}else if(typeof define === \"function\" && define.amd){\n",
              "   // require.js is available: use it to load d3/LDAvis\n",
              "   require.config({paths: {d3: \"https://d3js.org/d3.v5\"}});\n",
              "   require([\"d3\"], function(d3){\n",
              "      window.d3 = d3;\n",
              "      LDAvis_load_lib(\"https://cdn.jsdelivr.net/gh/bmabey/pyLDAvis@3.4.0/pyLDAvis/js/ldavis.v3.0.0.js\", function(){\n",
              "        new LDAvis(\"#\" + \"ldavis_el1831401412021765129897832949\", ldavis_el1831401412021765129897832949_data);\n",
              "      });\n",
              "    });\n",
              "}else{\n",
              "    // require.js not available: dynamically load d3 & LDAvis\n",
              "    LDAvis_load_lib(\"https://d3js.org/d3.v5.js\", function(){\n",
              "         LDAvis_load_lib(\"https://cdn.jsdelivr.net/gh/bmabey/pyLDAvis@3.4.0/pyLDAvis/js/ldavis.v3.0.0.js\", function(){\n",
              "                 new LDAvis(\"#\" + \"ldavis_el1831401412021765129897832949\", ldavis_el1831401412021765129897832949_data);\n",
              "            })\n",
              "         });\n",
              "}\n",
              "</script>"
            ]
          },
          "metadata": {},
          "execution_count": 58
        }
      ]
    },
    {
      "cell_type": "markdown",
      "source": [
        "No Pre-processing"
      ],
      "metadata": {
        "id": "HaOa7UMdKgxd"
      }
    },
    {
      "cell_type": "code",
      "source": [
        "pyLDAvis.enable_notebook()\n",
        "vis = pyLDAvis.gensim.prepare(lda_model, corpus_filter, id2word_filter, mds=\"mmds\", R=30)\n",
        "vis"
      ],
      "metadata": {
        "colab": {
          "base_uri": "https://localhost:8080/",
          "height": 955
        },
        "id": "CaG4ah2iKlyc",
        "outputId": "83f5bf46-ab06-482f-a616-35d7e8ca47fa"
      },
      "execution_count": 75,
      "outputs": [
        {
          "output_type": "stream",
          "name": "stderr",
          "text": [
            "/usr/local/lib/python3.10/dist-packages/ipykernel/ipkernel.py:283: DeprecationWarning: `should_run_async` will not call `transform_cell` automatically in the future. Please pass the result to `transformed_cell` argument and any exception that happen during thetransform in `preprocessing_exc_tuple` in IPython 7.17 and above.\n",
            "  and should_run_async(code)\n",
            "/usr/local/lib/python3.10/dist-packages/sklearn/manifold/_mds.py:299: FutureWarning: The default value of `normalized_stress` will change to `'auto'` in version 1.4. To suppress this warning, manually set the value of `normalized_stress`.\n",
            "  warnings.warn(\n"
          ]
        },
        {
          "output_type": "execute_result",
          "data": {
            "text/plain": [
              "PreparedData(topic_coordinates=              x         y  topics  cluster       Freq\n",
              "topic                                                \n",
              "7      0.129723  0.012025       1        1  14.916006\n",
              "2      0.042308  0.136889       2        1  14.841888\n",
              "1     -0.106332 -0.042022       3        1  12.739363\n",
              "9     -0.071814  0.067022       4        1  12.328962\n",
              "4      0.042248 -0.084042       5        1   9.887504\n",
              "8     -0.035537  0.028699       6        1   9.861305\n",
              "6     -0.023709 -0.092524       7        1   8.954633\n",
              "0     -0.013912 -0.013794       8        1   6.917953\n",
              "3      0.032630 -0.010464       9        1   6.575926\n",
              "5      0.004395 -0.001790      10        1   2.976460, topic_info=                       Term       Freq      Total Category  logprob  loglift\n",
              "3738      applicant_company  99.000000  99.000000  Default  30.0000  30.0000\n",
              "9996   administrative_court  70.000000  70.000000  Default  29.0000  29.0000\n",
              "86289      military_service  50.000000  50.000000  Default  28.0000  28.0000\n",
              "539            court_appeal  53.000000  53.000000  Default  27.0000  27.0000\n",
              "4981            hate_speech  33.000000  33.000000  Default  26.0000  26.0000\n",
              "...                     ...        ...        ...      ...      ...      ...\n",
              "6713          supreme_court   0.723567  33.428645  Topic10  -7.2003  -0.3185\n",
              "963              high_court   0.467987   5.308709  Topic10  -7.6361   1.0858\n",
              "4928    general_information   0.314741   1.178780  Topic10  -8.0328   2.1940\n",
              "544             court_first   0.314742   5.726582  Topic10  -8.0328   0.6133\n",
              "812          first_instance   0.314748   6.418395  Topic10  -8.0328   0.4993\n",
              "\n",
              "[444 rows x 6 columns], token_table=       Topic      Freq                  Term\n",
              "term                                        \n",
              "48134      4  0.867410            about_book\n",
              "90777      2  1.033120           abuse_trust\n",
              "44         4  1.061419  acceptable_criticism\n",
              "3559       1  0.067198    access_information\n",
              "3559       2  0.604780    access_information\n",
              "...      ...       ...                   ...\n",
              "65126      4  0.814626        with_editorial\n",
              "87012      2  0.960785         with_ministry\n",
              "3500       1  0.964166           with_regard\n",
              "21684      7  0.821861       without_consent\n",
              "84659      6  1.053941     worked_prosecutor\n",
              "\n",
              "[471 rows x 3 columns], R=30, lambda_step=0.01, plot_opts={'xlab': 'PC1', 'ylab': 'PC2'}, topic_order=[8, 3, 2, 10, 5, 9, 7, 1, 4, 6])"
            ],
            "text/html": [
              "\n",
              "<link rel=\"stylesheet\" type=\"text/css\" href=\"https://cdn.jsdelivr.net/gh/bmabey/pyLDAvis@3.4.0/pyLDAvis/js/ldavis.v1.0.0.css\">\n",
              "\n",
              "\n",
              "<div id=\"ldavis_el1831401414902862404822284715\" style=\"background-color:white;\"></div>\n",
              "<script type=\"text/javascript\">\n",
              "\n",
              "var ldavis_el1831401414902862404822284715_data = {\"mdsDat\": {\"x\": [0.12972319533253757, 0.04230827152700292, -0.10633188581409814, -0.07181446854639566, 0.04224784796846273, -0.03553734407853872, -0.02370943840189407, -0.013912030561752034, 0.03263037880919857, 0.0043954737654768395], \"y\": [0.012025214566380359, 0.13688871576445033, -0.04202159824581783, 0.067022419743374, -0.08404187284688874, 0.028699370033847118, -0.09252446502651465, -0.013793972921161874, -0.010463648503817695, -0.0017901625638509886], \"topics\": [1, 2, 3, 4, 5, 6, 7, 8, 9, 10], \"cluster\": [1, 1, 1, 1, 1, 1, 1, 1, 1, 1], \"Freq\": [14.916006459186201, 14.841887842308887, 12.73936346006312, 12.32896179653667, 9.887503880979748, 9.861304711710527, 8.954632729063283, 6.917952598489172, 6.575926134505086, 2.9764603871573163]}, \"tinfo\": {\"Term\": [\"applicant_company\", \"administrative_court\", \"military_service\", \"court_appeal\", \"hate_speech\", \"court_cassation\", \"personal_data\", \"supreme_administrative\", \"professional_military\", \"applicant_association\", \"radio_television\", \"public_office\", \"search_engine\", \"state_security\", \"supreme_court\", \"article_code\", \"national_radio\", \"television_council\", \"ministry_state\", \"with_ministry\", \"information_request\", \"constitutional_court\", \"public_prosecutor\", \"first_applicant\", \"president_court\", \"company_that\", \"right_forgotten\", \"publish_advertisement\", \"service_contract\", \"hidden_camera\", \"search_engine\", \"right_forgotten\", \"with_regard\", \"data_subject\", \"fifth_criterion\", \"previously_unknown\", \"handed_over\", \"essential_previously\", \"presumption_innocence\", \"judicial_order\", \"fierce_defender\", \"police_officer\", \"appeal_that\", \"pregnant_woman\", \"which_could\", \"from_criminal\", \"this_area\", \"unknown_information\", \"information_question\", \"prison_term\", \"from_employer\", \"they_with\", \"respect_private\", \"operator_search\", \"breach_professional\", \"over_applicant\", \"theft_from\", \"that_judicial\", \"article_right\", \"scope_case\", \"court_appeal\", \"personal_data\", \"federal_constitutional\", \"article_civil\", \"civil_code\", \"data_protection\", \"article_question\", \"parliamentary_assembly\", \"criminal_court\", \"private_life\", \"regional_court\", \"criminal_liability\", \"public_prosecutor\", \"constitutional_court\", \"that_judge\", \"military_service\", \"supreme_administrative\", \"professional_military\", \"applicant_association\", \"public_office\", \"ministry_state\", \"with_ministry\", \"information_request\", \"service_contract\", \"misconduct_public\", \"from_military\", \"administrative_court\", \"minister_defence\", \"into_judiciary\", \"federal_commissioner\", \"that_disclosure\", \"national_republican\", \"republican_guard\", \"real_property\", \"dealt_with\", \"discharge_from\", \"from_army\", \"foreign_intelligence\", \"seriousness_test\", \"taxation_data\", \"applicant_request\", \"intelligence_service\", \"serve_until\", \"thirteen_public\", \"abuse_trust\", \"state_security\", \"public_prosecutor\", \"access_information\", \"constitutional_court\", \"personal_data\", \"from_professional\", \"wall_account\", \"hatred_violence\", \"hate_speech\", \"cassation_criminal\", \"person_group\", \"paragraph_section\", \"public_communication\", \"posted_wall\", \"been_aware\", \"were_posted\", \"public_radio\", \"discrimination_against\", \"political_debate\", \"account_holder\", \"constitutional_council\", \"division_appeal\", \"division_bull\", \"electronic_public\", \"nonpecuniary_damages\", \"advertising_marketing\", \"against_person\", \"communication_service\", \"feeling_rejection\", \"racist_hate\", \"judicial_service\", \"hostility_discrimination\", \"intimidation_hostility\", \"violence_intimidation\", \"that_appellate\", \"article_written\", \"criminal_division\", \"appellate_court\", \"violence_against\", \"general_search\", \"court_cassation\", \"criminal_liability\", \"election_campaign\", \"responsible_journalism\", \"criminal_court\", \"constitutional_court\", \"incitement_hatred\", \"publication_article\", \"access_information\", \"publish_advertisement\", \"section_press\", \"that_advertisement\", \"refusal_publish\", \"pleural_cancer\", \"editorial_profile\", \"regional_commercial\", \"combination_with\", \"super_express\", \"value_judgment\", \"that_refusal\", \"publication_advertisement\", \"staff_meeting\", \"nonpecuniary_damage\", \"press_conference\", \"regulatory_body\", \"acceptable_criticism\", \"that_newspaper\", \"effective_exercise\", \"court_view\", \"legal_question\", \"interpretation_section\", \"advertisement_could\", \"that_company\", \"among_many\", \"many_other\", \"unfair_competition\", \"between_private\", \"about_book\", \"commercial_freedom\", \"high_court\", \"commercial_court\", \"labour_court\", \"factual_basis\", \"first_applicant\", \"with_editorial\", \"warsaw_court\", \"supreme_court\", \"second_applicant\", \"warsaw_regional\", \"court_appeal\", \"article_question\", \"criminal_code\", \"radio_television\", \"national_radio\", \"television_council\", \"hidden_camera\", \"former_husband\", \"first_video\", \"that_claimant\", \"right_impart\", \"application_annulment\", \"code_journalistic\", \"tourism_association\", \"second_third\", \"information_society\", \"electronic_gambling\", \"gambling_arcade\", \"right_image\", \"section_media\", \"been_present\", \"claimant_been\", \"news_whose\", \"prosecutor_anna\", \"press_release\", \"member_parliament\", \"news_portal\", \"present_scene\", \"contact_claimant\", \"involved_drug\", \"third_person\", \"there_public\", \"publication_anonymous\", \"applicant_company\", \"company_that\", \"service_provider\", \"journalistic_ethics\", \"supreme_court\", \"factual_basis\", \"court_appeal\", \"article_code\", \"president_court\", \"professional_integrity\", \"justice_system\", \"applicant_article\", \"moral_professional\", \"comrade_prosecutor\", \"communist_regime\", \"professional_activity\", \"officer_court\", \"during_communist\", \"professional_file\", \"circular_letter\", \"article_concerned\", \"duty_discretion\", \"worked_prosecutor\", \"prosecutor_during\", \"minister_justice\", \"code_been\", \"final_judgment\", \"opinion_expressed\", \"that_disciplinary\", \"decision_introduce\", \"during_communism\", \"expressed_moral\", \"introduce_code\", \"promotion_court\", \"against_decision\", \"very_good\", \"unknown_soldier\", \"article_been\", \"court_cassation\", \"significant_disadvantage\", \"regional_court\", \"judicial_investigation\", \"district_court\", \"suggesting_that\", \"office_manager\", \"sentence_enforcement\", \"instant_case\", \"under_prohibition\", \"presidential_candidate\", \"criminal_record\", \"after_release\", \"enforcement_judge\", \"former_prime\", \"applicant_journalist\", \"that_conviction\", \"press_badge\", \"refrain_from\", \"leave_scene\", \"news_item\", \"police_order\", \"information_about\", \"sentence_been\", \"conviction_release\", \"federal_president\", \"lapse_time\", \"manager_presidential\", \"time_publication\", \"publication_that\", \"from_prison\", \"legitimate_person\", \"time_report\", \"that_picture\", \"been_executed\", \"been_parole\", \"prime_minister\", \"without_consent\", \"chapter_section\", \"penal_code\", \"that_police\", \"supreme_court\", \"article_penal\", \"applicant_company\", \"private_life\", \"district_court\", \"interest_publication\", \"connection_between\", \"company_that\", \"first_applicant\", \"publication_article\", \"board_newspaper\", \"liable_defamation\", \"access_public\", \"hearing_camera\", \"ethnic_discord\", \"appeal_hearing\", \"public_hearing\", \"against_second\", \"sitting_judge\", \"retraction_statement\", \"against_editorial\", \"special_investigative\", \"glory_russia\", \"discord_between\", \"justice_peace\", \"administrative_code\", \"general_administrative\", \"collector_funds\", \"legal_entity\", \"upon_receipt\", \"judgment_against\", \"that_video\", \"information_public\", \"case_material\", \"chief_federal\", \"last_sentence\", \"relevant_court\", \"disciplinary_board\", \"hold_appeal\", \"public_from\", \"editorial_board\", \"publish_retraction\", \"criminal_case\", \"third_applicant\", \"second_applicant\", \"first_applicant\", \"author_article\", \"public_information\", \"that_first\", \"criminal_code\", \"district_court\", \"first_second\", \"article_criminal\", \"access_information\", \"regional_court\", \"appellate_court\", \"breach_peace\", \"statistical_data\", \"district_administration\", \"public_nudity\", \"diplomatic_service\", \"crime_statistics\", \"state_municipal\", \"statistics_service\", \"naked_public\", \"contempt_court\", \"such_information\", \"wear_clothes\", \"subsection_point\", \"stated_case\", \"police_department\", \"liable_under\", \"judicial_review\", \"arrest_prosecution\", \"being_naked\", \"conviction_imprisonment\", \"sheriff_court\", \"with_breach\", \"official_capacity\", \"point_diplomatic\", \"their_official\", \"victim_homicide\", \"information_applicant\", \"information_number\", \"information_specific\", \"information_state\", \"access_official\", \"city_court\", \"right_access\", \"receive_information\", \"access_information\", \"criminal_code\", \"section_subsection\", \"prosecution_conviction\", \"from_office\", \"commit_suicide\", \"municipal_branch\", \"general_guide\", \"branch_office\", \"under_section\", \"euthanasia_suicide\", \"head_municipal\", \"violation_section\", \"with_plastic\", \"that_specific\", \"count_applicant\", \"term_exceeding\", \"encouragement_suicide\", \"punishable_under\", \"that_patient\", \"news_magazine\", \"office_building\", \"post_office\", \"specific_advice\", \"health_care\", \"circumstance_that\", \"wide_margin\", \"information_suicide\", \"through_with\", \"suicide_been\", \"scope_section\", \"terminally_dying\", \"suicide_suicide\", \"ending_life\", \"rubber_band\", \"that_penalty\", \"imprisonment_term\", \"section_penal\", \"penal_code\", \"inter_that\", \"provided_inter\", \"article_provided\", \"another_person\", \"supreme_court\", \"high_court\", \"general_information\", \"court_first\", \"first_instance\"], \"Freq\": [99.0, 70.0, 50.0, 53.0, 33.0, 43.0, 42.0, 26.0, 25.0, 25.0, 20.0, 22.0, 21.0, 23.0, 33.0, 16.0, 15.0, 15.0, 18.0, 17.0, 17.0, 33.0, 28.0, 24.0, 11.0, 15.0, 14.0, 12.0, 13.0, 11.0, 21.256456224393155, 14.020713171965715, 13.286602132983653, 9.86720935901468, 9.41962695910154, 8.867197571083972, 8.314767051872298, 7.209898660687261, 6.578836011181058, 6.104802899486915, 6.10378878397087, 5.06176105336036, 5.000110974582417, 5.0000221758450945, 4.99985023434098, 4.719441920982662, 4.447643408763771, 4.447643408763771, 4.193554871468685, 3.8951639654070114, 3.8951639654070114, 3.7762166427710775, 3.7097021465387323, 3.4391414434703496, 3.3426700993254004, 3.3426700993254004, 3.3426700993254004, 3.34235704135656, 3.3421350445132543, 3.3421350445132543, 43.410872429248556, 30.523347658509074, 5.316395109013072, 5.542637323798855, 6.264276382165025, 10.595691576125201, 7.104931200410542, 4.448659786668027, 5.900622363350787, 5.813076423500841, 6.108687985644031, 5.447220535359241, 6.430248574982205, 5.033146367254546, 4.473987505500282, 50.250955674440746, 25.91685029443459, 25.68548198450985, 25.13958351966203, 22.654797546915926, 18.042851700276437, 17.49694985870923, 17.24754198826004, 13.67566735821324, 12.583786010532984, 12.037957331219106, 69.46775763588838, 10.40024167635933, 10.400197779007334, 9.854290309574486, 9.854256542380643, 9.308095256207402, 9.308095256207402, 8.7625237703533, 8.762467491696894, 8.216607296335427, 8.216607296335427, 8.169265690566515, 7.670554065182487, 7.649833952253409, 7.124784478457834, 6.783598500714509, 6.578857874281809, 6.578785837601608, 6.578685661593205, 21.987969756328674, 19.875775502746826, 17.755579549797144, 18.49725682783154, 11.291356796322292, 7.670693636250374, 11.525757201369718, 9.411083619901955, 32.89646345148653, 8.389710264679524, 6.555533027256944, 6.298984933408748, 6.298984933408748, 5.776295630078544, 5.253601979196061, 4.730901082393113, 4.728401239832813, 4.208191007424243, 4.208191007424243, 4.208191007424243, 4.208191007424243, 4.208191007424243, 4.208191007424243, 4.208191007424243, 4.206756798233609, 3.8416640912331115, 3.8256648573165117, 3.685469822043994, 3.685469822043994, 3.685469822043994, 3.684244295362742, 3.6612319765591024, 3.661230285844327, 3.66122835359887, 3.6611986453249648, 3.6108708970844208, 8.98018805232459, 10.826078561708934, 7.932122658355892, 4.726165631838791, 14.665729494706287, 6.772609210904713, 4.708552248373352, 4.731249852698144, 6.318286133281084, 9.600714189075138, 4.209297217948511, 4.906997238261083, 4.405322553462418, 12.508081784071303, 8.988168275400648, 5.227230762630474, 5.227230762630474, 3.6598737205942258, 3.6669984118473806, 3.4947971020055792, 3.4947307170870787, 3.164616048612436, 3.148563520819812, 3.146943869058227, 3.146943869058227, 2.99946159136935, 2.999373701477251, 2.8343569228151404, 2.8341075118713372, 2.6281319397435405, 2.6269101299935325, 2.6269101299935325, 2.6269101299935325, 2.6269101299935325, 2.6269101299935325, 2.6269101299935325, 2.5038007011325836, 2.338677566351044, 2.173541107835862, 2.173431011721025, 2.1068871434156375, 2.1068871434156375, 2.1068871434156375, 4.6506436179952955, 8.943686640009886, 4.980958609974005, 9.054594333850668, 13.5668080992936, 3.668363510171476, 4.765005665095234, 11.639909169909933, 6.795760526976993, 4.482823011525389, 5.798545916237973, 3.6594076236664437, 2.628572324202889, 20.387055498054192, 15.600454322776272, 15.167876501788639, 10.842042803415787, 6.971705174779317, 7.381237273445133, 4.79998102646063, 5.218034733486122, 4.785348934883653, 4.785348934883653, 4.365475730063735, 4.35263764156657, 3.880737222665274, 3.9198937300116725, 3.9198937300116725, 3.9198937300116725, 3.613856300553929, 3.496888049594715, 3.496888049594715, 3.4871093268512117, 3.062506102625878, 3.0545508143606748, 3.0542746841060704, 2.916491498353749, 2.9045997136754864, 2.6281147826001976, 2.6281147826001976, 2.6279344449865323, 2.6279344449865323, 2.6279344449865323, 72.8481956209159, 11.563496736625584, 4.15679099312577, 4.783271865487173, 6.804423104529685, 4.801111042193661, 3.802716647345989, 16.535643020728376, 11.722869330862197, 9.841336474077343, 9.615144679606763, 6.717281481989517, 6.270979845512151, 5.378366102550102, 4.932052126421257, 4.039403608077769, 4.039403608077769, 4.039403608077769, 4.039403608077769, 3.705062246970796, 3.593065700503631, 3.593065700503631, 3.593065700503631, 3.1467199404240067, 3.1385110807598395, 2.700369132305141, 2.700369132305141, 2.700369132305141, 2.700369132305141, 2.700369132305141, 2.700369132305141, 2.700369132305141, 2.700369132305141, 2.700369132305141, 2.679830156347252, 2.536957184377911, 2.4305525566392925, 4.932790635865831, 24.665355412451763, 3.59371895417435, 4.3863568408538995, 2.7136746419589493, 2.7138907728242474, 2.700369132305141, 7.001549660530848, 5.448868169269471, 5.062127042745187, 5.062127042745187, 4.674230770795426, 4.286328726514028, 4.286328726514028, 4.139477893247361, 4.08152402314895, 3.5097861190504633, 3.1225866014843233, 3.1219580964336013, 2.7340212483879136, 2.7341382229908167, 2.7277596267561672, 2.556525446003067, 2.35857012345007, 2.346747539382777, 2.346747539382777, 2.346747539382777, 2.346747539382777, 2.346747539382777, 1.9588492301394969, 1.9588492301394969, 1.9588492301394969, 1.9588492301394969, 1.9588492301394969, 1.9588492301394969, 1.9588492301394969, 1.9588492301394969, 6.173660804949989, 3.151164736327114, 3.2123809924478564, 9.235944536908082, 5.80352803474443, 14.113873760687575, 4.1451266290787, 22.777658673738664, 5.72434862211459, 4.508526144202783, 3.1225794709570054, 2.7376118084413217, 3.5103039311533, 3.220113200451659, 2.672437939884767, 2.5710355704333954, 2.5502757919377097, 2.056665817664558, 2.0161504233752865, 2.0161388812752623, 1.6831698877346357, 1.5721683313604626, 1.461177398964721, 1.3502061406031112, 1.3501800397178292, 1.3501772853530507, 1.3501787281155537, 1.239193829090279, 1.1282223084082144, 1.128214569954789, 1.1282185047616156, 1.128213389512741, 1.1281984372468008, 1.1281954205615672, 1.0417727661887937, 1.0172116363982266, 0.9062306065996647, 0.9062314591411438, 0.9062275899144311, 0.9062200482013472, 0.9062193268200956, 0.9062192612399819, 0.795243412270408, 0.7952406579056295, 0.7952391495630127, 5.345749858224544, 2.7714769910548336, 2.6820881481360845, 1.6831794624312468, 5.789713587807512, 5.678741542484537, 1.2391795326254766, 1.5721813162229898, 1.4611753004010801, 1.85210189993109, 1.5721768567752532, 1.4612395689125781, 1.2392195364948784, 1.3894557075363265, 1.2392389482085553, 1.1804160781980444, 6.68595007448186, 4.219654038662992, 2.684532464549303, 2.5819533613133725, 2.4793637853261052, 2.2795157624844107, 2.2795157624844107, 2.2795157624844107, 1.9663551883671386, 1.9663525701793045, 1.9561888896826198, 1.8637410512844745, 1.8637385577722516, 1.7611484830825397, 1.632886203949392, 1.632886203949392, 1.453357313510731, 1.4533427264642262, 1.4533419784105595, 1.3507504076135137, 1.350744049157345, 1.3507455452646788, 1.3507507816403472, 1.3507452959134565, 1.3507386881060655, 1.350647924261147, 1.3096075806091168, 1.3096075806091168, 1.3096075806091168, 1.3096075806091168, 3.5845607144278255, 2.5819304210009206, 2.2629476205184824, 2.280623879316326, 2.8892784934506968, 2.22129424688642, 1.5559716999446174, 1.5564866102186732, 1.3507475400744573, 0.9785810944845067, 0.7232959243712396, 0.5701005227263662, 0.5190437595768415, 0.5190392450246978, 0.5190298773289997, 0.4679929217770052, 0.3658482168522136, 0.31480195003642275, 0.3147979715873462, 0.31479063544011276, 0.31479060722416186, 0.31478541548919664, 0.3147811266646602, 0.314766821177555, 0.2637408134145088, 0.2637380764672717, 0.26373412623414605, 0.2637334208353736, 0.26373026064887306, 0.26372772121329224, 0.2637274954856851, 0.2637249842660552, 0.26372247304642527, 0.2637217394317019, 0.2637206390096169, 0.2637180431421343, 0.2637179584942816, 0.2637166041286385, 0.2637055716918375, 0.7839725209560484, 0.4168894612287446, 1.2337277807107674, 1.335763995304357, 0.6211239346219298, 0.416901763383336, 0.4168872603845746, 0.3148106123333484, 0.7235666846360547, 0.46798677069970945, 0.31474114466223807, 0.3147417936291087, 0.3147481704340116], \"Total\": [99.0, 70.0, 50.0, 53.0, 33.0, 43.0, 42.0, 26.0, 25.0, 25.0, 20.0, 22.0, 21.0, 23.0, 33.0, 16.0, 15.0, 15.0, 18.0, 17.0, 17.0, 33.0, 28.0, 24.0, 11.0, 15.0, 14.0, 12.0, 13.0, 11.0, 21.453373755636335, 14.217566727280643, 13.483160418479887, 10.063859025345753, 9.616185244597775, 9.063755856580206, 8.511325337368532, 7.406456946183496, 6.775490627209077, 6.301371704776533, 6.300942921225824, 5.258519648502263, 5.196669260078652, 5.196581582599236, 5.196417318724488, 4.916099623898123, 4.644201694260006, 4.644201694260006, 4.390187898758175, 4.0917222509032465, 4.0917222509032465, 3.9754453493538633, 3.9063916603444753, 3.635787121553424, 3.5392283848216346, 3.5392283848216346, 3.5392283848216346, 3.5389214122938095, 3.5387286778421587, 3.5387286778421587, 53.15887870310488, 42.53722549376031, 6.018221283949412, 6.72950240988187, 8.282656872134142, 17.02694798219864, 11.34384503578722, 6.023358614922703, 12.812099461243058, 13.31409410345623, 15.825451887881664, 12.388637861165265, 28.061815806398165, 33.27170084882361, 7.550863304535387, 50.44786118958026, 26.113998750704322, 25.88238747482233, 25.336489002212907, 22.851797173441856, 18.239763425819802, 17.69386139270834, 17.444549475259496, 13.872572840764116, 12.780695616971004, 12.234862813769983, 70.69227384072502, 10.59714715802846, 10.597106881974383, 10.051199232044095, 10.051165255432183, 9.505022894089345, 9.505022894089345, 8.959429242687339, 8.959376057910319, 8.413512768669467, 8.413512768669467, 8.366610369524741, 7.867462051020012, 7.846980979146506, 7.321689950791875, 6.980872843896968, 6.775763346615849, 6.775693708657603, 6.775593287881313, 23.009906184176586, 28.061815806398165, 29.762895235655783, 33.27170084882361, 42.53722549376031, 9.65154100711724, 11.723899592270607, 9.609276369406441, 33.651796701928696, 8.587852655580413, 6.753864486907745, 6.497127324309638, 6.497127324309638, 5.974438020979433, 5.45174437009695, 4.929043473294002, 4.927496394131954, 4.406333398325132, 4.406333398325132, 4.406333398325132, 4.406333398325132, 4.406333398325132, 4.406333398325132, 4.406333398325132, 4.405051148013427, 4.039975452057283, 4.024144016985321, 3.883612212944883, 3.883612212944883, 3.883612212944883, 3.8824790947493195, 3.859399369367282, 3.859398687168292, 3.859396874315793, 3.8593819947357546, 3.809099540630771, 9.828485282533913, 12.18617650824818, 8.90073265000282, 5.805697399242104, 43.52409197700034, 12.388637861165265, 6.1811870520611025, 6.445516295734634, 12.812099461243058, 33.27170084882361, 5.2564984074061725, 8.457801995749668, 29.762895235655783, 12.712705731174758, 9.188151984252423, 5.427740911615987, 5.427740911615987, 3.8583489681788916, 3.866613889219864, 3.69326152875396, 3.6932075121794403, 3.362994835544831, 3.3468407083865297, 3.34627732452548, 3.34627732452548, 3.1978649201971794, 3.197864309206298, 3.0327276399915184, 3.032688360309689, 2.826405650249153, 2.825978350005282, 2.825978350005282, 2.825978350005282, 2.825978350005282, 2.825978350005282, 2.825978350005282, 2.7024599163627565, 2.5372620870166394, 2.372120448128902, 2.372199206195592, 2.305714170953411, 2.305714170953411, 2.305714170953411, 5.308709355424294, 10.693880129179318, 5.871641827904822, 14.031353203113385, 24.357800791648163, 4.910230240274551, 7.6653768438070085, 33.42864530454416, 15.125379330417482, 7.657439424976754, 53.15887870310488, 11.34384503578722, 13.491671471239963, 20.628471702626726, 15.875774465530633, 15.440985929552637, 11.093051779904304, 7.174557003378614, 7.614568320924824, 5.00283130959526, 5.4404107110873685, 5.005580844195111, 5.005580844195111, 4.568349439024931, 4.570761631910574, 4.084417461342253, 4.1359616534180725, 4.1359616534180725, 4.1359616534180725, 3.8167608098983896, 3.6997375215252735, 3.6997375215252735, 3.7011928740818996, 3.2653553085518494, 3.257617096082236, 3.266467449827566, 3.1197282589285265, 3.1074811894664554, 2.830963715926427, 2.830963715926427, 2.830796426500933, 2.830796426500933, 2.830796426500933, 99.10831394193221, 15.306833744037302, 5.350295896993726, 7.095271639746696, 33.42864530454416, 14.031353203113385, 53.15887870310488, 16.73786168741287, 11.92583356816061, 10.043551155101888, 9.817556127846531, 6.919494501140078, 6.473192638334479, 5.580578444109075, 5.134264248705983, 4.241615288798372, 4.241615288798372, 4.241615288798372, 4.241615288798372, 3.9074605606139157, 3.795277163713485, 3.795277163713485, 3.795277163713485, 3.348931182472656, 3.341074633450874, 2.902580149665592, 2.902580149665592, 2.902580149665592, 2.902580149665592, 2.902580149665592, 2.902580149665592, 2.902580149665592, 2.902580149665592, 2.902580149665592, 2.882075037730179, 2.7392359222771563, 2.6328945607273733, 5.647512363953512, 43.52409197700034, 5.603241461568424, 15.825451887881664, 3.791992312721446, 9.768232938854723, 4.46230585211455, 7.20688794679004, 5.654694083904905, 5.267460091070528, 5.267460091070528, 4.879562856057994, 4.491659867743781, 4.491659867743781, 4.347393878592261, 4.287158932763778, 3.715764176179839, 3.3279149024850083, 3.3278078602439374, 2.9394674536172283, 2.939864914208036, 2.933288433736325, 2.7619300439962013, 2.564069951944502, 2.5520737718911968, 2.5520737718911968, 2.5520737718911968, 2.5520737718911968, 2.5520737718911968, 2.164174332228634, 2.164174332228634, 2.164174332228634, 2.164174332228634, 2.164174332228634, 2.164174332228634, 2.164174332228634, 2.164174332228634, 7.69997887361229, 3.65025031652627, 3.8096052636970996, 13.55623395361678, 9.538057353094977, 33.42864530454416, 6.1667744766071495, 99.10831394193221, 13.31409410345623, 9.768232938854723, 5.498408235490904, 3.95528151829763, 15.306833744037302, 24.357800791648163, 8.457801995749668, 2.778527563522786, 2.757953115063721, 2.2642387785622367, 2.22353495166905, 2.2235377142305945, 1.8905608281671935, 1.779567441525855, 1.6685843393200808, 1.557582111658117, 1.557593778835516, 1.5575964091262033, 1.5575990922863934, 1.4465897886575658, 1.3355919210016653, 1.3355932878002088, 1.3356002166448484, 1.3356032263235138, 1.3356068342288963, 1.3356067661796187, 1.2493925197618314, 1.2246099077041162, 1.1136034830632926, 1.113611475445915, 1.1136136789188422, 1.1136146502582558, 1.1136140839105395, 1.1136161895272376, 1.0026102539069908, 1.0026092336219017, 1.002607787383813, 7.20415578402873, 3.8061725403111364, 4.466455781816471, 2.5910100450509854, 15.125379330417482, 24.357800791648163, 1.9413685475507705, 3.1000671602739738, 3.319340241565994, 13.491671471239963, 9.768232938854723, 8.113886532829305, 4.196570738997945, 29.762895235655783, 15.825451887881664, 12.18617650824818, 6.895137659086052, 4.428806318151718, 2.89349664431355, 2.7908663742566517, 2.6883042350442565, 2.488400281024331, 2.488400281024331, 2.488400281024331, 2.175217798939182, 2.1752177381846844, 2.16503575821137, 2.0726163579934807, 2.0726605775178513, 1.9700109797675414, 1.8417011581062133, 1.8417011581062133, 1.6621823684871782, 1.662187432809491, 1.6621889378549226, 1.5595798474669087, 1.5595766711092236, 1.5595807545076552, 1.5596003331860815, 1.559607708783401, 1.5596097306514716, 1.5595376664782294, 1.5183979336216968, 1.5183979336216968, 1.5183979336216968, 1.5183979336216968, 5.10269010295089, 5.1342901242487855, 7.645672744948178, 9.948355285456767, 29.762895235655783, 13.491671471239963, 4.659801390121006, 8.861336146411247, 2.384706312566401, 1.1963026702647448, 0.9408927502139313, 0.7876845240190576, 0.7365964804840986, 0.7366086599490737, 0.7366226426611362, 0.6855075264696076, 0.5833851594465771, 0.5322848111015347, 0.5322901879130455, 0.5323006088198318, 0.53230062916709, 0.5323075447515118, 0.5323137527423139, 0.5323331059902909, 0.48120244859224026, 0.48120641743270354, 0.4812094536288196, 0.4812127838966935, 0.48121611004423814, 0.48121986209614975, 0.48122020509467955, 0.48122407866813044, 0.4812271691126662, 0.4812282023223424, 0.48122992827892425, 0.4812327889642434, 0.48123379873160815, 0.4812352470192125, 0.48125012331773165, 1.4994491948966142, 0.8801325002917203, 4.033614294050329, 13.55623395361678, 2.828414718850929, 1.794816557250632, 1.9606917646305215, 0.9423986334564691, 33.42864530454416, 5.308709355424294, 1.178779835563918, 5.72658249197139, 6.4183947755183075], \"Category\": [\"Default\", \"Default\", \"Default\", \"Default\", \"Default\", \"Default\", \"Default\", \"Default\", \"Default\", \"Default\", \"Default\", \"Default\", \"Default\", \"Default\", \"Default\", \"Default\", \"Default\", \"Default\", \"Default\", \"Default\", \"Default\", \"Default\", \"Default\", \"Default\", \"Default\", \"Default\", \"Default\", \"Default\", \"Default\", \"Default\", \"Topic1\", \"Topic1\", \"Topic1\", \"Topic1\", \"Topic1\", \"Topic1\", \"Topic1\", \"Topic1\", \"Topic1\", \"Topic1\", \"Topic1\", \"Topic1\", \"Topic1\", \"Topic1\", \"Topic1\", \"Topic1\", \"Topic1\", \"Topic1\", \"Topic1\", \"Topic1\", \"Topic1\", \"Topic1\", \"Topic1\", \"Topic1\", \"Topic1\", \"Topic1\", \"Topic1\", \"Topic1\", \"Topic1\", \"Topic1\", \"Topic1\", \"Topic1\", \"Topic1\", \"Topic1\", \"Topic1\", \"Topic1\", \"Topic1\", \"Topic1\", \"Topic1\", \"Topic1\", \"Topic1\", \"Topic1\", \"Topic1\", \"Topic1\", \"Topic1\", \"Topic2\", \"Topic2\", \"Topic2\", \"Topic2\", \"Topic2\", \"Topic2\", \"Topic2\", \"Topic2\", \"Topic2\", \"Topic2\", \"Topic2\", \"Topic2\", \"Topic2\", \"Topic2\", \"Topic2\", \"Topic2\", \"Topic2\", \"Topic2\", \"Topic2\", \"Topic2\", \"Topic2\", \"Topic2\", \"Topic2\", \"Topic2\", \"Topic2\", \"Topic2\", \"Topic2\", \"Topic2\", \"Topic2\", \"Topic2\", \"Topic2\", \"Topic2\", \"Topic2\", \"Topic2\", \"Topic2\", \"Topic2\", \"Topic3\", \"Topic3\", \"Topic3\", \"Topic3\", \"Topic3\", \"Topic3\", \"Topic3\", \"Topic3\", \"Topic3\", \"Topic3\", \"Topic3\", \"Topic3\", \"Topic3\", \"Topic3\", \"Topic3\", \"Topic3\", \"Topic3\", \"Topic3\", \"Topic3\", \"Topic3\", \"Topic3\", \"Topic3\", \"Topic3\", \"Topic3\", \"Topic3\", \"Topic3\", \"Topic3\", \"Topic3\", \"Topic3\", \"Topic3\", \"Topic3\", \"Topic3\", \"Topic3\", \"Topic3\", \"Topic3\", \"Topic3\", \"Topic3\", \"Topic3\", \"Topic3\", \"Topic3\", \"Topic3\", \"Topic3\", \"Topic3\", \"Topic4\", \"Topic4\", \"Topic4\", \"Topic4\", \"Topic4\", \"Topic4\", \"Topic4\", \"Topic4\", \"Topic4\", \"Topic4\", \"Topic4\", \"Topic4\", \"Topic4\", \"Topic4\", \"Topic4\", \"Topic4\", \"Topic4\", \"Topic4\", \"Topic4\", \"Topic4\", \"Topic4\", \"Topic4\", \"Topic4\", \"Topic4\", \"Topic4\", \"Topic4\", \"Topic4\", \"Topic4\", \"Topic4\", \"Topic4\", \"Topic4\", \"Topic4\", \"Topic4\", \"Topic4\", \"Topic4\", \"Topic4\", \"Topic4\", \"Topic4\", \"Topic4\", \"Topic4\", \"Topic4\", \"Topic4\", \"Topic4\", \"Topic5\", \"Topic5\", \"Topic5\", \"Topic5\", \"Topic5\", \"Topic5\", \"Topic5\", \"Topic5\", \"Topic5\", \"Topic5\", \"Topic5\", \"Topic5\", \"Topic5\", \"Topic5\", \"Topic5\", \"Topic5\", \"Topic5\", \"Topic5\", \"Topic5\", \"Topic5\", \"Topic5\", \"Topic5\", \"Topic5\", \"Topic5\", \"Topic5\", \"Topic5\", \"Topic5\", \"Topic5\", \"Topic5\", \"Topic5\", \"Topic5\", \"Topic5\", \"Topic5\", \"Topic5\", \"Topic5\", \"Topic5\", \"Topic5\", \"Topic6\", \"Topic6\", \"Topic6\", \"Topic6\", \"Topic6\", \"Topic6\", \"Topic6\", \"Topic6\", \"Topic6\", \"Topic6\", \"Topic6\", \"Topic6\", \"Topic6\", \"Topic6\", \"Topic6\", \"Topic6\", \"Topic6\", \"Topic6\", \"Topic6\", \"Topic6\", \"Topic6\", \"Topic6\", \"Topic6\", \"Topic6\", \"Topic6\", \"Topic6\", \"Topic6\", \"Topic6\", \"Topic6\", \"Topic6\", \"Topic6\", \"Topic6\", \"Topic6\", \"Topic6\", \"Topic6\", \"Topic6\", \"Topic6\", \"Topic7\", \"Topic7\", \"Topic7\", \"Topic7\", \"Topic7\", \"Topic7\", \"Topic7\", \"Topic7\", \"Topic7\", \"Topic7\", \"Topic7\", \"Topic7\", \"Topic7\", \"Topic7\", \"Topic7\", \"Topic7\", \"Topic7\", \"Topic7\", \"Topic7\", \"Topic7\", \"Topic7\", \"Topic7\", \"Topic7\", \"Topic7\", \"Topic7\", \"Topic7\", \"Topic7\", \"Topic7\", \"Topic7\", \"Topic7\", \"Topic7\", \"Topic7\", \"Topic7\", \"Topic7\", \"Topic7\", \"Topic7\", \"Topic7\", \"Topic7\", \"Topic7\", \"Topic7\", \"Topic7\", \"Topic7\", \"Topic7\", \"Topic7\", \"Topic7\", \"Topic8\", \"Topic8\", \"Topic8\", \"Topic8\", \"Topic8\", \"Topic8\", \"Topic8\", \"Topic8\", \"Topic8\", \"Topic8\", \"Topic8\", \"Topic8\", \"Topic8\", \"Topic8\", \"Topic8\", \"Topic8\", \"Topic8\", \"Topic8\", \"Topic8\", \"Topic8\", \"Topic8\", \"Topic8\", \"Topic8\", \"Topic8\", \"Topic8\", \"Topic8\", \"Topic8\", \"Topic8\", \"Topic8\", \"Topic8\", \"Topic8\", \"Topic8\", \"Topic8\", \"Topic8\", \"Topic8\", \"Topic8\", \"Topic8\", \"Topic8\", \"Topic8\", \"Topic8\", \"Topic8\", \"Topic8\", \"Topic8\", \"Topic8\", \"Topic8\", \"Topic8\", \"Topic9\", \"Topic9\", \"Topic9\", \"Topic9\", \"Topic9\", \"Topic9\", \"Topic9\", \"Topic9\", \"Topic9\", \"Topic9\", \"Topic9\", \"Topic9\", \"Topic9\", \"Topic9\", \"Topic9\", \"Topic9\", \"Topic9\", \"Topic9\", \"Topic9\", \"Topic9\", \"Topic9\", \"Topic9\", \"Topic9\", \"Topic9\", \"Topic9\", \"Topic9\", \"Topic9\", \"Topic9\", \"Topic9\", \"Topic9\", \"Topic9\", \"Topic9\", \"Topic9\", \"Topic9\", \"Topic9\", \"Topic9\", \"Topic9\", \"Topic9\", \"Topic9\", \"Topic10\", \"Topic10\", \"Topic10\", \"Topic10\", \"Topic10\", \"Topic10\", \"Topic10\", \"Topic10\", \"Topic10\", \"Topic10\", \"Topic10\", \"Topic10\", \"Topic10\", \"Topic10\", \"Topic10\", \"Topic10\", \"Topic10\", \"Topic10\", \"Topic10\", \"Topic10\", \"Topic10\", \"Topic10\", \"Topic10\", \"Topic10\", \"Topic10\", \"Topic10\", \"Topic10\", \"Topic10\", \"Topic10\", \"Topic10\", \"Topic10\", \"Topic10\", \"Topic10\", \"Topic10\", \"Topic10\", \"Topic10\", \"Topic10\", \"Topic10\", \"Topic10\", \"Topic10\", \"Topic10\", \"Topic10\", \"Topic10\"], \"logprob\": [30.0, 29.0, 28.0, 27.0, 26.0, 25.0, 24.0, 23.0, 22.0, 21.0, 20.0, 19.0, 18.0, 17.0, 16.0, 15.0, 14.0, 13.0, 12.0, 11.0, 10.0, 9.0, 8.0, 7.0, 6.0, 5.0, 4.0, 3.0, 2.0, 1.0, -5.4318, -5.8479, -5.9017, -6.1993, -6.2457, -6.3061, -6.3704, -6.513, -6.6046, -6.6794, -6.6796, -6.8668, -6.879, -6.879, -6.8791, -6.9368, -6.9961, -6.9961, -7.0549, -7.1287, -7.1287, -7.1598, -7.1775, -7.2533, -7.2817, -7.2817, -7.2817, -7.2818, -7.2819, -7.2819, -4.7178, -5.07, -6.8177, -6.776, -6.6536, -6.128, -6.5277, -6.9959, -6.7134, -6.7284, -6.6788, -6.7934, -6.6275, -6.8724, -6.9902, -4.5665, -5.2286, -5.2376, -5.259, -5.3631, -5.5907, -5.6215, -5.6358, -5.8679, -5.9511, -5.9954, -4.2426, -6.1417, -6.1417, -6.1956, -6.1956, -6.2526, -6.2526, -6.313, -6.313, -6.3773, -6.3773, -6.3831, -6.4461, -6.4488, -6.5199, -6.569, -6.5996, -6.5996, -6.5997, -5.393, -5.494, -5.6068, -5.5659, -6.0595, -6.4461, -5.8862, -6.0888, -4.8374, -6.2037, -6.4504, -6.4903, -6.4903, -6.577, -6.6718, -6.7766, -6.7771, -6.8937, -6.8937, -6.8937, -6.8937, -6.8937, -6.8937, -6.8937, -6.894, -6.9848, -6.989, -7.0263, -7.0263, -7.0263, -7.0267, -7.0329, -7.0329, -7.0329, -7.0329, -7.0468, -6.1357, -5.9488, -6.2598, -6.7776, -5.6452, -6.4178, -6.7814, -6.7765, -6.4873, -6.0689, -6.8934, -6.7401, -6.8479, -5.7716, -6.1021, -6.6441, -6.6441, -7.0006, -6.9986, -7.0467, -7.0467, -7.146, -7.151, -7.1516, -7.1516, -7.1996, -7.1996, -7.2562, -7.2563, -7.3317, -7.3322, -7.3322, -7.3322, -7.3322, -7.3322, -7.3322, -7.3802, -7.4484, -7.5216, -7.5217, -7.5528, -7.5528, -7.5528, -6.761, -6.107, -6.6924, -6.0947, -5.6904, -6.9982, -6.7367, -5.8435, -6.3817, -6.7977, -6.5404, -7.0007, -7.3315, -5.0624, -5.33, -5.3581, -5.6939, -6.1355, -6.0784, -6.5087, -6.4252, -6.5118, -6.5118, -6.6036, -6.6065, -6.7213, -6.7112, -6.7112, -6.7112, -6.7925, -6.8254, -6.8254, -6.8282, -6.9581, -6.9607, -6.9608, -7.0069, -7.011, -7.111, -7.111, -7.1111, -7.1111, -7.1111, -3.7889, -5.6295, -6.6526, -6.5122, -6.1597, -6.5085, -6.7416, -5.2691, -5.6131, -5.7881, -5.8113, -6.17, -6.2387, -6.3923, -6.4789, -6.6786, -6.6786, -6.6786, -6.6786, -6.765, -6.7957, -6.7957, -6.7957, -6.9283, -6.9309, -7.0813, -7.0813, -7.0813, -7.0813, -7.0813, -7.0813, -7.0813, -7.0813, -7.0813, -7.0889, -7.1437, -7.1865, -6.4788, -4.8693, -6.7955, -6.5962, -7.0764, -7.0763, -7.0813, -6.0321, -6.2828, -6.3564, -6.3564, -6.4361, -6.5228, -6.5228, -6.5576, -6.5717, -6.7227, -6.8395, -6.8397, -6.9724, -6.9724, -6.9747, -7.0396, -7.1202, -7.1252, -7.1252, -7.1252, -7.1252, -7.1252, -7.3059, -7.3059, -7.3059, -7.3059, -7.3059, -7.3059, -7.3059, -7.3059, -6.1579, -6.8304, -6.8112, -5.7551, -6.2197, -5.3311, -6.5563, -4.8524, -6.2335, -6.4722, -6.8395, -6.9711, -6.7225, -6.8088, -6.9952, -6.7758, -6.784, -6.9991, -7.019, -7.019, -7.1995, -7.2677, -7.3409, -7.4199, -7.4199, -7.4199, -7.4199, -7.5057, -7.5995, -7.5995, -7.5995, -7.5995, -7.5995, -7.5995, -7.6792, -7.7031, -7.8186, -7.8186, -7.8186, -7.8186, -7.8186, -7.8186, -7.9493, -7.9493, -7.9493, -6.0439, -6.7008, -6.7336, -7.1995, -5.9641, -5.9834, -7.5057, -7.2677, -7.3409, -7.1038, -7.2677, -7.3409, -7.5057, -7.3912, -7.5057, -7.5543, -5.7694, -6.2297, -6.6819, -6.7209, -6.7615, -6.8455, -6.8455, -6.8455, -6.9933, -6.9933, -6.9985, -7.0469, -7.0469, -7.1035, -7.1791, -7.1791, -7.2956, -7.2956, -7.2956, -7.3688, -7.3688, -7.3688, -7.3688, -7.3688, -7.3688, -7.3689, -7.3997, -7.3997, -7.3997, -7.3997, -6.3928, -6.7209, -6.8528, -6.845, -6.6084, -6.8714, -7.2274, -7.227, -7.3688, -6.8984, -7.2007, -7.4387, -7.5325, -7.5325, -7.5326, -7.6361, -7.8823, -8.0326, -8.0326, -8.0326, -8.0326, -8.0326, -8.0327, -8.0327, -8.2096, -8.2096, -8.2096, -8.2096, -8.2096, -8.2096, -8.2096, -8.2096, -8.2096, -8.2096, -8.2096, -8.2096, -8.2096, -8.2097, -8.2097, -7.1202, -7.7517, -6.6667, -6.5873, -7.353, -7.7517, -7.7517, -8.0326, -7.2003, -7.6361, -8.0328, -8.0328, -8.0328], \"loglift\": [30.0, 29.0, 28.0, 27.0, 26.0, 25.0, 24.0, 23.0, 22.0, 21.0, 20.0, 19.0, 18.0, 17.0, 16.0, 15.0, 14.0, 13.0, 12.0, 11.0, 10.0, 9.0, 8.0, 7.0, 6.0, 5.0, 4.0, 3.0, 2.0, 1.0, 1.8935, 1.8888, 1.888, 1.883, 1.8821, 1.8808, 1.8794, 1.8758, 1.8733, 1.871, 1.8709, 1.8646, 1.8642, 1.8642, 1.8642, 1.8619, 1.8595, 1.8595, 1.8569, 1.8535, 1.8535, 1.8513, 1.8511, 1.8471, 1.8456, 1.8456, 1.8456, 1.8456, 1.8456, 1.8456, 1.7002, 1.5708, 1.7787, 1.7087, 1.6234, 1.4284, 1.4348, 1.5997, 1.1274, 1.074, 0.9508, 1.0811, 0.4293, 0.0141, 1.3794, 1.9038, 1.9001, 1.9001, 1.8999, 1.8991, 1.8969, 1.8965, 1.8964, 1.8934, 1.8922, 1.8915, 1.8902, 1.889, 1.889, 1.8879, 1.8879, 1.8868, 1.8868, 1.8855, 1.8855, 1.884, 1.884, 1.8838, 1.8824, 1.8823, 1.8805, 1.8791, 1.8782, 1.8782, 1.8782, 1.8623, 1.5628, 1.3912, 1.3206, 0.5814, 1.678, 2.0434, 2.0396, 2.0378, 2.0371, 2.0307, 2.0295, 2.0295, 2.0267, 2.0235, 2.0194, 2.0192, 2.0145, 2.0145, 2.0145, 2.0145, 2.0145, 2.0145, 2.0145, 2.0144, 2.0101, 2.0099, 2.0081, 2.0081, 2.0081, 2.0081, 2.0078, 2.0078, 2.0078, 2.0078, 2.007, 1.9702, 1.9421, 1.9453, 1.8547, 0.9727, 1.4566, 1.7883, 1.7513, 1.3535, 0.8176, 1.8383, 1.516, 0.15, 2.077, 2.0712, 2.0556, 2.0556, 2.0404, 2.0402, 2.038, 2.038, 2.0324, 2.0321, 2.0318, 2.0318, 2.0292, 2.0291, 2.0256, 2.0255, 2.0205, 2.0202, 2.0202, 2.0202, 2.0202, 2.0202, 2.0202, 2.0169, 2.0117, 2.0058, 2.0057, 2.003, 2.003, 2.003, 1.9609, 1.9145, 1.9287, 1.6552, 1.508, 1.8016, 1.6178, 1.0382, 1.2931, 1.5578, -0.1225, 0.9618, 0.4576, 2.3021, 2.2964, 2.2961, 2.291, 2.2852, 2.2828, 2.2725, 2.2722, 2.2689, 2.2689, 2.2685, 2.265, 2.2627, 2.2602, 2.2602, 2.2602, 2.2593, 2.2575, 2.2575, 2.2543, 2.2498, 2.2495, 2.2467, 2.2465, 2.2464, 2.2395, 2.2395, 2.2395, 2.2395, 2.2395, 2.0061, 2.0335, 2.0615, 1.9196, 0.7221, 1.2415, -0.3237, 2.3044, 2.2994, 2.2962, 2.2957, 2.2869, 2.2848, 2.2796, 2.2764, 2.2677, 2.2677, 2.2677, 2.2677, 2.2634, 2.2618, 2.2618, 2.2618, 2.2543, 2.254, 2.2443, 2.2443, 2.2443, 2.2443, 2.2443, 2.2443, 2.2443, 2.2443, 2.2443, 2.2438, 2.2398, 2.2366, 2.1812, 1.7486, 1.8724, 1.0334, 1.982, 1.0358, 1.8143, 2.3841, 2.3759, 2.3732, 2.3732, 2.37, 2.3662, 2.3662, 2.364, 2.3638, 2.356, 2.3493, 2.3491, 2.3405, 2.3405, 2.3404, 2.3357, 2.3295, 2.3291, 2.3291, 2.3291, 2.3291, 2.3291, 2.3133, 2.3133, 2.3133, 2.3133, 2.3133, 2.3133, 2.3133, 2.3133, 2.1921, 2.266, 2.2425, 2.0293, 1.9162, 1.5507, 2.0158, 0.9426, 1.5689, 1.6398, 1.8472, 2.045, 0.9404, 0.3896, 1.2609, 2.5934, 2.5928, 2.5749, 2.5731, 2.5731, 2.5549, 2.5471, 2.5383, 2.5282, 2.5281, 2.5281, 2.5281, 2.5163, 2.5023, 2.5023, 2.5023, 2.5023, 2.5023, 2.5023, 2.4893, 2.4855, 2.465, 2.465, 2.465, 2.465, 2.465, 2.465, 2.4393, 2.4393, 2.4393, 2.3727, 2.3538, 2.1611, 2.2397, 1.7108, 1.2149, 2.2221, 1.9921, 1.8505, 0.6853, 0.8444, 0.9568, 1.4513, -0.3933, 0.1239, 0.3366, 2.6909, 2.6734, 2.6468, 2.6439, 2.6408, 2.6341, 2.6341, 2.6341, 2.6208, 2.6208, 2.6203, 2.6155, 2.6155, 2.6097, 2.6014, 2.6014, 2.5875, 2.5875, 2.5875, 2.578, 2.578, 2.578, 2.578, 2.578, 2.578, 2.5779, 2.5738, 2.5738, 2.5738, 2.5738, 2.3686, 2.0344, 1.5043, 1.2488, 0.3895, 0.9178, 1.6249, 0.9825, 2.1533, 3.3135, 3.2514, 3.1912, 3.1644, 3.1644, 3.1643, 3.1327, 3.0478, 2.9892, 2.9892, 2.9891, 2.9891, 2.9891, 2.9891, 2.989, 2.9131, 2.9131, 2.9131, 2.9131, 2.913, 2.913, 2.913, 2.913, 2.913, 2.913, 2.913, 2.913, 2.913, 2.913, 2.9129, 2.866, 2.7672, 2.3298, 1.1971, 1.9985, 2.0546, 1.9662, 2.418, -0.3185, 1.0858, 2.194, 0.6133, 0.4993]}, \"token.table\": {\"Topic\": [4, 2, 4, 1, 2, 3, 5, 8, 9, 3, 9, 8, 3, 8, 2, 9, 4, 3, 7, 6, 8, 3, 8, 4, 8, 1, 3, 8, 6, 2, 2, 3, 5, 7, 7, 2, 5, 9, 6, 9, 1, 4, 6, 6, 1, 6, 8, 4, 7, 3, 1, 4, 1, 3, 4, 8, 3, 7, 7, 5, 9, 4, 8, 10, 9, 1, 8, 3, 7, 8, 6, 1, 4, 9, 1, 4, 5, 6, 5, 8, 4, 4, 7, 4, 10, 3, 6, 5, 7, 6, 3, 7, 9, 3, 1, 2, 3, 5, 9, 9, 7, 1, 4, 5, 1, 3, 5, 6, 7, 1, 3, 4, 9, 1, 8, 1, 4, 5, 6, 8, 9, 1, 3, 3, 6, 1, 3, 7, 1, 2, 1, 2, 6, 9, 2, 8, 8, 3, 9, 6, 7, 8, 9, 3, 3, 6, 6, 6, 4, 8, 4, 4, 3, 6, 5, 3, 7, 1, 8, 10, 6, 4, 5, 2, 1, 3, 7, 3, 1, 1, 6, 2, 4, 7, 8, 1, 3, 1, 6, 8, 5, 2, 5, 7, 2, 1, 1, 2, 4, 9, 7, 2, 6, 5, 8, 10, 9, 1, 3, 8, 1, 3, 8, 3, 8, 5, 4, 8, 3, 3, 6, 7, 9, 9, 8, 1, 2, 5, 9, 9, 7, 2, 3, 10, 5, 7, 4, 3, 2, 6, 5, 3, 5, 8, 1, 6, 1, 9, 3, 8, 6, 2, 4, 7, 8, 7, 8, 4, 7, 8, 9, 7, 4, 5, 2, 2, 6, 2, 2, 6, 10, 9, 5, 2, 7, 5, 5, 4, 3, 7, 6, 9, 1, 6, 1, 3, 1, 2, 9, 4, 7, 9, 10, 3, 1, 2, 8, 4, 9, 9, 1, 7, 3, 3, 1, 5, 6, 7, 7, 4, 5, 1, 1, 4, 7, 1, 1, 3, 7, 6, 6, 6, 2, 6, 2, 9, 5, 6, 3, 3, 8, 8, 4, 8, 9, 2, 1, 2, 6, 3, 4, 5, 1, 3, 7, 7, 4, 4, 8, 3, 5, 2, 2, 9, 7, 4, 4, 1, 5, 6, 8, 9, 4, 8, 2, 1, 3, 5, 8, 2, 3, 8, 9, 1, 5, 5, 1, 1, 1, 4, 8, 5, 5, 7, 10, 4, 2, 7, 9, 7, 7, 2, 2, 2, 4, 5, 9, 3, 6, 8, 8, 4, 9, 2, 4, 9, 9, 9, 9, 9, 4, 6, 4, 2, 4, 5, 7, 10, 2, 5, 4, 3, 5, 4, 7, 6, 2, 4, 8, 1, 5, 6, 8, 1, 4, 4, 10, 7, 1, 7, 4, 8, 1, 9, 5, 1, 1, 8, 5, 2, 1, 7, 7, 5, 7, 10, 4, 1, 6, 8, 4, 6, 9, 3, 8, 3, 3, 1, 4, 1, 4, 9, 3, 1, 9, 3, 4, 2, 1, 7, 6], \"Freq\": [0.8674102042635239, 1.0331198616245245, 1.0614187668834953, 0.06719776366393318, 0.6047798729753986, 0.13439552732786636, 0.03359888183196659, 0.03359888183196659, 0.10079664549589976, 0.19597506017888466, 0.7839002407155387, 0.883299066748594, 0.9077842365537794, 0.748727042372075, 0.976061403194671, 0.014145817437603927, 1.0615792580273633, 0.9901050260003619, 0.8905393813822443, 1.0409166870140532, 0.6420148339716515, 0.9940002105085174, 0.5993104312650344, 0.7882512454011551, 1.0578871466087143, 0.9621547475438768, 0.9026621264310984, 0.08206019331191804, 1.0116345925047932, 0.9867191937216117, 0.020179941726905015, 0.010089970863452508, 0.7365678730320331, 0.2320693298594077, 1.076494581018428, 0.9560634289414177, 0.9988850756048455, 0.6016168695907914, 0.8853455606248157, 0.17706911212496315, 0.8915963818051927, 0.1485993969675321, 1.0156613979421434, 1.0539414718492401, 0.23828979950395868, 0.47657959900791735, 0.23828979950395868, 0.32431865436083934, 0.6486373087216787, 0.5100240731558552, 0.6170747200721282, 0.35261412575550183, 0.8477620843848747, 1.0501169521386717, 0.5151005466023437, 0.5151005466023437, 0.9171376463330182, 0.9241399688630584, 0.9241399688630584, 0.8108683339144568, 0.6016163248508402, 0.8674102042635239, 1.0797085619681301, 1.357595408741011, 1.015208157704548, 0.847642388060015, 0.8979774754301288, 0.931548353336218, 0.7874831622551351, 0.8979766921781177, 1.0236827571131122, 0.1947688922519378, 0.3895377845038756, 0.5843066767558134, 0.7244052352556307, 0.24146841175187692, 0.8108683339144568, 1.0335631904413154, 0.9988850756048455, 0.7487233326245619, 0.8123020410054447, 0.8416028505352892, 0.1870228556745087, 0.8674102042635239, 0.8359088588999785, 1.0299689517576376, 0.9738493692178344, 0.7839635682117824, 0.26132118940392746, 0.8959644685719022, 0.25282650435218684, 0.7584795130565606, 0.25282650435218684, 0.9077842365537794, 0.15027785993624024, 0.5410002957704648, 0.3005557198724805, 1.0597098023978933, 0.9194481843776654, 0.6411983340411932, 0.7836764054504246, 0.8088959182182387, 0.11286919789091704, 0.07524613192727803, 0.04595156174784463, 0.3446367131088347, 0.022975780873922314, 0.5743945218480578, 0.022975780873922314, 0.34924843967653996, 0.52387265951481, 1.0615792580273633, 0.8037292132022729, 0.44778233518895744, 0.6716735027834362, 0.2964792026345107, 0.22235940197588303, 0.07411980065862768, 0.14823960131725536, 0.14823960131725536, 0.14823960131725536, 0.4683073229450146, 0.4683073229450146, 0.9157057004494675, 0.10174507782771862, 0.4035956217328403, 0.5650338704259764, 0.8905393813822443, 0.6460347451287394, 0.3523825882520396, 0.9936546184535252, 1.004534237856197, 1.0335631904413154, 0.7439634152743411, 0.9508513530508541, 0.9973965417799997, 0.7487316928736896, 0.9077842365537794, 1.0368078379823789, 0.30711798324004086, 0.5118633054000681, 0.20474532216002725, 0.10237266108001362, 0.9077842365537794, 0.9077842365537794, 1.0335631904413154, 0.943036962961622, 1.0539414718492401, 0.2776175390923534, 0.6940438477308836, 1.0344968788199973, 1.0615792580273633, 0.8089061142928463, 0.16178122285856927, 0.9671269550321604, 0.9077842365537794, 0.920091464382162, 0.9451212706511524, 0.8994675409371481, 1.3575471918530526, 1.0335631904413154, 0.6414206719565018, 0.35634481775361204, 0.9949061568811742, 0.8308102617188559, 0.16616205234377118, 0.7836764054504246, 1.0299689517576376, 0.9522384308208784, 0.9359220700387466, 1.0335631904413154, 0.08210921901807174, 0.5747645331265021, 0.1231638285271076, 0.2463276570542152, 0.31160439174427274, 0.6232087834885455, 0.4929819986779139, 0.24649099933895696, 0.12324549966947848, 0.9192904581030561, 0.9561817327050254, 0.9756699956113789, 0.9330188273242632, 0.9508513530508541, 1.0170664515613193, 0.9775834611249581, 0.9808038048856869, 0.4193388488680639, 0.4193388488680639, 0.9241399688630584, 0.8288831798052393, 0.20722079495130982, 0.9671269550321604, 0.7487253551735409, 1.2695437951448256, 0.8483348372867344, 0.17224459547797713, 0.8612229773898856, 0.6912809753261145, 0.9399241226130101, 0.9806311470468577, 0.029716095365056296, 0.9365949790614592, 0.8994686584524978, 0.9916117059804163, 0.9418485106725869, 0.9973975567604979, 1.036430702598101, 0.7609628482649549, 0.19024071206623872, 0.7800099207446619, 0.6585888836234061, 0.6585888836234061, 0.8979792522338885, 0.9111227337516591, 0.9745164255522922, 0.9793318234139292, 0.6585888836234061, 0.6585888836234061, 0.9492240878058231, 1.0027399376167916, 0.7071098826739664, 0.3535549413369832, 0.36374163473175397, 0.5456124520976309, 1.0615792580273633, 1.036430885800728, 0.9436537831858562, 1.0335631904413154, 1.0597098023978933, 0.28187786198294174, 0.7046946549573544, 0.8165865666355647, 0.26371361477848504, 0.7911408443354551, 0.9521736347424025, 0.6016187025916668, 1.0302695526189996, 0.7487309266483749, 1.0185834305174977, 0.17031011586018863, 0.8515505793009431, 0.7836764054504246, 0.8979771488597063, 1.0204550506730217, 0.748723370772079, 1.0615792580273633, 0.9241399688630584, 1.087763234122523, 1.0859525125436542, 0.7836764054504246, 0.8431275071118645, 0.918423356754517, 0.9911222957917438, 0.9436501966875059, 0.8979146918670924, 0.9868549048459478, 1.0171590334048635, 0.9268996514127797, 1.0628203902863844, 0.9194481586971968, 1.0078248487807058, 0.9468677877248048, 1.022742927526803, 0.9616222154651228, 0.8105494909513912, 0.9381261085291617, 0.9080484801643914, 0.9712930257390517, 0.943036962961622, 0.6411899117494523, 0.8251308175375851, 1.0335631904413154, 0.847642388060015, 0.9234850573961223, 0.6640813299892375, 0.16602033249730938, 0.16602033249730938, 0.1475336001756154, 0.6639012007902693, 0.0737668000878077, 0.0737668000878077, 1.0364436558609347, 0.7287734364467969, 0.2585970258359602, 0.023508820530541836, 1.0367128616383205, 0.6411868794750106, 1.0859525125436542, 0.9508379418957016, 1.0861969536561247, 0.9077842365537794, 1.0042785579046607, 0.9621709811585583, 0.9654121190400803, 1.006218972570387, 1.024681953587806, 0.9014943548393722, 0.9892085133000569, 0.9209185461385077, 1.0331355152185342, 0.9929658457719909, 0.12987048619405758, 0.7792229171643456, 0.9775834611249581, 0.4506502622992915, 0.15021675409976384, 0.4506502622992915, 0.943036962961622, 0.943036962961622, 0.9956637692754953, 1.0045441142279505, 1.0335631904413154, 0.7899485906349383, 0.2256995973242681, 0.9187361608530339, 0.8958081956718426, 0.5571600038790805, 0.9234850573961223, 0.9973989954829517, 1.1238686173563275, 0.3225736567305927, 0.6451473134611854, 1.0749350193446832, 1.0064853904239262, 0.2138136762565445, 0.7127122541884816, 0.07127122541884816, 1.0147140860324908, 0.8965186411814855, 1.0597724272628868, 0.11823402823836901, 0.5911701411918451, 0.35470208471510706, 0.9241399688630584, 1.02259898678538, 0.2627311267182477, 0.7881933801547432, 1.0299689517576376, 0.969533772948061, 1.0045282747610038, 0.703633897176261, 0.20103825633607458, 1.0205930316759528, 0.921193564950646, 0.8122901605108226, 0.3791360930801918, 0.1895680465400959, 0.25275739538679454, 0.06318934884669863, 0.06318934884669863, 0.989221325627289, 0.8979754509716036, 0.9468677877248048, 1.0239628659373265, 0.7757330476859993, 0.3102932190743997, 0.6420159181347124, 0.2615858756603839, 0.3923788134905758, 0.13079293783019194, 0.2615858756603839, 0.9846973303200205, 0.9671269550321604, 0.9190482604208857, 0.8477620843848747, 0.9788670182694588, 0.13222808871827463, 0.46279831051396114, 0.39668426615482383, 0.8751276750190108, 1.0480090839400775, 0.4958332290100332, 0.2479166145050166, 0.9795223256455817, 0.4292028420438889, 0.21460142102194446, 0.4292028420438889, 0.7836764054504246, 0.8842211312954352, 1.01684634105897, 1.03309393228678, 1.0091855462356227, 0.18690555050644755, 0.7476222020257902, 0.641199639956634, 0.17846812543396734, 0.7138725017358694, 0.6420207271997074, 0.6420137280204138, 0.9381259292887897, 0.8037292132022729, 0.9561099390804524, 0.04345954268547511, 1.0152227680659918, 0.9031779022726213, 0.8037292132022729, 0.9649433301786117, 0.9237722713883888, 0.44819877128150265, 0.6722981569222539, 0.8920620300369795, 0.995634573173086, 0.3589735656553443, 0.20940124663228415, 0.4188024932645683, 0.029914463804612025, 1.0195003685188155, 0.9714405588111682, 0.921193564950646, 1.0364353685268912, 0.9994340585520384, 1.1100997213078754, 0.901465358311852, 1.0335631904413154, 0.9949095200275878, 0.6025293746495969, 0.30126468732479844, 0.5297407513121607, 0.13243518782804017, 0.13243518782804017, 0.13243518782804017, 0.8477159141139281, 1.0615792580273633, 0.6669115588600847, 0.6669115588600847, 0.9241399688630584, 0.41937260931882014, 0.6290589139782302, 0.8965186411814855, 0.8979856970716427, 0.847642388060015, 0.6411860482444448, 1.0597724272628868, 1.0061765785939247, 0.38594987383783846, 0.7718997476756769, 1.0597724272628868, 1.0331045500264853, 0.8612890359485882, 0.9241399688630584, 0.9241399688630584, 0.8755897624271406, 0.9492240878058231, 1.3575729615629772, 0.8430995149043552, 0.8612890359485882, 0.7596202407161616, 0.8003889763888034, 0.8963677274758208, 1.0951959178112953, 0.6412156766038325, 0.8988024148773266, 0.11235030185966582, 1.0364313726375014, 1.0235502194091992, 0.39137019107204785, 0.6522836517867464, 0.3917758709542919, 0.5223678279390559, 0.9649639173629888, 1.014395597663207, 0.9622013963319057, 0.6411979611249373, 0.20365643789935317, 0.8146257515974127, 0.9607851911288127, 0.9641656404371135, 0.821861445067944, 1.0539414718492401], \"Term\": [\"about_book\", \"abuse_trust\", \"acceptable_criticism\", \"access_information\", \"access_information\", \"access_information\", \"access_information\", \"access_information\", \"access_information\", \"access_official\", \"access_official\", \"access_public\", \"account_holder\", \"administrative_code\", \"administrative_court\", \"administrative_court\", \"advertisement_could\", \"advertising_marketing\", \"after_release\", \"against_decision\", \"against_editorial\", \"against_person\", \"against_second\", \"among_many\", \"appeal_hearing\", \"appeal_that\", \"appellate_court\", \"appellate_court\", \"applicant_article\", \"applicant_association\", \"applicant_company\", \"applicant_company\", \"applicant_company\", \"applicant_company\", \"applicant_journalist\", \"applicant_request\", \"application_annulment\", \"arrest_prosecution\", \"article_been\", \"article_been\", \"article_civil\", \"article_civil\", \"article_code\", \"article_concerned\", \"article_criminal\", \"article_criminal\", \"article_criminal\", \"article_penal\", \"article_penal\", \"article_provided\", \"article_question\", \"article_question\", \"article_right\", \"article_written\", \"author_article\", \"author_article\", \"been_aware\", \"been_executed\", \"been_parole\", \"been_present\", \"being_naked\", \"between_private\", \"board_newspaper\", \"branch_office\", \"breach_peace\", \"breach_professional\", \"case_material\", \"cassation_criminal\", \"chapter_section\", \"chief_federal\", \"circular_letter\", \"city_court\", \"city_court\", \"city_court\", \"civil_code\", \"civil_code\", \"claimant_been\", \"code_been\", \"code_journalistic\", \"collector_funds\", \"combination_with\", \"commercial_court\", \"commercial_court\", \"commercial_freedom\", \"commit_suicide\", \"communication_service\", \"communist_regime\", \"company_that\", \"company_that\", \"comrade_prosecutor\", \"connection_between\", \"connection_between\", \"connection_between\", \"constitutional_council\", \"constitutional_court\", \"constitutional_court\", \"constitutional_court\", \"contact_claimant\", \"contempt_court\", \"conviction_imprisonment\", \"conviction_release\", \"court_appeal\", \"court_appeal\", \"court_appeal\", \"court_cassation\", \"court_cassation\", \"court_cassation\", \"court_cassation\", \"court_cassation\", \"court_first\", \"court_first\", \"court_view\", \"crime_statistics\", \"criminal_case\", \"criminal_case\", \"criminal_code\", \"criminal_code\", \"criminal_code\", \"criminal_code\", \"criminal_code\", \"criminal_code\", \"criminal_court\", \"criminal_court\", \"criminal_division\", \"criminal_division\", \"criminal_liability\", \"criminal_liability\", \"criminal_record\", \"data_protection\", \"data_protection\", \"data_subject\", \"dealt_with\", \"decision_introduce\", \"diplomatic_service\", \"discharge_from\", \"disciplinary_board\", \"discord_between\", \"discrimination_against\", \"district_administration\", \"district_court\", \"district_court\", \"district_court\", \"district_court\", \"division_appeal\", \"division_bull\", \"during_communism\", \"during_communist\", \"duty_discretion\", \"editorial_board\", \"editorial_board\", \"editorial_profile\", \"effective_exercise\", \"election_campaign\", \"election_campaign\", \"electronic_gambling\", \"electronic_public\", \"enforcement_judge\", \"essential_previously\", \"ethnic_discord\", \"euthanasia_suicide\", \"expressed_moral\", \"factual_basis\", \"factual_basis\", \"federal_commissioner\", \"federal_constitutional\", \"federal_constitutional\", \"federal_president\", \"feeling_rejection\", \"fierce_defender\", \"fifth_criterion\", \"final_judgment\", \"first_applicant\", \"first_applicant\", \"first_applicant\", \"first_applicant\", \"first_instance\", \"first_instance\", \"first_second\", \"first_second\", \"first_second\", \"first_video\", \"foreign_intelligence\", \"former_husband\", \"former_prime\", \"from_army\", \"from_criminal\", \"from_employer\", \"from_military\", \"from_office\", \"from_office\", \"from_prison\", \"from_professional\", \"from_professional\", \"gambling_arcade\", \"general_administrative\", \"general_guide\", \"general_information\", \"general_search\", \"general_search\", \"glory_russia\", \"handed_over\", \"hate_speech\", \"hate_speech\", \"hatred_violence\", \"hearing_camera\", \"hidden_camera\", \"high_court\", \"hold_appeal\", \"hostility_discrimination\", \"incitement_hatred\", \"incitement_hatred\", \"information_about\", \"information_applicant\", \"information_number\", \"information_public\", \"information_question\", \"information_request\", \"information_society\", \"information_specific\", \"information_state\", \"instant_case\", \"intelligence_service\", \"inter_that\", \"inter_that\", \"interest_publication\", \"interest_publication\", \"interpretation_section\", \"intimidation_hostility\", \"into_judiciary\", \"introduce_code\", \"involved_drug\", \"journalistic_ethics\", \"journalistic_ethics\", \"judgment_against\", \"judicial_investigation\", \"judicial_investigation\", \"judicial_order\", \"judicial_review\", \"judicial_service\", \"justice_peace\", \"justice_system\", \"labour_court\", \"labour_court\", \"lapse_time\", \"last_sentence\", \"leave_scene\", \"legal_entity\", \"legal_question\", \"legitimate_person\", \"liable_defamation\", \"liable_under\", \"manager_presidential\", \"many_other\", \"member_parliament\", \"military_service\", \"minister_defence\", \"minister_justice\", \"ministry_state\", \"misconduct_public\", \"moral_professional\", \"municipal_branch\", \"naked_public\", \"national_radio\", \"national_republican\", \"news_item\", \"news_portal\", \"news_whose\", \"nonpecuniary_damage\", \"nonpecuniary_damages\", \"office_manager\", \"officer_court\", \"official_capacity\", \"operator_search\", \"opinion_expressed\", \"over_applicant\", \"paragraph_section\", \"parliamentary_assembly\", \"parliamentary_assembly\", \"parliamentary_assembly\", \"penal_code\", \"penal_code\", \"penal_code\", \"penal_code\", \"person_group\", \"personal_data\", \"personal_data\", \"personal_data\", \"pleural_cancer\", \"point_diplomatic\", \"police_department\", \"police_officer\", \"police_order\", \"political_debate\", \"posted_wall\", \"pregnant_woman\", \"present_scene\", \"president_court\", \"presidential_candidate\", \"press_badge\", \"press_conference\", \"press_release\", \"presumption_innocence\", \"previously_unknown\", \"prime_minister\", \"prime_minister\", \"prison_term\", \"private_life\", \"private_life\", \"private_life\", \"professional_activity\", \"professional_file\", \"professional_integrity\", \"professional_military\", \"promotion_court\", \"prosecution_conviction\", \"prosecution_conviction\", \"prosecutor_anna\", \"prosecutor_during\", \"provided_inter\", \"public_communication\", \"public_from\", \"public_hearing\", \"public_information\", \"public_information\", \"public_nudity\", \"public_office\", \"public_prosecutor\", \"public_prosecutor\", \"public_prosecutor\", \"public_radio\", \"publication_advertisement\", \"publication_anonymous\", \"publication_article\", \"publication_article\", \"publication_article\", \"publication_that\", \"publish_advertisement\", \"publish_retraction\", \"publish_retraction\", \"racist_hate\", \"radio_television\", \"real_property\", \"receive_information\", \"receive_information\", \"refrain_from\", \"refusal_publish\", \"regional_commercial\", \"regional_court\", \"regional_court\", \"regional_court\", \"regional_court\", \"regional_court\", \"regulatory_body\", \"relevant_court\", \"republican_guard\", \"respect_private\", \"responsible_journalism\", \"responsible_journalism\", \"retraction_statement\", \"right_access\", \"right_access\", \"right_access\", \"right_access\", \"right_forgotten\", \"right_image\", \"right_impart\", \"scope_case\", \"search_engine\", \"second_applicant\", \"second_applicant\", \"second_applicant\", \"second_third\", \"section_media\", \"section_penal\", \"section_penal\", \"section_press\", \"section_subsection\", \"section_subsection\", \"section_subsection\", \"sentence_been\", \"sentence_enforcement\", \"seriousness_test\", \"serve_until\", \"service_contract\", \"service_provider\", \"service_provider\", \"sheriff_court\", \"significant_disadvantage\", \"significant_disadvantage\", \"sitting_judge\", \"special_investigative\", \"staff_meeting\", \"state_municipal\", \"state_security\", \"state_security\", \"stated_case\", \"statistical_data\", \"statistics_service\", \"subsection_point\", \"such_information\", \"suggesting_that\", \"suggesting_that\", \"super_express\", \"supreme_administrative\", \"supreme_court\", \"supreme_court\", \"supreme_court\", \"supreme_court\", \"taxation_data\", \"television_council\", \"that_advertisement\", \"that_appellate\", \"that_claimant\", \"that_company\", \"that_conviction\", \"that_disciplinary\", \"that_disclosure\", \"that_first\", \"that_first\", \"that_judge\", \"that_judge\", \"that_judge\", \"that_judge\", \"that_judicial\", \"that_newspaper\", \"that_penalty\", \"that_penalty\", \"that_picture\", \"that_police\", \"that_police\", \"that_refusal\", \"that_video\", \"theft_from\", \"their_official\", \"there_public\", \"they_with\", \"third_applicant\", \"third_applicant\", \"third_person\", \"thirteen_public\", \"this_area\", \"time_publication\", \"time_report\", \"tourism_association\", \"under_prohibition\", \"under_section\", \"unfair_competition\", \"unknown_information\", \"unknown_soldier\", \"upon_receipt\", \"value_judgment\", \"very_good\", \"victim_homicide\", \"violence_against\", \"violence_against\", \"violence_intimidation\", \"wall_account\", \"warsaw_court\", \"warsaw_court\", \"warsaw_regional\", \"warsaw_regional\", \"wear_clothes\", \"were_posted\", \"which_could\", \"with_breach\", \"with_editorial\", \"with_editorial\", \"with_ministry\", \"with_regard\", \"without_consent\", \"worked_prosecutor\"]}, \"R\": 30, \"lambda.step\": 0.01, \"plot.opts\": {\"xlab\": \"PC1\", \"ylab\": \"PC2\"}, \"topic.order\": [8, 3, 2, 10, 5, 9, 7, 1, 4, 6]};\n",
              "\n",
              "function LDAvis_load_lib(url, callback){\n",
              "  var s = document.createElement('script');\n",
              "  s.src = url;\n",
              "  s.async = true;\n",
              "  s.onreadystatechange = s.onload = callback;\n",
              "  s.onerror = function(){console.warn(\"failed to load library \" + url);};\n",
              "  document.getElementsByTagName(\"head\")[0].appendChild(s);\n",
              "}\n",
              "\n",
              "if(typeof(LDAvis) !== \"undefined\"){\n",
              "   // already loaded: just create the visualization\n",
              "   !function(LDAvis){\n",
              "       new LDAvis(\"#\" + \"ldavis_el1831401414902862404822284715\", ldavis_el1831401414902862404822284715_data);\n",
              "   }(LDAvis);\n",
              "}else if(typeof define === \"function\" && define.amd){\n",
              "   // require.js is available: use it to load d3/LDAvis\n",
              "   require.config({paths: {d3: \"https://d3js.org/d3.v5\"}});\n",
              "   require([\"d3\"], function(d3){\n",
              "      window.d3 = d3;\n",
              "      LDAvis_load_lib(\"https://cdn.jsdelivr.net/gh/bmabey/pyLDAvis@3.4.0/pyLDAvis/js/ldavis.v3.0.0.js\", function(){\n",
              "        new LDAvis(\"#\" + \"ldavis_el1831401414902862404822284715\", ldavis_el1831401414902862404822284715_data);\n",
              "      });\n",
              "    });\n",
              "}else{\n",
              "    // require.js not available: dynamically load d3 & LDAvis\n",
              "    LDAvis_load_lib(\"https://d3js.org/d3.v5.js\", function(){\n",
              "         LDAvis_load_lib(\"https://cdn.jsdelivr.net/gh/bmabey/pyLDAvis@3.4.0/pyLDAvis/js/ldavis.v3.0.0.js\", function(){\n",
              "                 new LDAvis(\"#\" + \"ldavis_el1831401414902862404822284715\", ldavis_el1831401414902862404822284715_data);\n",
              "            })\n",
              "         });\n",
              "}\n",
              "</script>"
            ]
          },
          "metadata": {},
          "execution_count": 75
        }
      ]
    },
    {
      "cell_type": "code",
      "source": [
        "# Dataframe with first 5 words of each topic\n",
        "\n",
        "topics_df = pd.DataFrame(columns=['Topic', 'Top 5 Terms', 'Prob'])\n",
        "results = lda_model.show_topics(num_topics=10, num_words=5, log=False, formatted=False)\n",
        "\n",
        "for i in range(0, 10):\n",
        "    terms_five = []\n",
        "    prob_five = []\n",
        "    for j in range(0, 5):\n",
        "        terms_five.append(results[i][1][j][0])\n",
        "        prob_five.append(results[i][1][j][1])\n",
        "\n",
        "    new_row = pd.DataFrame({'Topic': [i], 'Top 5 Terms': [terms_five], 'Prob': [prob_five]})\n",
        "    topics_df = pd.concat([topics_df, new_row], ignore_index=True)\n",
        "\n",
        "topics_df.head(10)"
      ],
      "metadata": {
        "colab": {
          "base_uri": "https://localhost:8080/",
          "height": 417
        },
        "id": "cJVvpLG1cuBG",
        "outputId": "9ce49438-8164-48f1-ed8b-16a32a55211f"
      },
      "execution_count": 76,
      "outputs": [
        {
          "output_type": "stream",
          "name": "stderr",
          "text": [
            "/usr/local/lib/python3.10/dist-packages/ipykernel/ipkernel.py:283: DeprecationWarning: `should_run_async` will not call `transform_cell` automatically in the future. Please pass the result to `transformed_cell` argument and any exception that happen during thetransform in `preprocessing_exc_tuple` in IPython 7.17 and above.\n",
            "  and should_run_async(code)\n"
          ]
        },
        {
          "output_type": "execute_result",
          "data": {
            "text/plain": [
              "  Topic                                        Top 5 Terms  \\\n",
              "0     0  [second_applicant, first_applicant, editorial_...   \n",
              "1     1  [hate_speech, court_cassation, wall_account, a...   \n",
              "2     2  [administrative_court, military_service, supre...   \n",
              "3     3  [breach_peace, statistical_data, access_offici...   \n",
              "4     4  [applicant_company, radio_television, national...   \n",
              "5     5  [penal_code, section_penal, commit_suicide, th...   \n",
              "6     6  [applicant_company, supreme_court, penal_code,...   \n",
              "7     7  [court_appeal, personal_data, search_engine, r...   \n",
              "8     8  [court_cassation, article_code, president_cour...   \n",
              "9     9  [first_applicant, publish_advertisement, supre...   \n",
              "\n",
              "                                                Prob  \n",
              "0  [0.0025694198, 0.0025201715, 0.002372393, 0.00...  \n",
              "1  [0.00792788, 0.003534366, 0.0027776486, 0.0026...  \n",
              "2  [0.014369766, 0.010394671, 0.005361035, 0.0053...  \n",
              "3  [0.0031214887, 0.001970042, 0.0016735342, 0.00...  \n",
              "4  [0.022619745, 0.006330287, 0.0048440224, 0.004...  \n",
              "5  [0.0013777969, 0.0012725499, 0.0010093744, 0.0...  \n",
              "6  [0.0078093857, 0.004838982, 0.00316657, 0.0024...  \n",
              "7  [0.008935143, 0.0062825386, 0.0043751593, 0.00...  \n",
              "8  [0.007679069, 0.0051480443, 0.0036496827, 0.00...  \n",
              "9  [0.0033783664, 0.0031147255, 0.0028985357, 0.0...  "
            ],
            "text/html": [
              "\n",
              "  <div id=\"df-e11d08bf-f5a5-4df8-8e93-561d62a43420\">\n",
              "    <div class=\"colab-df-container\">\n",
              "      <div>\n",
              "<style scoped>\n",
              "    .dataframe tbody tr th:only-of-type {\n",
              "        vertical-align: middle;\n",
              "    }\n",
              "\n",
              "    .dataframe tbody tr th {\n",
              "        vertical-align: top;\n",
              "    }\n",
              "\n",
              "    .dataframe thead th {\n",
              "        text-align: right;\n",
              "    }\n",
              "</style>\n",
              "<table border=\"1\" class=\"dataframe\">\n",
              "  <thead>\n",
              "    <tr style=\"text-align: right;\">\n",
              "      <th></th>\n",
              "      <th>Topic</th>\n",
              "      <th>Top 5 Terms</th>\n",
              "      <th>Prob</th>\n",
              "    </tr>\n",
              "  </thead>\n",
              "  <tbody>\n",
              "    <tr>\n",
              "      <th>0</th>\n",
              "      <td>0</td>\n",
              "      <td>[second_applicant, first_applicant, editorial_...</td>\n",
              "      <td>[0.0025694198, 0.0025201715, 0.002372393, 0.00...</td>\n",
              "    </tr>\n",
              "    <tr>\n",
              "      <th>1</th>\n",
              "      <td>1</td>\n",
              "      <td>[hate_speech, court_cassation, wall_account, a...</td>\n",
              "      <td>[0.00792788, 0.003534366, 0.0027776486, 0.0026...</td>\n",
              "    </tr>\n",
              "    <tr>\n",
              "      <th>2</th>\n",
              "      <td>2</td>\n",
              "      <td>[administrative_court, military_service, supre...</td>\n",
              "      <td>[0.014369766, 0.010394671, 0.005361035, 0.0053...</td>\n",
              "    </tr>\n",
              "    <tr>\n",
              "      <th>3</th>\n",
              "      <td>3</td>\n",
              "      <td>[breach_peace, statistical_data, access_offici...</td>\n",
              "      <td>[0.0031214887, 0.001970042, 0.0016735342, 0.00...</td>\n",
              "    </tr>\n",
              "    <tr>\n",
              "      <th>4</th>\n",
              "      <td>4</td>\n",
              "      <td>[applicant_company, radio_television, national...</td>\n",
              "      <td>[0.022619745, 0.006330287, 0.0048440224, 0.004...</td>\n",
              "    </tr>\n",
              "    <tr>\n",
              "      <th>5</th>\n",
              "      <td>5</td>\n",
              "      <td>[penal_code, section_penal, commit_suicide, th...</td>\n",
              "      <td>[0.0013777969, 0.0012725499, 0.0010093744, 0.0...</td>\n",
              "    </tr>\n",
              "    <tr>\n",
              "      <th>6</th>\n",
              "      <td>6</td>\n",
              "      <td>[applicant_company, supreme_court, penal_code,...</td>\n",
              "      <td>[0.0078093857, 0.004838982, 0.00316657, 0.0024...</td>\n",
              "    </tr>\n",
              "    <tr>\n",
              "      <th>7</th>\n",
              "      <td>7</td>\n",
              "      <td>[court_appeal, personal_data, search_engine, r...</td>\n",
              "      <td>[0.008935143, 0.0062825386, 0.0043751593, 0.00...</td>\n",
              "    </tr>\n",
              "    <tr>\n",
              "      <th>8</th>\n",
              "      <td>8</td>\n",
              "      <td>[court_cassation, article_code, president_cour...</td>\n",
              "      <td>[0.007679069, 0.0051480443, 0.0036496827, 0.00...</td>\n",
              "    </tr>\n",
              "    <tr>\n",
              "      <th>9</th>\n",
              "      <td>9</td>\n",
              "      <td>[first_applicant, publish_advertisement, supre...</td>\n",
              "      <td>[0.0033783664, 0.0031147255, 0.0028985357, 0.0...</td>\n",
              "    </tr>\n",
              "  </tbody>\n",
              "</table>\n",
              "</div>\n",
              "      <button class=\"colab-df-convert\" onclick=\"convertToInteractive('df-e11d08bf-f5a5-4df8-8e93-561d62a43420')\"\n",
              "              title=\"Convert this dataframe to an interactive table.\"\n",
              "              style=\"display:none;\">\n",
              "        \n",
              "  <svg xmlns=\"http://www.w3.org/2000/svg\" height=\"24px\"viewBox=\"0 0 24 24\"\n",
              "       width=\"24px\">\n",
              "    <path d=\"M0 0h24v24H0V0z\" fill=\"none\"/>\n",
              "    <path d=\"M18.56 5.44l.94 2.06.94-2.06 2.06-.94-2.06-.94-.94-2.06-.94 2.06-2.06.94zm-11 1L8.5 8.5l.94-2.06 2.06-.94-2.06-.94L8.5 2.5l-.94 2.06-2.06.94zm10 10l.94 2.06.94-2.06 2.06-.94-2.06-.94-.94-2.06-.94 2.06-2.06.94z\"/><path d=\"M17.41 7.96l-1.37-1.37c-.4-.4-.92-.59-1.43-.59-.52 0-1.04.2-1.43.59L10.3 9.45l-7.72 7.72c-.78.78-.78 2.05 0 2.83L4 21.41c.39.39.9.59 1.41.59.51 0 1.02-.2 1.41-.59l7.78-7.78 2.81-2.81c.8-.78.8-2.07 0-2.86zM5.41 20L4 18.59l7.72-7.72 1.47 1.35L5.41 20z\"/>\n",
              "  </svg>\n",
              "      </button>\n",
              "      \n",
              "  <style>\n",
              "    .colab-df-container {\n",
              "      display:flex;\n",
              "      flex-wrap:wrap;\n",
              "      gap: 12px;\n",
              "    }\n",
              "\n",
              "    .colab-df-convert {\n",
              "      background-color: #E8F0FE;\n",
              "      border: none;\n",
              "      border-radius: 50%;\n",
              "      cursor: pointer;\n",
              "      display: none;\n",
              "      fill: #1967D2;\n",
              "      height: 32px;\n",
              "      padding: 0 0 0 0;\n",
              "      width: 32px;\n",
              "    }\n",
              "\n",
              "    .colab-df-convert:hover {\n",
              "      background-color: #E2EBFA;\n",
              "      box-shadow: 0px 1px 2px rgba(60, 64, 67, 0.3), 0px 1px 3px 1px rgba(60, 64, 67, 0.15);\n",
              "      fill: #174EA6;\n",
              "    }\n",
              "\n",
              "    [theme=dark] .colab-df-convert {\n",
              "      background-color: #3B4455;\n",
              "      fill: #D2E3FC;\n",
              "    }\n",
              "\n",
              "    [theme=dark] .colab-df-convert:hover {\n",
              "      background-color: #434B5C;\n",
              "      box-shadow: 0px 1px 3px 1px rgba(0, 0, 0, 0.15);\n",
              "      filter: drop-shadow(0px 1px 2px rgba(0, 0, 0, 0.3));\n",
              "      fill: #FFFFFF;\n",
              "    }\n",
              "  </style>\n",
              "\n",
              "      <script>\n",
              "        const buttonEl =\n",
              "          document.querySelector('#df-e11d08bf-f5a5-4df8-8e93-561d62a43420 button.colab-df-convert');\n",
              "        buttonEl.style.display =\n",
              "          google.colab.kernel.accessAllowed ? 'block' : 'none';\n",
              "\n",
              "        async function convertToInteractive(key) {\n",
              "          const element = document.querySelector('#df-e11d08bf-f5a5-4df8-8e93-561d62a43420');\n",
              "          const dataTable =\n",
              "            await google.colab.kernel.invokeFunction('convertToInteractive',\n",
              "                                                     [key], {});\n",
              "          if (!dataTable) return;\n",
              "\n",
              "          const docLinkHtml = 'Like what you see? Visit the ' +\n",
              "            '<a target=\"_blank\" href=https://colab.research.google.com/notebooks/data_table.ipynb>data table notebook</a>'\n",
              "            + ' to learn more about interactive tables.';\n",
              "          element.innerHTML = '';\n",
              "          dataTable['output_type'] = 'display_data';\n",
              "          await google.colab.output.renderOutput(dataTable, element);\n",
              "          const docLink = document.createElement('div');\n",
              "          docLink.innerHTML = docLinkHtml;\n",
              "          element.appendChild(docLink);\n",
              "        }\n",
              "      </script>\n",
              "    </div>\n",
              "  </div>\n",
              "  "
            ]
          },
          "metadata": {},
          "execution_count": 76
        },
        {
          "output_type": "stream",
          "name": "stderr",
          "text": [
            "/usr/local/lib/python3.10/dist-packages/ipykernel/ipkernel.py:283: DeprecationWarning: `should_run_async` will not call `transform_cell` automatically in the future. Please pass the result to `transformed_cell` argument and any exception that happen during thetransform in `preprocessing_exc_tuple` in IPython 7.17 and above.\n",
            "  and should_run_async(code)\n"
          ]
        }
      ]
    },
    {
      "cell_type": "code",
      "source": [],
      "metadata": {
        "id": "Y52pRQ4HLASs"
      },
      "execution_count": null,
      "outputs": []
    },
    {
      "cell_type": "markdown",
      "source": [
        "Coherence score: https://neptune.ai/blog/pyldavis-topic-modelling-exploration-tool-that-every-nlp-data-scientist-should-know"
      ],
      "metadata": {
        "id": "wLhBOI9ziYNf"
      }
    }
  ]
}